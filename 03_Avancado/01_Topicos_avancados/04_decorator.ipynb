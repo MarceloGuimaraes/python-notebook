{
 "cells": [
  {
   "cell_type": "markdown",
   "metadata": {},
   "source": [
    "# Decoradores\n",
    "***"
   ]
  },
  {
   "cell_type": "markdown",
   "metadata": {},
   "source": [
    "**Decorator**: É um design pattern que permite adicionar um comportamento a um objeto em tempo de execução, dinamicamente.\n",
    "\n",
    "* É uma função que recebe outra função como parâmetro, gerando uma nova função que adiciona algumas funcionalidades a função original e a retorna essa nova função.\n",
    "\n",
    "\n",
    "* Normalmente usado para trechos de códigos que vive se repetindo dentro de diversas funções, podemos criar um decorador para inserir esse trecho de maneira dinamica nessas funções, isso é valido para o principio Don't Repeat Youself.\n",
    "\n",
    "\n",
    "* Tem a sintaxe de **@alguma_coisa**\n",
    "\n",
    "\n",
    "* Basicamente um decorator irá pegar sua função e modifica-la."
   ]
  },
  {
   "cell_type": "markdown",
   "metadata": {},
   "source": [
    "***\n",
    "### Exemplos\n",
    "***"
   ]
  },
  {
   "cell_type": "code",
   "execution_count": 1,
   "metadata": {},
   "outputs": [],
   "source": [
    "# Criando um decorator\n",
    "def header(function):\n",
    "\n",
    "    def print_header(name):\n",
    "        print(\"**********************\")\n",
    "        print(\"-- Bem Vindo %s --\" % name)\n",
    "        print(\"**********************\")\n",
    "    \n",
    "    return print_header"
   ]
  },
  {
   "cell_type": "markdown",
   "metadata": {},
   "source": [
    "***"
   ]
  },
  {
   "cell_type": "code",
   "execution_count": 2,
   "metadata": {
    "collapsed": true
   },
   "outputs": [],
   "source": [
    "# Ao utilizar o decorator header, ao inves de imprimir Olá <name> irá imprimir o header definido no decorator\n",
    "@header\n",
    "def hello_world(name):\n",
    "    print(\"Olá %s\" % name)"
   ]
  },
  {
   "cell_type": "markdown",
   "metadata": {},
   "source": [
    "***"
   ]
  },
  {
   "cell_type": "code",
   "execution_count": 3,
   "metadata": {},
   "outputs": [
    {
     "name": "stdout",
     "output_type": "stream",
     "text": [
      "**********************\n",
      "-- Bem Vindo Victor --\n",
      "**********************\n"
     ]
    }
   ],
   "source": [
    "# @header equivale à hello_world = header(hello_world)\n",
    "hello_world(\"Victor\")"
   ]
  },
  {
   "cell_type": "markdown",
   "metadata": {},
   "source": [
    "***"
   ]
  },
  {
   "cell_type": "code",
   "execution_count": null,
   "metadata": {
    "collapsed": true
   },
   "outputs": [],
   "source": []
  }
 ],
 "metadata": {
  "kernelspec": {
   "display_name": "Python 3",
   "language": "python",
   "name": "python3"
  },
  "language_info": {
   "codemirror_mode": {
    "name": "ipython",
    "version": 3
   },
   "file_extension": ".py",
   "mimetype": "text/x-python",
   "name": "python",
   "nbconvert_exporter": "python",
   "pygments_lexer": "ipython3",
   "version": "3.5.2"
  }
 },
 "nbformat": 4,
 "nbformat_minor": 2
}
