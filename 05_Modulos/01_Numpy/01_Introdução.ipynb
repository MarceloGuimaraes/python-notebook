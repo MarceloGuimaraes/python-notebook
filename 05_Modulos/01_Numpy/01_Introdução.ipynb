{
 "cells": [
  {
   "cell_type": "markdown",
   "metadata": {},
   "source": [
    "# Modulo Numpy\n",
    "***"
   ]
  },
  {
   "cell_type": "markdown",
   "metadata": {},
   "source": [
    "Numpy (http://www.numpy.org/) é um módulo fundamental para trabalhar com a computação científica em Python. Este módulo fornece um array multidimensional e diversas ferramentas para trabalhar com estes arrays. Entre as características do módulo Numpy, estão:\n",
    "\n",
    "* Objeto de array multidimensional;\n",
    "* Ferramentas de álgebra linear;\n",
    "* Ferramentas de Transformada de Fourier;\n",
    "* Ferramentas de geração de números aleatórios.\n",
    "\n",
    "Para utilizar o módulo Numpy, basta importá-lo. Neste notebook, o Numpy será importado sempre da seguinte maneira:\n",
    "\n",
    "```py\n",
    "import numpy\n",
    "```\n",
    "\n",
    "Array é uma sequência de elementos do mesmo tipo, formando um conjunto n-dimensional. A forma do array pode ser visualizada através da função shape(), que retorna uma tupla com o tamanho do array em cada dimensão. Os arrays podem ser inicializados com listas e seus elementos podem ser acessados com colchetes.\n",
    "\n",
    "Um array com uma dimensão tem somente um colchete [] com duas dimensões dois colchetes [[], []] e por ai vai.\n",
    "\n",
    "Consulta: https://docs.scipy.org/doc/numpy/reference/\n",
    "\n",
    "Instalação:\n",
    "\n",
    "```\n",
    "sudo pip3 install numpy\n",
    "```"
   ]
  },
  {
   "cell_type": "markdown",
   "metadata": {},
   "source": [
    "***"
   ]
  },
  {
   "cell_type": "markdown",
   "metadata": {},
   "source": [
    "# SciPy\n",
    "\n",
    "O SciPy (https://scipy.org/) é um módulo de algoritmos e ferramentas matemáticas feito para trabalhar com os array do Numpy em Python. Algumas as principais funções do SciPy é trabalhar com:\n",
    "\n",
    "* Álgebra Linear;\n",
    "* Estatística;\n",
    "* Problemas de Otimização;\n",
    "* Operações com Matrizes Esparsas;\n",
    "* Processamento de Sinais."
   ]
  },
  {
   "cell_type": "markdown",
   "metadata": {},
   "source": [
    "***\n",
    "### Exemplos\n",
    "***"
   ]
  },
  {
   "cell_type": "code",
   "execution_count": 1,
   "metadata": {
    "collapsed": true
   },
   "outputs": [],
   "source": [
    "# Importa o modulo numpy\n",
    "import numpy"
   ]
  },
  {
   "cell_type": "markdown",
   "metadata": {
    "collapsed": true
   },
   "source": [
    "***"
   ]
  },
  {
   "cell_type": "code",
   "execution_count": 2,
   "metadata": {},
   "outputs": [
    {
     "name": "stdout",
     "output_type": "stream",
     "text": [
      "[1, 2, 3]\n"
     ]
    }
   ],
   "source": [
    "# Criar uma lista\n",
    "my_list = [1, 2, 3]\n",
    "print(my_list)"
   ]
  },
  {
   "cell_type": "markdown",
   "metadata": {},
   "source": [
    "***"
   ]
  },
  {
   "cell_type": "code",
   "execution_count": 3,
   "metadata": {},
   "outputs": [
    {
     "name": "stdout",
     "output_type": "stream",
     "text": [
      "[1 2 3]\n"
     ]
    }
   ],
   "source": [
    "# Vamo através do numpy criar um array unidimensional usando a lista\n",
    "array = numpy.array(my_list)\n",
    "print(array)"
   ]
  },
  {
   "cell_type": "markdown",
   "metadata": {},
   "source": [
    "***"
   ]
  },
  {
   "cell_type": "code",
   "execution_count": 4,
   "metadata": {},
   "outputs": [
    {
     "name": "stdout",
     "output_type": "stream",
     "text": [
      "(3,)\n"
     ]
    }
   ],
   "source": [
    "# Visualizando a forma do array\n",
    "print(array.shape)"
   ]
  },
  {
   "cell_type": "markdown",
   "metadata": {},
   "source": [
    "***"
   ]
  },
  {
   "cell_type": "code",
   "execution_count": 5,
   "metadata": {},
   "outputs": [
    {
     "name": "stdout",
     "output_type": "stream",
     "text": [
      "int64\n"
     ]
    }
   ],
   "source": [
    "# Visualizando o tipo de dados do array\n",
    "# No caso é um array de interios de 64 bits\n",
    "print(array.dtype)"
   ]
  },
  {
   "cell_type": "markdown",
   "metadata": {},
   "source": [
    "***"
   ]
  },
  {
   "cell_type": "code",
   "execution_count": 6,
   "metadata": {},
   "outputs": [
    {
     "name": "stdout",
     "output_type": "stream",
     "text": [
      "1 2 3\n"
     ]
    }
   ],
   "source": [
    "# Acessando elementos individuais do array\n",
    "print(array[0], array[1], array[2])"
   ]
  },
  {
   "cell_type": "markdown",
   "metadata": {},
   "source": [
    "***"
   ]
  },
  {
   "cell_type": "code",
   "execution_count": 7,
   "metadata": {},
   "outputs": [
    {
     "name": "stdout",
     "output_type": "stream",
     "text": [
      "[ 1 10  3]\n"
     ]
    }
   ],
   "source": [
    "# Modificando o valor de um elemento do array\n",
    "array[1] = 10\n",
    "print(array)"
   ]
  },
  {
   "cell_type": "markdown",
   "metadata": {},
   "source": [
    "***"
   ]
  },
  {
   "cell_type": "code",
   "execution_count": 8,
   "metadata": {},
   "outputs": [
    {
     "name": "stdout",
     "output_type": "stream",
     "text": [
      "Maior valor: 10 está no indice 1\n",
      "Menor valor: 1 está no indice 0\n"
     ]
    }
   ],
   "source": [
    "# Pegar o maior e o menor valor e indice do array\n",
    "print(\"Maior valor:\", array.max(), \"está no indice\", array.argmax())\n",
    "print(\"Menor valor:\", array.min(), \"está no indice\", array.argmin())"
   ]
  },
  {
   "cell_type": "markdown",
   "metadata": {},
   "source": [
    "***"
   ]
  },
  {
   "cell_type": "code",
   "execution_count": 9,
   "metadata": {},
   "outputs": [
    {
     "name": "stdout",
     "output_type": "stream",
     "text": [
      "[[1 2 3]\n",
      " [4 5 6]\n",
      " [7 8 9]]\n"
     ]
    }
   ],
   "source": [
    "# Vamo criar uma matriz utilizando várias listas\n",
    "matrix = numpy.array([[1, 2, 3], [4, 5, 6], [7, 8, 9]])\n",
    "print(matrix)"
   ]
  },
  {
   "cell_type": "markdown",
   "metadata": {},
   "source": [
    "***"
   ]
  },
  {
   "cell_type": "code",
   "execution_count": 10,
   "metadata": {},
   "outputs": [
    {
     "name": "stdout",
     "output_type": "stream",
     "text": [
      "(3, 3)\n"
     ]
    }
   ],
   "source": [
    "# Visualizando a forma da matriz\n",
    "print(matrix.shape)"
   ]
  },
  {
   "cell_type": "markdown",
   "metadata": {},
   "source": [
    "***"
   ]
  },
  {
   "cell_type": "code",
   "execution_count": 11,
   "metadata": {},
   "outputs": [
    {
     "name": "stdout",
     "output_type": "stream",
     "text": [
      "int64\n"
     ]
    }
   ],
   "source": [
    "# Visualizando o tipo de dados da matriz\n",
    "# No caso é uma matriz de floats de 64 bits\n",
    "print(matrix.dtype)"
   ]
  },
  {
   "cell_type": "markdown",
   "metadata": {},
   "source": [
    "***"
   ]
  },
  {
   "cell_type": "code",
   "execution_count": 12,
   "metadata": {},
   "outputs": [
    {
     "name": "stdout",
     "output_type": "stream",
     "text": [
      "1 5 9\n",
      "1 5 9\n"
     ]
    }
   ],
   "source": [
    "# Acessando elementos individuais da matriz\n",
    "print(matrix[0][0], matrix[1][1], matrix[2][2])\n",
    "print(matrix[0, 0], matrix[1, 1], matrix[2, 2])"
   ]
  }
 ],
 "metadata": {
  "kernelspec": {
   "display_name": "Python 3",
   "language": "python",
   "name": "python3"
  },
  "language_info": {
   "codemirror_mode": {
    "name": "ipython",
    "version": 3
   },
   "file_extension": ".py",
   "mimetype": "text/x-python",
   "name": "python",
   "nbconvert_exporter": "python",
   "pygments_lexer": "ipython3",
   "version": "3.5.2"
  }
 },
 "nbformat": 4,
 "nbformat_minor": 2
}
