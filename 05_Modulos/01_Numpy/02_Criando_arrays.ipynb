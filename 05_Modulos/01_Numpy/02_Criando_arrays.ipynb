{
 "cells": [
  {
   "cell_type": "markdown",
   "metadata": {},
   "source": [
    "# Funções para criar arrays\n",
    "***"
   ]
  },
  {
   "cell_type": "markdown",
   "metadata": {},
   "source": [
    "O Numpy também fornece funções para criação de arrays"
   ]
  },
  {
   "cell_type": "markdown",
   "metadata": {},
   "source": [
    "***"
   ]
  },
  {
   "cell_type": "code",
   "execution_count": 1,
   "metadata": {
    "collapsed": true
   },
   "outputs": [],
   "source": [
    "# Importa o modulo numpy\n",
    "import numpy"
   ]
  },
  {
   "cell_type": "markdown",
   "metadata": {},
   "source": [
    "***"
   ]
  },
  {
   "cell_type": "code",
   "execution_count": 2,
   "metadata": {},
   "outputs": [
    {
     "name": "stdout",
     "output_type": "stream",
     "text": [
      "[0 2 4 6 8]\n"
     ]
    }
   ],
   "source": [
    "# Vamos criar um array com um range()\n",
    "array = numpy.arange(0, 10, 2)\n",
    "print(array)"
   ]
  },
  {
   "cell_type": "markdown",
   "metadata": {},
   "source": [
    "***"
   ]
  },
  {
   "cell_type": "code",
   "execution_count": 3,
   "metadata": {},
   "outputs": [
    {
     "name": "stdout",
     "output_type": "stream",
     "text": [
      "[ 0.  0.  0.  0.  0.]\n"
     ]
    }
   ],
   "source": [
    "# Criar um array de zeros\n",
    "array = numpy.zeros(5)\n",
    "print(array)"
   ]
  },
  {
   "cell_type": "markdown",
   "metadata": {},
   "source": [
    "***"
   ]
  },
  {
   "cell_type": "code",
   "execution_count": 4,
   "metadata": {},
   "outputs": [
    {
     "name": "stdout",
     "output_type": "stream",
     "text": [
      "[[ 0.  0.]\n",
      " [ 0.  0.]\n",
      " [ 0.  0.]]\n"
     ]
    }
   ],
   "source": [
    "# Criar uma matriz de zeros\n",
    "matrix = numpy.zeros((3, 2))\n",
    "print(matrix)"
   ]
  },
  {
   "cell_type": "markdown",
   "metadata": {},
   "source": [
    "***"
   ]
  },
  {
   "cell_type": "code",
   "execution_count": 5,
   "metadata": {},
   "outputs": [
    {
     "name": "stdout",
     "output_type": "stream",
     "text": [
      "[ 1.  1.  1.  1.  1.]\n",
      "[ 5.  5.  5.  5.  5.]\n"
     ]
    }
   ],
   "source": [
    "# Criar um array de uns\n",
    "array = numpy.ones(5)\n",
    "print(array)\n",
    "print(array * 5)"
   ]
  },
  {
   "cell_type": "markdown",
   "metadata": {},
   "source": [
    "***"
   ]
  },
  {
   "cell_type": "code",
   "execution_count": 6,
   "metadata": {},
   "outputs": [
    {
     "name": "stdout",
     "output_type": "stream",
     "text": [
      "[[ 1.  1.  1.]\n",
      " [ 1.  1.  1.]\n",
      " [ 1.  1.  1.]]\n"
     ]
    }
   ],
   "source": [
    "# Criar uma matriz de uns\n",
    "matrix = numpy.ones((3, 3))\n",
    "print(matrix)"
   ]
  },
  {
   "cell_type": "markdown",
   "metadata": {},
   "source": [
    "***"
   ]
  },
  {
   "cell_type": "code",
   "execution_count": 7,
   "metadata": {},
   "outputs": [
    {
     "name": "stdout",
     "output_type": "stream",
     "text": [
      "[ 0.          0.55555556  1.11111111  1.66666667  2.22222222  2.77777778\n",
      "  3.33333333  3.88888889  4.44444444  5.        ]\n"
     ]
    }
   ],
   "source": [
    "# Criando um array com 5 valores linearmente espaçados entre 0 e 9\n",
    "array = numpy.linspace(0, 5, 10)\n",
    "print(array)"
   ]
  },
  {
   "cell_type": "markdown",
   "metadata": {},
   "source": [
    "***"
   ]
  },
  {
   "cell_type": "code",
   "execution_count": 8,
   "metadata": {},
   "outputs": [
    {
     "name": "stdout",
     "output_type": "stream",
     "text": [
      "[[ 1.  0.  0.  0.]\n",
      " [ 0.  1.  0.  0.]\n",
      " [ 0.  0.  1.  0.]\n",
      " [ 0.  0.  0.  1.]]\n"
     ]
    }
   ],
   "source": [
    "# Matriz identidade\n",
    "array = numpy.eye(4)\n",
    "print(array)"
   ]
  },
  {
   "cell_type": "markdown",
   "metadata": {},
   "source": [
    "***"
   ]
  },
  {
   "cell_type": "code",
   "execution_count": 9,
   "metadata": {},
   "outputs": [
    {
     "name": "stdout",
     "output_type": "stream",
     "text": [
      "[ 0.30940357  0.39256322  0.34707919  0.75614227  0.04547841] \n",
      "\n",
      "[[ 0.56954203  0.35769924  0.4459637   0.43149576  0.38163096]\n",
      " [ 0.83789798  0.78902605  0.87288494  0.46719857  0.81956475]\n",
      " [ 0.83338129  0.4945483   0.01659554  0.98462074  0.46653605]\n",
      " [ 0.52257118  0.02302133  0.77026604  0.0850156   0.44348254]\n",
      " [ 0.68484962  0.32881578  0.3030906   0.57257398  0.53419938]]\n"
     ]
    }
   ],
   "source": [
    "# Criar números randomicos no array ou matriz de 0 a 1\n",
    "print(numpy.random.rand(5), \"\\n\")\n",
    "print(numpy.random.rand(5, 5))"
   ]
  },
  {
   "cell_type": "markdown",
   "metadata": {},
   "source": [
    "***"
   ]
  },
  {
   "cell_type": "code",
   "execution_count": 10,
   "metadata": {},
   "outputs": [
    {
     "name": "stdout",
     "output_type": "stream",
     "text": [
      "65\n",
      "[36 19 81 45 40]\n"
     ]
    }
   ],
   "source": [
    "# Pega um número aleatorio inteiros entre um valor e outro(exclusivo)\n",
    "# Podemos passar a quantidade como terceiro argumento.\n",
    "print(numpy.random.randint(1, 100))\n",
    "print(numpy.random.randint(1, 100, 5))"
   ]
  },
  {
   "cell_type": "markdown",
   "metadata": {},
   "source": [
    "***"
   ]
  },
  {
   "cell_type": "code",
   "execution_count": 11,
   "metadata": {},
   "outputs": [
    {
     "name": "stdout",
     "output_type": "stream",
     "text": [
      "[ 1  5  7  2  7  8 22 67]\n"
     ]
    }
   ],
   "source": [
    "# Vamos pegar um array e modificar o shape dele\n",
    "array = numpy.array([1, 5, 7, 2, 7, 8, 22, 67])\n",
    "print(array)"
   ]
  },
  {
   "cell_type": "code",
   "execution_count": 12,
   "metadata": {},
   "outputs": [
    {
     "name": "stdout",
     "output_type": "stream",
     "text": [
      "[[ 1  5  7  2]\n",
      " [ 7  8 22 67]]\n"
     ]
    }
   ],
   "source": [
    "# Para dar certo o reshape número de colunar veze o número de linhas\n",
    "# tem que dar o total de elementos do array: 2*3 = 6\n",
    "array = array.reshape((2,4))\n",
    "print(array)"
   ]
  },
  {
   "cell_type": "markdown",
   "metadata": {},
   "source": [
    "***"
   ]
  },
  {
   "cell_type": "code",
   "execution_count": 13,
   "metadata": {},
   "outputs": [
    {
     "name": "stdout",
     "output_type": "stream",
     "text": [
      "[[ 0.01  0.02  0.03  0.04  0.05  0.06  0.07  0.08  0.09  0.1 ]\n",
      " [ 0.11  0.12  0.13  0.14  0.15  0.16  0.17  0.18  0.19  0.2 ]\n",
      " [ 0.21  0.22  0.23  0.24  0.25  0.26  0.27  0.28  0.29  0.3 ]\n",
      " [ 0.31  0.32  0.33  0.34  0.35  0.36  0.37  0.38  0.39  0.4 ]\n",
      " [ 0.41  0.42  0.43  0.44  0.45  0.46  0.47  0.48  0.49  0.5 ]\n",
      " [ 0.51  0.52  0.53  0.54  0.55  0.56  0.57  0.58  0.59  0.6 ]\n",
      " [ 0.61  0.62  0.63  0.64  0.65  0.66  0.67  0.68  0.69  0.7 ]\n",
      " [ 0.71  0.72  0.73  0.74  0.75  0.76  0.77  0.78  0.79  0.8 ]\n",
      " [ 0.81  0.82  0.83  0.84  0.85  0.86  0.87  0.88  0.89  0.9 ]\n",
      " [ 0.91  0.92  0.93  0.94  0.95  0.96  0.97  0.98  0.99  1.  ]]\n"
     ]
    }
   ],
   "source": [
    "# Exemplo um pouco mais complexo\n",
    "print(numpy.arange(1, 101).reshape(10, 10) / 100)"
   ]
  },
  {
   "cell_type": "code",
   "execution_count": 14,
   "metadata": {},
   "outputs": [
    {
     "name": "stdout",
     "output_type": "stream",
     "text": [
      "[[ 0.01  0.02  0.03  0.04  0.05  0.06  0.07  0.08  0.09  0.1 ]\n",
      " [ 0.11  0.12  0.13  0.14  0.15  0.16  0.17  0.18  0.19  0.2 ]\n",
      " [ 0.21  0.22  0.23  0.24  0.25  0.26  0.27  0.28  0.29  0.3 ]\n",
      " [ 0.31  0.32  0.33  0.34  0.35  0.36  0.37  0.38  0.39  0.4 ]\n",
      " [ 0.41  0.42  0.43  0.44  0.45  0.46  0.47  0.48  0.49  0.5 ]\n",
      " [ 0.51  0.52  0.53  0.54  0.55  0.56  0.57  0.58  0.59  0.6 ]\n",
      " [ 0.61  0.62  0.63  0.64  0.65  0.66  0.67  0.68  0.69  0.7 ]\n",
      " [ 0.71  0.72  0.73  0.74  0.75  0.76  0.77  0.78  0.79  0.8 ]\n",
      " [ 0.81  0.82  0.83  0.84  0.85  0.86  0.87  0.88  0.89  0.9 ]\n",
      " [ 0.91  0.92  0.93  0.94  0.95  0.96  0.97  0.98  0.99  1.  ]]\n"
     ]
    }
   ],
   "source": [
    "print(numpy.linspace(0.01, 1, 100).reshape(10, 10))"
   ]
  }
 ],
 "metadata": {
  "kernelspec": {
   "display_name": "Python 3",
   "language": "python",
   "name": "python3"
  },
  "language_info": {
   "codemirror_mode": {
    "name": "ipython",
    "version": 3
   },
   "file_extension": ".py",
   "mimetype": "text/x-python",
   "name": "python",
   "nbconvert_exporter": "python",
   "pygments_lexer": "ipython3",
   "version": "3.5.2"
  }
 },
 "nbformat": 4,
 "nbformat_minor": 2
}
