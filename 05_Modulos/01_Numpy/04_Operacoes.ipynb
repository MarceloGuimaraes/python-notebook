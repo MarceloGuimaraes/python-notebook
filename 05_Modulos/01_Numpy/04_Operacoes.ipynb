{
 "cells": [
  {
   "cell_type": "markdown",
   "metadata": {},
   "source": [
    "# Operações com arrays\n",
    "***"
   ]
  },
  {
   "cell_type": "markdown",
   "metadata": {},
   "source": [
    "É possível realizar operações elemento a elemento com arrays. As operações elemento a elemento são: soma (+), subtração (-), multiplicação (*) e divisão (/). Para realizar este tipo de operação, é preciso que os arrays tenham o mesmo tamanho em todas as dimensões ou um deles tenha tamanho 1 na dimensão.\n",
    "\n",
    "Operações de arrays:\n",
    "\n",
    "* **produto interno**: ...\n",
    "\n",
    "* **produto externo**: ...\n",
    "\n",
    "* **produto escalar**: ...\n",
    "\n",
    "* **matriz transposta**: ...\n",
    "\n",
    "* **matriz inversa**: ...\n",
    "\n",
    "Solução de sistema linear:\n",
    "\n",
    "..."
   ]
  },
  {
   "cell_type": "markdown",
   "metadata": {},
   "source": [
    "***\n",
    "### Operações básicas\n",
    "***"
   ]
  },
  {
   "cell_type": "code",
   "execution_count": 1,
   "metadata": {
    "collapsed": true
   },
   "outputs": [],
   "source": [
    "# importa o modulo\n",
    "import numpy"
   ]
  },
  {
   "cell_type": "markdown",
   "metadata": {},
   "source": [
    "***"
   ]
  },
  {
   "cell_type": "code",
   "execution_count": 2,
   "metadata": {},
   "outputs": [
    {
     "name": "stdout",
     "output_type": "stream",
     "text": [
      "[1 2 3 4]\n",
      "[2 3 5 6]\n"
     ]
    }
   ],
   "source": [
    "# Declarando os dois arrays\n",
    "A = numpy.array([1, 2, 3, 4])\n",
    "B = numpy.array([2, 3, 5, 6])\n",
    "print(A)\n",
    "print(B)"
   ]
  },
  {
   "cell_type": "markdown",
   "metadata": {},
   "source": [
    "***"
   ]
  },
  {
   "cell_type": "code",
   "execution_count": 3,
   "metadata": {},
   "outputs": [
    {
     "name": "stdout",
     "output_type": "stream",
     "text": [
      "[ 3  5  8 10]\n",
      "[3 4 5 6]\n"
     ]
    }
   ],
   "source": [
    "# Soma entre os arrays A e B\n",
    "print(A + B)\n",
    "print(A + 2)"
   ]
  },
  {
   "cell_type": "markdown",
   "metadata": {},
   "source": [
    "***"
   ]
  },
  {
   "cell_type": "code",
   "execution_count": 4,
   "metadata": {},
   "outputs": [
    {
     "name": "stdout",
     "output_type": "stream",
     "text": [
      "[-1 -1 -2 -2]\n",
      "[-1  0  1  2]\n"
     ]
    }
   ],
   "source": [
    "# Subtração entre os arrays A e B\n",
    "print(A - B)\n",
    "print(A - 2)"
   ]
  },
  {
   "cell_type": "markdown",
   "metadata": {},
   "source": [
    "***"
   ]
  },
  {
   "cell_type": "code",
   "execution_count": 5,
   "metadata": {},
   "outputs": [
    {
     "name": "stdout",
     "output_type": "stream",
     "text": [
      "[ 2  6 15 24]\n",
      "[2 4 6 8]\n"
     ]
    }
   ],
   "source": [
    "# Multiplicação entre os arrays A e B\n",
    "print(A * B)\n",
    "print(A * 2)"
   ]
  },
  {
   "cell_type": "markdown",
   "metadata": {},
   "source": [
    "***"
   ]
  },
  {
   "cell_type": "code",
   "execution_count": 6,
   "metadata": {},
   "outputs": [
    {
     "name": "stdout",
     "output_type": "stream",
     "text": [
      "[ 0.5         0.66666667  0.6         0.66666667]\n",
      "[ 0.5  1.   1.5  2. ]\n"
     ]
    }
   ],
   "source": [
    "# Divisão entre os arrays A e B\n",
    "print(A / B)\n",
    "print(A / 2)"
   ]
  },
  {
   "cell_type": "markdown",
   "metadata": {},
   "source": [
    "***"
   ]
  },
  {
   "cell_type": "code",
   "execution_count": 7,
   "metadata": {},
   "outputs": [
    {
     "name": "stdout",
     "output_type": "stream",
     "text": [
      "[   1    8  243 4096]\n",
      "[ 1  4  9 16]\n"
     ]
    }
   ],
   "source": [
    "# Potencia entre arrays\n",
    "print(A ** B)\n",
    "print(A ** 2)"
   ]
  },
  {
   "cell_type": "markdown",
   "metadata": {},
   "source": [
    "***"
   ]
  },
  {
   "cell_type": "code",
   "execution_count": 8,
   "metadata": {},
   "outputs": [
    {
     "name": "stdout",
     "output_type": "stream",
     "text": [
      "[ 1.          1.41421356  1.73205081  2.        ]\n",
      "[  2.71828183   7.3890561   20.08553692  54.59815003]\n",
      "[ 0.84147098  0.90929743  0.14112001 -0.7568025 ]\n",
      "[ 0.          0.69314718  1.09861229  1.38629436]\n"
     ]
    }
   ],
   "source": [
    "# Outras funções que podem ser aplicadas\n",
    "print(numpy.sqrt(A))\n",
    "print(numpy.exp(A))\n",
    "print(numpy.sin(A))\n",
    "print(numpy.log(A))"
   ]
  },
  {
   "cell_type": "markdown",
   "metadata": {},
   "source": [
    "***\n",
    "### Operações vetoriais e matriciais\n",
    "***\n",
    "\n",
    "O Numpy também pode ser utilizado para realizar operações vetoriais e operações matriciais em arrays. Entre elas, estão: produto interno, produto externo, produto escalar, matriz transposta e matriz inversa."
   ]
  },
  {
   "cell_type": "code",
   "execution_count": 9,
   "metadata": {},
   "outputs": [
    {
     "name": "stdout",
     "output_type": "stream",
     "text": [
      "[1 2 3 4]\n",
      "[2 3 5 6]\n",
      "Soma de todos os elementos de A: 10\n",
      "Desvio padrão de A: 1.11803398875\n"
     ]
    }
   ],
   "source": [
    "# Declarando dois vetores (arrays unidimensionais)\n",
    "A = numpy.array([1, 2, 3, 4])\n",
    "B = numpy.array([2, 3, 5, 6])\n",
    "print(A)\n",
    "print(B)\n",
    "print(\"Soma de todos os elementos de A:\", sum(A))\n",
    "print(\"Desvio padrão de A:\", A.std())"
   ]
  },
  {
   "cell_type": "markdown",
   "metadata": {},
   "source": [
    "***"
   ]
  },
  {
   "cell_type": "code",
   "execution_count": 10,
   "metadata": {},
   "outputs": [
    {
     "name": "stdout",
     "output_type": "stream",
     "text": [
      "47\n"
     ]
    }
   ],
   "source": [
    "# Produto interno\n",
    "C = numpy.inner(A, B)\n",
    "print(C)"
   ]
  },
  {
   "cell_type": "markdown",
   "metadata": {},
   "source": [
    "***"
   ]
  },
  {
   "cell_type": "code",
   "execution_count": 11,
   "metadata": {},
   "outputs": [
    {
     "name": "stdout",
     "output_type": "stream",
     "text": [
      "[[ 2  3  5  6]\n",
      " [ 4  6 10 12]\n",
      " [ 6  9 15 18]\n",
      " [ 8 12 20 24]]\n"
     ]
    }
   ],
   "source": [
    "# Produto externo\n",
    "C = numpy.outer(A, B)\n",
    "print(C)"
   ]
  },
  {
   "cell_type": "markdown",
   "metadata": {},
   "source": [
    "***"
   ]
  },
  {
   "cell_type": "code",
   "execution_count": 12,
   "metadata": {},
   "outputs": [
    {
     "name": "stdout",
     "output_type": "stream",
     "text": [
      "[[1 2 3 4]\n",
      " [5 6 7 8]] \n",
      "\n",
      "[[2 3 5 6]\n",
      " [4 1 9 0]]\n"
     ]
    }
   ],
   "source": [
    "# Declarando duas matrizes (arrays bidimensionais)\n",
    "A = numpy.array([[1, 2, 3, 4], [5, 6, 7, 8]])\n",
    "B = numpy.array([[2, 3, 5, 6], [4, 1, 9, 0]])\n",
    "print(A, \"\\n\")\n",
    "print(B)"
   ]
  },
  {
   "cell_type": "markdown",
   "metadata": {},
   "source": [
    "***"
   ]
  },
  {
   "cell_type": "code",
   "execution_count": 13,
   "metadata": {},
   "outputs": [
    {
     "name": "stdout",
     "output_type": "stream",
     "text": [
      "[[1 5]\n",
      " [2 6]\n",
      " [3 7]\n",
      " [4 8]]\n"
     ]
    }
   ],
   "source": [
    "# Matriz Transposta\n",
    "C = A.T\n",
    "print(C)"
   ]
  },
  {
   "cell_type": "markdown",
   "metadata": {},
   "source": [
    "***"
   ]
  },
  {
   "cell_type": "code",
   "execution_count": 14,
   "metadata": {},
   "outputs": [
    {
     "name": "stdout",
     "output_type": "stream",
     "text": [
      "[[ 47  33]\n",
      " [111  89]]\n"
     ]
    }
   ],
   "source": [
    "# Produto escalar\n",
    "C = numpy.dot(A, B.T)\n",
    "print(C)"
   ]
  },
  {
   "cell_type": "markdown",
   "metadata": {},
   "source": [
    "***"
   ]
  },
  {
   "cell_type": "code",
   "execution_count": 15,
   "metadata": {},
   "outputs": [
    {
     "name": "stdout",
     "output_type": "stream",
     "text": [
      "[[-1.5  0.5]\n",
      " [ 1.   0. ]]\n",
      "Soma de todas as colunas de C: [-0.5  0.5]\n"
     ]
    }
   ],
   "source": [
    "# Matriz inversa\n",
    "A = numpy.arange(4).reshape((2,2))\n",
    "C = numpy.linalg.inv(A)\n",
    "print(C)\n",
    "print(\"Soma de todas as colunas de C:\", C.sum(axis=0))"
   ]
  },
  {
   "cell_type": "markdown",
   "metadata": {},
   "source": [
    "***\n",
    "### Funções Ax = b\n",
    "***\n",
    "\n",
    "O Numpy conta com a função solve() para resolver problemas do tipo $Ax = b$. A função funciona da seguinte forma:"
   ]
  },
  {
   "cell_type": "code",
   "execution_count": 16,
   "metadata": {},
   "outputs": [
    {
     "name": "stdout",
     "output_type": "stream",
     "text": [
      "[[1 2 3]\n",
      " [9 4 2]\n",
      " [6 0 1]] \n",
      "\n",
      "[[ 1.]\n",
      " [ 1.]\n",
      " [ 1.]]\n"
     ]
    }
   ],
   "source": [
    "# Declarando A e b\n",
    "A = numpy.array([[1, 2, 3], [9, 4, 2], [6, 0, 1]])\n",
    "b = numpy.ones((3, 1))\n",
    "print(A, \"\\n\")\n",
    "print(b)"
   ]
  },
  {
   "cell_type": "markdown",
   "metadata": {},
   "source": [
    "***"
   ]
  },
  {
   "cell_type": "code",
   "execution_count": 17,
   "metadata": {},
   "outputs": [
    {
     "name": "stdout",
     "output_type": "stream",
     "text": [
      "[[ 0.09677419]\n",
      " [-0.17741935]\n",
      " [ 0.41935484]]\n"
     ]
    }
   ],
   "source": [
    "# Encontrando a solução do sistema linear\n",
    "x = numpy.linalg.solve(A, b)\n",
    "print(x)"
   ]
  }
 ],
 "metadata": {
  "kernelspec": {
   "display_name": "Python 3",
   "language": "python",
   "name": "python3"
  },
  "language_info": {
   "codemirror_mode": {
    "name": "ipython",
    "version": 3
   },
   "file_extension": ".py",
   "mimetype": "text/x-python",
   "name": "python",
   "nbconvert_exporter": "python",
   "pygments_lexer": "ipython3",
   "version": "3.5.2"
  }
 },
 "nbformat": 4,
 "nbformat_minor": 2
}
