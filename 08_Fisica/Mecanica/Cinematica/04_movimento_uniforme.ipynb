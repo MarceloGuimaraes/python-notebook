{
 "cells": [
  {
   "cell_type": "markdown",
   "metadata": {},
   "source": [
    "## Movimento Uniforme (MU)\n",
    "***"
   ]
  },
  {
   "cell_type": "markdown",
   "metadata": {},
   "source": [
    "Denomina-se movimento uniforme (MU) qualquer movimento cuja velocidade escalar seja constante e diferente de zero.\n",
    "\n",
    "\n",
    "Em todo (MU)  a **velocidade instantânea** (indicação do velocímetro em cada instante) coincide com a **velocidade média** em qualquer intervalo de tempo considerado.\n",
    "\n",
    "\n",
    "$S_0$, que é a posição (espaço) quando $t=0$ (quando aciona-se o cronômetro) não é necessariamente a posição de onde o móvel partiu.\n",
    "\n",
    "\n",
    "**Exemplo**: O carro partiu da cidade, mas o cronômetro só foi acionado ($t=0$) quando ele passava pelo $km20$, portanto $S_0 = 20km$\n",
    "\n",
    "![img](https://user-images.githubusercontent.com/14116020/34074880-d40222dc-e29f-11e7-8427-19e01e24e42c.jpg)\n",
    "\n",
    "Na função horária $S = S_0 + V.T$\n",
    "\n",
    "  - Se $V$ é **negativo** o movimento é **retrógrado** (se move em sentido contrário ao dos marcos\n",
    "    crescentes da trajetória)\n",
    "    \n",
    "    \n",
    "  - Se $V$ é **positivo** o movimento é **progressivo** (se move a favor dos marcos crescentes da trajetória)."
   ]
  },
  {
   "cell_type": "markdown",
   "metadata": {},
   "source": [
    "***\n",
    "#### Encontro de móveis em MU\n",
    "***"
   ]
  },
  {
   "cell_type": "markdown",
   "metadata": {},
   "source": [
    "Suponha dois móveis (A e B) em MU se movendo com funções horárias:\n",
    "\n",
    "$$S_A = S_{0A} + V_{A}.T$$\n",
    "\n",
    "$$S_B = S_{0B} + V_{B}.T$$\n",
    "\n",
    "* Se movendo de maneira que eles se encontrem, se você quiser encontrar o **tempo do encontro** basta igualar as duas equações e isolar $T$.\n",
    "\n",
    "\n",
    "* Substituindo esse $T$ numa das equações você determina o **instante do encontro**."
   ]
  },
  {
   "cell_type": "markdown",
   "metadata": {},
   "source": [
    "***\n",
    "#### Gráficos de um MU\n",
    "***\n",
    "\n",
    "Velocidades mais elevadas fornecem nos gráficos $V \\times T$  retas mais inclinadas\n",
    "\n",
    "![img](https://user-images.githubusercontent.com/14116020/34074964-e40c8608-e2a0-11e7-8f23-e32f11e433cb.jpg)\n",
    "\n",
    "Nos gráficos $V \\times T$, se as retas forem paralelas os móveis apresentam a mesma velocidade\n",
    "\n",
    "![img](https://user-images.githubusercontent.com/14116020/34074975-0f6807d2-e2a1-11e7-97c5-aed41759f62f.jpg)\n",
    "\n",
    "Nos gráficos $V \\times T$ onde o deslocamento ($\\Delta S$) é numericamente igual à área, pode-se ter:\n",
    "\n",
    "![img](https://user-images.githubusercontent.com/14116020/34074982-2ff0dd26-e2a1-11e7-84ef-d88db51e45a6.jpg)\n",
    "\n",
    "O deslocamento total $\\Delta S_{total}$ é a soma algébria dos deslocamentos parciais:\n",
    "\n",
    "$$\\Delta S_{total} = \\Delta S_1 + \\Delta S_2 + \\Delta S_3$$\n",
    "\n",
    "***\n",
    "#### Quadro resumo dos movimentos do MU\n",
    "***\n",
    "\n",
    "![img](https://user-images.githubusercontent.com/14116020/34074997-72d18686-e2a1-11e7-8009-046fc4a53e34.jpg)"
   ]
  },
  {
   "cell_type": "markdown",
   "metadata": {},
   "source": [
    "***\n",
    "### Exercicios\n",
    "***"
   ]
  },
  {
   "cell_type": "code",
   "execution_count": 1,
   "metadata": {},
   "outputs": [],
   "source": [
    "from biblioteca.cinematica import Cinematica, MU, Basico\n",
    "from math import fabs\n",
    "cinematica = Cinematica(Cinematica.MU)\n",
    "basico = Cinematica(Cinematica.BASICO)"
   ]
  },
  {
   "cell_type": "markdown",
   "metadata": {},
   "source": [
    "***"
   ]
  },
  {
   "cell_type": "markdown",
   "metadata": {},
   "source": [
    "**1)** Às 13:30h, partiu um ônibus de Florianópolis em direção a Laguna. A distância entre as cidades é de 100 km, e o motorista manteve uma velocidade média de 60 km/h ao fazer esse percurso. A que horas o ônibus chegou a Laguna?"
   ]
  },
  {
   "cell_type": "code",
   "execution_count": 2,
   "metadata": {},
   "outputs": [
    {
     "name": "stdout",
     "output_type": "stream",
     "text": [
      "Tempo de percurso é de 1:40\n",
      "O ônibus saiu de florianopolis às 13:30 e chegou em Laguna às 15:10\n"
     ]
    }
   ],
   "source": [
    "# Dados iniciais\n",
    "V = 60 # km/h\n",
    "\n",
    "# Colocando a origem da trajetória em Florianópolis e orientando a trajetória para a direita\n",
    "So = 0 # km\n",
    "S = 100 # km\n",
    "\n",
    "T = basico.calcular(\n",
    "    Basico.INTERVALO_DE_TEMPO,\n",
    "    DS=(S-So),\n",
    "    Vm=V\n",
    ")\n",
    "\n",
    "horas = int(T)\n",
    "minutos = (T % 1)*60\n",
    "\n",
    "print(\"Tempo de percurso é de %d:%d\" % (horas, minutos))\n",
    "\n",
    "# O ônibus partiu as 13:30 logo\n",
    "horas += 13\n",
    "minutos += 30\n",
    "\n",
    "if horas > 24:\n",
    "    horas -= 24\n",
    "    \n",
    "if minutos > 60:\n",
    "    horas += 1\n",
    "    minutos -= 60\n",
    "\n",
    "print(\"O ônibus saiu de florianopolis às 13:30 e chegou em Laguna às %d:%d\" % (horas, minutos))"
   ]
  },
  {
   "cell_type": "markdown",
   "metadata": {},
   "source": [
    "***"
   ]
  },
  {
   "cell_type": "markdown",
   "metadata": {},
   "source": [
    "**2)** O sistem GPS (Global Positioning System) permite localizar um receptor especial, em qualquer lugar da Terra, por meio de sinais emitidos por satélites. Numa situação particular, dois satélites, A e B, estão alinhados sobre uma reta que tangencia a superfície da Terra no ponto 0 e encontram-se à mesma distância de 0.\n",
    "\n",
    "![image](https://user-images.githubusercontent.com/14116020/34086690-1d0b46da-e385-11e7-8535-4f6977c1c94e.png)\n",
    "\n",
    "O protótipo de um novo avião, com um receptor R, encontra-se em algum lugar desta reta e seu piloto deseja localizar sua própria posição. Os intervalos de tempo a emissão dos sinais pelo satélite A e B e sua recepção por R são, respectivamente, $Δt_A = 68,5.10^{-3}$s e $Δt_B = 64,8.10^{-3}$s.\n",
    "\n",
    "Desprezando os possíveis efeitos atmosféricos e considerando a velocidade de propagação dos sinais como igual a velocidade c da luz no vácuo ($c = 3.10^5$ km/s), determine:\n",
    "\n",
    "**a)** A distância D, em km, entre cada satélite e o ponto 0.\n",
    "\n",
    "* Como o tempo para o sinal ir de R até B é menor, o receptor R está mais próximo de B\n",
    "\n",
    "\n",
    "* Colocando a origem em R e orientando a trajetória de A para B\n",
    "\n",
    "![image](https://user-images.githubusercontent.com/14116020/34086773-bce72d4a-e385-11e7-8900-625f57e28005.png)"
   ]
  },
  {
   "cell_type": "code",
   "execution_count": 3,
   "metadata": {},
   "outputs": [
    {
     "name": "stdout",
     "output_type": "stream",
     "text": [
      "Distância de R até B: 19440.0 km\n",
      "Distância de R até A: 19740.0 km\n",
      "A distância entre cada satélite e o ponto O é de 19590.0 km\n"
     ]
    }
   ],
   "source": [
    "# Distância de R até B\n",
    "resultado = cinematica.calcular(\n",
    "    MU.POSICAO,\n",
    "    So=0,\n",
    "    V=(3 * pow(10, 5)),\n",
    "    T=(64.8 * pow(10, -3))\n",
    ")\n",
    "Srb = resultado['S']\n",
    "print(\"Distância de R até B: %.1f km\" % fabs(Srb))\n",
    "\n",
    "# Distância de R até A\n",
    "resultado = cinematica.calcular(\n",
    "    MU.POSICAO,\n",
    "    So=0,\n",
    "    V=-(3 * pow(10, 5)),\n",
    "    T=(65.8 * pow(10, -3))\n",
    ")\n",
    "Sra = resultado['S']\n",
    "print(\"Distância de R até A: %.1f km\" % fabs(Sra))\n",
    "\n",
    "# Sabemos que o ponto O está entre A e B, logo:\n",
    "D = (fabs(Sra) + fabs(Srb))/2\n",
    "print(\"A distância entre cada satélite e o ponto O é de %.1f km\" % D)"
   ]
  },
  {
   "cell_type": "markdown",
   "metadata": {},
   "source": [
    "**b)** A distância x, em km, entre o receptor R, no avião, e o ponto 0."
   ]
  },
  {
   "cell_type": "code",
   "execution_count": 4,
   "metadata": {},
   "outputs": [
    {
     "name": "stdout",
     "output_type": "stream",
     "text": [
      "A distância entre o receptor R e o ponto O é de 150.0 km\n"
     ]
    }
   ],
   "source": [
    "# O receptor R está entre o ponto O e o satélite B, logo:\n",
    "X = fabs(D) - fabs(Srb)\n",
    "print(\"A distância entre o receptor R e o ponto O é de %.1f km\" % X)"
   ]
  },
  {
   "cell_type": "markdown",
   "metadata": {},
   "source": [
    "***"
   ]
  },
  {
   "cell_type": "markdown",
   "metadata": {},
   "source": [
    "**3)** Um caminhoneiro parte de São Paulo com velocidade escalar constante de módulo igual a 74km/h. No mesmo instante parte outro de Camaquã, no Rio Grande do Sul, com velocidade escalar constante de 56km/h. Em que cidade eles se encontrarão?\n",
    "\n",
    "![image](https://user-images.githubusercontent.com/14116020/34087203-9547a776-e388-11e7-9fdb-ffde897030ce.png)"
   ]
  },
  {
   "cell_type": "code",
   "execution_count": 5,
   "metadata": {},
   "outputs": [
    {
     "name": "stdout",
     "output_type": "stream",
     "text": [
      "O tempo de encontro foi de 10 horas\n",
      "A cidade de encontro foi Garopaba!\n"
     ]
    }
   ],
   "source": [
    "# Colocando o sentido positivo de A até B\n",
    "SoA = 0 # km\n",
    "VA = 74 # km/h\n",
    "SoB = 1300 # km\n",
    "VB = -56 # km/h\n",
    "\n",
    "tempo_de_encontro = cinematica.calcular(\n",
    "    MU.TEMPO_DE_ENCONTRO,\n",
    "    So1=SoA, V1=VA,\n",
    "    So2=SoB, V2=VB\n",
    ")\n",
    "print(\"O tempo de encontro foi de %d horas\" % tempo_de_encontro)\n",
    "\n",
    "instante_de_encontro = cinematica.calcular(\n",
    "    MU.POSICAO_DE_ENCONTRO,\n",
    "    So1=SoA, V1=VA,\n",
    "    So2=SoB, V2=VB\n",
    ")\n",
    "\n",
    "if instante_de_encontro == 640:\n",
    "    print(\"A cidade de encontro foi Camoriú!\")\n",
    "elif instante_de_encontro == 740:\n",
    "    print(\"A cidade de encontro foi Garopaba!\")\n",
    "elif instante_de_encontro == 800:\n",
    "    print(\"A cidade de encontro foi Laguma!\")\n",
    "elif instante_de_encontro == 910:\n",
    "    print(\"A cidade de encontro foi Araranguá!\")\n",
    "elif instante_de_encontro == 960:\n",
    "    print(\"A cidade de encontro foi Torres!\")\n",
    "else:\n",
    "    print(\"Eles não se encontraram em nenhuma das cidades citadas.\")"
   ]
  },
  {
   "cell_type": "markdown",
   "metadata": {},
   "source": [
    "***"
   ]
  },
  {
   "cell_type": "markdown",
   "metadata": {},
   "source": [
    "**4)** João está parado em um posto de gasolina quando vê o carro de seu amigo, passando por um ponto P, na estrada, a 60 km/h. Pretendendo alcançá-lo, João parte com seu carro e passa pelo mesmo ponto P, depois de 4 minutos, já a 80 km/h. Considere que ambos dirigem com velocidades constantes.\n",
    "Medindo o tempo, a partir de sua passagem pelo ponto P, João deverá alcançar\n",
    "seu amigo, aproximadamente, em quantos minutos?"
   ]
  },
  {
   "cell_type": "code",
   "execution_count": 6,
   "metadata": {},
   "outputs": [
    {
     "name": "stdout",
     "output_type": "stream",
     "text": [
      "O amigo dele já estava à 4 km a sua frente ao passar pelo ponto P\n",
      "João alcançou seu amigo em 12 minutos\n"
     ]
    }
   ],
   "source": [
    "# Vamos considerar o ponto P como o referência zero.\n",
    "Vjoao = 80/60 # km/min\n",
    "Sjoao = 0 # km\n",
    "\n",
    "# Quando joão passa por P o amigo dele já estava 4 minutos a sua frente\n",
    "Vamigo = 60/60 # km/min\n",
    "T = 4 # min\n",
    "DSamigo = basico.calcular(\n",
    "    Basico.DESLOCAMENTO_ESCALAR,\n",
    "    Vm=Vamigo,\n",
    "    DT=T\n",
    ")\n",
    "print(\"O amigo dele já estava à %d km a sua frente ao passar pelo ponto P\" % DSamigo)\n",
    "\n",
    "tempo = cinematica.calcular(\n",
    "    MU.TEMPO_DE_ENCONTRO,\n",
    "    So1=Sjoao, V1=Vjoao,\n",
    "    So2=DSamigo, V2=Vamigo\n",
    ")\n",
    "print(\"João alcançou seu amigo em %d minutos\" % tempo)"
   ]
  }
 ],
 "metadata": {
  "kernelspec": {
   "display_name": "Python 3",
   "language": "python",
   "name": "python3"
  },
  "language_info": {
   "codemirror_mode": {
    "name": "ipython",
    "version": 3
   },
   "file_extension": ".py",
   "mimetype": "text/x-python",
   "name": "python",
   "nbconvert_exporter": "python",
   "pygments_lexer": "ipython3",
   "version": "3.5.2"
  }
 },
 "nbformat": 4,
 "nbformat_minor": 2
}
