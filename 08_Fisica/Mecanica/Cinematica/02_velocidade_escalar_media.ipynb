{
 "cells": [
  {
   "cell_type": "markdown",
   "metadata": {},
   "source": [
    "## Velocidade escalar média\n",
    "***\n",
    "\n",
    "Você não deve confundir **deslocamento escalar (DS)** de um móvel com **distância ou espaço efetivamente percorrido (d)** por ele.\n",
    "\n",
    "Considere uma trajetória na qual um móvel parte da posição A ($S_{A}=-30km$), atinge a posição B ($S_{B}=-70km$) e retorna à posição A ($S_{A}=-30km$),após um certo intervalo de tempo."
   ]
  },
  {
   "cell_type": "code",
   "execution_count": 1,
   "metadata": {
    "collapsed": true
   },
   "outputs": [],
   "source": [
    "from cinematica import Cinematica\n",
    "cinematica = Cinematica()"
   ]
  },
  {
   "cell_type": "markdown",
   "metadata": {},
   "source": [
    "*** \n",
    "#### Na ida, em movimento retrógrado, entre $t_0$ e $t_1$:\n",
    "***"
   ]
  },
  {
   "cell_type": "markdown",
   "metadata": {},
   "source": [
    "- Seu deslocamento escalar será: $\\Delta S_r = S-So = (-70)-(-30) \\rightarrow \\Delta S_r= -40km$\n",
    "  \n",
    "  \n",
    "- Sua distância efetivamente percorrida (indicação do odômetro do carro) será: $d_r = 70-30 \\rightarrow d_r = 40m$ (sempre em módulo)\n",
    "  \n",
    "![img](https://user-images.githubusercontent.com/14116020/34074371-80ef355e-e294-11e7-8919-c3f1e75bd9ff.jpg)"
   ]
  },
  {
   "cell_type": "code",
   "execution_count": 2,
   "metadata": {},
   "outputs": [
    {
     "name": "stdout",
     "output_type": "stream",
     "text": [
      "Deslocamento Escalar = -40 km\n"
     ]
    }
   ],
   "source": [
    "from math import *\n",
    "\n",
    "S = -70\n",
    "So = -30\n",
    "\n",
    "DSr = cinematica.calcular(\n",
    "    cinematica.DESLOCAMENTO_ESCALAR,\n",
    "    S=S,\n",
    "    So=So\n",
    ")\n",
    "\n",
    "print(\"Deslocamento Escalar =\", DSr, \"km\")"
   ]
  },
  {
   "cell_type": "code",
   "execution_count": 3,
   "metadata": {},
   "outputs": [
    {
     "name": "stdout",
     "output_type": "stream",
     "text": [
      "Distância Percorrida = 40.0 km\n"
     ]
    }
   ],
   "source": [
    "S = -70\n",
    "So = -30\n",
    "\n",
    "dr = cinematica.calcular(\n",
    "    cinematica.DISTANCIA_PERCORRIDA,\n",
    "    S=S,\n",
    "    So=So\n",
    ")\n",
    "\n",
    "print(\"Distância Percorrida =\", dr, \"km\")"
   ]
  },
  {
   "cell_type": "markdown",
   "metadata": {},
   "source": [
    "***\n",
    "#### Na volta, em movimento progressivo, entre $t_1$ e $t_2$:\n",
    "***"
   ]
  },
  {
   "cell_type": "markdown",
   "metadata": {},
   "source": [
    "* Seu deslocamento escalar será: $\\Delta S_p = S - S_0 = (-30)-(-70) \\rightarrow \\Delta S_p = 40km$\n",
    "\n",
    "\n",
    "* Sua distância efetivamente percorrida será: $d_p = 70 - 30 \\rightarrow d_p = 40km$ (sempre em módulo).\n",
    "\n",
    "![img](https://user-images.githubusercontent.com/14116020/34074437-2bd01c80-e296-11e7-91c7-e098735446ee.jpg)"
   ]
  },
  {
   "cell_type": "code",
   "execution_count": 4,
   "metadata": {},
   "outputs": [
    {
     "name": "stdout",
     "output_type": "stream",
     "text": [
      "Deslocamento Escalar = 40 km\n"
     ]
    }
   ],
   "source": [
    "S = -30\n",
    "So = -70\n",
    "\n",
    "DSp = cinematica.calcular(\n",
    "    cinematica.DESLOCAMENTO_ESCALAR,\n",
    "    S=S,\n",
    "    So=So\n",
    ")\n",
    "\n",
    "print(\"Deslocamento Escalar =\", DSp, \"km\")"
   ]
  },
  {
   "cell_type": "code",
   "execution_count": 5,
   "metadata": {},
   "outputs": [
    {
     "name": "stdout",
     "output_type": "stream",
     "text": [
      "Distância Percorrida = 40.0 km\n"
     ]
    }
   ],
   "source": [
    "S = -30\n",
    "So = -70\n",
    "\n",
    "dp = cinematica.calcular(\n",
    "    cinematica.DISTANCIA_PERCORRIDA,\n",
    "    S=S,\n",
    "    So=So\n",
    ") \n",
    "\n",
    "print(\"Distância Percorrida =\", dp, \"km\")"
   ]
  },
  {
   "cell_type": "markdown",
   "metadata": {},
   "source": [
    "***\n",
    "#### Durante todo o percurso (ida e volta)\n",
    "***"
   ]
  },
  {
   "cell_type": "markdown",
   "metadata": {},
   "source": [
    "* **Deslocamento escalar total** será: $\\Delta S_t = \\Delta S_r + \\Delta S_p = -40+40 = 0 \\rightarrow \\Delta S_t = 0$\n",
    "\n",
    "\n",
    "* **Distância efetivamente percorrida** (indicação do odômetro do carro) será: $d_t = 40+40 = 80 \\rightarrow d_t = 80km$.\n",
    "\n",
    "\n",
    "* É importante você observar que deslocamento escalar nulo não significa que o móvel permaneceu em repouso, ele pode ter se deslocado retornando à posição inicial."
   ]
  },
  {
   "cell_type": "code",
   "execution_count": 6,
   "metadata": {},
   "outputs": [
    {
     "name": "stdout",
     "output_type": "stream",
     "text": [
      "Deslocamento escalar total = 0 km\n"
     ]
    }
   ],
   "source": [
    "DSt = DSr + DSp\n",
    "print(\"Deslocamento escalar total =\", DSt, \"km\")"
   ]
  },
  {
   "cell_type": "code",
   "execution_count": 7,
   "metadata": {},
   "outputs": [
    {
     "name": "stdout",
     "output_type": "stream",
     "text": [
      "Distância efetivamente percorrida = 80.0 km\n"
     ]
    }
   ],
   "source": [
    "dt = dr + dp\n",
    "print(\"Distância efetivamente percorrida =\", dt, \"km\")"
   ]
  },
  {
   "cell_type": "markdown",
   "metadata": {},
   "source": [
    "***\n",
    "#### No Sistema Internacional de Unidades (SI)\n",
    "***"
   ]
  },
  {
   "cell_type": "markdown",
   "metadata": {},
   "source": [
    "* A unidade de velocidade (média ou instantânea) é o metro por segundo (m/s).\n",
    "\n",
    "\n",
    "* Na maioria das vezes, na prática, utiliza-se o quilômetro por hora (km/h), que é relacionado com o m/s da seguinte maneira:\n",
    "\n",
    "$$\\frac{1km}{h} = \\frac{1.000m}{3600s} = \\frac{1m}{3.6s}$$\n",
    "\n",
    "* Ou seja,\n",
    "\n",
    "$$\\frac{1m}{3.6s} = \\frac{1km}{h} \\rightarrow \\frac{1m}{s} = \\frac{3.6km}{h}$$"
   ]
  },
  {
   "cell_type": "markdown",
   "metadata": {},
   "source": [
    "***\n",
    "#### Velocidade constante\n",
    "***"
   ]
  },
  {
   "cell_type": "markdown",
   "metadata": {},
   "source": [
    "* Assim como o deslocamento, a velocidade também depende do referencial\n",
    "\n",
    "\n",
    "* Se um móvel efetua uma viagem de carro com velocidade constante $V_1$, percorrendo $\\Delta S_1$ durante um intervalo de tempo $\\Delta t_1$, ele pára em um posto de gasolina durante um intervalo de tempo $\\Delta t_2$, em seguida continua sua viagem por mais $\\Delta t_3$ com velocidade constante $V_3$, percorrendo $\\Delta S_3$.\n",
    "\n",
    "\n",
    "* A velocidade média do carro durante toda a viagem será:\n",
    "\n",
    "$$V_{mtotal} = \\frac{\\Delta S_{total}}{\\Delta t_{total}} = \\frac{\\Delta S_1 + \\Delta S_2}{\\Delta t_1 + \\Delta t_2 + \\Delta t_3}$$\n",
    "\n",
    "* Atenção, o tempo de parada é incluído."
   ]
  },
  {
   "cell_type": "markdown",
   "metadata": {},
   "source": [
    "***\n",
    "### Exercicios\n",
    "***"
   ]
  },
  {
   "cell_type": "markdown",
   "metadata": {},
   "source": [
    "**1)** Uma loja divulga na propaganda de um carro com motor 1.0 que o mesmo aumenta sua velocidade de 0 a 100 km/h em $10s$ enquanto percorre $277m$. De acordo com essas informações, qual a velocidade média do carro?"
   ]
  },
  {
   "cell_type": "code",
   "execution_count": 8,
   "metadata": {},
   "outputs": [
    {
     "name": "stdout",
     "output_type": "stream",
     "text": [
      "Velocidade = 27.7 m/s\n"
     ]
    }
   ],
   "source": [
    "deslocamento = 277 # metros\n",
    "tempo = 10 # segundos\n",
    "\n",
    "velocidade = cinematica.calcular(\n",
    "    cinematica.VELOCIDADE_MEDIA,\n",
    "    DS=deslocamento,\n",
    "    DT=tempo\n",
    ")\n",
    "\n",
    "print(\"Velocidade = %.1f m/s\" % velocidade)"
   ]
  },
  {
   "cell_type": "markdown",
   "metadata": {},
   "source": [
    "***"
   ]
  },
  {
   "cell_type": "markdown",
   "metadata": {},
   "source": [
    "**2)** Um motorista pretende percorrer, em 4,5 horas, a distância de 360 km. Todavia, dificuldades imprevistas obrigam-no a manter a velocidade de 60 km/h durante os primeiros 150 minutos. No percurso restante, para chegar no tempo previsto, ele deverá manter que velocidade média? "
   ]
  },
  {
   "cell_type": "code",
   "execution_count": 9,
   "metadata": {},
   "outputs": [
    {
     "name": "stdout",
     "output_type": "stream",
     "text": [
      "Tempo gasto no primeiro trecho andando a 60 km/h é de 2.5 horas\n",
      "Espaço percorrido nesse intervalo é de 150 km\n",
      "Deslocamento restante é 210 km\n",
      "Tempo gasto no restante do percurso é de 2 horas\n",
      "Velocidade média que ele deverá manter é de 105 km/h para chegar a tempo (4.5 horas)\n"
     ]
    }
   ],
   "source": [
    "# Dados iniciais\n",
    "deslocamento_total = 360 # km\n",
    "tempo_total = 4.5 # horas\n",
    "velocidade_inicial = 60 # km/h\n",
    "\n",
    "# tempo gasto no primeiro trecho em horas\n",
    "tempo_inicial = 150/60\n",
    "print(\"Tempo gasto no primeiro trecho andando a 60 km/h é de %.1f horas\" % tempo_inicial)\n",
    "\n",
    "# Espaço percorrido nesse intervalo\n",
    "deslocamento_inicial = cinematica.calcular(\n",
    "    cinematica.DESLOCAMENTO_ESCALAR,\n",
    "    Vm=velocidade_inicial,\n",
    "    DT=tempo_inicial\n",
    ")\n",
    "print(\"Espaço percorrido nesse intervalo é de %d km\" % deslocamento_inicial)\n",
    "\n",
    "# Para o restante do percurso\n",
    "deslocamento_final = cinematica.calcular(\n",
    "    cinematica.DESLOCAMENTO_ESCALAR,\n",
    "    S=deslocamento_total,\n",
    "    So=deslocamento_inicial\n",
    ")\n",
    "print(\"Deslocamento restante é %d km\" % deslocamento_final)\n",
    "\n",
    "tempo_final = cinematica.calcular(\n",
    "    cinematica.INTERVALO_DE_TEMPO,\n",
    "    T=tempo_total,\n",
    "    To=tempo_inicial\n",
    ")\n",
    "print(\"Tempo gasto no restante do percurso é de %d horas\" % tempo_final)\n",
    "\n",
    "# Velocidade média que o motorista deverá manter\n",
    "velocidade_media = cinematica.calcular(\n",
    "    cinematica.VELOCIDADE_MEDIA,\n",
    "    DS=deslocamento_final,\n",
    "    DT=tempo_final\n",
    ")\n",
    "print(\"Velocidade média que ele deverá manter é de %d km/h para chegar a tempo (%.1f horas)\" % (velocidade_media, tempo_total))"
   ]
  },
  {
   "cell_type": "markdown",
   "metadata": {},
   "source": [
    "***"
   ]
  },
  {
   "cell_type": "markdown",
   "metadata": {},
   "source": [
    "**3)** Um motorista em seu automóvel deseja ir do ponto A ao ponto B de uma grande cidade (ver figura). O triângulo ABC é retângulo, com os catetos AC e CB de comprimentos 3 km e 4 km, respectivamente. O Departamento de Trânsito da cidade informa que as respectivas velocidades médias nos trechos AB e ACB valem 15 km/h e 21 km/h. Nessa situação, qual é o melhor caminho a seguir?\n",
    "\n",
    "![img](https://user-images.githubusercontent.com/14116020/34075936-1e7f0b7c-e2be-11e7-9ecf-556884a079ff.png)"
   ]
  },
  {
   "cell_type": "code",
   "execution_count": 10,
   "metadata": {},
   "outputs": [
    {
     "name": "stdout",
     "output_type": "stream",
     "text": [
      "Distância do ponto A até o ponto B é de 5 km\n",
      "Tempo gasto para o deslocamento de A até B é de 20 minutos\n",
      "Tempo gasto para o deslocamento de A até B passando por C é de 20 minutos\n",
      "Logo: qualquer caminho server.\n"
     ]
    }
   ],
   "source": [
    "from math import *\n",
    "\n",
    "velocidade_AB = 15 # Velocidade do ponto AB em km/h\n",
    "velocidade_ACB = 21 # Velocidade do ponto ABC em km/h\n",
    "AC = 3 # Distância entre os ponto AC em km\n",
    "CB = 4 # Distância entre os pontos CB em km\n",
    "\n",
    "# Aplicando pitágoras (|AB^2| = |AC^2| + |CB^2|) no triângulo dado:\n",
    "AB = sqrt(pow(fabs(AC), 2) + pow(fabs(CB), 2))\n",
    "print(\"Distância do ponto A até o ponto B é de %d km\" % AB)\n",
    "\n",
    "# Calculando os tempos\n",
    "tempo_AB = cinematica.calcular(\n",
    "    cinematica.INTERVALO_DE_TEMPO,\n",
    "    DS=AB,\n",
    "    Vm=velocidade_AB\n",
    ")\n",
    "print(\"Tempo gasto para o deslocamento de A até B é de %d minutos\" % (tempo_AB * 60))\n",
    "\n",
    "tempo_ACB = cinematica.calcular(\n",
    "    cinematica.INTERVALO_DE_TEMPO,\n",
    "    DS=(AC + CB),\n",
    "    Vm=velocidade_ACB\n",
    ")\n",
    "print(\"Tempo gasto para o deslocamento de A até B passando por C é de %d minutos\" % (tempo_ACB * 60))\n",
    "\n",
    "print(\"Logo: \", end=\"\")\n",
    "if tempo_AB > tempo_ACB:\n",
    "    print(\"é melhor ir pelo caminho AB.\")\n",
    "elif tempo_AB == tempo_ACB:\n",
    "    print(\"qualquer caminho server.\")\n",
    "else:\n",
    "    print(\"é melhor ir pelo caminho ACB.\")"
   ]
  },
  {
   "cell_type": "markdown",
   "metadata": {},
   "source": [
    "***"
   ]
  },
  {
   "cell_type": "markdown",
   "metadata": {},
   "source": [
    "**4)** Um avião, após deslocar-se 120 km para nordeste (NE), desloca-se 160 km para sudeste (SE). Sendo um quarto de hora, o tempo total dessa viagem, o módulo da velocidade vetorial média do avião, nesse tempo, foi de quanto?"
   ]
  },
  {
   "cell_type": "code",
   "execution_count": 11,
   "metadata": {},
   "outputs": [
    {
     "name": "stdout",
     "output_type": "stream",
     "text": [
      "Deslocamento é de 200 km\n",
      "A velocidade vetorial média é de 800 km/h\n"
     ]
    }
   ],
   "source": [
    "NE = 120 #km\n",
    "SE = 160 #km\n",
    "tempo = 1/4 #hora\n",
    "\n",
    "# Aplicando pitagoras\n",
    "deslocamento = sqrt(pow(fabs(NE), 2) + pow(fabs(SE), 2))\n",
    "print(\"Deslocamento é de %d km\" % deslocamento)\n",
    "\n",
    "# O módulo da velocidade vetorial média\n",
    "Vm = cinematica.calcular(\n",
    "    cinematica.VELOCIDADE_MEDIA,\n",
    "    DS=fabs(deslocamento),\n",
    "    DT=tempo\n",
    ")\n",
    "print(\"A velocidade vetorial média é de %d km/h\" % fabs(Vm))"
   ]
  },
  {
   "cell_type": "markdown",
   "metadata": {},
   "source": [
    "***"
   ]
  },
  {
   "cell_type": "markdown",
   "metadata": {},
   "source": [
    "**5)** A distância média da Terra ao Sol é de 150 milhões de km ou 1 UA (unidade astronômica). Supondo que fosse possível se desligar a luz proveniente do Sol, ligando-se em seguida e considerando-se a velocidade da luz como 300 mil km por segundo, o tempo que esta luz atingiria a Terra seria aproximadamente de ?"
   ]
  },
  {
   "cell_type": "code",
   "execution_count": 12,
   "metadata": {},
   "outputs": [
    {
     "name": "stdout",
     "output_type": "stream",
     "text": [
      "O tempo que a luz atingiria a terra seria mais ou menos de 8.3 minutos\n"
     ]
    }
   ],
   "source": [
    "deslocamento = 150000000 # km\n",
    "velocidade = 300000 # km/h\n",
    "\n",
    "tempo = cinematica.calcular(\n",
    "    cinematica.INTERVALO_DE_TEMPO,\n",
    "    DS=deslocamento,\n",
    "    Vm=velocidade\n",
    ")\n",
    "\n",
    "# Agora só transforma horas em minutos\n",
    "tempo = tempo/60 \n",
    "print(\"O tempo que a luz atingiria a terra seria mais ou menos de %.1f minutos\" % tempo)"
   ]
  },
  {
   "cell_type": "markdown",
   "metadata": {},
   "source": [
    "***"
   ]
  },
  {
   "cell_type": "markdown",
   "metadata": {},
   "source": [
    "**6)** A figura abaixo mostra o esquema simplificado de um dispositivo colocado em uma rua para controle de velocidade de automóveis (dispositivo popularmente chamado de “radar”.\n",
    "\n",
    "![image](https://user-images.githubusercontent.com/14116020/34076221-96e66c06-e2c6-11e7-95de-aef0e0a38f9c.png)\n",
    "\n",
    "Os sensores S(1) e S(2) e a câmera estão ligadas a um computador. Os sensores enviam um sinal ao computador sempre que são pressionados pela roda de um veículo. Se a velocidade do veículo está acima da permitida, o computador envia um sinal para que a câmera fotografe sua placa traseira no momento em que ela estiver sobre a linha tracejada. Para um certo veículo, os sinais dos sensores foram os seguintes:\n",
    "\n",
    "![image](https://user-images.githubusercontent.com/14116020/34076224-acf04396-e2c6-11e7-95c4-aada8f24b217.png)\n",
    "\n",
    "Com isso determine a velocidade do veículo em km/h ao passar pelo radar.\n",
    "\n",
    "Obs: No gráfico as rodas da frente demoram Δt = 0,1s para pressionar os sensores S(1) e depois S(2)"
   ]
  },
  {
   "cell_type": "code",
   "execution_count": 13,
   "metadata": {},
   "outputs": [
    {
     "name": "stdout",
     "output_type": "stream",
     "text": [
      "A velocidade do veiculo foi de 72 km/h\n"
     ]
    }
   ],
   "source": [
    "tempo = 0.1 # Segundos\n",
    "deslocamento = 2 # Metros\n",
    "\n",
    "velocidade_do_veiculo = cinematica.calcular(\n",
    "    cinematica.VELOCIDADE_MEDIA,\n",
    "    DS=deslocamento,\n",
    "    DT=tempo\n",
    ")\n",
    "\n",
    "velocidade_do_veiculo *= 3.6\n",
    "\n",
    "print(\"A velocidade do veiculo foi de %d km/h\" % velocidade_do_veiculo)"
   ]
  }
 ],
 "metadata": {
  "kernelspec": {
   "display_name": "Python 3",
   "language": "python",
   "name": "python3"
  },
  "language_info": {
   "codemirror_mode": {
    "name": "ipython",
    "version": 3
   },
   "file_extension": ".py",
   "mimetype": "text/x-python",
   "name": "python",
   "nbconvert_exporter": "python",
   "pygments_lexer": "ipython3",
   "version": "3.5.2"
  }
 },
 "nbformat": 4,
 "nbformat_minor": 2
}
