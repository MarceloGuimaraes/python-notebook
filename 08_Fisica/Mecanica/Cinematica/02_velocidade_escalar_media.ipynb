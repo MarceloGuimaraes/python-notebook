{
 "cells": [
  {
   "cell_type": "markdown",
   "metadata": {},
   "source": [
    "## Velocidade escalar média\n",
    "***\n",
    "\n",
    "Você não deve confundir **deslocamento escalar (ΔS)** de um móvel com **distância ou espaço efetivamente percorrido (d)** por ele.\n",
    "\n",
    "Considere uma trajetória na qual um móvel parte da posição A ($S_{A}=-30km$), atinge a posição B ($S_{B}=-70km$) e retorna à posição A ($S_{A}=-30km$),após um certo intervalo de tempo."
   ]
  },
  {
   "cell_type": "markdown",
   "metadata": {},
   "source": [
    "*** \n",
    "#### Na ida, em movimento retrógrado, entre $t_0$ e $t_1$:\n",
    "***"
   ]
  },
  {
   "cell_type": "markdown",
   "metadata": {},
   "source": [
    "- Seu deslocamento escalar será: $ΔS_r = S-So = (-70)-(-30) \\rightarrow ΔS_r= -40km$\n",
    "  \n",
    "  \n",
    "- Sua distância efetivamente percorrida (indicação do odômetro do carro) será: $d_r = 70-30 \\rightarrow d_r = 40m$ (sempre em módulo)\n",
    "  \n",
    "![img](https://user-images.githubusercontent.com/14116020/34074371-80ef355e-e294-11e7-8919-c3f1e75bd9ff.jpg)"
   ]
  },
  {
   "cell_type": "code",
   "execution_count": 1,
   "metadata": {},
   "outputs": [
    {
     "name": "stdout",
     "output_type": "stream",
     "text": [
      "Deslocamento Escalar = -40 km\n"
     ]
    }
   ],
   "source": [
    "from math import *\n",
    "\n",
    "S = -70\n",
    "S0 = -30\n",
    "DSr = S - S0\n",
    "\n",
    "print(\"Deslocamento Escalar =\", DSr, \"km\")"
   ]
  },
  {
   "cell_type": "code",
   "execution_count": 2,
   "metadata": {},
   "outputs": [
    {
     "name": "stdout",
     "output_type": "stream",
     "text": [
      "Distância Percorrida = 40.0 km\n"
     ]
    }
   ],
   "source": [
    "Pa = -70\n",
    "Pb = -30\n",
    "dr = fabs(Pa) - fabs(Pb)\n",
    "\n",
    "print(\"Distância Percorrida =\", dr, \"km\")"
   ]
  },
  {
   "cell_type": "markdown",
   "metadata": {},
   "source": [
    "***\n",
    "#### Na volta, em movimento progressivo, entre $t_1$ e $t_2$:\n",
    "***"
   ]
  },
  {
   "cell_type": "markdown",
   "metadata": {},
   "source": [
    "* Seu deslocamento escalar será: $ΔS_p = S - S_0 = (-30)-(-70) \\rightarrow ΔS_p = 40km$\n",
    "\n",
    "\n",
    "* Sua distância efetivamente percorrida será: $d_p = 70 - 30 \\rightarrow d_p = 40km$ (sempre em módulo).\n",
    "\n",
    "![img](https://user-images.githubusercontent.com/14116020/34074437-2bd01c80-e296-11e7-91c7-e098735446ee.jpg)"
   ]
  },
  {
   "cell_type": "code",
   "execution_count": 3,
   "metadata": {},
   "outputs": [
    {
     "name": "stdout",
     "output_type": "stream",
     "text": [
      "Deslocamento Escalar = 40 km\n"
     ]
    }
   ],
   "source": [
    "S = -30\n",
    "S0 = -70\n",
    "DSp = S - S0\n",
    "\n",
    "print(\"Deslocamento Escalar =\", DSp, \"km\")"
   ]
  },
  {
   "cell_type": "code",
   "execution_count": 4,
   "metadata": {},
   "outputs": [
    {
     "name": "stdout",
     "output_type": "stream",
     "text": [
      "Distância Percorrida = 40.0 km\n"
     ]
    }
   ],
   "source": [
    "Pa = -70\n",
    "Pb = -30\n",
    "dp = fabs(Pa) - fabs(Pb)\n",
    "\n",
    "print(\"Distância Percorrida =\", dp, \"km\")"
   ]
  },
  {
   "cell_type": "markdown",
   "metadata": {},
   "source": [
    "***\n",
    "#### Durante todo o percurso (ida e volta)\n",
    "***"
   ]
  },
  {
   "cell_type": "markdown",
   "metadata": {},
   "source": [
    "* **Deslocamento escalar total** será: $ΔS_t = ΔS_r + ΔS_p = -40+40 = 0 \\rightarrow ΔS_t = 0$\n",
    "\n",
    "\n",
    "* **Distância efetivamente percorrida** (indicação do odômetro do carro) será: $d_t = 40+40 = 80 \\rightarrow d_t = 80km$.\n",
    "\n",
    "\n",
    "* É importante você observar que deslocamento escalar nulo não significa que o móvel permaneceu em repouso, ele pode ter se deslocado retornando à posição inicial."
   ]
  },
  {
   "cell_type": "code",
   "execution_count": 5,
   "metadata": {},
   "outputs": [
    {
     "name": "stdout",
     "output_type": "stream",
     "text": [
      "Deslocamento escalar total = 0 km\n"
     ]
    }
   ],
   "source": [
    "DSt = DSr + DSp\n",
    "print(\"Deslocamento escalar total =\", DSt, \"km\")"
   ]
  },
  {
   "cell_type": "code",
   "execution_count": 6,
   "metadata": {},
   "outputs": [
    {
     "name": "stdout",
     "output_type": "stream",
     "text": [
      "Distância efetivamente percorrida = 80.0 km\n"
     ]
    }
   ],
   "source": [
    "dt = dr + dp\n",
    "print(\"Distância efetivamente percorrida =\", dt, \"km\")"
   ]
  },
  {
   "cell_type": "markdown",
   "metadata": {},
   "source": [
    "***\n",
    "#### No Sistema Internacional de Unidades (SI)\n",
    "***"
   ]
  },
  {
   "cell_type": "markdown",
   "metadata": {},
   "source": [
    "* A unidade de velocidade (média ou instantânea) é o metro por segundo (m/s).\n",
    "\n",
    "\n",
    "* Na maioria das vezes, na prática, utiliza-se o quilômetro por hora (km/h), que é relacionado com o m/s da seguinte maneira:\n",
    "\n",
    "$$\\frac{1km}{h} = \\frac{1.000m}{3600s} = \\frac{1m}{3.6s}$$\n",
    "\n",
    "* Ou seja,\n",
    "\n",
    "$$\\frac{1m}{3.6s} = \\frac{1km}{h} \\rightarrow \\frac{1m}{s} = \\frac{3.6km}{h}$$"
   ]
  },
  {
   "cell_type": "markdown",
   "metadata": {},
   "source": [
    "***\n",
    "#### Velocidade constante\n",
    "***"
   ]
  },
  {
   "cell_type": "markdown",
   "metadata": {},
   "source": [
    "* Assim como o deslocamento, a velocidade também depende do referencial\n",
    "\n",
    "\n",
    "* Se um móvel efetua uma viagem de carro com velocidade constante $V_1$, percorrendo $ΔS_1$ durante um intervalo de tempo $Δt_1$, ele pára em um posto de gasolina durante um intervalo de tempo $Δt_2$, em seguida continua sua viagem por mais $Δt_3$ com velocidade constante $V_3$, percorrendo $ΔS_3$.\n",
    "\n",
    "\n",
    "* A velocidade média do carro durante toda a viagem será:\n",
    "\n",
    "$$V_{mtotal} = \\frac{ΔS_{total}}{Δt_{total}} = \\frac{ΔS_1 + ΔS_2}{Δt_1 + Δt_2 + Δt_3}$$\n",
    "\n",
    "* Atenção, o tempo de parada é incluído."
   ]
  },
  {
   "cell_type": "markdown",
   "metadata": {},
   "source": [
    "***\n",
    "### Exercicios\n",
    "***"
   ]
  },
  {
   "cell_type": "markdown",
   "metadata": {},
   "source": [
    "**1)** Uma loja divulga na propaganda de um carro com motor 1.0 que o mesmo aumenta sua velocidade de 0 a 100 km/h em $10s$ enquanto percorre $277m$. De acordo com essas informações, qual a velocidade média do carro?"
   ]
  },
  {
   "cell_type": "code",
   "execution_count": 7,
   "metadata": {},
   "outputs": [
    {
     "name": "stdout",
     "output_type": "stream",
     "text": [
      "Velocidade = 27.7 m/s\n"
     ]
    }
   ],
   "source": [
    "deslocamento = 277 # metros\n",
    "tempo = 10 # segundos\n",
    "\n",
    "velocidade = deslocamento/tempo\n",
    "\n",
    "print(\"Velocidade = %.1f m/s\" % velocidade)"
   ]
  },
  {
   "cell_type": "markdown",
   "metadata": {},
   "source": [
    "***"
   ]
  },
  {
   "cell_type": "markdown",
   "metadata": {},
   "source": [
    "**2)** Um motorista pretende percorrer, em 4,5 horas, a distância de 360 km. Todavia, dificuldades imprevistas obrigam-no a manter a velocidade de 60 km/h durante os primeiros 150 minutos. No percurso restante, para chegar no tempo previsto, ele deverá manter que velocidade média? "
   ]
  },
  {
   "cell_type": "code",
   "execution_count": 8,
   "metadata": {},
   "outputs": [
    {
     "name": "stdout",
     "output_type": "stream",
     "text": [
      "Tempo gasto no primeiro trecho andando a 60 km/h é de 2.5 horas\n",
      "Espaço percorrido nesse intervalo é de 150 km\n",
      "Deslocamento restante é 210 km\n",
      "Tempo gasto no restante do percurso é de 2 horas\n",
      "Velocidade média que ele deverá manter é de 105 km/h para chegar a tempo (4,5 horas)\n"
     ]
    }
   ],
   "source": [
    "# Dados iniciais\n",
    "D = 360 # km\n",
    "T = 4.5 # horas\n",
    "V0 = 60 # km/h\n",
    "\n",
    "# tempo gasto no primeiro trecho em horas\n",
    "T0 = 150/60\n",
    "print(\"Tempo gasto no primeiro trecho andando a 60 km/h é de %.1f horas\" % T0)\n",
    "\n",
    "# Espaço percorrido nesse intervalo\n",
    "D1 = V0 * T0\n",
    "print(\"Espaço percorrido nesse intervalo é de %d km\" % D1)\n",
    "\n",
    "# Para o restante do percurso\n",
    "D2 = D - D1\n",
    "print(\"Deslocamento restante é %d km\" % D2)\n",
    "\n",
    "T2 = T - T0\n",
    "print(\"Tempo gasto no restante do percurso é de %d horas\" % T2)\n",
    "\n",
    "# Velocidade média que o motorista deverá manter\n",
    "V = D2/T2\n",
    "print(\"Velocidade média que ele deverá manter é de %d km/h para chegar a tempo (4,5 horas)\" % V)"
   ]
  },
  {
   "cell_type": "markdown",
   "metadata": {},
   "source": [
    "***"
   ]
  },
  {
   "cell_type": "markdown",
   "metadata": {},
   "source": [
    "**3)** Um motorista em seu automóvel deseja ir do ponto A ao ponto B de uma grande cidade (ver figura). O triângulo ABC é retângulo, com os catetos AC e CB de comprimentos 3 km e 4 km, respectivamente. O Departamento de Trânsito da cidade informa que as respectivas velocidades médias nos trechos AB e ACB valem 15 km/h e 21 km/h. Nessa situação, qual é o melhor caminho a seguir?\n",
    "\n",
    "![img](https://user-images.githubusercontent.com/14116020/34075936-1e7f0b7c-e2be-11e7-9ecf-556884a079ff.png)"
   ]
  },
  {
   "cell_type": "code",
   "execution_count": 9,
   "metadata": {},
   "outputs": [
    {
     "name": "stdout",
     "output_type": "stream",
     "text": [
      "Distância do ponto A até o ponto B é de 5 km\n",
      "Tempo gasto para o deslocamento de A até B é de 20 minutos\n",
      "Tempo gasto para o deslocamento de A até B passando por C é de 20 minutos\n",
      "Logo: qualquer caminho server.\n"
     ]
    }
   ],
   "source": [
    "from math import *\n",
    "\n",
    "V_AB = 15 # Velocidade do ponto AB em km/h\n",
    "V_ACB = 21 # Velocidade do ponto ABC em km/h\n",
    "AC = 3 # Distância entre os ponto AC em km\n",
    "CB = 4 # Distância entre os pontos CB em km\n",
    "\n",
    "# Aplicando pitágoras (|AB^2| = |AC^2| + |CB^2|) no triângulo dado:\n",
    "AB = sqrt(pow(fabs(AC), 2) + pow(fabs(CB), 2))\n",
    "print(\"Distância do ponto A até o ponto B é de %d km\" % AB)\n",
    "\n",
    "# Calculando os tempos\n",
    "T_AB = AB/V_AB\n",
    "print(\"Tempo gasto para o deslocamento de A até B é de %d minutos\" % (T_AB * 60))\n",
    "\n",
    "T_ACB = (AC + CB)/V_ACB\n",
    "print(\"Tempo gasto para o deslocamento de A até B passando por C é de %d minutos\" % (T_ACB * 60))\n",
    "\n",
    "print(\"Logo: \", end=\"\")\n",
    "if T_AB > T_ACB:\n",
    "    print(\"é melhor ir pelo caminho AB.\")\n",
    "elif T_AB == T_ACB:\n",
    "    print(\"qualquer caminho server.\")\n",
    "else:\n",
    "    print(\"é melhor ir pelo caminho ACB.\")"
   ]
  },
  {
   "cell_type": "markdown",
   "metadata": {},
   "source": [
    "***"
   ]
  },
  {
   "cell_type": "markdown",
   "metadata": {},
   "source": [
    "**4)** Um avião, após deslocar-se 120 km para nordeste (NE), desloca-se 160 km para sudeste (SE). Sendo um quarto de hora, o tempo total dessa viagem, o módulo da velocidade vetorial média do avião, nesse tempo, foi de quanto?"
   ]
  },
  {
   "cell_type": "code",
   "execution_count": 10,
   "metadata": {},
   "outputs": [
    {
     "name": "stdout",
     "output_type": "stream",
     "text": [
      "Deslocamento é de 200 km\n",
      "A velocidade vetorial média é de 800 km/h\n"
     ]
    }
   ],
   "source": [
    "NE = 120 #km\n",
    "SE = 160 #km\n",
    "T = 1/4 #hora\n",
    "\n",
    "# Aplicando pitagoras\n",
    "D = sqrt(pow(fabs(NE), 2) + pow(fabs(SE), 2))\n",
    "print(\"Deslocamento é de %d km\" % D)\n",
    "\n",
    "# O módulo da velocidade vetorial média é\n",
    "Vm = fabs(D)/T\n",
    "print(\"A velocidade vetorial média é de %d km/h\" % fabs(Vm))"
   ]
  },
  {
   "cell_type": "markdown",
   "metadata": {},
   "source": [
    "***"
   ]
  },
  {
   "cell_type": "markdown",
   "metadata": {},
   "source": [
    "**5)** A distância média da Terra ao Sol é de 150 milhões de km ou 1 UA (unidade astronômica). Supondo que fosse possível se desligar a luz proveniente do Sol, ligando-se em seguida e considerando-se a velocidade da luz como 300 mil km por segundo, o tempo que esta luz atingiria a Terra seria aproximadamente de ?"
   ]
  },
  {
   "cell_type": "code",
   "execution_count": 11,
   "metadata": {},
   "outputs": [
    {
     "name": "stdout",
     "output_type": "stream",
     "text": [
      "O tempo que a luz atingiria a terra seria mais ou menos de 8.3 minutos\n"
     ]
    }
   ],
   "source": [
    "D = 150000000 # km\n",
    "V = 300000 # km/h\n",
    "T = D/V\n",
    "\n",
    "# Agora só transforma horas em minutos\n",
    "T = T/60 \n",
    "print(\"O tempo que a luz atingiria a terra seria mais ou menos de %.1f minutos\" % T)"
   ]
  }
 ],
 "metadata": {
  "kernelspec": {
   "display_name": "Python 3",
   "language": "python",
   "name": "python3"
  },
  "language_info": {
   "codemirror_mode": {
    "name": "ipython",
    "version": 3
   },
   "file_extension": ".py",
   "mimetype": "text/x-python",
   "name": "python",
   "nbconvert_exporter": "python",
   "pygments_lexer": "ipython3",
   "version": "3.5.2"
  }
 },
 "nbformat": 4,
 "nbformat_minor": 2
}
