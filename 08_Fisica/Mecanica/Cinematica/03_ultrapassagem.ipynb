{
 "cells": [
  {
   "cell_type": "markdown",
   "metadata": {},
   "source": [
    "## Ultrapassagem\n",
    "***"
   ]
  },
  {
   "cell_type": "markdown",
   "metadata": {},
   "source": [
    "Trem de comprimento (x) atravessando um túnel de comprimento (c):\n",
    "\n",
    "* Observe que para atravessar completamente o túnel, um ponto $P$ fixo em qualquer parte do trem deve percorrer uma **distância** $\\Delta S \\rightarrow \\Delta S = x+c$ com **velocidade** $v$ e **intervalo de tempo** $\\Delta t \\rightarrow V = \\frac{x+c}{\\Delta t}$\n",
    "\n",
    "![img](https://user-images.githubusercontent.com/14116020/34074717-a1e8a88c-e29c-11e7-9c6f-6f7bf87fb225.jpg)"
   ]
  },
  {
   "cell_type": "markdown",
   "metadata": {},
   "source": [
    "Se um móvel de tamanho não desprezível com velocidade $V_1$ ultrapassar outro também de dimensão não desprezível com velocidade $V_2$, deve-se proceder da seguinte maneira:\n",
    "\n",
    "***\n",
    "#### Mesmo sentido\n",
    "***\n",
    "\n",
    "![img](https://user-images.githubusercontent.com/14116020/34074743-0fc44118-e29d-11e7-8704-ff83fe973128.jpg)\n",
    "\n",
    "![img](https://user-images.githubusercontent.com/14116020/34074749-250f4644-e29d-11e7-8570-52dd35c5a2e1.jpg)\n",
    "\n",
    "* Parar um deles, como por exemplo, o caminhão (como se fosse uma ponte ou túnel) e fazer o ônibus ultrapassá-lo utilizando velocidade relativa que no caso é $V_r = V_{onibus} - V_{caminhao}$, pois estão no mesmo sentido:\n",
    "\n",
    "![img](https://user-images.githubusercontent.com/14116020/34074769-58709808-e29d-11e7-9dde-aabfd29626f0.jpg)\n",
    "\n",
    "![img](https://user-images.githubusercontent.com/14116020/34074771-69f46a50-e29d-11e7-86f0-1ec8e136bc2b.jpg)\n",
    "\n",
    "$$V_r = \\frac{\\Delta S}{\\Delta t} \\rightarrow (V_{onibus} - V_{caminhao}) = \\frac{(comprimento\\_do\\_onibus + comprimento\\_do\\_caminhao)}{intervalo\\_de\\_tempo\\_de\\_duracao\\_da\\_ultrapassagem}$$\n",
    "\n",
    "***\n",
    "#### Sentidos contrários\n",
    "***\n",
    "\n",
    "* Proceder da mesma maneira parando um deles, como por exemplo, o caminhão e fazer o ônibus ultrapassá-lo utilizando velocidade relativa que no caso é $V_r = V_{onibus} + V_{caminhao}$, pois estão  em sentidos contrários:\n",
    "\n",
    "![img](https://user-images.githubusercontent.com/14116020/34074806-723e5be8-e29e-11e7-92e8-92772ed2221e.jpg)\n",
    "\n",
    "![img](https://user-images.githubusercontent.com/14116020/34074811-83e2faa2-e29e-11e7-8cf5-c08cac2f6c11.jpg)\n",
    "\n",
    "$$V_r = \\frac{\\Delta S}{\\Delta t} \\rightarrow (V_{onibus} + V_{caminhao}) = \\frac{(comprimento\\_do\\_onibus + comprimento\\_do\\_caminhao)}{intervalo\\_de\\_tempo\\_de\\_duracao\\_da\\_ultrapassagem}$$"
   ]
  },
  {
   "cell_type": "markdown",
   "metadata": {},
   "source": [
    "***\n",
    "### Exercicios\n",
    "***"
   ]
  },
  {
   "cell_type": "markdown",
   "metadata": {},
   "source": [
    "**1)** A figura abaixo mostra o esquema simplificado de um dispositivo colocado em uma rua para controle de velocidade de automóveis (dispositivo popularmente chamado de “radar”.\n",
    "\n",
    "![image](https://user-images.githubusercontent.com/14116020/34076221-96e66c06-e2c6-11e7-95de-aef0e0a38f9c.png)\n",
    "\n",
    "Os sensores S(1) e S(2) e a câmera estão ligadas a um computador. Os sensores enviam um sinal ao computador sempre que são pressionados pela roda de um veículo. Se a velocidade do veículo está acima da permitida, o computador envia um sinal para que a câmera fotografe sua placa traseira no momento em que ela estiver sobre a linha tracejada. Para um certo veículo, os sinais dos sensores foram os seguintes:\n",
    "\n",
    "![image](https://user-images.githubusercontent.com/14116020/34076224-acf04396-e2c6-11e7-95c4-aada8f24b217.png)\n",
    "\n",
    "Com isso determine a velocidade do veículo em km/h ao passar pelo radar."
   ]
  },
  {
   "cell_type": "code",
   "execution_count": 1,
   "metadata": {},
   "outputs": [
    {
     "name": "stdout",
     "output_type": "stream",
     "text": [
      "A velocidade do veiculo foi de 72 km/h\n"
     ]
    }
   ],
   "source": [
    "# a) Determine a velocidade do veículo em km/h\n",
    "\n",
    "# Observe no gráfico que as rodas da frente demoram Δt = 0,1s para\n",
    "# pressionar os sensores S(1) e depois S(2)\n",
    "T = 0.1 # Segundos\n",
    "D = 2 # Metros\n",
    "\n",
    "V = D/T\n",
    "V = V * 3.6\n",
    "\n",
    "print(\"A velocidade do veiculo foi de %d km/h\" % V)"
   ]
  },
  {
   "cell_type": "markdown",
   "metadata": {},
   "source": [
    "***"
   ]
  },
  {
   "cell_type": "markdown",
   "metadata": {},
   "source": [
    "**2)** Uma motocicleta com velocidade escalar constante de 20 m/s, andando paralelamente à uma ferrovia, ultrapassa um trem de comprimento 100 m que “caminha”, no mesmo sentido, com velocidade escalar constante de 15 m/s. Desconsiderando o tamanho da moto, a duração da ultrapassagem é?"
   ]
  },
  {
   "cell_type": "code",
   "execution_count": 2,
   "metadata": {},
   "outputs": [
    {
     "name": "stdout",
     "output_type": "stream",
     "text": [
      "A ultrapassagem durou 20 segundos\n"
     ]
    }
   ],
   "source": [
    "velocidade_moto = 20 # m/s\n",
    "comprimento_trem = 100 # metros\n",
    "velocidade_trem = 15 # m/s\n",
    "\n",
    "velocidade_relativa = velocidade_moto - velocidade_trem\n",
    "tempo = comprimento_trem/velocidade_relativa\n",
    "\n",
    "print(\"A ultrapassagem durou %d segundos\" % tempo)"
   ]
  },
  {
   "cell_type": "markdown",
   "metadata": {},
   "source": [
    "***"
   ]
  },
  {
   "cell_type": "markdown",
   "metadata": {},
   "source": [
    "**3)** Dois caminhões deslocam-se com velocidade uniforme, em sentidos contrários, numa rodovia de mão dupla. A velocidade do primeiro caminhão e a do segundo, em relação à rodovia, são iguais a 40 km/h e 50 km/h, respectivamente. Um caroneiro, no primeiro caminhão, verificou que o segundo caminhão levou apenas 1,0 s para passar por ele. O comprimento do segundo caminhão e a velocidade dele em relação ao caroneiro mencionado são, respectivamente, iguais a ?"
   ]
  },
  {
   "cell_type": "code",
   "execution_count": 3,
   "metadata": {},
   "outputs": [
    {
     "name": "stdout",
     "output_type": "stream",
     "text": [
      "Velocidade em que o caroneiro vê o segundo caminhão passa por ele é de 25 m/s\n",
      "O comprimento do caminhão foi de 25 metros\n"
     ]
    }
   ],
   "source": [
    "# Como os caminhões deslocam-se em sentidos opostos,\n",
    "# o módulo da velocidade relativa entre eles é a soma de suas velocidades\n",
    "v_caminhao1 = 50 # km/h\n",
    "v_caminhao2 = 40 # km/h\n",
    "tempo = 1 # segundo\n",
    "\n",
    "v_relativa = (v_caminhao1 + v_caminhao2)/3.6\n",
    "print(\"Velocidade em que o caroneiro vê o segundo caminhão passa por ele é de %d m/s\" % v_relativa)\n",
    "\n",
    "comprimento = v_relativa * tempo\n",
    "print(\"O comprimento do caminhão foi de %d metros\" % comprimento)"
   ]
  }
 ],
 "metadata": {
  "kernelspec": {
   "display_name": "Python 3",
   "language": "python",
   "name": "python3"
  },
  "language_info": {
   "codemirror_mode": {
    "name": "ipython",
    "version": 3
   },
   "file_extension": ".py",
   "mimetype": "text/x-python",
   "name": "python",
   "nbconvert_exporter": "python",
   "pygments_lexer": "ipython3",
   "version": "3.5.2"
  }
 },
 "nbformat": 4,
 "nbformat_minor": 2
}
