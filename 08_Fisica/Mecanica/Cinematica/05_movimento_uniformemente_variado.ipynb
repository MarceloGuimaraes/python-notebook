{
 "cells": [
  {
   "cell_type": "markdown",
   "metadata": {},
   "source": [
    "## Movimento Uniformemente Variado (MUV)"
   ]
  },
  {
   "cell_type": "markdown",
   "metadata": {},
   "source": [
    "***\n",
    "### Conceitos Básicos\n",
    "***\n",
    "\n",
    "#### Aceleração Escalar:\n",
    "\n",
    "* A aceleração escalar média de um móvel significa de quanto sua velocidade varia na unidade de tempo.\n",
    "\n",
    "\n",
    "* Assim, se um móvel tem aceleração escalar média de $2m/s^2$ significa que sua velocidade varia de $2m/s$ em cada $1s$; de $8km/h^2$  significa que sua velocidade varia de $8km/h$ em cada $1h$, e assim por diante.\n",
    "\n",
    "#### Aceleração Instantânea\n",
    "\n",
    "* Enquanto a aceleração média é calculada em certo intervalo de tempo, a aceleração instantânea é calculada no instante (intervalo de tempo muito pequeno, tendendo a zero).\n",
    "\n",
    "#### Movimento Progressivo\n",
    "\n",
    "* **Velocidade** negativa\n",
    "\n",
    "\n",
    "* **Deslocamento** é no sentido dos marcos decrescentes\n",
    "\n",
    "#### Movimento Retrógrado\n",
    "\n",
    "* **Velocidade** negativa\n",
    "\n",
    "\n",
    "* **Deslocamento** é no sentido dos marcos decrescentes\n",
    "\n",
    "#### Movimento Acelerado\n",
    "\n",
    "* **Velocidade** e **aceleração** têm o mesmo sinal (ambas são positivas ou ambas são negativas).\n",
    "\n",
    "\n",
    "* **Módulo da velocidade** está aumentando.\n",
    "\n",
    "#### Movimento Retardado\n",
    "\n",
    "* **Velocidade** e **aceleração** têm sinais opostos (quando um é positivo o outro é negativo e vice-versa).\n",
    "\n",
    "\n",
    "* **Módulo da velocidade** está diminuindo."
   ]
  },
  {
   "cell_type": "markdown",
   "metadata": {},
   "source": [
    "***\n",
    "### Movimento Uniformemente Variado (MUV)\n",
    "***"
   ]
  },
  {
   "cell_type": "markdown",
   "metadata": {},
   "source": [
    "![img](https://user-images.githubusercontent.com/14116020/34075169-9a0a1aac-e2a5-11e7-918f-27fecdc92631.jpg)\n",
    "\n",
    "* Se o movimento é **acelerado** (acelerando), $a > 0$ e o gráfico $V \\times T$ é uma reta inclinada para cima.\n",
    "\n",
    "\n",
    "* Se o movimento é **retardado** (freando), $a < 0$ e o gráfico $V \\times T$ é uma reta inclinada para baixo.\n",
    "\n",
    "\n",
    "* Em todo MUV a aceleração é constante e seu gráfico é uma reta paralela ao eixo $T$(I) e entre dois instantes quaisquer $t_1$ e $t_2$, a variação de velocidade $\\Delta V$ é numericamente igual à área (II)\n",
    "\n",
    "![img](https://user-images.githubusercontent.com/14116020/34075186-ef70c5ea-e2a5-11e7-97d4-ab24b2d26e80.jpg)\n",
    "\n",
    "* Em todo gráfico $V \\times T$ a área entre a reta representativa e o eixo dos tempos é numericamente igual à variação de espaço $\\Delta S$, entre dois instantes quaisquer $t_1$ e $t_2$\n",
    "\n",
    "![img](https://user-images.githubusercontent.com/14116020/34075189-1257e4e4-e2a6-11e7-992f-ae2260695869.jpg)\n",
    "\n",
    "* **Análise do gráfico** $V \\times T$:\n",
    "\n",
    "![img](https://user-images.githubusercontent.com/14116020/34075198-2e194d26-e2a6-11e7-8799-928bd92025b4.jpg)\n",
    "\n",
    "O ângulo **a** que a reta representativa da velocidade forma com um eixo horizontal é tal que $tg_a = \\frac{\\Delta V}{\\Delta t}$ corresponde à aceleração do móvel:\n",
    "\n",
    "* $a = \\frac{\\Delta V}{\\Delta t}$ e é denominada coeficiente angular da reta ou declividade da reta. \n",
    "\n",
    "\n",
    "* Se $a$ é agudo, $f(t)$ é crescente e $a > 0$\n",
    "       \n",
    "      \n",
    "* Se $a$ é obtuso , $f(t)$ é decrescente e $a < 0$.\n",
    "\n",
    "![img](https://user-images.githubusercontent.com/14116020/34075207-8d2b3ab8-e2a6-11e7-87d4-5c629d5a9adc.jpg)"
   ]
  },
  {
   "cell_type": "markdown",
   "metadata": {},
   "source": [
    "***\n",
    "#### Função horária do espaço de um MUV e equação de Torricelli\n",
    "***"
   ]
  },
  {
   "cell_type": "markdown",
   "metadata": {},
   "source": [
    "![img](https://user-images.githubusercontent.com/14116020/34075230-5e01e538-e2a7-11e7-853f-c052fa44522c.jpg)\n",
    "\n",
    "![img](https://user-images.githubusercontent.com/14116020/34075235-6ce35dca-e2a7-11e7-8a7e-64e63db51297.jpg)\n",
    "\n",
    "![img](https://user-images.githubusercontent.com/14116020/34075237-7b8b6be2-e2a7-11e7-9aa5-46a87ae5205a.jpg)"
   ]
  },
  {
   "cell_type": "markdown",
   "metadata": {},
   "source": [
    "***\n",
    "#### Gráficos no movimento uniformemente variado (MUV)\n",
    "***\n",
    "\n",
    "Lembre-se que os gráficos não mostram as trajetórias dos móveis. Eles apenas representam as equações (funções) do movimento.\n",
    "\n",
    "![img](https://user-images.githubusercontent.com/14116020/34075241-b917bc5e-e2a7-11e7-87ad-18bc4a99873f.jpg)\n",
    "\n",
    "![img](https://user-images.githubusercontent.com/14116020/34075242-cf511ccc-e2a7-11e7-91c1-1eaaa9bba5b4.jpg)"
   ]
  },
  {
   "cell_type": "markdown",
   "metadata": {},
   "source": [
    "***\n",
    "### Exercicios\n",
    "***"
   ]
  },
  {
   "cell_type": "code",
   "execution_count": 1,
   "metadata": {
    "collapsed": true
   },
   "outputs": [],
   "source": [
    "from biblioteca.cinematica import Cinematica, MUV\n",
    "cinematica = Cinematica(Cinematica.MUV)"
   ]
  },
  {
   "cell_type": "markdown",
   "metadata": {},
   "source": [
    "***"
   ]
  },
  {
   "cell_type": "markdown",
   "metadata": {},
   "source": [
    "**1)** Caçador nato, o guepardo é uma espécie de mamífero que reforça a tese de que os animais predadores estão entre os bichos mais velozes da natureza. Afinal, a velocidade é essencial para os que caçam outras espécies em busca de alimentação. O guepardo é capaz de, saindo do repouso e correndo em linha reta, chegar à velocidade de 72km/h em apenas 2,0 segundos. Determine a aceleração escalar média deste mamífero."
   ]
  },
  {
   "cell_type": "code",
   "execution_count": 2,
   "metadata": {},
   "outputs": [
    {
     "name": "stdout",
     "output_type": "stream",
     "text": [
      "A aceleração deste mamífero foi de 10 m/s ou 36 km/h\n"
     ]
    }
   ],
   "source": [
    "velocidade = 72 # km/h\n",
    "velocidade = 72/3.6 # m/s\n",
    "tempo = 2 # segundos\n",
    "\n",
    "resultado = cinematica.calcular(\n",
    "    MUV.ACELERACAO,\n",
    "    DV=velocidade,\n",
    "    DT=tempo\n",
    ")\n",
    "\n",
    "print(\"A aceleração deste mamífero foi de %d m/s ou %d km/h\" % (resultado['a'], resultado['a']*3.6))"
   ]
  },
  {
   "cell_type": "markdown",
   "metadata": {},
   "source": [
    "***"
   ]
  },
  {
   "cell_type": "markdown",
   "metadata": {},
   "source": [
    "**2)** Considere o movimento de um caminhante em linha reta. Este caminhante percorre os 20,0 s iniciais à velocidade constante v1 = 2,0 m/s. Em seguida, ele percorre os próximos 8,0 s com aceleração constante a = 1 m/s2 (a velocidade inicial é 2,0 m/s). Calcule a velocidade final do caminhante."
   ]
  },
  {
   "cell_type": "code",
   "execution_count": 3,
   "metadata": {},
   "outputs": [
    {
     "name": "stdout",
     "output_type": "stream",
     "text": [
      "A velocidade final do caminhante foi de 10 m/s\n"
     ]
    }
   ],
   "source": [
    "velocidade_inicial = 2 # m/s\n",
    "tempo = 8 # segundos\n",
    "aceleracao = 1 # m/s^2\n",
    "\n",
    "resultado = cinematica.calcular(\n",
    "    MUV.VELOCIDADE,\n",
    "    Vo=velocidade_inicial,\n",
    "    t=tempo,\n",
    "    a=aceleracao\n",
    ")\n",
    "\n",
    "print(\"A velocidade final do caminhante foi de %d m/s\" % resultado['V'])"
   ]
  },
  {
   "cell_type": "markdown",
   "metadata": {},
   "source": [
    "***"
   ]
  },
  {
   "cell_type": "markdown",
   "metadata": {},
   "source": [
    "**3)** Um automóvel que trafega com velocidade constante de 10 m/s, em uma pista reta e horizontal, passa a acelerar uniformemente à razão de 60 m/s em cada minuto, mantendo essa aceleração durante meio minuto. A velocidade instantânea do automóvel, ao final desse intervalo de tempo, e sua velocidade média, no mesmo intervalo de tempo, são ?"
   ]
  },
  {
   "cell_type": "code",
   "execution_count": 4,
   "metadata": {},
   "outputs": [
    {
     "name": "stdout",
     "output_type": "stream",
     "text": [
      "A velocidade instantânea do automóvel ao final desse intervalo de tempo foi de 40 m/s\n",
      "A velocidade média do automóvel no mesmo instânte de tempo foi de 25 m/s\n"
     ]
    }
   ],
   "source": [
    "velocidade_inicial = 10 # m/s\n",
    "velocidade_a_cada_minuto = 60 # m/s\n",
    "minuto = 60 # segundos\n",
    "\n",
    "resultado = cinematica.calcular(\n",
    "    MUV.ACELERACAO,\n",
    "    DV=velocidade_a_cada_minuto,\n",
    "    DT=minuto\n",
    ")\n",
    "aceleracao = resultado['a']\n",
    "tempo = 30 # segundos\n",
    "\n",
    "resultado = cinematica.calcular(\n",
    "    MUV.VELOCIDADE,\n",
    "    Vo=velocidade_inicial,\n",
    "    a=aceleracao,\n",
    "    t=tempo\n",
    ")\n",
    "velocidade = resultado['V']\n",
    "print(\"A velocidade instantânea do automóvel ao final desse intervalo de tempo foi de %d m/s\" % velocidade)\n",
    "\n",
    "resultado = cinematica.calcular(\n",
    "    MUV.VELOCIDADE_MEDIA,\n",
    "    Vo=velocidade_inicial,\n",
    "    V=velocidade\n",
    ")\n",
    "print(\"A velocidade média do automóvel no mesmo instânte de tempo foi de %d m/s\" % resultado['Vm'])"
   ]
  },
  {
   "cell_type": "markdown",
   "metadata": {},
   "source": [
    "***"
   ]
  },
  {
   "cell_type": "markdown",
   "metadata": {},
   "source": [
    "**4)** Um avião vai decolar em uma pista retilínea. Ele inicia seu movimento na cabeceira da pista com velocidade nula e corre por ela com aceleração média de 2,0 $m/s^2$ até o instante em que levanta vôo, com uma velocidade de 80 m/s, antes de terminar a pista.\n",
    "\n",
    "**a)** Calcule quanto tempo o avião permanece na pista desde o início do movimento até o instante em que levanta vôo."
   ]
  },
  {
   "cell_type": "code",
   "execution_count": 5,
   "metadata": {},
   "outputs": [
    {
     "name": "stdout",
     "output_type": "stream",
     "text": [
      "O tempo que o avião permanece na pista até o instante em que levanta vôo é 40 segundos\n"
     ]
    }
   ],
   "source": [
    "velocidade_inicial = 0 # m/s\n",
    "aceleracao = 2 # m/s^2\n",
    "velocidade_final = 80 # m/s\n",
    "\n",
    "resultado = cinematica.calcular(\n",
    "    MUV.VELOCIDADE,\n",
    "    V=velocidade_final,\n",
    "    Vo=velocidade_inicial,\n",
    "    a=aceleracao\n",
    ")\n",
    "tempo = resultado['t']\n",
    "print(\"O tempo que o avião permanece na pista até o instante em que levanta vôo é %d segundos\" % tempo)"
   ]
  },
  {
   "cell_type": "markdown",
   "metadata": {},
   "source": [
    "**b)** Determine o menor comprimento possível dessa pista.\n",
    "\n",
    "Na situação em que a pista tem o comprimento mínimo (dm), o avião perde o contato com a pista exatamente em seu final"
   ]
  },
  {
   "cell_type": "code",
   "execution_count": 6,
   "metadata": {},
   "outputs": [
    {
     "name": "stdout",
     "output_type": "stream",
     "text": [
      "O menor comprimento possível da pista é de 1600 metros\n"
     ]
    }
   ],
   "source": [
    "resultado = cinematica.calcular(\n",
    "    MUV.TORRICELLI,\n",
    "    V=velocidade_final,\n",
    "    Vo=velocidade_inicial,\n",
    "    a=aceleracao,\n",
    ")\n",
    "\n",
    "print(\"O menor comprimento possível da pista é de %d metros\" % resultado['DS'])"
   ]
  },
  {
   "cell_type": "markdown",
   "metadata": {},
   "source": [
    "***"
   ]
  },
  {
   "cell_type": "markdown",
   "metadata": {},
   "source": [
    "**5)** Um veículo parte do repouso em movimento retilíneo e acelera com aceleração escalar constante e igual a 2,0 $m/s^2$. Quanto é sua velocidade escalar e a distância percorrida após 3,0 segundos ?"
   ]
  },
  {
   "cell_type": "code",
   "execution_count": 7,
   "metadata": {},
   "outputs": [
    {
     "name": "stdout",
     "output_type": "stream",
     "text": [
      "O veículo percorreu 9 metros com uma velocidade de 6 m/s\n"
     ]
    }
   ],
   "source": [
    "aceleracao = 2 # m/s^2\n",
    "tempo = 3 # segundos\n",
    "velocidade_inicial = 0 # m/s (repouso)\n",
    "posicao_inicial = 0 # m (repouso)\n",
    "\n",
    "resultado = cinematica.calcular(\n",
    "    MUV.VELOCIDADE,\n",
    "    Vo=velocidade_inicial,\n",
    "    a=aceleracao,\n",
    "    t=tempo\n",
    ")\n",
    "velocidade = resultado['V']\n",
    "\n",
    "resultado = cinematica.calcular(\n",
    "    MUV.POSICAO,\n",
    "    V=velocidade,\n",
    "    So=posicao_inicial,\n",
    "    Vo=velocidade_inicial,\n",
    "    t=tempo,\n",
    "    a=aceleracao\n",
    ")\n",
    "distancia_percorrida = resultado['S']\n",
    "\n",
    "print(\"O veículo percorreu %d metros com uma velocidade de %d m/s\" %(distancia_percorrida, velocidade))"
   ]
  }
 ],
 "metadata": {
  "kernelspec": {
   "display_name": "Python 3",
   "language": "python",
   "name": "python3"
  },
  "language_info": {
   "codemirror_mode": {
    "name": "ipython",
    "version": 3
   },
   "file_extension": ".py",
   "mimetype": "text/x-python",
   "name": "python",
   "nbconvert_exporter": "python",
   "pygments_lexer": "ipython3",
   "version": "3.5.2"
  }
 },
 "nbformat": 4,
 "nbformat_minor": 2
}
