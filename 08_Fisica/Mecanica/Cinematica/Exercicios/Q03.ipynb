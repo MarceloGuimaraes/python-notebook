{
 "cells": [
  {
   "cell_type": "markdown",
   "metadata": {},
   "source": [
    "## Questão 03 (Unisinos-RS)\n",
    "***"
   ]
  },
  {
   "cell_type": "markdown",
   "metadata": {},
   "source": [
    "Numa pista atlética retangular de lados a = 160 m e b = 60 m, um atleta corre com velocidade de módulo constante v = 5 m/s, no sentido horário, conforme mostrado na figura. Em t = 0 s, o atleta encontra-se no ponto A.\n",
    "O módulo do deslocamento do atleta, após 60 s de corrida, em metros, é:\n",
    "\n",
    "![img](https://user-images.githubusercontent.com/14116020/34281664-472e322c-e6a7-11e7-859b-3c128148ae4e.png)"
   ]
  },
  {
   "cell_type": "markdown",
   "metadata": {},
   "source": [
    "***\n",
    "#### Resposta\n",
    "***"
   ]
  },
  {
   "cell_type": "markdown",
   "metadata": {},
   "source": [
    "![img1](https://user-images.githubusercontent.com/14116020/34281898-eb7b562e-e6a8-11e7-8e50-105cef54b6f7.png)\n",
    "![img2](https://user-images.githubusercontent.com/14116020/34281900-eb9ed0ea-e6a8-11e7-9b29-708f1ec274ee.png)"
   ]
  },
  {
   "cell_type": "markdown",
   "metadata": {},
   "source": [
    "***\n",
    "#### Codigo\n",
    "***"
   ]
  },
  {
   "cell_type": "code",
   "execution_count": 1,
   "metadata": {},
   "outputs": [],
   "source": [
    "from biblioteca.fisica.basico import Basico\n",
    "from biblioteca.cinematica import Cinematica\n",
    "\n",
    "cinematica = Cinematica(Cinematica.BASICO)"
   ]
  },
  {
   "cell_type": "code",
   "execution_count": 2,
   "metadata": {
    "scrolled": true
   },
   "outputs": [
    {
     "name": "stdout",
     "output_type": "stream",
     "text": [
      "Após 60 segundos o atleta terá percorrido 300 m\n"
     ]
    }
   ],
   "source": [
    "# Descobrir o deslocamento após 60 segundos\n",
    "velocidade = 5 # m/s\n",
    "tempo = 60 # segundos\n",
    "\n",
    "deslocamento = cinematica.calcular(\n",
    "    Basico.DESLOCAMENTO_ESCALAR,\n",
    "    Vm=velocidade,\n",
    "    DT=tempo\n",
    ")\n",
    "\n",
    "print(\"Após %d segundos o atleta terá percorrido %d m\" % (tempo, deslocamento))"
   ]
  }
 ],
 "metadata": {
  "kernelspec": {
   "display_name": "Python 3",
   "language": "python",
   "name": "python3"
  },
  "language_info": {
   "codemirror_mode": {
    "name": "ipython",
    "version": 3
   },
   "file_extension": ".py",
   "mimetype": "text/x-python",
   "name": "python",
   "nbconvert_exporter": "python",
   "pygments_lexer": "ipython3",
   "version": "3.5.2"
  }
 },
 "nbformat": 4,
 "nbformat_minor": 2
}
