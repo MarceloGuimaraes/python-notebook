{
 "cells": [
  {
   "cell_type": "markdown",
   "metadata": {},
   "source": [
    "# Extrai Métodos\n",
    "***"
   ]
  },
  {
   "cell_type": "markdown",
   "metadata": {},
   "source": [
    "#### Situação\n",
    "\n",
    "* Você tem um fragmento de código que pode ser agrupado em um método.\n",
    "\n",
    "#### Motivação\n",
    "\n",
    "* Esta é uma refatoração amplamente aplicada.\n",
    "\n",
    "\n",
    "* Métodos que são longos demais ou necessitam de comentários para explicar, são sujeitos a essa refatoração.\n",
    "\n",
    "\n",
    "* Transformar um fragmento de um método em outro método pode aumentar a chance de reutilização daquele método e aumentar o nível de entendimento do código, à medida em que a nomenclatura se torna adequada.\n",
    "\n",
    "#### Oportunidades de refatoração\n",
    "\n",
    "* **Código duplicado**: Se o mesmo trecho de código aparecer em vários pontos do projeto, saiba que sua solução será melhor se você conseguir unificá-los.\n",
    "\n",
    "\n",
    "* **Método longo**: Quanto maior for o método, mais difícil é de entendê-lo. Vários métodos curtos (e a delegação entre eles) é preferível.\n",
    "\n",
    "\n",
    "* **Inveja de recurso**: Quando métodos de uma classe estão mais interessados nos recursos de outras classes (geralmente atributos). Utilização excessiva de métodos get de uma classe é indício de inveja de recursos.\n",
    "\n",
    "\n",
    "* **Instruções switch**: Em OO é comum ver a mesma instrução switch ... case em diversos pontos do projeto (duplicação de código). Solução mais elegante para este comando é o uso de polimorfismo.\n",
    "\n",
    "\n",
    "* **Cadeias de mensagens**: Ocorre quando um objeto chama outro, que chama outro, que chama outro e assim sucessivamente. Extrair o trecho de código que é utilizado pelo cliente e movê-lo para pontos iniciais da cadeia.\n",
    "\n",
    "#### Mecânica\n",
    "\n",
    "* 1) Criar um novo método e nomeá-lo com a intenção do método (nomeie-o pelo que ele faz, e não como ele faz).\n",
    "\n",
    "\n",
    "* 2) Copie o código extraído do método de origem para o novo método.\n",
    "\n",
    "\n",
    "* 3) Procure no método extraído por referências para variáveis locais no escopo do método de origem. Elas serão variáveis locais e parâmetros para o método.\n",
    "\n",
    "\n",
    "* 4) Verifique se as variáveis temporárias são usadas apenas dentro do código extraído. Se sim, declare-as no novo método como variáveis temporárias.\n",
    "\n",
    "\n",
    "* 5) Procure no código extraído variáveis locais que são modificadas no código. Se uma variável local é modificada, verifique se você pode tratar o código como uma query e atribuir o resultado à variável em questão. Se isto for estranho ou há mais de uma utilização da variável temporária, você não poderá extrair o método como ele está. Deve-se usar refatoração, **dividir variável temporária**.\n",
    "\n",
    "\n",
    "* 6) Passe para o método-alvo como parâmetros, variáveis de escopo local que são lidas do código extraído.\n",
    "\n",
    "\n",
    "* 7) Compile quando você tratou todas as variáveis de escopo local.\n",
    "\n",
    "\n",
    "* 8) Substitua o código extraído no método fonte por uma chamada ao método alvo. Se você moveu quaisquer variáveis temporárias para o método novo, verifique se elas foram declaradas fora do método novo. Se sim, você pode remover a declaração.\n",
    "\n",
    "\n",
    "* 9) Compile e teste."
   ]
  },
  {
   "cell_type": "markdown",
   "metadata": {},
   "source": [
    "***\n",
    "### Exemplo: Sem variáveis locais\n",
    "***"
   ]
  },
  {
   "cell_type": "markdown",
   "metadata": {},
   "source": [
    "Antes da refatoração:"
   ]
  },
  {
   "cell_type": "code",
   "execution_count": 1,
   "metadata": {
    "collapsed": true
   },
   "outputs": [],
   "source": [
    "def main():\n",
    "    \n",
    "    name = \"Falano de tal\"\n",
    "    gradeA = 10\n",
    "    gradeB = 5.0\n",
    "    \n",
    "    # print Banner\n",
    "    print(\"**********************\")\n",
    "    print(\"*** Students grade ***\")\n",
    "    print(\"**********************\")\n",
    "    \n",
    "    # calculate average\n",
    "    average = (gradeA + gradeB)/2\n",
    "    \n",
    "    # print result\n",
    "    print(\"Name:\", name)\n",
    "    print(\"Average:\", average)"
   ]
  },
  {
   "cell_type": "markdown",
   "metadata": {},
   "source": [
    "Depois da refatoração"
   ]
  },
  {
   "cell_type": "code",
   "execution_count": 2,
   "metadata": {
    "collapsed": true
   },
   "outputs": [],
   "source": [
    "def main():\n",
    "    \"\"\"\n",
    "    Calculate the average.\n",
    "    \"\"\"\n",
    "    \n",
    "    name = \"Falano de tal\"\n",
    "    gradeA = 10\n",
    "    gradeB = 5.0\n",
    "    \n",
    "    printBanner()\n",
    "    \n",
    "    # calculate average\n",
    "    average = (gradeA + gradeB)/2\n",
    "    \n",
    "    # print result\n",
    "    print(\"Name:\", name)\n",
    "    print(\"Average:\", average)\n",
    "    \n",
    "def printBanner():\n",
    "    \"\"\"\n",
    "    Print the banner.\n",
    "    \"\"\"\n",
    "    \n",
    "    print(\"**********************\")\n",
    "    print(\"*** Students grade ***\")\n",
    "    print(\"**********************\")"
   ]
  },
  {
   "cell_type": "markdown",
   "metadata": {},
   "source": [
    "Resultado"
   ]
  },
  {
   "cell_type": "code",
   "execution_count": 3,
   "metadata": {},
   "outputs": [
    {
     "name": "stdout",
     "output_type": "stream",
     "text": [
      "**********************\n",
      "*** Students grade ***\n",
      "**********************\n",
      "Name: Falano de tal\n",
      "Average: 7.5\n"
     ]
    }
   ],
   "source": [
    "main()"
   ]
  },
  {
   "cell_type": "markdown",
   "metadata": {},
   "source": [
    "***\n",
    "### Exemplo: Usando variáveis locais\n",
    "***"
   ]
  },
  {
   "cell_type": "markdown",
   "metadata": {},
   "source": [
    "Parâmetros passados para o método e variáveis temporárias são problemáticas nessa refatoração.\n",
    "\n",
    "Caso mais fácil, quando uma variável é apenas lida no método. Solução: passe-a como parâmetro.\n",
    "\n",
    "Extração do método de impressão de detalhes, com um parâmetro"
   ]
  },
  {
   "cell_type": "code",
   "execution_count": 4,
   "metadata": {
    "collapsed": true
   },
   "outputs": [],
   "source": [
    "def main():\n",
    "    \"\"\"\n",
    "    Calculate the average.\n",
    "    \"\"\"\n",
    "    \n",
    "    gradeA = 10\n",
    "    gradeB = 5.0\n",
    "    \n",
    "    printBanner()\n",
    "    \n",
    "    # calculate average\n",
    "    average = (gradeA + gradeB)/2\n",
    "    \n",
    "    printDetails(average)\n",
    "    \n",
    "def printBanner():\n",
    "    \"\"\"\n",
    "    Print the banner.\n",
    "    \"\"\"\n",
    "    \n",
    "    print(\"**********************\")\n",
    "    print(\"*** Students grade ***\")\n",
    "    print(\"**********************\")\n",
    "    \n",
    "def printDetails(average):\n",
    "    \"\"\"\n",
    "    Print the average result.\n",
    "    \"\"\"\n",
    "    \n",
    "    name = \"Falano de tal\"\n",
    "\n",
    "    print(\"Name:\", name)\n",
    "    print(\"Average:\", average)\n"
   ]
  },
  {
   "cell_type": "markdown",
   "metadata": {},
   "source": [
    "Resultado"
   ]
  },
  {
   "cell_type": "code",
   "execution_count": 5,
   "metadata": {},
   "outputs": [
    {
     "name": "stdout",
     "output_type": "stream",
     "text": [
      "**********************\n",
      "*** Students grade ***\n",
      "**********************\n",
      "Name: Falano de tal\n",
      "Average: 7.5\n"
     ]
    }
   ],
   "source": [
    "main()"
   ]
  },
  {
   "cell_type": "markdown",
   "metadata": {},
   "source": [
    "***\n",
    "### Exemplo: Atribuindo valor a uma variável local.\n",
    "***"
   ]
  },
  {
   "cell_type": "markdown",
   "metadata": {},
   "source": [
    "Atribuição de valores a variáveis locais é problemático.\n",
    "\n",
    "Se estiver atribuindo valor a um parâmetro do método, utilize a refatoração **Remover atribuições a parâmetros**.\n",
    "\n",
    "* Se a variável temporária é utilizada apenas no código extraído, mova-a para o código extraído.\n",
    "\n",
    "\n",
    "* Se a variável temporária é utilizada depois do código extraído (e fora dele), o método extraído deve retornar o valor alterado para aquela variável.\n",
    "\n",
    "**name** é usada apenas dentro da iteração, portanto pode ser levado para dentro do método extraído.\n",
    "\n",
    "**average** é utilizada depois de ser calculada, portanto o método deve retornar seu valor alterado."
   ]
  },
  {
   "cell_type": "code",
   "execution_count": 6,
   "metadata": {
    "collapsed": true
   },
   "outputs": [],
   "source": [
    "def main():\n",
    "    \"\"\"\n",
    "    Calculate the average.\n",
    "    \"\"\"\n",
    "    \n",
    "    printBanner()\n",
    "    \n",
    "    average = get_average()\n",
    "    \n",
    "    printDetails(average)\n",
    "    \n",
    "def printBanner():\n",
    "    \"\"\"\n",
    "    Print the banner.\n",
    "    \"\"\"\n",
    "    \n",
    "    print(\"**********************\")\n",
    "    print(\"*** Students grade ***\")\n",
    "    print(\"**********************\")\n",
    "    \n",
    "def printDetails(average):\n",
    "    \"\"\"\n",
    "    Print the average result.\n",
    "    \"\"\"\n",
    "    \n",
    "    name = \"Falano de tal\"\n",
    "\n",
    "    print(\"Name:\", name)\n",
    "    print(\"Average:\", average)\n",
    "    \n",
    "def get_average():\n",
    "    \"\"\"\n",
    "    Get the average result\n",
    "    \"\"\"\n",
    "    gradeA = 10\n",
    "    gradeB = 5.0\n",
    "    \n",
    "    # calculate average\n",
    "    average = (gradeA + gradeB)/2\n",
    "    \n",
    "    return average"
   ]
  },
  {
   "cell_type": "markdown",
   "metadata": {},
   "source": [
    "Resultado final"
   ]
  },
  {
   "cell_type": "code",
   "execution_count": 7,
   "metadata": {},
   "outputs": [
    {
     "name": "stdout",
     "output_type": "stream",
     "text": [
      "**********************\n",
      "*** Students grade ***\n",
      "**********************\n",
      "Name: Falano de tal\n",
      "Average: 7.5\n"
     ]
    }
   ],
   "source": [
    "main()"
   ]
  }
 ],
 "metadata": {
  "kernelspec": {
   "display_name": "Python 3",
   "language": "python",
   "name": "python3"
  },
  "language_info": {
   "codemirror_mode": {
    "name": "ipython",
    "version": 3
   },
   "file_extension": ".py",
   "mimetype": "text/x-python",
   "name": "python",
   "nbconvert_exporter": "python",
   "pygments_lexer": "ipython3",
   "version": "3.5.2"
  }
 },
 "nbformat": 4,
 "nbformat_minor": 2
}
