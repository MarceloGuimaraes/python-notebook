{
 "cells": [
  {
   "cell_type": "markdown",
   "metadata": {},
   "source": [
    "# Substituir variável temporária por consulta (query)\n",
    "***"
   ]
  },
  {
   "cell_type": "markdown",
   "metadata": {},
   "source": [
    "#### Situação\n",
    "\n",
    "* Quando se utiliza uma variável temporária para armazenar o resultado de uma expressão.\n",
    "\n",
    "#### Motivação\n",
    "\n",
    "* O problema com variáveis temporárias é que elas são locais, só podem ser vistas dentro do contexto do método no qual são utilizadas.\n",
    "\n",
    "\n",
    "* Trocar a variável temporária por um método de consulta permite que qualquer método da classe obtenha a informação, o que auxilia a obter um código mais limpo para a classe.\n",
    "\n",
    "\n",
    "* Substituir uma variável temporária geralmente é fundamental antes de aplicar Extrair Método.\n",
    "\n",
    "\n",
    "* Variáveis locais tornam a extração difícil, portanto troque quantas variáveis forem necessárias por consultas.\n",
    "\n",
    "#### Oportunidades de refatoramento\n",
    "\n",
    "* **Método longo**: Quanto maior for o método, mais difícil é de entendê-lo. Vários métodos curtos (e a delegação entre eles) é preferível. Sempre que ao usar extrair método, o novo método apresentar muitos parâmetros na assinatura ou variáveis temporárias.\n",
    "\n",
    "#### Mecânica\n",
    "\n",
    "* 1) Procure por uma variável temporária que recebe valor uma única vez. Se a variável temporária receber valores mais de uma vez, considere a operação de refatoração **Dividir Variável Temporária**.\n",
    "\n",
    "\n",
    "* 2) Declare a variável temporária como constante. Isso vai garantir que a variável temporária recebe valor apenas uma vez.\n",
    "\n",
    "\n",
    "* 3) Compile.\n",
    "\n",
    "\n",
    "* 4) Extraia a expressão de atribuição para um método. Inicialmente defina o método como privado. Se necessário, posteriormente flexibilize o nível de acesso.\n",
    "\n",
    "\n",
    "* 5) Certifique-se que método extraído está livre de efeitos colaterais, ou seja, não modifica nenhum outro objeto. Se ele não está livre de efeitos colaterais, use **Separar Consulta de Modificador**.\n",
    "\n",
    "\n",
    "* 6) Compile e teste.\n",
    "\n",
    "\n",
    "* 7) Aplique **Introduzir Temporário** na variável temporária."
   ]
  },
  {
   "cell_type": "markdown",
   "metadata": {},
   "source": [
    "***\n",
    "### Exemplos\n",
    "***"
   ]
  },
  {
   "cell_type": "markdown",
   "metadata": {},
   "source": [
    "Aplicando refatoração em dois temporários, uma de cada vez."
   ]
  },
  {
   "cell_type": "code",
   "execution_count": 1,
   "metadata": {
    "collapsed": true
   },
   "outputs": [],
   "source": [
    "def get_price():\n",
    "    base_price = quantity * item_price\n",
    "    \n",
    "    if base_price > 1000:\n",
    "        discont_factor = 0.95\n",
    "    else:\n",
    "        discont_factor = 0.98\n",
    "        \n",
    "    return base_price * discont_factor"
   ]
  },
  {
   "cell_type": "markdown",
   "metadata": {},
   "source": [
    "Adicionando o modificador final às variáveis temporárias e compilando para certificar que não há outro lugar que escreva nessas variáveis.\n",
    "\n",
    "Não havendo problemas, extraia a expressão de atribuição para um método (uma variável por vez). Substitui-se então a utilização da variável temporária pela consulta.\n",
    "\n",
    "Aplicando a mesma refatoração na outra variável temporária. Substituindo a temporária por uma consulta leva-nos a eliminar a variável temporária no método getPrice():"
   ]
  },
  {
   "cell_type": "code",
   "execution_count": 2,
   "metadata": {},
   "outputs": [],
   "source": [
    "def get_price():\n",
    "    return base_price() * discont_factor()\n",
    "\n",
    "def base_price():\n",
    "    quantity = 4\n",
    "    item_price = 5.0\n",
    "    \n",
    "    return quantity * item_price\n",
    "\n",
    "def discont_factor():\n",
    "    if base_price() > 1000:\n",
    "        return 0.95\n",
    "    \n",
    "    return 0.98"
   ]
  },
  {
   "cell_type": "markdown",
   "metadata": {},
   "source": [
    "Resultado"
   ]
  },
  {
   "cell_type": "code",
   "execution_count": 3,
   "metadata": {},
   "outputs": [
    {
     "name": "stdout",
     "output_type": "stream",
     "text": [
      "19.6\n"
     ]
    }
   ],
   "source": [
    "print(get_price())"
   ]
  }
 ],
 "metadata": {
  "kernelspec": {
   "display_name": "Python 3",
   "language": "python",
   "name": "python3"
  },
  "language_info": {
   "codemirror_mode": {
    "name": "ipython",
    "version": 3
   },
   "file_extension": ".py",
   "mimetype": "text/x-python",
   "name": "python",
   "nbconvert_exporter": "python",
   "pygments_lexer": "ipython3",
   "version": "3.5.2"
  }
 },
 "nbformat": 4,
 "nbformat_minor": 2
}
