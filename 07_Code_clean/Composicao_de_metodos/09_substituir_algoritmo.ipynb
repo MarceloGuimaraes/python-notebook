{
 "cells": [
  {
   "cell_type": "markdown",
   "metadata": {},
   "source": [
    "# Substituir algoritmo\n",
    "***"
   ]
  },
  {
   "cell_type": "markdown",
   "metadata": {},
   "source": [
    "#### Situação\n",
    "\n",
    "* Você quer substituir um algoritmo por um que seja mais claro.\n",
    "\n",
    "#### Motivação\n",
    "\n",
    "* Se você descobrir um jeito mais fácil de fazer algo, você deve substituir o jeito complicado pelo jeito mais fácil. Isso geralmente ocorre quando:\n",
    "\n",
    "  - À medida que você aprende mais sobre o problema e descobre que existe um jeito mais fácil de realizá-lo,\n",
    "       \n",
    "  - Quando você utiliza bibliotecas que provê características que duplicam o seu código.\n",
    "  \n",
    "  \n",
    "* Essa refatoração deve ser realizada com método de granularidade mais fina (bem decompostos). Substituir um método grande, com algoritmo complexo é muito mais difícil.\n",
    "\n",
    "#### Mecânica\n",
    "\n",
    "* 1) Prepare seu algoritmo alternativo e faça-o compilar.\n",
    "\n",
    "\n",
    "* 2) Execute seu novo algoritmo com seus testes. Se os resultados são os mesmos, a refatoração está pronta.\n",
    "\n",
    "\n",
    "* 3) Se os resultados não são os mesmos, use o algoritmo velho para comparação de teste e debugging.\n",
    "\n",
    "\n",
    "* 4) Execute cada caso de teste com o velho e o novo algoritmo e verifique o resultado de ambos. Isto vai ajudá-lo a ver quais casos de teste estão causando problemas e como."
   ]
  },
  {
   "cell_type": "markdown",
   "metadata": {},
   "source": [
    "***\n",
    "### Exemplos\n",
    "***"
   ]
  },
  {
   "cell_type": "markdown",
   "metadata": {},
   "source": [
    "Substitua o corpo do método pelo novo algoritmo."
   ]
  },
  {
   "cell_type": "code",
   "execution_count": 1,
   "metadata": {},
   "outputs": [],
   "source": [
    "def found_person(*people):\n",
    "    for person in people:\n",
    "        if person == \"Don\":\n",
    "            print(\"Don\")\n",
    "        if person == \"John\":\n",
    "            print(\"John\")\n",
    "        if person == \"Kent\":\n",
    "            print(\"Kent\")"
   ]
  },
  {
   "cell_type": "code",
   "execution_count": 2,
   "metadata": {},
   "outputs": [
    {
     "name": "stdout",
     "output_type": "stream",
     "text": [
      "Don\n",
      "Kent\n"
     ]
    }
   ],
   "source": [
    "found_person(\"Maria\", \"Don\", \"Mario\", \"Kent\")"
   ]
  },
  {
   "cell_type": "markdown",
   "metadata": {},
   "source": [
    "***\n",
    "Resultado\n",
    "***"
   ]
  },
  {
   "cell_type": "code",
   "execution_count": 3,
   "metadata": {
    "collapsed": true
   },
   "outputs": [],
   "source": [
    "def found_person(*people):\n",
    "    candidates = [\"Don\", \"John\", \"Kent\"]\n",
    "    \n",
    "    for person in people:\n",
    "        if person in candidates:\n",
    "            print(person)"
   ]
  },
  {
   "cell_type": "code",
   "execution_count": 4,
   "metadata": {},
   "outputs": [
    {
     "name": "stdout",
     "output_type": "stream",
     "text": [
      "Don\n",
      "Kent\n"
     ]
    }
   ],
   "source": [
    "found_person(\"Maria\", \"Don\", \"Mario\", \"Kent\")"
   ]
  }
 ],
 "metadata": {
  "kernelspec": {
   "display_name": "Python 3",
   "language": "python",
   "name": "python3"
  },
  "language_info": {
   "codemirror_mode": {
    "name": "ipython",
    "version": 3
   },
   "file_extension": ".py",
   "mimetype": "text/x-python",
   "name": "python",
   "nbconvert_exporter": "python",
   "pygments_lexer": "ipython3",
   "version": "3.5.2"
  }
 },
 "nbformat": 4,
 "nbformat_minor": 2
}
