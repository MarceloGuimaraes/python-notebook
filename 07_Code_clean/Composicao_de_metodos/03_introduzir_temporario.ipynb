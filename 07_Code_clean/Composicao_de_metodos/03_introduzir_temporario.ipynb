{
 "cells": [
  {
   "cell_type": "markdown",
   "metadata": {},
   "source": [
    "# Introduzir Temporario\n",
    "***"
   ]
  },
  {
   "cell_type": "markdown",
   "metadata": {},
   "source": [
    "#### Situação\n",
    "\n",
    "* Quando uma variável temporária recebe um valor uma única vez com uma expressão, e a variável temporária atrapalha outras operações de refatoração.\n",
    "\n",
    "#### Motivação\n",
    "\n",
    "* Deve ser utilizado como parte da refatoração **Trocar temporário por Query**.\n",
    "\n",
    "\n",
    "* Deve ser utilizado também em situações em que uma variável temporária recebe o valor de retorno de uma chamada de método.\n",
    "\n",
    "\n",
    "* Sempre que a variável temporária estiver atrapalhando outras operações de refatoração, tal como **Introduzir método**.\n",
    "\n",
    "#### Mecânica\n",
    "\n",
    "* 1) Declare a variável temporária como constante (se ela já não for) e compile. Isto verifica se um valor é atribuído a variável temporária apenas uma vez.\n",
    "\n",
    "\n",
    "* 2) Procure todas referências para a variável temporária e substitua-as pela expressão de atribuição.\n",
    "\n",
    "\n",
    "* 3) Compile e teste depois de cada mudança.\n",
    "\n",
    "\n",
    "* 4)Remova a declaração e atribuição da variável temporária.\n",
    "\n",
    "\n",
    "* 5) Compile e teste."
   ]
  },
  {
   "cell_type": "markdown",
   "metadata": {},
   "source": [
    "***\n",
    "#### Exemplos\n",
    "***"
   ]
  },
  {
   "cell_type": "markdown",
   "metadata": {},
   "source": [
    "Trocar todas referências para aquela variável temporária pela expressão.\n",
    "\n",
    "Antes da refatoração\n",
    "***"
   ]
  },
  {
   "cell_type": "code",
   "execution_count": 1,
   "metadata": {},
   "outputs": [
    {
     "name": "stdout",
     "output_type": "stream",
     "text": [
      "Acerto mizeravii!\n"
     ]
    }
   ],
   "source": [
    "temporaria = (10 < 20)\n",
    "if temporaria:\n",
    "    print(\"Acerto mizeravii!\")"
   ]
  },
  {
   "cell_type": "markdown",
   "metadata": {},
   "source": [
    "***\n",
    "Depois da refatoração"
   ]
  },
  {
   "cell_type": "code",
   "execution_count": 2,
   "metadata": {},
   "outputs": [
    {
     "name": "stdout",
     "output_type": "stream",
     "text": [
      "Acerto mizeravii!\n"
     ]
    }
   ],
   "source": [
    "if 10 < 20:\n",
    "    print(\"Acerto mizeravii!\")"
   ]
  }
 ],
 "metadata": {
  "kernelspec": {
   "display_name": "Python 3",
   "language": "python",
   "name": "python3"
  },
  "language_info": {
   "codemirror_mode": {
    "name": "ipython",
    "version": 3
   },
   "file_extension": ".py",
   "mimetype": "text/x-python",
   "name": "python",
   "nbconvert_exporter": "python",
   "pygments_lexer": "ipython3",
   "version": "3.5.2"
  }
 },
 "nbformat": 4,
 "nbformat_minor": 2
}
