{
 "cells": [
  {
   "cell_type": "markdown",
   "metadata": {},
   "source": [
    "# Dividir Variável Temporária\n",
    "***"
   ]
  },
  {
   "cell_type": "markdown",
   "metadata": {},
   "source": [
    "#### Situação\n",
    "\n",
    "* Você possui uma variável temporária que recebe valor mais de uma vez mas não é um loop ou uma variável acumulativa (somatório, produtório, contador, etc...).\n",
    "\n",
    "#### Motivação\n",
    "\n",
    "* Temporários são usados para armazenar o resultado de um pedaço de código para uso posterior.\n",
    "\n",
    "\n",
    "* Esse tipo de variável deve ter seu valor alterado apenas uma vez.\n",
    "\n",
    "\n",
    "* Se a variável receber valor mais de uma vez é um sinal de que ela possui mais de uma responsabilidade dentro do método e deve ser então substituída por uma variável temporária para cada responsabilidade.\n",
    "\n",
    "\n",
    "* Usar uma variável temporária para mais de uma responsabilidade diferente é muito confuso.\n",
    "\n",
    "#### Mecânica\n",
    "\n",
    "* 1) Mude o nome de uma temporária em sua declaração e em sua primeira atribuição.\n",
    "\n",
    "\n",
    "* 2) Se as atribuições posteriores forem da forma **i = i + some expression**, é sinal que é uma variável acumuladora e por isso não deve ser dividida. O operador para uma temporária acumuladora usualmente é adição, concatenação de string, escrevendo em um arquivo ou adicionando algo para uma coleção.\n",
    "\n",
    "\n",
    "* 3) Declare a nova temporária com o modificador constante (final em java).\n",
    "\n",
    "\n",
    "* 4) Mude todas as referências para a temporária à partir da segunda atribuição.\n",
    "\n",
    "\n",
    "* 5) Declare a temporária em sua segunda atribuição.\n",
    "\n",
    "\n",
    "* 6) Compile e teste.\n",
    "\n",
    "\n",
    "* 7) Repita em passos, em que cada passo deve-se renomear a declaração e mudar as referências até a próxima atribuição."
   ]
  },
  {
   "cell_type": "markdown",
   "metadata": {},
   "source": [
    "***\n",
    "### Exemplos\n",
    "***"
   ]
  },
  {
   "cell_type": "markdown",
   "metadata": {},
   "source": [
    "Esse exemplo é bem tosco mas é só pra exemplificar o problema e a solução, vemos que estamos usando a variável temporaria para duas responsabilidades distintas"
   ]
  },
  {
   "cell_type": "code",
   "execution_count": 1,
   "metadata": {
    "collapsed": true
   },
   "outputs": [],
   "source": [
    "def teste():\n",
    "    temporaria = 1\n",
    "    \n",
    "    variavel_qualquer01 = temporaria + 10\n",
    "    \n",
    "    temporaria = 30\n",
    "    \n",
    "    variavel_qualquer02 = temporaria - 10\n",
    "    \n",
    "    print(variavel_qualquer01)\n",
    "    print(variavel_qualquer02)"
   ]
  },
  {
   "cell_type": "markdown",
   "metadata": {},
   "source": [
    "Vamos ver a refatoração"
   ]
  },
  {
   "cell_type": "code",
   "execution_count": 2,
   "metadata": {
    "collapsed": true
   },
   "outputs": [],
   "source": [
    "def teste():\n",
    "    temporaria01 = 1\n",
    "    \n",
    "    variavel_qualquer01 = temporaria01 + 10\n",
    "    \n",
    "    temporaria02 = 30\n",
    "    \n",
    "    variavel_qualquer02 = temporaria02 - 10\n",
    "    \n",
    "    print(variavel_qualquer01)\n",
    "    print(variavel_qualquer02)"
   ]
  }
 ],
 "metadata": {
  "kernelspec": {
   "display_name": "Python 3",
   "language": "python",
   "name": "python3"
  },
  "language_info": {
   "codemirror_mode": {
    "name": "ipython",
    "version": 3
   },
   "file_extension": ".py",
   "mimetype": "text/x-python",
   "name": "python",
   "nbconvert_exporter": "python",
   "pygments_lexer": "ipython3",
   "version": "3.5.2"
  }
 },
 "nbformat": 4,
 "nbformat_minor": 2
}
