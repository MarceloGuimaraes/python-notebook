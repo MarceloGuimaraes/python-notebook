{
 "cells": [
  {
   "cell_type": "markdown",
   "metadata": {},
   "source": [
    "# Substituir método por objeto método\n",
    "***"
   ]
  },
  {
   "cell_type": "markdown",
   "metadata": {},
   "source": [
    "#### Situação\n",
    "\n",
    "* Você possui um método longo que usa variáveis locais que não te permitem aplicar **Extrair Método**.\n",
    "\n",
    "#### Motivação\n",
    "\n",
    "* Extrair pedaços de um método longo torna as coisas muito mais compreensíveis. A dificuldade em decompor métodos está nas variáveis locais: elas não permitem que isto seja realizado tão naturalmente. Utilizar **Substituir Temporário por Consulta** auxilia a reduzir esta dificuldade, mas nem sempre é possível quebrar um método que precisa ser quebrado.\n",
    "\n",
    "\n",
    "* Aplicar **Substituir Método por Método-Objeto** transforma todas as variáveis temporárias em campos do novo objeto-método. Você pode então utilizar **Extrair Método** neste novo objeto para criar métodos adicionais que quebrarão o método original.\n",
    "\n",
    "#### Oportunidade de refatoramento\n",
    "\n",
    "* **Método longo**: Quanto maior for o método, mais difícil é de entendê-lo. Vários métodos curtos (e a delegação entre eles) é preferível. Quando mesmo aplicando as combinações acima a assinatura do método ainda possui muitos parâmetros.\n",
    "\n",
    "#### Mecânica\n",
    "\n",
    "* 1) Crie uma nova classe e nomeie-a depois do método.\n",
    "\n",
    "\n",
    "* 2) Declare na nova classe uma referência para o objeto que possuía o método original (o objeto fonte) e um campo para cada variável temporária e cada parâmetro do método.\n",
    "\n",
    "\n",
    "* 3) Declare na nova classe um construtor que receba o objeto fonte e cada parâmetro.\n",
    "\n",
    "\n",
    "* 4) Declare na nova classe um método chamado “Computar”.\n",
    "\n",
    "\n",
    "* 5) Copie o corpo do método original no método “Computar. Use o objeto apontado pela referência para quaisquer chamadas realizadas no objeto original.\n",
    "\n",
    "\n",
    "* 6) Compile.\n",
    "\n",
    "\n",
    "* 7) Troque o método antigo por um que cria o novo objeto e chame o método “Computar”."
   ]
  },
  {
   "cell_type": "markdown",
   "metadata": {},
   "source": [
    "***\n",
    "### Exemplos\n",
    "***"
   ]
  },
  {
   "cell_type": "markdown",
   "metadata": {},
   "source": [
    "Um método complicado de uma classe (finge que é complicado):"
   ]
  },
  {
   "cell_type": "code",
   "execution_count": 1,
   "metadata": {
    "collapsed": true
   },
   "outputs": [],
   "source": [
    "class Account():\n",
    "    \n",
    "    def __init__(self, name, age, city, state, country):\n",
    "        self.phone = \"12345678\"\n",
    "        self.name = name\n",
    "        self.age = age\n",
    "        self.city = city\n",
    "        self.state = state\n",
    "        self.country = country\n",
    "    \n",
    "    def my_string():\n",
    "        print(\"Nome:\", self.name)\n",
    "        print(\"Idade:\", self.age)\n",
    "        print(\"Cidade:\", self.city)\n",
    "        print(\"Estado\", self.state)\n",
    "        print(\"País:\", self.country)\n",
    "        print(\"Telefone\", self.phone)"
   ]
  },
  {
   "cell_type": "markdown",
   "metadata": {},
   "source": [
    "Criando uma classe para representar o método (por isso ela recebeu o mesmo nome do método). Nesta classe todas as variáveis temporárias se tornam atributos, além de uma referência para o objeto de origem (que recebe o modificador final).\n",
    "\n",
    "Adicionando o construtor do objeto-método.\n",
    "\n",
    "Movendo o método original para o novo método **computar()**: Note que o método chamado no antigo objeto usa agora a referência do objeto de origem, localizado na própria classe.\n",
    "\n",
    "Por fim, alterar o método original para delegar a execução ao objeto-método:"
   ]
  },
  {
   "cell_type": "code",
   "execution_count": 2,
   "metadata": {
    "collapsed": true
   },
   "outputs": [],
   "source": [
    "class MyString():\n",
    "    \n",
    "    def __init__(self, account, city, state, country):\n",
    "        self.account = account\n",
    "        self.city = city\n",
    "        self.state = state\n",
    "        self.country = country\n",
    "        \n",
    "    def compute(self):\n",
    "        print(\"Nome:\", account.name)\n",
    "        print(\"Idade:\", account.age)\n",
    "        print(\"Telefone\", account.phone)\n",
    "        print(\"Cidade:\", self.city)\n",
    "        print(\"Estado\", self.state)\n",
    "        print(\"País:\", self.country)"
   ]
  },
  {
   "cell_type": "code",
   "execution_count": 3,
   "metadata": {
    "collapsed": true
   },
   "outputs": [],
   "source": [
    "class Account():\n",
    "    \n",
    "    def __init__(self, name, age):\n",
    "        self.phone = \"12345678\"\n",
    "        self.name = name\n",
    "        self.age = age\n",
    "    \n",
    "    def my_string(self):\n",
    "        return MyString(self, \"Brasilia\", \"DF\", \"Brasil\").compute()"
   ]
  },
  {
   "cell_type": "markdown",
   "metadata": {},
   "source": [
    "Resultado"
   ]
  },
  {
   "cell_type": "code",
   "execution_count": 4,
   "metadata": {},
   "outputs": [],
   "source": [
    "account = Account(\"Pedro\", 18)"
   ]
  },
  {
   "cell_type": "code",
   "execution_count": 5,
   "metadata": {},
   "outputs": [
    {
     "name": "stdout",
     "output_type": "stream",
     "text": [
      "Nome: Pedro\n",
      "Idade: 18\n",
      "Telefone 12345678\n",
      "Cidade: Brasilia\n",
      "Estado DF\n",
      "País: Brasil\n"
     ]
    }
   ],
   "source": [
    "account.my_string()"
   ]
  }
 ],
 "metadata": {
  "kernelspec": {
   "display_name": "Python 3",
   "language": "python",
   "name": "python3"
  },
  "language_info": {
   "codemirror_mode": {
    "name": "ipython",
    "version": 3
   },
   "file_extension": ".py",
   "mimetype": "text/x-python",
   "name": "python",
   "nbconvert_exporter": "python",
   "pygments_lexer": "ipython3",
   "version": "3.5.2"
  }
 },
 "nbformat": 4,
 "nbformat_minor": 2
}
