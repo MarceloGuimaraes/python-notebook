{
 "cells": [
  {
   "cell_type": "markdown",
   "metadata": {},
   "source": [
    "# Atributos\n",
    "***"
   ]
  },
  {
   "cell_type": "markdown",
   "metadata": {},
   "source": [
    "Para acessar os atributos utiliza-se do ponto **.**\n",
    "\n",
    "Por exemplo: **carro.modelo**\n",
    "\n",
    "Para mudar o valor do atributo: **carro.modelo = \"Punto\"**"
   ]
  },
  {
   "cell_type": "markdown",
   "metadata": {},
   "source": [
    "***\n",
    "#### Exemplos\n",
    "***"
   ]
  },
  {
   "cell_type": "code",
   "execution_count": 1,
   "metadata": {
    "collapsed": true
   },
   "outputs": [],
   "source": [
    "# Criar uma classe\n",
    "class FabricaFiat(object):\n",
    "    \n",
    "    # Atributos da classe inicializados\n",
    "    modelo = ''\n",
    "    ano = 0\n",
    "    \n",
    "    # Método construtor\n",
    "    def __init__(self, modelo, ano):\n",
    "        self.modelo = modelo\n",
    "        self.ano = ano\n",
    "        self.fabricante = 'Fiat'\n",
    "        print(\"Carro construido com sucesso!\")\n",
    "        \n",
    "    # Métodos da classe\n",
    "    def acelerar(self):\n",
    "        print(self.modelo, \"acelerando!\")\n",
    "        \n",
    "    def freiar(self):\n",
    "        print(self.modelo, \"freiando!\")"
   ]
  },
  {
   "cell_type": "markdown",
   "metadata": {},
   "source": [
    "***"
   ]
  },
  {
   "cell_type": "code",
   "execution_count": 2,
   "metadata": {},
   "outputs": [
    {
     "name": "stdout",
     "output_type": "stream",
     "text": [
      "Carro construido com sucesso!\n"
     ]
    }
   ],
   "source": [
    "# Criar um objeto\n",
    "carro = FabricaFiat(\"Uno\", 2010)"
   ]
  },
  {
   "cell_type": "markdown",
   "metadata": {},
   "source": [
    "***"
   ]
  },
  {
   "cell_type": "code",
   "execution_count": 3,
   "metadata": {},
   "outputs": [
    {
     "name": "stdout",
     "output_type": "stream",
     "text": [
      "Uno\n",
      "2010\n",
      "Fiat\n"
     ]
    }
   ],
   "source": [
    "# Acessar os atributos do objeto\n",
    "print(carro.modelo)\n",
    "print(carro.ano)\n",
    "print(carro.fabricante)"
   ]
  },
  {
   "cell_type": "markdown",
   "metadata": {},
   "source": [
    "***"
   ]
  },
  {
   "cell_type": "code",
   "execution_count": 4,
   "metadata": {},
   "outputs": [
    {
     "name": "stdout",
     "output_type": "stream",
     "text": [
      "2015\n"
     ]
    }
   ],
   "source": [
    "# Modificar os atributos do objeto\n",
    "carro.ano = 2015\n",
    "print(carro.ano)"
   ]
  },
  {
   "cell_type": "markdown",
   "metadata": {},
   "source": [
    "***"
   ]
  },
  {
   "cell_type": "code",
   "execution_count": 5,
   "metadata": {},
   "outputs": [
    {
     "name": "stdout",
     "output_type": "stream",
     "text": [
      "2.0\n"
     ]
    }
   ],
   "source": [
    "# Criar um novo atributo, porém esse atributo é só desse objeto\n",
    "carro.motor = '2.0'\n",
    "print(carro.motor)"
   ]
  }
 ],
 "metadata": {
  "kernelspec": {
   "display_name": "Python 3",
   "language": "python",
   "name": "python3"
  },
  "language_info": {
   "codemirror_mode": {
    "name": "ipython",
    "version": 3
   },
   "file_extension": ".py",
   "mimetype": "text/x-python",
   "name": "python",
   "nbconvert_exporter": "python",
   "pygments_lexer": "ipython3",
   "version": "3.5.2"
  }
 },
 "nbformat": 4,
 "nbformat_minor": 2
}
