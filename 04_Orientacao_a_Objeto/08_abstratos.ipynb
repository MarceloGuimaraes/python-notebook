{
 "cells": [
  {
   "cell_type": "markdown",
   "metadata": {},
   "source": [
    "# Classes abstratas\n",
    "***"
   ]
  },
  {
   "cell_type": "markdown",
   "metadata": {},
   "source": [
    "São basicamente classes que deixam lacunas para serem implementadas pelas suas classes filhas, pode ser considerado templates ou interfaces"
   ]
  },
  {
   "cell_type": "markdown",
   "metadata": {},
   "source": [
    "***\n",
    "#### Exemplos\n",
    "***"
   ]
  },
  {
   "cell_type": "code",
   "execution_count": 1,
   "metadata": {},
   "outputs": [],
   "source": [
    "# Importe o pacote de métodos estáticos\n",
    "from abc import ABC, abstractmethod"
   ]
  },
  {
   "cell_type": "code",
   "execution_count": 2,
   "metadata": {
    "collapsed": true
   },
   "outputs": [],
   "source": [
    "# Criar a classe GeometricShapes\n",
    "class GeometricShapes(ABC):\n",
    "    \n",
    "    def __init__(self, a, b=0, c=0, d=0):\n",
    "        self.a = a\n",
    "        self.b = b\n",
    "        self.c = c\n",
    "        self.d = d\n",
    "            \n",
    "    @abstractmethod\n",
    "    def area(self):\n",
    "        pass\n",
    "    \n",
    "    @abstractmethod\n",
    "    def perimeter(self):\n",
    "        pass\n",
    "    \n",
    "    def __str__(self):\n",
    "        return \"Forma geometrica\""
   ]
  },
  {
   "cell_type": "code",
   "execution_count": 3,
   "metadata": {
    "collapsed": true
   },
   "outputs": [],
   "source": [
    "# Cria as classes filhas\n",
    "class Square(GeometricShapes):\n",
    "    \n",
    "    def area(self):\n",
    "        print(\"Area = {0}\".format(self.a * self.a))\n",
    "        \n",
    "    def perimeter(self):\n",
    "        print(\"Perimetro = {0}\".format(self.a + self.a + self.a + self.a))"
   ]
  },
  {
   "cell_type": "code",
   "execution_count": 4,
   "metadata": {
    "collapsed": true
   },
   "outputs": [],
   "source": [
    "class Rectangle(GeometricShapes):\n",
    "    \n",
    "    def area(self):\n",
    "        print(\"Area = {0}\".format(self.a * self.b))\n",
    "        \n",
    "    def perimeter(self):\n",
    "        print(\"Perimetro = {0}\".format(self.a + self.a + self.b + self.b))"
   ]
  },
  {
   "cell_type": "code",
   "execution_count": 5,
   "metadata": {},
   "outputs": [],
   "source": [
    "class Triangle(GeometricShapes):\n",
    "    \n",
    "    # Polimorfismo sobrecarga\n",
    "    def area(self, height):\n",
    "        print(\"Area = {0}\".format((self.a * height)/2))\n",
    "\n",
    "    def perimeter(self):\n",
    "        print(\"Perimetro = {0}\".format(self.a + self.b + self.c))"
   ]
  },
  {
   "cell_type": "code",
   "execution_count": 6,
   "metadata": {},
   "outputs": [
    {
     "name": "stdout",
     "output_type": "stream",
     "text": [
      "Area = 25\n",
      "Perimetro = 20\n"
     ]
    }
   ],
   "source": [
    "# Instanciando e usando os métodos\n",
    "square = Square(5)\n",
    "square.area()\n",
    "square.perimeter()"
   ]
  },
  {
   "cell_type": "code",
   "execution_count": 7,
   "metadata": {},
   "outputs": [
    {
     "name": "stdout",
     "output_type": "stream",
     "text": [
      "Area = 20.0\n",
      "Perimetro = 9\n"
     ]
    }
   ],
   "source": [
    "triangle = Triangle(2, 3, 4)\n",
    "triangle.area(10)\n",
    "triangle.perimeter()"
   ]
  },
  {
   "cell_type": "code",
   "execution_count": 8,
   "metadata": {},
   "outputs": [
    {
     "name": "stdout",
     "output_type": "stream",
     "text": [
      "Area = 6\n",
      "Perimetro = 10\n"
     ]
    }
   ],
   "source": [
    "rectangle = Rectangle(2, 3)\n",
    "rectangle.area()\n",
    "rectangle.perimeter()"
   ]
  }
 ],
 "metadata": {
  "kernelspec": {
   "display_name": "Python 3",
   "language": "python",
   "name": "python3"
  },
  "language_info": {
   "codemirror_mode": {
    "name": "ipython",
    "version": 3
   },
   "file_extension": ".py",
   "mimetype": "text/x-python",
   "name": "python",
   "nbconvert_exporter": "python",
   "pygments_lexer": "ipython3",
   "version": "3.5.2"
  }
 },
 "nbformat": 4,
 "nbformat_minor": 2
}
