{
 "cells": [
  {
   "cell_type": "markdown",
   "metadata": {},
   "source": [
    "# Introdução ao OO\n",
    "***\n",
    "\n",
    "Orientação a Objeto"
   ]
  },
  {
   "cell_type": "markdown",
   "metadata": {},
   "source": [
    "***\n",
    "#### Programação Estruturada\n",
    "***"
   ]
  },
  {
   "cell_type": "markdown",
   "metadata": {},
   "source": [
    "* Estruturas básicas de controle: sequência(código lido sequêncialmente), condição(if, elif else) e repetição(for, while)\n",
    "\n",
    "\n",
    "* Subprogramação (ou Modularização) - Código muito extenso para um arquivo e cria outro arquivo importando ele no arquivo principal\n",
    "\n",
    "\n",
    "* Tipos abstratos de dados (modelos matemáticos + operações)\n",
    "\n",
    "\n",
    "* Exemplo: C, Fortran, Pascal"
   ]
  },
  {
   "cell_type": "markdown",
   "metadata": {},
   "source": [
    "***\n",
    "#### Programação Orientada a Objetos\n",
    "***"
   ]
  },
  {
   "cell_type": "markdown",
   "metadata": {},
   "source": [
    "* Modelo o mundo real a partir de objeto - aproximação do mundo real\n",
    "\n",
    "\n",
    "* Data (atributos) + Código (métodos) = Objeto\n",
    "\n",
    "\n",
    "* Exemplo: C++, Java, Python"
   ]
  },
  {
   "cell_type": "markdown",
   "metadata": {},
   "source": [
    "***\n",
    "#### Conceitos importantes\n",
    "***"
   ]
  },
  {
   "cell_type": "markdown",
   "metadata": {},
   "source": [
    "* **Classe**: Uma classe é o agrupamento de objetos com a mesma estrutura de dados (definida pelos atributos ou propriedades) e comportamento (operações), ou seja, classe são as descrições dos objetos!. Por exemplo a classe Cachorro.\n",
    "\n",
    "\n",
    "* **Objeto/Instância**: De maneira geral, Objeto é uma classe sendo estanciada!! De maneira mais Conceitual, um objeto é algo distinguível que contém atributos (ou propriedades) e possui um comportamento. Cada objeto tem uma identidade e é distinguível de outro mesmo que seus atributos sejam idênticos. Por exemplo o objeto rex que é descrito pela classe Cachorro.\n",
    "\n",
    "\n",
    "* **Atributos**: São caracteristicas dos objetos, por exemplo, cor dos olhos, nome, idade e etc...\n",
    "\n",
    "\n",
    "* **Métodos**: São ações dos objetos, por exemplo, falar, andar, correr, latir e etc...\n",
    "\n",
    "\n",
    "* **Mensagem**: É uma chamada a um objeto para invocar um de seus métodos ou ações\n",
    "\n",
    "\n",
    "* **Herança ou Generalização**: É o mecanismo pelo qual uma classe ou (sub-classe) pode estender outra classe (super-classe), aproveitando seus comportamentos (métodos) e variáveis possíveis (atributos), por exemplo, a classe Mamifero é uma classe que pode servir de base para varias outras classe, por exemplo, Cachorro, Gato, e etc... aproveitando seus métodos e atributos, por exemplo todo mamifero come, dorme e etc..., um Cachorro é um Mamifero e um Gato também é um Mamifero.\n",
    "\n",
    "\n",
    "* **Associação**: É o mecanismo pelo qual um objeto utiliza os recursos de outro, basicamente ele está vinculado a outra classe. Pode tratar-se de uma associação simples (**1x1**), associações mais complexas (**1xN ou NxM**), ou de um acoplamento (**é parte de**) que temos **composição** e **agregação**. Por exemplo: Um humano usa um ou vários telefone. A tecla \"1\" é parte de um telefone.\n",
    "\n",
    "\n",
    "* **Agregação**: É um tipo de associação que indica **todo-parte** se o objeto todo morrer o objeto parte continuará existindo, a parte existe independente do todo. Ex: Item de um menu faz parte de um pedido, mas se o pedido deixar de existir o item do menu continuará existindo\n",
    " \n",
    " \n",
    "* **Composição**: É um tipo de associação que indica também **todo-parte** na qual o objeto parte só pode pertencer a um único objeto todo, e se esse objeto todo morrer o objeto parte também morre. Ex: Se o notebook quebrar o teclado também deixa de ser util e é descartado.\n",
    "\n",
    "\n",
    "* **Polimorfismo**: Significa que a mesma operação pode se comportar de forma diferente em classes diferentes, por exemplo, todos os cachorros latem, porém tem uns que latem mais baixo outros latem mais alto, mas todos latem, logo o cachorro rex que é um Pitbul late mais alto que um cachorro lulu que é um Poodle. Ela utiliza de herança para realizar o polimorfismo, no caso Pitbul e Poodle são cachorros e usam do polimorfismo para diferenciar as latidas.\n",
    "\n",
    "\n",
    "* **Encapsulamento**: É você não deixar outras classe verem implementações de métodos ou atributos importantes da sua classe, por exemplo um carro deixa visivel sua lataria, espelhos, rodas e etc mas esconde seu motor, parte eletrica, funcionamento da parte de combustivel, por que quem vai usar o carro (pessoas leigas) não precisa saber como funciona essas partes. Encapsulamento é basicamente esconder ou mostrar os atributos e métodos de um objeto"
   ]
  },
  {
   "cell_type": "markdown",
   "metadata": {},
   "source": [
    "***\n",
    "#### Exemplos\n",
    "***"
   ]
  },
  {
   "cell_type": "code",
   "execution_count": 1,
   "metadata": {
    "collapsed": true
   },
   "outputs": [],
   "source": [
    "# Cria a classe cachorro\n",
    "class Cachorro(object):\n",
    "    # Atributos\n",
    "    nome = 'puff'\n",
    "    peso = 5\n",
    "    cor_do_pelo = 'cinza'\n",
    "    \n",
    "    # Métodos\n",
    "    def latir(self):\n",
    "        print(\"Au Au\")\n",
    "        \n",
    "    def correr(self):\n",
    "        print(\"Cachorro correndo!\")\n",
    "        \n",
    "    def morder(self):\n",
    "        print(\"Cachorro mordendo\")"
   ]
  },
  {
   "cell_type": "code",
   "execution_count": 2,
   "metadata": {
    "collapsed": true
   },
   "outputs": [],
   "source": [
    "# Cria o objeto rex que é um cachorro\n",
    "rex = Cachorro()"
   ]
  },
  {
   "cell_type": "code",
   "execution_count": 3,
   "metadata": {},
   "outputs": [
    {
     "name": "stdout",
     "output_type": "stream",
     "text": [
      "puff\n",
      "5\n",
      "cinza\n"
     ]
    }
   ],
   "source": [
    "# Imprime os atributos do objeto rex - Quem é o rex?\n",
    "print(rex.nome)\n",
    "print(rex.peso)\n",
    "print(rex.cor_do_pelo)"
   ]
  },
  {
   "cell_type": "code",
   "execution_count": 4,
   "metadata": {},
   "outputs": [
    {
     "name": "stdout",
     "output_type": "stream",
     "text": [
      "Au Au\n",
      "Cachorro correndo!\n",
      "Cachorro mordendo\n"
     ]
    }
   ],
   "source": [
    "# Imprime os métodos do objeto rex - O que o rex faz?\n",
    "rex.latir()\n",
    "rex.correr()\n",
    "rex.morder()"
   ]
  }
 ],
 "metadata": {
  "kernelspec": {
   "display_name": "Python 3",
   "language": "python",
   "name": "python3"
  },
  "language_info": {
   "codemirror_mode": {
    "name": "ipython",
    "version": 3
   },
   "file_extension": ".py",
   "mimetype": "text/x-python",
   "name": "python",
   "nbconvert_exporter": "python",
   "pygments_lexer": "ipython3",
   "version": "3.5.2"
  }
 },
 "nbformat": 4,
 "nbformat_minor": 2
}
