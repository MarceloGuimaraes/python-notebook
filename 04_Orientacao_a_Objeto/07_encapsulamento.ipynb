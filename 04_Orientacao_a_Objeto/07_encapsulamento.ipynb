{
 "cells": [
  {
   "cell_type": "markdown",
   "metadata": {},
   "source": [
    "# Encapsulamento\n",
    "***"
   ]
  },
  {
   "cell_type": "markdown",
   "metadata": {},
   "source": [
    "**Encapsulamento**: É você não deixar outras classe verem implementações de métodos ou atributos importantes da sua classe, por exemplo um carro deixa visivel sua lataria, espelhos, rodas e etc mas esconde seu motor, parte eletrica, funcionamento da parte de combustivel, por que quem vai usar o carro (pessoas leigas) não precisa saber como funciona essas partes. Encapsulamento é basicamente esconder ou mostrar os atributos e métodos de um objeto\n",
    "\n",
    "**Atributos de classe**: São atributos que pode ser chamado pela sua classe ou pela suas instâncias, por exemplo, **Conta.total**, porém os atributos dos objetos definidos no construtor com o **self**, só pode ser chamado por instancias da classe e não pela classe, por exemplo, **itau.saldo** que é uma instancia de Conta, não pode ser chamado por **Conta.saldo**\n",
    "\n",
    "**Métodos de classe**: Para criar métodos de classe só não passar o **self** como parâmetro, isso fará com que o método só possa ser chamado pela própria classe e não mais pelas suas instancias, por exemplo, ou podemos utilizar o decorator **@classmethod**, com isso você também pode acessar pela instancia da classe também:\n",
    "\n",
    "```py\n",
    "# Podemos usar o classmethod para criar outro construtor\n",
    "@classmethod\n",
    "def construtor(cls, titular, saldo):\n",
    "    return cls(titular, saldo)\n",
    "\n",
    "conta = Conta.construtor(\"Fulano, 300\")\n",
    "\n",
    "\n",
    "def imprime_total()\n",
    "    print(\"Total:\", Conta.total)\n",
    "    \n",
    "Conta.imprime_total()\n",
    "```\n",
    "\n",
    "**staticmethod**: São métodos que não tem referência nenhuma, nem de objeto (self), nem de classe (cls), ele é uma função dentro de uma classe, função estática e não é herdada, nem substituida. Para criar a função estática só não passar o **self** como parâmetro e usar o decorator **@staticmethod**.\n",
    "\n",
    "```py\n",
    "@staticmethod\n",
    "def imprime_total()\n",
    "    print(\"Total:\", Conta.total)\n",
    "    \n",
    "Conta.imprime_total()\n",
    "conta.imprime_total()\n",
    "```"
   ]
  },
  {
   "cell_type": "markdown",
   "metadata": {},
   "source": [
    "***\n",
    "#### Métodos/atributos privados e getters e setters\n",
    "***"
   ]
  },
  {
   "cell_type": "markdown",
   "metadata": {},
   "source": [
    "**Atributos e métodos privados**: Para deixar um atributo ou método privado só colocar dois underlines na frente dele, por exemplo, **\\_\\_total = 0** ou **def \\_\\_method():**\n",
    "\n",
    "**@property**: Faz o atributo ser somente de leitura\n",
    "\n",
    "**@attribute_name.setter**: Com isso você também pode editar o atributo\n",
    "\n",
    "Em python não temos atributos/metodos privados e sim atributos/metodos protegidos, podemos ver os métodos privados com o método **dir(objeto)**, isso irá mostrar o objeto no seguinte formado **'\\_classe\\_\\_atributo'**, por isso os métodos não são privados, são apenas protegidos, você ainda consegue modificar o atributo usando a nomeclatura acima, isso permite que você proteja o atributo de possiveis erros.\n",
    "\n",
    "Para criar **constantes** podemos criar um atributo privado de classe e criar um método com o mesmo nome com letra maiuscula retornando esse atributo, com isso ninguém conseguirá modificar o atributo "
   ]
  },
  {
   "cell_type": "markdown",
   "metadata": {},
   "source": [
    "***\n",
    "#### Exemplos\n",
    "***"
   ]
  },
  {
   "cell_type": "code",
   "execution_count": 1,
   "metadata": {
    "collapsed": true
   },
   "outputs": [],
   "source": [
    "# Criar uma classe conta do banco\n",
    "class Conta(object):\n",
    "    \"\"\"\n",
    "    Objeto do tipo conta que representa uma conta em um banco qualquer\n",
    "    \"\"\"\n",
    "    \n",
    "    # Atributo privado da classe\n",
    "    __total = 10000\n",
    "    \n",
    "    # Construtor com atributos dos objetos/instancias\n",
    "    def __init__(self, titular, saldo):\n",
    "        self.__titular = titular\n",
    "        self.__saldo = saldo\n",
    "        \n",
    "    # Mostra o objeto como uma string\n",
    "    def __str__(self):\n",
    "        return \"Conta do {0} com saldo total de R$ {1}\".format(self.titular, Conta.__total)\n",
    "    \n",
    "    @property\n",
    "    def saldo(self):\n",
    "        return self.__saldo\n",
    "    \n",
    "    @property\n",
    "    def titular(self):\n",
    "        return self.__titular\n",
    "    \n",
    "    # Métodos setters\n",
    "    @titular.setter\n",
    "    def titular(self, titular):\n",
    "        self.__titular = titular\n",
    "    \n",
    "    # Método publico da instancia do objeto\n",
    "    def deposita(self, valor):\n",
    "        \"\"\"\n",
    "        Deposita um valor no saldo da conta\n",
    "        \"\"\"\n",
    "        \n",
    "        print(\"Depositou:\", valor)\n",
    "        self.__saldo += valor\n",
    "        Conta.__total += valor\n",
    "        \n",
    "    # Método publico da instancia do objeto\n",
    "    def saca(self, valor):\n",
    "        \"\"\"\n",
    "        Saca um valor no saldo da conta\n",
    "        \"\"\"\n",
    "        \n",
    "        if self.saldo >= valor:\n",
    "            print(\"Sacou:\", valor)\n",
    "            self.__saldo -= valor\n",
    "            Conta.__total -= valor\n",
    "        \n",
    "    # Método da classe\n",
    "    def imprime_total():\n",
    "        # Imprime o saldo total da conta\n",
    "        \n",
    "        print(\"Total:\", Conta.__total)"
   ]
  },
  {
   "cell_type": "markdown",
   "metadata": {},
   "source": [
    "***"
   ]
  },
  {
   "cell_type": "code",
   "execution_count": 2,
   "metadata": {},
   "outputs": [
    {
     "name": "stdout",
     "output_type": "stream",
     "text": [
      "Conta do João com saldo total de R$ 10000\n",
      "Conta do João com saldo total de R$ 10000\n"
     ]
    }
   ],
   "source": [
    "# Vamos imprimir a string que representa a classe Conta\n",
    "itau = Conta(\"João\", 4000)\n",
    "bradesco = Conta(\"João\", 5000)\n",
    "print(itau)\n",
    "print(bradesco)"
   ]
  },
  {
   "cell_type": "markdown",
   "metadata": {},
   "source": [
    "***"
   ]
  },
  {
   "cell_type": "code",
   "execution_count": 3,
   "metadata": {},
   "outputs": [
    {
     "name": "stdout",
     "output_type": "stream",
     "text": [
      "4000\n",
      "5000\n"
     ]
    }
   ],
   "source": [
    "# Chamar atributos desse objeto\n",
    "print(itau.saldo)\n",
    "print(bradesco.saldo)"
   ]
  },
  {
   "cell_type": "markdown",
   "metadata": {},
   "source": [
    "***"
   ]
  },
  {
   "cell_type": "code",
   "execution_count": 4,
   "metadata": {},
   "outputs": [
    {
     "name": "stdout",
     "output_type": "stream",
     "text": [
      "Depositou: 1000\n",
      "Sacou: 3000\n",
      "Sacou: 1000\n",
      "Total: 7000\n"
     ]
    }
   ],
   "source": [
    "# Chamar métodos desse objeto\n",
    "itau.deposita(1000)\n",
    "itau.saca(3000)\n",
    "bradesco.saca(1000)\n",
    "Conta.imprime_total()"
   ]
  }
 ],
 "metadata": {
  "kernelspec": {
   "display_name": "Python 3",
   "language": "python",
   "name": "python3"
  },
  "language_info": {
   "codemirror_mode": {
    "name": "ipython",
    "version": 3
   },
   "file_extension": ".py",
   "mimetype": "text/x-python",
   "name": "python",
   "nbconvert_exporter": "python",
   "pygments_lexer": "ipython3",
   "version": "3.5.2"
  }
 },
 "nbformat": 4,
 "nbformat_minor": 2
}
