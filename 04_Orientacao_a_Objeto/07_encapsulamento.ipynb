{
 "cells": [
  {
   "cell_type": "markdown",
   "metadata": {},
   "source": [
    "# Encapsulamento\n",
    "***"
   ]
  },
  {
   "cell_type": "markdown",
   "metadata": {},
   "source": [
    "**Encapsulamento**: É você não deixar outras classe verem implementações de métodos ou atributos importantes da sua classe, por exemplo um carro deixa visivel sua lataria, espelhos, rodas e etc mas esconde seu motor, parte eletrica, funcionamento da parte de combustivel, por que quem vai usar o carro (pessoas leigas) não precisa saber como funciona essas partes. Encapsulamento é basicamente esconder ou mostrar os atributos e métodos de um objeto\n",
    "\n",
    "**Atributos de classe**: São atributos que só pode ser chamado pela sua classe, objetos especificos não tem acesso a esses atributos, exemplo, **Conta.total** não pode ser chamado por **itau.total** que é uma instancia da Conta, o mesmo para atributos dos objetos definidos no construtor com o **self**, só pode ser chamado por instancias da classe e não pela classe, por exemplo, **itau.saldo** que é uma instancia de Conta, não pode ser chamado por **Conta.saldo**\n",
    "\n",
    "**Métodos de classe**: Para criar métodos de classe só não passar o **self** como parâmetro, isso fará com que o método só possa ser chamado pela própria classe e não mais pelas suas instancias, por exemplo:\n",
    "\n",
    "```py\n",
    "def imprime_total():\n",
    "    print(\"Total:\", Conta.total)\n",
    "    \n",
    "Conta.imprime_total()\n",
    "```"
   ]
  },
  {
   "cell_type": "markdown",
   "metadata": {},
   "source": [
    "***\n",
    "#### Métodos/atributos privados e getters e setters\n",
    "***"
   ]
  },
  {
   "cell_type": "markdown",
   "metadata": {},
   "source": [
    "**Atributos e métodos privados**: Para deixar um atributo ou método privado só colocar dois underlines na frente dele, por exemplo, **\\_\\_total = 0** ou **def __method():**\n",
    "\n",
    "**@property**: Faz o atributo ser somente de leitura\n",
    "\n",
    "**@attribute_name.setter**: Com isso você também pode editar o atributo"
   ]
  },
  {
   "cell_type": "markdown",
   "metadata": {},
   "source": [
    "***\n",
    "#### Métodos especiais da classe\n",
    "***"
   ]
  },
  {
   "cell_type": "markdown",
   "metadata": {},
   "source": [
    "**\\_\\_init\\_\\_(self, ...)**: Construtor de uma classe\n",
    "\n",
    "```py\n",
    "def __init__(self, nome, email):\n",
    "    self.nome = nome\n",
    "    self.email = email\n",
    "    \n",
    "pessoa = Pessoa(\"falano\", \"fulano@gmail.com\")\n",
    "```\n",
    "\n",
    "***\n",
    "\n",
    "**__str__(self)**: Imprime o objeto como uma string\n",
    "\n",
    "```py\n",
    "def __str__(self):\n",
    "    return \"Conta[{0}] com saldo total de R$ {1}\".format(self.__ID, Conta.__total)\n",
    "    \n",
    "conta = Conta()\n",
    "print(conta)\n",
    "```\n",
    "\n",
    "***\n",
    "\n",
    "**\\_\\_add\\_\\_(self, objeto)**: Soma algum valor de dois objetos, por exemplo:\n",
    "\n",
    "```py\n",
    "def __add__(self, conta):\n",
    "    self.saldo += conta.saldo\n",
    "    \n",
    "print(conta1 + conta2)\n",
    "```\n",
    "\n",
    "**\\_\\_sub\\_\\_(), \\_\\_div\\_\\_(), \\_\\_mult\\_\\_()**: Faz a mesam coisa do \\_\\_add\\_\\_ porém com subtração, divisão e multiplicação\n",
    "\n",
    "***\n",
    "\n",
    "**\\_\\_doc\\_\\_**: Mostra a documentação inserida na docstring em cada método ou objeto passado\n",
    "\n",
    "```py\n",
    "conta.__doc__\n",
    "```\n",
    "\n",
    "***\n",
    "\n",
    "**\\_\\_bases\\_\\_**: Mostra quem é a classe pai da classe inserida\n",
    "\n",
    "```py\n",
    "conta.__bases__\n",
    "```\n",
    "\n",
    "***\n",
    "\n",
    "**\\_\\_call\\_\\_**: Se usarmos o método callable() podemos ver o objeto é chamavel com () se ele é um método/classe, atributos, tipos e instancias não são callable, mas se usar o \\_\\_call\\_\\_ pode fazer ela ser chamavel\n",
    "\n",
    "```py\n",
    "def __call__(self, instance):\n",
    "    return instance\n",
    "    \n",
    "itau = Conta()\n",
    "print(callable(itau)) # True\n",
    "itau(\"Olá sou a conta do ITAU\") # Olá sou a conta do ITAU\n",
    "```"
   ]
  },
  {
   "cell_type": "markdown",
   "metadata": {},
   "source": [
    "***\n",
    "#### Exemplos Encapsulamento\n",
    "***"
   ]
  },
  {
   "cell_type": "code",
   "execution_count": 1,
   "metadata": {
    "collapsed": true
   },
   "outputs": [],
   "source": [
    "# Criar uma classe conta do banco\n",
    "class Conta(object):\n",
    "    \"\"\"\n",
    "    Objeto do tipo conta que representa uma conta em um banco qualquer\n",
    "    \"\"\"\n",
    "    \n",
    "    # Atributo da classe\n",
    "    __total = 10000\n",
    "    \n",
    "    # Construtor com atributos dos objetos/instancias\n",
    "    def __init__(self, titular, ID, saldo):\n",
    "        self.titular = titular\n",
    "        self.__ID = ID\n",
    "        self.__saldo = saldo\n",
    "        \n",
    "    # Mostra o objeto como uma string\n",
    "    def __str__(self):\n",
    "        return \"Conta[{0}] do {1} com saldo total de R$ {2}\".format(self.ID, self.titular, Conta.__total)\n",
    "    \n",
    "    # Torna a instancia um objeto chamavel como se fosse um método\n",
    "    def __call__(self, mensagem):\n",
    "        print(mensagem)\n",
    "    \n",
    "    # Métodos getters\n",
    "    @property\n",
    "    def ID(self):\n",
    "        return self.__ID\n",
    "    \n",
    "    @property\n",
    "    def saldo(self):\n",
    "        return self.__saldo\n",
    "    \n",
    "    @property\n",
    "    def titular(self):\n",
    "        return self.__titular\n",
    "    \n",
    "    # Métodos setters\n",
    "    @titular.setter\n",
    "    def titular(self, titular):\n",
    "        self.__titular = titular\n",
    "    \n",
    "    # Método publico da instancia do objeto\n",
    "    def deposita(self, valor):\n",
    "        \"\"\"\n",
    "        Deposita um valor no saldo da conta\n",
    "        \"\"\"\n",
    "        \n",
    "        print(\"Depositou:\", valor)\n",
    "        self.__saldo += valor\n",
    "        Conta.__total += valor\n",
    "        Conta.__imprime_total()\n",
    "        \n",
    "    # Método publico da instancia do objeto\n",
    "    def saca(self, valor):\n",
    "        \"\"\"\n",
    "        Saca um valor no saldo da conta\n",
    "        \"\"\"\n",
    "        \n",
    "        if self.saldo >= valor:\n",
    "            print(\"Sacou:\", valor)\n",
    "            self.__saldo -= valor\n",
    "            Conta.__total -= valor\n",
    "            Conta.__imprime_total()\n",
    "        \n",
    "    # Método privado da classe\n",
    "    def __imprime_total():\n",
    "        # Imprime o saldo total da conta\n",
    "        \n",
    "        print(\"Total:\", Conta.__total)"
   ]
  },
  {
   "cell_type": "markdown",
   "metadata": {},
   "source": [
    "***"
   ]
  },
  {
   "cell_type": "code",
   "execution_count": 2,
   "metadata": {},
   "outputs": [
    {
     "name": "stdout",
     "output_type": "stream",
     "text": [
      "Conta[1] do João com saldo total de R$ 10000\n"
     ]
    }
   ],
   "source": [
    "# Vamos imprimir a string que representa a classe Conta\n",
    "bradesco = Conta(\"João\", 1, 4000)\n",
    "print(bradesco)"
   ]
  },
  {
   "cell_type": "markdown",
   "metadata": {},
   "source": [
    "***"
   ]
  },
  {
   "cell_type": "code",
   "execution_count": 3,
   "metadata": {
    "collapsed": true
   },
   "outputs": [],
   "source": [
    "# Instanciar um objeto do tipo Conta\n",
    "itau = Conta(\"Pedro\", 123, 5000)"
   ]
  },
  {
   "cell_type": "markdown",
   "metadata": {},
   "source": [
    "***"
   ]
  },
  {
   "cell_type": "code",
   "execution_count": 4,
   "metadata": {},
   "outputs": [
    {
     "name": "stdout",
     "output_type": "stream",
     "text": [
      "5000\n"
     ]
    }
   ],
   "source": [
    "# Chamar atributos desse objeto\n",
    "print(itau.saldo)"
   ]
  },
  {
   "cell_type": "markdown",
   "metadata": {},
   "source": [
    "***"
   ]
  },
  {
   "cell_type": "code",
   "execution_count": 5,
   "metadata": {},
   "outputs": [
    {
     "name": "stdout",
     "output_type": "stream",
     "text": [
      "Depositou: 1000\n",
      "Total: 11000\n",
      "Sacou: 3000\n",
      "Total: 8000\n"
     ]
    }
   ],
   "source": [
    "# Chamar métodos desse objeto\n",
    "itau.deposita(1000)\n",
    "itau.saca(3000)"
   ]
  },
  {
   "cell_type": "markdown",
   "metadata": {},
   "source": [
    "***"
   ]
  },
  {
   "cell_type": "code",
   "execution_count": 6,
   "metadata": {},
   "outputs": [
    {
     "name": "stdout",
     "output_type": "stream",
     "text": [
      "True\n",
      "Bem vindo a conta do ITAU!\n"
     ]
    }
   ],
   "source": [
    "# Vamos usar o itau chamavel\n",
    "print(callable(itau))\n",
    "itau(\"Bem vindo a conta do ITAU!\")"
   ]
  },
  {
   "cell_type": "markdown",
   "metadata": {},
   "source": [
    "***"
   ]
  },
  {
   "cell_type": "code",
   "execution_count": 7,
   "metadata": {},
   "outputs": [
    {
     "name": "stdout",
     "output_type": "stream",
     "text": [
      "\n",
      "    Objeto do tipo conta que representa uma conta em um banco qualquer\n",
      "    \n",
      "\n",
      "        Saca um valor no saldo da conta\n",
      "        \n",
      "\n",
      "        Deposita um valor no saldo da conta\n",
      "        \n",
      "Help on Conta in module __main__ object:\n",
      "\n",
      "class Conta(builtins.object)\n",
      " |  Objeto do tipo conta que representa uma conta em um banco qualquer\n",
      " |  \n",
      " |  Methods defined here:\n",
      " |  \n",
      " |  __call__(self, mensagem)\n",
      " |      Call self as a function.\n",
      " |  \n",
      " |  __init__(self, titular, ID, saldo)\n",
      " |      Initialize self.  See help(type(self)) for accurate signature.\n",
      " |  \n",
      " |  __str__(self)\n",
      " |      Return str(self).\n",
      " |  \n",
      " |  deposita(self, valor)\n",
      " |      Deposita um valor no saldo da conta\n",
      " |  \n",
      " |  saca(self, valor)\n",
      " |      Saca um valor no saldo da conta\n",
      " |  \n",
      " |  ----------------------------------------------------------------------\n",
      " |  Data descriptors defined here:\n",
      " |  \n",
      " |  ID\n",
      " |  \n",
      " |  __dict__\n",
      " |      dictionary for instance variables (if defined)\n",
      " |  \n",
      " |  __weakref__\n",
      " |      list of weak references to the object (if defined)\n",
      " |  \n",
      " |  saldo\n",
      " |  \n",
      " |  titular\n",
      "\n"
     ]
    }
   ],
   "source": [
    "# Mostrar a documentação da conta\n",
    "print(itau.__doc__)\n",
    "print(itau.saca.__doc__)\n",
    "print(itau.deposita.__doc__)\n",
    "help(itau)"
   ]
  }
 ],
 "metadata": {
  "kernelspec": {
   "display_name": "Python 3",
   "language": "python",
   "name": "python3"
  },
  "language_info": {
   "codemirror_mode": {
    "name": "ipython",
    "version": 3
   },
   "file_extension": ".py",
   "mimetype": "text/x-python",
   "name": "python",
   "nbconvert_exporter": "python",
   "pygments_lexer": "ipython3",
   "version": "3.5.2"
  }
 },
 "nbformat": 4,
 "nbformat_minor": 2
}
