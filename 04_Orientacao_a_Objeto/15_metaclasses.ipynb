{
 "cells": [
  {
   "cell_type": "markdown",
   "metadata": {},
   "source": [
    "# Metaclasses\n",
    "***"
   ]
  },
  {
   "cell_type": "markdown",
   "metadata": {},
   "source": [
    "Um objeto é uma instância de uma classe e classe é uma instância de uma metaclasse.\n",
    "\n",
    "Metaclasse define como uma classe se comporta, pois classes também são objetos. Quando você usa o **class** o python cria o objeto automaticamente. Em python tudo são objetos, TUDO!\n",
    "\n",
    "Você define uma classe para criar objetos, logo você cria metaclasse para criar classes que também são objetos em python. Você pode imaginar algo do tipo:\n",
    "\n",
    "```py\n",
    "MinhaClasse = MetaClasse()\n",
    "meu_objeto = MinhaClasse()\n",
    "```\n",
    "\n",
    "Um exemplo de metaclasse é a função **type('NomeDaClasse', (), {'variaveis': valor, ...})**, ela é a metaclasse do python usada para criar todas as classes por debaixo dos panos. Podemos considerar o type() como uma fábrica de classes do python"
   ]
  },
  {
   "cell_type": "markdown",
   "metadata": {},
   "source": [
    "***\n",
    "#### Exemplos\n",
    "***"
   ]
  },
  {
   "cell_type": "code",
   "execution_count": 1,
   "metadata": {
    "collapsed": true
   },
   "outputs": [],
   "source": [
    "# Podemos criar uma classe de duas maneiras\n",
    "class MinhaClasse(object):\n",
    "    variable = True"
   ]
  },
  {
   "cell_type": "code",
   "execution_count": 2,
   "metadata": {},
   "outputs": [
    {
     "name": "stdout",
     "output_type": "stream",
     "text": [
      "<class '__main__.MinhaClasse'>\n"
     ]
    }
   ],
   "source": [
    "print(MinhaClasse)"
   ]
  },
  {
   "cell_type": "markdown",
   "metadata": {},
   "source": [
    "***"
   ]
  },
  {
   "cell_type": "code",
   "execution_count": 3,
   "metadata": {
    "collapsed": true
   },
   "outputs": [],
   "source": [
    "# Podemos criar uma classe de duas maneiras\n",
    "MinhaOutraClasse = type('MinhaOutraClasse', (), {'variable': True})"
   ]
  },
  {
   "cell_type": "code",
   "execution_count": 4,
   "metadata": {},
   "outputs": [
    {
     "name": "stdout",
     "output_type": "stream",
     "text": [
      "<class '__main__.MinhaOutraClasse'>\n"
     ]
    }
   ],
   "source": [
    "print(MinhaOutraClasse)"
   ]
  },
  {
   "cell_type": "markdown",
   "metadata": {},
   "source": [
    "***\n",
    "### Criar metaclasses\n",
    "***"
   ]
  },
  {
   "cell_type": "code",
   "execution_count": 5,
   "metadata": {
    "collapsed": true
   },
   "outputs": [],
   "source": [
    "# Vamos criar uma metaclasse simples que só irá printar algumas informações\n",
    "# quando ela for usada\n",
    "class MetaClass(type):\n",
    "    \n",
    "    def __new__(cls, clsname, superclasses, attributedict):\n",
    "        print('Nome da classe: ', clsname)\n",
    "        print('Super classe: ', superclasses)\n",
    "        print('Atributes: ', attributedict)\n",
    "        return type.__new__(cls, clsname, superclasses, attributedict)"
   ]
  },
  {
   "cell_type": "markdown",
   "metadata": {},
   "source": [
    "***"
   ]
  },
  {
   "cell_type": "code",
   "execution_count": 6,
   "metadata": {
    "collapsed": true
   },
   "outputs": [],
   "source": [
    "# Vamos criar uma superclasse qualquer\n",
    "class SuperClass(object):\n",
    "    pass"
   ]
  },
  {
   "cell_type": "markdown",
   "metadata": {},
   "source": [
    "***"
   ]
  },
  {
   "cell_type": "code",
   "execution_count": 7,
   "metadata": {},
   "outputs": [
    {
     "name": "stdout",
     "output_type": "stream",
     "text": [
      "Nome da classe:  SubClass\n",
      "Super classe:  (<class '__main__.SuperClass'>,)\n",
      "Atributes:  {'__module__': '__main__', 'method': <function SubClass.method at 0x7fd69d940c80>, 'var1': True, '__qualname__': 'SubClass', 'var2': 'teste'}\n"
     ]
    }
   ],
   "source": [
    "# Vamos criar uma subclasse qualquer que usa a metaclasse criada\n",
    "class SubClass(SuperClass, metaclass=MetaClass):\n",
    "    var1 = True\n",
    "    var2 = \"teste\"\n",
    "    \n",
    "    def method(self):\n",
    "        pass"
   ]
  },
  {
   "cell_type": "markdown",
   "metadata": {},
   "source": [
    "***"
   ]
  },
  {
   "cell_type": "code",
   "execution_count": 8,
   "metadata": {},
   "outputs": [
    {
     "name": "stdout",
     "output_type": "stream",
     "text": [
      "<__main__.SubClass object at 0x7fd69d95cdd8>\n",
      "<class '__main__.SubClass'>\n",
      "<class '__main__.MetaClass'>\n"
     ]
    }
   ],
   "source": [
    "# Vamos verificar a classe e a metaclasse do objeto criado\n",
    "obj = SubClass()\n",
    "print(obj)\n",
    "print(obj.__class__)\n",
    "print(obj.__class__.__class__)"
   ]
  }
 ],
 "metadata": {
  "kernelspec": {
   "display_name": "Python 3",
   "language": "python",
   "name": "python3"
  },
  "language_info": {
   "codemirror_mode": {
    "name": "ipython",
    "version": 3
   },
   "file_extension": ".py",
   "mimetype": "text/x-python",
   "name": "python",
   "nbconvert_exporter": "python",
   "pygments_lexer": "ipython3",
   "version": "3.5.2"
  }
 },
 "nbformat": 4,
 "nbformat_minor": 2
}
