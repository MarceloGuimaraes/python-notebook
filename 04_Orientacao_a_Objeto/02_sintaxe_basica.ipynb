{
 "cells": [
  {
   "cell_type": "markdown",
   "metadata": {},
   "source": [
    "# Sintaxe Básica\n",
    "***"
   ]
  },
  {
   "cell_type": "markdown",
   "metadata": {},
   "source": [
    "Sintaxe básica do python\n",
    "\n",
    "* Criar e instanciar classes\n",
    "\n",
    "\n",
    "* Criar e chamar métodos\n",
    "\n",
    "\n",
    "* Criar e chamar atributos\n",
    "\n",
    "\n",
    "* Criar o contrutor da classe\n",
    "\n",
    "Os tipos de datas, int, float, list e etc... são objetos criados pelo python com seus próprios métodos e atributos"
   ]
  },
  {
   "cell_type": "markdown",
   "metadata": {},
   "source": [
    "***\n",
    "#### Construtor\n",
    "***"
   ]
  },
  {
   "cell_type": "markdown",
   "metadata": {},
   "source": [
    "O contrutor inicializa seu objeto quando ele for criado\n",
    "\n",
    "* **self**: Ele especifica todos os atributos dentro da classe, no nosso caso nome e idade, para acessar um atributo dentro da classe os métodos precisam do self, ele basicamente referencia um objeto da classe"
   ]
  },
  {
   "cell_type": "markdown",
   "metadata": {},
   "source": [
    "***\n",
    "#### Exemplos\n",
    "***"
   ]
  },
  {
   "cell_type": "code",
   "execution_count": 1,
   "metadata": {
    "collapsed": true
   },
   "outputs": [],
   "source": [
    "# Criar uma classe\n",
    "class FabricaFiat(object):\n",
    "    \n",
    "    # Atributos da classe inicializados\n",
    "    modelo = ''\n",
    "    ano = 0\n",
    "    \n",
    "    # Método construtor\n",
    "    def __init__(self, modelo, ano):\n",
    "        self.modelo = modelo\n",
    "        self.ano = ano\n",
    "        self.fabricante = 'Fiat'\n",
    "        print(\"Carro construido com sucesso!\")\n",
    "        \n",
    "    # Métodos da classe\n",
    "    def acelerar(self):\n",
    "        print(self.modelo, \"acelerando!\")\n",
    "        \n",
    "    def freiar(self):\n",
    "        print(self.modelo, \"freiando!\")"
   ]
  },
  {
   "cell_type": "code",
   "execution_count": 2,
   "metadata": {},
   "outputs": [
    {
     "name": "stdout",
     "output_type": "stream",
     "text": [
      "Carro construido com sucesso!\n"
     ]
    }
   ],
   "source": [
    "# Criar um objeto para a classe\n",
    "carro = FabricaFiat(\"Uno\", 2010)"
   ]
  },
  {
   "cell_type": "code",
   "execution_count": 3,
   "metadata": {},
   "outputs": [
    {
     "name": "stdout",
     "output_type": "stream",
     "text": [
      "Uno\n",
      "2010\n",
      "Fiat\n"
     ]
    }
   ],
   "source": [
    "# Acessar os atributos do objeto\n",
    "print(carro.modelo)\n",
    "print(carro.ano)\n",
    "print(carro.fabricante)"
   ]
  },
  {
   "cell_type": "code",
   "execution_count": 4,
   "metadata": {},
   "outputs": [
    {
     "name": "stdout",
     "output_type": "stream",
     "text": [
      "Uno acelerando!\n",
      "Uno freiando!\n"
     ]
    }
   ],
   "source": [
    "# Executar os métodos do objeto\n",
    "carro.acelerar()\n",
    "carro.freiar()"
   ]
  }
 ],
 "metadata": {
  "kernelspec": {
   "display_name": "Python 3",
   "language": "python",
   "name": "python3"
  },
  "language_info": {
   "codemirror_mode": {
    "name": "ipython",
    "version": 3
   },
   "file_extension": ".py",
   "mimetype": "text/x-python",
   "name": "python",
   "nbconvert_exporter": "python",
   "pygments_lexer": "ipython3",
   "version": "3.5.2"
  }
 },
 "nbformat": 4,
 "nbformat_minor": 2
}
