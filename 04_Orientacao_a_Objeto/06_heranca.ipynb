{
 "cells": [
  {
   "cell_type": "markdown",
   "metadata": {},
   "source": [
    "# Herança e Polimorfismo\n",
    "***"
   ]
  },
  {
   "cell_type": "markdown",
   "metadata": {},
   "source": [
    "**Herança ou Generalização**: É o mecanismo pelo qual uma classe ou (sub-classe) pode estender outra classe (super-classe), aproveitando seus comportamentos (métodos) e variáveis possíveis (atributos), por exemplo, a classe Mamifero é uma classe que pode servir de base para varias outras classe, por exemplo, Cachorro, Gato, e etc... aproveitando seus métodos e atributos, por exemplo todo mamifero come, dorme e etc..., um Cachorro é um Mamifero e um Gato também é um Mamifero.\n",
    "\n",
    "**Polimorfismo**: Significa que a mesma operação pode se comportar de forma diferente em classes diferentes, por exemplo, todos os cachorros latem, porém tem uns que latem mais baixo outros latem mais alto, mas todos latem, logo o cachorro rex que é um Pitbul late mais alto que um cachorro lulu que é um Poodle. Ela utiliza de herança para realizar o polimorfismo, no caso Pitbul e Poodle são cachorros e usam do polimorfismo para diferenciar as latidas.\n",
    "\n",
    "**super().metodo_da_superclasse()**: Isso irá chamar o método da classe que está herdando, pode ser usando no construtor quanto em qualquer outro método da classe\n",
    "\n",
    "**issubclass(classe1, classe2)**: Retorna um booleano se a classe1 for filha da classe2"
   ]
  },
  {
   "cell_type": "markdown",
   "metadata": {},
   "source": [
    "***\n",
    "#### Exemplos\n",
    "***"
   ]
  },
  {
   "cell_type": "code",
   "execution_count": 1,
   "metadata": {
    "collapsed": true
   },
   "outputs": [],
   "source": [
    "# Cria a classe Mamifero\n",
    "class Mammal(object):\n",
    "    \n",
    "    def __init__(self, name, genre, locomotion):\n",
    "        self.genre = genre\n",
    "        self.locomotion = locomotion\n",
    "        self.name = name\n",
    "        \n",
    "    def walk(self):\n",
    "        print(\"Mamifero andando sobre\", self.locomotion, \"patas\")\n",
    "        \n",
    "    def breastfeed(self):\n",
    "        if self.genre.lower().startswith('m'):\n",
    "            print(\"Machos não amamentam\")\n",
    "        else:\n",
    "            print(\"Amamentando meu filhote\")"
   ]
  },
  {
   "cell_type": "markdown",
   "metadata": {},
   "source": [
    "***"
   ]
  },
  {
   "cell_type": "code",
   "execution_count": 2,
   "metadata": {
    "collapsed": true
   },
   "outputs": [],
   "source": [
    "# Criar uma classe Pessoa que é um Mamifero\n",
    "class Person(Mammal):\n",
    "    \n",
    "    # Definir o próprio método contrutor aproveitando o método construtor do mamifero\n",
    "    def __init__(self, name, genre, locomotion, hair_color):\n",
    "        super().__init__(name, genre, locomotion)\n",
    "        self.hair_color = hair_color\n",
    "    \n",
    "    # Sobrescrita do método walk\n",
    "    def walk(self):\n",
    "        print(\"Pessoa andando sobre\", self.locomotion, \"pernas\")\n",
    "        \n",
    "    # Sobrescrita do método breastfeed\n",
    "    def breastfeed(self):\n",
    "        if self.genre.lower().startswith('m'):\n",
    "            print(\"Homens não amamentam\")\n",
    "        else:\n",
    "            print(\"Amamentando meu filho\")\n",
    "            \n",
    "    # Método que só a classe Person tem\n",
    "    def speak(self):\n",
    "        print(\"Falando...\")"
   ]
  },
  {
   "cell_type": "markdown",
   "metadata": {},
   "source": [
    "***"
   ]
  },
  {
   "cell_type": "code",
   "execution_count": 3,
   "metadata": {
    "collapsed": true
   },
   "outputs": [],
   "source": [
    "# Criar um classe Cachorro que é um Mamifero\n",
    "class Dog(Mammal):\n",
    "    \n",
    "    # Método que só a classe Dog tem\n",
    "    def bark(self):\n",
    "        print(\"Latindo\")"
   ]
  },
  {
   "cell_type": "markdown",
   "metadata": {},
   "source": [
    "***"
   ]
  },
  {
   "cell_type": "code",
   "execution_count": 4,
   "metadata": {},
   "outputs": [
    {
     "name": "stdout",
     "output_type": "stream",
     "text": [
      "Mamifero andando sobre 4 patas\n",
      "Machos não amamentam\n"
     ]
    }
   ],
   "source": [
    "# Instanciando um mamifero qualquer\n",
    "cat = Mammal(\"name\", \"male\", 4)\n",
    "cat.walk()\n",
    "cat.breastfeed()"
   ]
  },
  {
   "cell_type": "markdown",
   "metadata": {},
   "source": [
    "***"
   ]
  },
  {
   "cell_type": "code",
   "execution_count": 5,
   "metadata": {},
   "outputs": [
    {
     "name": "stdout",
     "output_type": "stream",
     "text": [
      "Pessoa andando sobre 2 pernas\n",
      "Amamentando meu filho\n",
      "Falando...\n"
     ]
    }
   ],
   "source": [
    "# Instanciando um pessoa que é um mamifero\n",
    "person = Person(\"Larissa\", \"female\", 2, \"black\")\n",
    "person.walk()\n",
    "person.breastfeed()\n",
    "person.speak()"
   ]
  },
  {
   "cell_type": "markdown",
   "metadata": {},
   "source": [
    "***"
   ]
  },
  {
   "cell_type": "code",
   "execution_count": 6,
   "metadata": {},
   "outputs": [
    {
     "name": "stdout",
     "output_type": "stream",
     "text": [
      "Mamifero andando sobre 4 patas\n",
      "Amamentando meu filhote\n",
      "Latindo\n"
     ]
    }
   ],
   "source": [
    "# Instanciando um cachorro que é um mamifero\n",
    "dog = Dog(\"Puff\", \"female\", 4)\n",
    "dog.walk()\n",
    "dog.breastfeed()\n",
    "dog.bark()"
   ]
  },
  {
   "cell_type": "markdown",
   "metadata": {},
   "source": [
    "***"
   ]
  },
  {
   "cell_type": "code",
   "execution_count": 7,
   "metadata": {},
   "outputs": [
    {
     "name": "stdout",
     "output_type": "stream",
     "text": [
      "True\n"
     ]
    }
   ],
   "source": [
    "# Mostra se uma classe é subclasse de outra\n",
    "print(issubclass(Dog, Mammal))"
   ]
  }
 ],
 "metadata": {
  "kernelspec": {
   "display_name": "Python 3",
   "language": "python",
   "name": "python3"
  },
  "language_info": {
   "codemirror_mode": {
    "name": "ipython",
    "version": 3
   },
   "file_extension": ".py",
   "mimetype": "text/x-python",
   "name": "python",
   "nbconvert_exporter": "python",
   "pygments_lexer": "ipython3",
   "version": "3.5.2"
  }
 },
 "nbformat": 4,
 "nbformat_minor": 2
}
