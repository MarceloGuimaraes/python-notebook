{
 "cells": [
  {
   "cell_type": "markdown",
   "metadata": {},
   "source": [
    "## Lista duplamente encadeada\n",
    "***\n",
    "\n",
    "\n",
    "\n",
    "Cada retangulo da imagem representa um nó que guarda uma informação, a lista simplesmente encadeada tem uma referência para o próximo nó, enquanto que a duplamente encadeada tem uma referência para o próximo nó e para o anterior e a lista circular o último elemento tem uma referência para o primeiro elemento."
   ]
  }
 ],
 "metadata": {
  "kernelspec": {
   "display_name": "Python 3",
   "language": "python",
   "name": "python3"
  },
  "language_info": {
   "codemirror_mode": {
    "name": "ipython",
    "version": 3
   },
   "file_extension": ".py",
   "mimetype": "text/x-python",
   "name": "python",
   "nbconvert_exporter": "python",
   "pygments_lexer": "ipython3",
   "version": "3.5.2"
  }
 },
 "nbformat": 4,
 "nbformat_minor": 2
}
