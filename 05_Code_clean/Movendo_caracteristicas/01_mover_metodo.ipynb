{
 "cells": [
  {
   "cell_type": "markdown",
   "metadata": {},
   "source": [
    "# Mover Método\n",
    "***"
   ]
  },
  {
   "cell_type": "markdown",
   "metadata": {},
   "source": [
    "**Situação**:\n",
    "\n",
    "* Um método está sendo (ou será) utilizado por diversos elementos de uma outra classe diferente daquela na qual ele é definido\n",
    "\n",
    "**Solução**:\n",
    "\n",
    "* Criar um novo método com uma implementação similar na classe que ele usa com frequência. Transformar o método antigo em uma simples delegação ou removê-lo.\n",
    "\n",
    "**Motivação**:\n",
    "\n",
    "* Esta é uma refatoração amplamente aplicada. Métodos que são longos demais ou necessitam de comentários para explicar, são sujeitos a essa refatoração.\n",
    "\n",
    "\n",
    "* Deve-se mover métodos quando classes possuem muito comportamento definido ou quando classes estão colaborando muito entre si e por isso estão altamente acopladas.\n",
    "\n",
    "\n",
    "* Deve-se procurar por métodos em uma classe que aparentam referenciar outro objeto mais do que o objeto em que ele se encontra. Um bom momento de realizar essa refatoração é depois de mover alguns campos."
   ]
  },
  {
   "cell_type": "markdown",
   "metadata": {},
   "source": [
    "### Exemplo"
   ]
  },
  {
   "cell_type": "markdown",
   "metadata": {},
   "source": [
    "Antes"
   ]
  },
  {
   "cell_type": "code",
   "execution_count": 1,
   "metadata": {},
   "outputs": [],
   "source": [
    "class Account:\n",
    "    \n",
    "    def overdraftCharge():\n",
    "        result = 10\n",
    "        if(days > 7): result += (days - 7)\n",
    "        return result\n",
    "    \n",
    "    def bankCharge():\n",
    "        result = 4.5\n",
    "        if(days > 0): result += overdraftCharge()\n",
    "        return result"
   ]
  },
  {
   "cell_type": "markdown",
   "metadata": {},
   "source": [
    "Depois"
   ]
  },
  {
   "cell_type": "code",
   "execution_count": 2,
   "metadata": {
    "collapsed": true
   },
   "outputs": [],
   "source": [
    "class AccountType:\n",
    "    \n",
    "    def overdraftCharge(days):\n",
    "        result = 10\n",
    "        if(days > 7): result += (days - 7)\n",
    "        return result"
   ]
  },
  {
   "cell_type": "code",
   "execution_count": 3,
   "metadata": {
    "collapsed": true
   },
   "outputs": [],
   "source": [
    "class Account:\n",
    "    \n",
    "    account_type = AccountType\n",
    "    \n",
    "    def bankCharge():\n",
    "        result = 4.5\n",
    "        if(days > 0): result += account_type.overdraftCharge(days)\n",
    "        return result"
   ]
  }
 ],
 "metadata": {
  "kernelspec": {
   "display_name": "Python 3",
   "language": "python",
   "name": "python3"
  },
  "language_info": {
   "codemirror_mode": {
    "name": "ipython",
    "version": 3
   },
   "file_extension": ".py",
   "mimetype": "text/x-python",
   "name": "python",
   "nbconvert_exporter": "python",
   "pygments_lexer": "ipython3",
   "version": "3.5.2"
  }
 },
 "nbformat": 4,
 "nbformat_minor": 2
}
