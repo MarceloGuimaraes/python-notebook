{
 "cells": [
  {
   "cell_type": "markdown",
   "metadata": {},
   "source": [
    "# Remover atribuições a parâmetros\n",
    "***"
   ]
  },
  {
   "cell_type": "markdown",
   "metadata": {},
   "source": [
    "#### Situação\n",
    "\n",
    "* O código atribui valor a um parâmetro que foi passado.\n",
    "\n",
    "#### Motivação\n",
    "\n",
    "* O problema aparece devido à passagem por valor e à passagem por referência do parâmetro.\n",
    "\n",
    "\n",
    "* Com a passagem por valor qualquer alteração ao parâmetro não é refletida no método chamado. Para quem utilizar passagem por referência já não ocorre o mesmo, o que pode gerar confusões.\n",
    "\n",
    "\n",
    "* Outro motivo é a utilização consistente de parâmetros. O código fica muito mais claro se parâmetros não forem alterados, mas apenas representarem o que foi passado a eles.\n",
    "\n",
    "#### Mecânica\n",
    "\n",
    "* 1) Crie uma variável temporária para o parâmetro.\n",
    "\n",
    "\n",
    "* 2) Substitua todas as referências para o parâmetro pela variável temporária, encontradas depois da expressão de atribuição.\n",
    "\n",
    "\n",
    "* 3) Mude a atribuição para atribuir à variável temporária.\n",
    "\n",
    "\n",
    "* 4) Compile e teste.\n",
    "\n",
    "\n",
    "* 5) Se as chamadas são por referência, verifique no método chamado se há outras utilizações para o parâmetro. Veja também quantas chamadas cujos parâmetros por referência recebem valores e usados posteriormente neste método. Tente passar um único valor como retorno. Se há mais de um valor de retorno, verifique se você pode agrupar os dados de retorno em um objeto ou crie métodos separados."
   ]
  },
  {
   "cell_type": "markdown",
   "metadata": {},
   "source": [
    "***\n",
    "### Exemplos\n",
    "***"
   ]
  },
  {
   "cell_type": "markdown",
   "metadata": {},
   "source": [
    "Antes do refatoramento"
   ]
  },
  {
   "cell_type": "code",
   "execution_count": 1,
   "metadata": {
    "collapsed": true
   },
   "outputs": [],
   "source": [
    "def discont(input_value, quantity):\n",
    "    if (input_vale > 50): input_value -= 2\n",
    "    if (quantity > 100): input_value -= 1\n",
    "    return input_value"
   ]
  },
  {
   "cell_type": "markdown",
   "metadata": {},
   "source": [
    "Depois do refatoramento: substituindo por uma variável temporária"
   ]
  },
  {
   "cell_type": "code",
   "execution_count": 2,
   "metadata": {
    "collapsed": true
   },
   "outputs": [],
   "source": [
    "def discont(input_value, quantity):\n",
    "    result = input_value\n",
    "    if (input_vale > 50): result -= 2\n",
    "    if (quantity > 100): result -= 1\n",
    "    return result"
   ]
  }
 ],
 "metadata": {
  "kernelspec": {
   "display_name": "Python 3",
   "language": "python",
   "name": "python3"
  },
  "language_info": {
   "codemirror_mode": {
    "name": "ipython",
    "version": 3
   },
   "file_extension": ".py",
   "mimetype": "text/x-python",
   "name": "python",
   "nbconvert_exporter": "python",
   "pygments_lexer": "ipython3",
   "version": "3.5.2"
  }
 },
 "nbformat": 4,
 "nbformat_minor": 2
}
