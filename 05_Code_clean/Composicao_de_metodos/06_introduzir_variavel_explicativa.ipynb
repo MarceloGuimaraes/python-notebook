{
 "cells": [
  {
   "cell_type": "markdown",
   "metadata": {},
   "source": [
    "# Introduzir variável Explicativa\n",
    "***"
   ]
  },
  {
   "cell_type": "markdown",
   "metadata": {},
   "source": [
    "#### Situação\n",
    "\n",
    "* Você possui uma expressão complicada.\n",
    "\n",
    "#### Motivação\n",
    "\n",
    "* Expressões podem se tornar muito complexas e difíceis de entender. nesses casos variáveis podem auxiliar a quebrar as expressões em partes menores e mais fáceis de entender.\n",
    "\n",
    "\n",
    "* Particularmente interessante com lógica condicional na qual é útil representar e explicar cada cláusula com uma variável temporária bem nomeada.\n",
    "\n",
    "\n",
    "* Algoritmos longos também sujeitos a essa refatoração, em que cada passo do cálculo pode ser explicado por uma variável temporária.\n",
    "\n",
    "#### Mecânica\n",
    "\n",
    "* 1) Declare uma variável temporária com o modificador final e atribua a ela o resultado de uma parte da expressão complexa.\n",
    "\n",
    "\n",
    "* 2) Substitua parte da expressão pelo valor da variável temporária. Se a parte a ser substituída na expressão é repetida, você pode trocar as repetições uma de cada vez.\n",
    "\n",
    "\n",
    "* 3) Compile e teste.\n",
    "\n",
    "\n",
    "* 4) Repita para outras partes da expressão."
   ]
  },
  {
   "cell_type": "markdown",
   "metadata": {},
   "source": [
    "***\n",
    "### Exemplos\n",
    "***"
   ]
  },
  {
   "cell_type": "markdown",
   "metadata": {},
   "source": [
    "Antes da refatoração"
   ]
  },
  {
   "cell_type": "code",
   "execution_count": 1,
   "metadata": {},
   "outputs": [],
   "source": [
    "def teste():\n",
    "    if 10 > 20 and 5 < 4 or 10 < 9 and True:\n",
    "        print(\"Entrei!\")\n",
    "    else:\n",
    "        print(\"Não entrei!\")"
   ]
  },
  {
   "cell_type": "code",
   "execution_count": 2,
   "metadata": {},
   "outputs": [
    {
     "name": "stdout",
     "output_type": "stream",
     "text": [
      "Não entrei!\n"
     ]
    }
   ],
   "source": [
    "teste()"
   ]
  },
  {
   "cell_type": "markdown",
   "metadata": {},
   "source": [
    "Depois da refatoração"
   ]
  },
  {
   "cell_type": "code",
   "execution_count": 3,
   "metadata": {
    "collapsed": true
   },
   "outputs": [],
   "source": [
    "def teste():\n",
    "    open_the_door = 10 > 20 and 5 < 4 or 10 < 9 and True\n",
    "    \n",
    "    if open_the_door:\n",
    "        print(\"Entrei!\")\n",
    "    else:\n",
    "        print(\"Não entrei!\")"
   ]
  },
  {
   "cell_type": "code",
   "execution_count": 4,
   "metadata": {},
   "outputs": [
    {
     "name": "stdout",
     "output_type": "stream",
     "text": [
      "Não entrei!\n"
     ]
    }
   ],
   "source": [
    "teste()"
   ]
  }
 ],
 "metadata": {
  "kernelspec": {
   "display_name": "Python 3",
   "language": "python",
   "name": "python3"
  },
  "language_info": {
   "codemirror_mode": {
    "name": "ipython",
    "version": 3
   },
   "file_extension": ".py",
   "mimetype": "text/x-python",
   "name": "python",
   "nbconvert_exporter": "python",
   "pygments_lexer": "ipython3",
   "version": "3.5.2"
  }
 },
 "nbformat": 4,
 "nbformat_minor": 2
}
