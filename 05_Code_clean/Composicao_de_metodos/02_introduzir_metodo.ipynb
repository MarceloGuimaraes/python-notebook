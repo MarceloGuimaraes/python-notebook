{
 "cells": [
  {
   "cell_type": "markdown",
   "metadata": {},
   "source": [
    "# Introduzir método\n",
    "***"
   ]
  },
  {
   "cell_type": "markdown",
   "metadata": {},
   "source": [
    "#### Situação\n",
    "\n",
    "* O corpo do método é tão claro quanto seu nome.\n",
    "\n",
    "#### Motivação\n",
    "\n",
    "* Apesar de métodos com nomes claros serem bons, às vezes seu corpo já é claro o suficiente e não é necessário torná-lo um método. Portanto você pode excluir um nível de indireção ao excluir este método.\n",
    "\n",
    "\n",
    "* Outra situação possível é quando um grupo de métodos parecem estar mal refatorados. Agrupe-os todos em um método usando esta operação e posteriormente extraia novamente os métodos.\n",
    "\n",
    "\n",
    "* Utilizar Trocar método por objeto-método antes de extrair os métodos parece ser uma boa alternativa. Você move todo o método com o comportamento desejado para um único objeto, ao invés de mover o método e todos os seus métodos chamados.\n",
    "\n",
    "\n",
    "* Outra situação sugerida é quando muita indireção está sendo utilizada, em que métodos realizam uma simples delegação para outros métodos. Aplicar Introduzir método auxilia e definir quais indireções são de fato necessárias e eliminar as demais.\n",
    "\n",
    "#### Oportunidades de refatoração\n",
    "\n",
    "* **Homem do meio**: Caso em que a indireção é indesejável. Os métodos de uma classe simplesmente delegam a execução para métodos de outras classes. Quando métodos não fazem muita coisa, traga-os para o método que o chama.\n",
    "\n",
    "#### Mecânica\n",
    "\n",
    "* 1) Verifique se o método não é polimórfico. Não introduza se subclasses sobrescrevem o método, elas não poderão subscrever o método se o método não está lá.\n",
    "\n",
    "\n",
    "* 2) Encontre todas as chamadas para o método.\n",
    "\n",
    "\n",
    "* 3) Substitua cada chamada com o corpo do método\n",
    "\n",
    "\n",
    "* 4) Compile e teste.\n",
    "\n",
    "\n",
    "* 5) Remova a definição do método.\n",
    "\n",
    "#### Problemas em sua utilização:\n",
    "\n",
    "* Em casos de recursão, vários pontos de retorno, introduzir o método em outros objetos os quais você não tem acesso. Se encontrar essas situações, não deve ser aplicado."
   ]
  },
  {
   "cell_type": "markdown",
   "metadata": {},
   "source": [
    "***\n",
    "### Exemplos\n",
    "***"
   ]
  },
  {
   "cell_type": "markdown",
   "metadata": {},
   "source": [
    "Antes da refatoração"
   ]
  },
  {
   "cell_type": "code",
   "execution_count": 1,
   "metadata": {
    "collapsed": true
   },
   "outputs": [],
   "source": [
    "def can_drive():\n",
    "    \"\"\"\n",
    "    Verify if the user can drive.\n",
    "    \"\"\"\n",
    "    \n",
    "    age = 19\n",
    "    \n",
    "    if user_has_more_than_eighteen_years_old(age):\n",
    "        print(\"Pode dirigir\")\n",
    "    else:\n",
    "        print(\"Não pode dirigir\")\n",
    "        \n",
    "def user_has_more_than_eighteen_years_old(age):\n",
    "    \"\"\"\n",
    "    Verify if user has more than 18 yeas old to drive.\n",
    "    \"\"\"\n",
    "    \n",
    "    if age >= 18:\n",
    "        return True\n",
    "    else:\n",
    "        return False"
   ]
  },
  {
   "cell_type": "markdown",
   "metadata": {},
   "source": [
    "Depois da refatoração"
   ]
  },
  {
   "cell_type": "code",
   "execution_count": 2,
   "metadata": {
    "collapsed": true
   },
   "outputs": [],
   "source": [
    "def can_drive():\n",
    "    \"\"\"\n",
    "    Verify if the user can drive.\n",
    "    \"\"\"\n",
    "    \n",
    "    age = 19\n",
    "    \n",
    "    if age >= 18:\n",
    "        print(\"Pode dirigir\")\n",
    "    else:\n",
    "        print(\"Não pode dirigir\")"
   ]
  },
  {
   "cell_type": "markdown",
   "metadata": {},
   "source": [
    "Resultado"
   ]
  },
  {
   "cell_type": "code",
   "execution_count": 3,
   "metadata": {},
   "outputs": [
    {
     "name": "stdout",
     "output_type": "stream",
     "text": [
      "Pode dirigir\n"
     ]
    }
   ],
   "source": [
    "can_drive()"
   ]
  }
 ],
 "metadata": {
  "kernelspec": {
   "display_name": "Python 3",
   "language": "python",
   "name": "python3"
  },
  "language_info": {
   "codemirror_mode": {
    "name": "ipython",
    "version": 3
   },
   "file_extension": ".py",
   "mimetype": "text/x-python",
   "name": "python",
   "nbconvert_exporter": "python",
   "pygments_lexer": "ipython3",
   "version": "3.5.2"
  }
 },
 "nbformat": 4,
 "nbformat_minor": 2
}
