{
 "cells": [
  {
   "cell_type": "markdown",
   "metadata": {},
   "source": [
    "## Questão 02 (Unitau-SP)\n",
    "***"
   ]
  },
  {
   "cell_type": "markdown",
   "metadata": {},
   "source": [
    "Um móvel parte do km 50, indo até o km 60, onde, mudando o sentido do movimento, vai até o km 32. O deslocamento escalar e a distância efetivamente percorrida são, respectivamente:\n",
    "\n",
    "**a)** 28 km e 28 km\n",
    "\n",
    "**b)** 18 km e 38 km\n",
    "\n",
    "**c)** 18 km e 38 km\n",
    "\n",
    "**d)** 18 km e 18 km\n",
    "\n",
    "**e)** 38 km e 18 km"
   ]
  },
  {
   "cell_type": "markdown",
   "metadata": {},
   "source": [
    "***\n",
    "#### Resposta\n",
    "***"
   ]
  },
  {
   "cell_type": "markdown",
   "metadata": {},
   "source": [
    "![img1](https://user-images.githubusercontent.com/14116020/34280921-372c4346-e6a2-11e7-9076-d534db674df6.png)"
   ]
  },
  {
   "cell_type": "markdown",
   "metadata": {},
   "source": [
    "***\n",
    "#### Código\n",
    "***"
   ]
  },
  {
   "cell_type": "code",
   "execution_count": 1,
   "metadata": {
    "collapsed": true
   },
   "outputs": [],
   "source": [
    "from biblioteca.fisica.basico import Basico\n",
    "from biblioteca.cinematica import Cinematica\n",
    "\n",
    "cinematica = Cinematica(Cinematica.BASICO)"
   ]
  },
  {
   "cell_type": "code",
   "execution_count": 2,
   "metadata": {},
   "outputs": [
    {
     "name": "stdout",
     "output_type": "stream",
     "text": [
      "O deslocamento escalar do móvel foi de -18 km\n"
     ]
    }
   ],
   "source": [
    "# Primeiro calculamos o deslocamento escalar do móvel\n",
    "posicao_final = 32\n",
    "posicao_inicial = 50\n",
    "\n",
    "deslocamento_escalar = cinematica.calcular(\n",
    "    Basico.DESLOCAMENTO_ESCALAR,\n",
    "    S=posicao_final,\n",
    "    So=posicao_inicial\n",
    ")\n",
    "\n",
    "print(\"O deslocamento escalar do móvel foi de %d km\" % deslocamento_escalar)"
   ]
  },
  {
   "cell_type": "code",
   "execution_count": 3,
   "metadata": {
    "collapsed": true
   },
   "outputs": [],
   "source": [
    "# Calcular distancia percorrida do km 50 até o km 60\n",
    "posicao_inicial1 = 50\n",
    "posicao_final1 = 60\n",
    "\n",
    "distancia_percorrida1 = cinematica.calcular(\n",
    "    Basico.DISTANCIA_PERCORRIDA,\n",
    "    S=posicao_final1,\n",
    "    So=posicao_inicial1\n",
    ")"
   ]
  },
  {
   "cell_type": "code",
   "execution_count": 4,
   "metadata": {
    "collapsed": true
   },
   "outputs": [],
   "source": [
    "# Calcular distancia percorrida do km 60 até o km 32\n",
    "posicao_inicial2 = 60\n",
    "posicao_final2 = 32\n",
    "\n",
    "distancia_percorrida2 = cinematica.calcular(\n",
    "    Basico.DISTANCIA_PERCORRIDA,\n",
    "    S=posicao_final2,\n",
    "    So=posicao_inicial2\n",
    ")"
   ]
  },
  {
   "cell_type": "code",
   "execution_count": 5,
   "metadata": {},
   "outputs": [
    {
     "name": "stdout",
     "output_type": "stream",
     "text": [
      "A distância percorrida total do móvel foi de 38 km\n"
     ]
    }
   ],
   "source": [
    "# Calcular distancia percorrida total\n",
    "distancia_percorrida = distancia_percorrida1 + distancia_percorrida2\n",
    "\n",
    "print(\"A distância percorrida total do móvel foi de %d km\" % distancia_percorrida)"
   ]
  }
 ],
 "metadata": {
  "kernelspec": {
   "display_name": "Python 3",
   "language": "python",
   "name": "python3"
  },
  "language_info": {
   "codemirror_mode": {
    "name": "ipython",
    "version": 3
   },
   "file_extension": ".py",
   "mimetype": "text/x-python",
   "name": "python",
   "nbconvert_exporter": "python",
   "pygments_lexer": "ipython3",
   "version": "3.5.2"
  }
 },
 "nbformat": 4,
 "nbformat_minor": 2
}
