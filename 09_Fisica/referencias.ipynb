{
 "cells": [
  {
   "cell_type": "markdown",
   "metadata": {},
   "source": [
    "## Referências\n",
    "***\n",
    "\n",
    "Todo conteúdo de física foi retirado do site: http://fisicaevestibular.com.br/novo/ que disponibiliza de conteúdo gratuito e com toda teoria completa de FÍSICA explicada de maneira clara e objetiva com exercícios resolvidos por conteúdo."
   ]
  }
 ],
 "metadata": {
  "kernelspec": {
   "display_name": "Python 3",
   "language": "python",
   "name": "python3"
  },
  "language_info": {
   "codemirror_mode": {
    "name": "ipython",
    "version": 3
   },
   "file_extension": ".py",
   "mimetype": "text/x-python",
   "name": "python",
   "nbconvert_exporter": "python",
   "pygments_lexer": "ipython3",
   "version": "3.5.2"
  }
 },
 "nbformat": 4,
 "nbformat_minor": 2
}
