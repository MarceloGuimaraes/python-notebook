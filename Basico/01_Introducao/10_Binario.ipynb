{
 "cells": [
  {
   "cell_type": "markdown",
   "metadata": {},
   "source": [
    "# Binarios\n",
    "***"
   ]
  },
  {
   "cell_type": "markdown",
   "metadata": {},
   "source": [
    "**Exemplo**:\n",
    "\n",
    "$10 = 1010 = 1*2^3 + 0*2^2 + 1*2^1 + 0*2^0 = 8 + 0 + 2 + 0 = 10$\n",
    "\n",
    "```\n",
    " decimal - Binario\n",
    "   0     -    0\n",
    "   1     -    1\n",
    "   2     -   10\n",
    "   3     -   11\n",
    "   4     -  100\n",
    "   5     -  101\n",
    "   6     -  110\n",
    "   7     -  111\n",
    "   8     - 1000\n",
    "   9     - 1001\n",
    "   10    - 1010\n",
    "   ...\n",
    "```\n",
    "```\n",
    "... 64 32 16 8 4 2 1\n",
    "     1  0  1 1 1 0 1 = 64 + 16 + 8 + 4 + 1 = 93\n",
    "```\n",
    "\n",
    "**10.bit_length()**: Nos diz quantos bits a variável tem de memória, o número 10 precisa de 4 bits de memória 1010"
   ]
  },
  {
   "cell_type": "markdown",
   "metadata": {},
   "source": [
    "***\n",
    "#### TEORIA:\n",
    "***\n",
    "\n",
    "* Os computadores entendem impulsos eletricos, positivos ou negativos, que são representados por 1 ou 0 que pode ser chamado de códigos binários.\n",
    "\n",
    "\n",
    "* A cada impulso damos o nome de bit (binary digit).\n",
    "\n",
    "\n",
    "* Um conjunto de 8 bits reunidos como uma única unidade forma um byte\n",
    "\n",
    "\n",
    "* Nos computadores, representar 256 números binários é suficiente para que possamos lidar a contento com estas máquinas.\n",
    "\n",
    "\n",
    "* Assim, os bytes possuem 8 bits.\n",
    "\n",
    "\n",
    "* É só fazer os cálculos: como um bit representa dois tipos de valores (1 ou 0) e um byte representa 8 bits, basta 2 (do bit) elevado a 8 (do byte) que é igual a 256: $2^8 = 256$.\n",
    "\n",
    "\n",
    "* Os bytes representam todas as letras (maiúsculas e minúsculas), sinais de pontuação, acentos, caracteres especiais e até informações que não podemos ver, mas que servem para comandar o computador e que podem inclusive ser enviados pelo teclado ou por outro dispositivo de entrada de dados e instruções.\n",
    "\n",
    "\n",
    "* Os códigos binários admitem 2 possibilidades podendo ser, 0 ou 1, tudo ou nada, ligado ou desligado, false ou verdadeiro e por ai vai, sempre um sendo o oposto do outro\n",
    "\n",
    "\n",
    "* O código binario é realizado em potencias de 2\n",
    "\n",
    "\n",
    "* A tabela ASCII é a tabela que mostra todos os digitos e caracteres em forma binaria\n",
    "\n",
    "\n",
    "* 1 GB de RAM significa que temos 1024 megabytes que é $1024*1024$ kilobytes que é $1024*1024*1024$ bytes que é $1024*1024*1024*8$ bits, ou seja o número de espaços que minha memória contem para colocar algoritmos 0 e 1 é de mais ou menos 85 bilhões\n",
    "\n",
    "\n",
    "* Alocação de memória significa pegar um determinado número de bits da minha memória, seleciona-lo e ocupa-los com alguma informação qualquer, por exemplo quando guardamos um valor 10 em uma variável estamos armazenando na memória 4 bits que seria 1010, logo pega 4 espaços de memória para armazena-lo dos 85 bilhões\n",
    "\n",
    "\n",
    "* Existe um gerenciador de memória em python que irá lidar com o gerenciamento desses espaços que você precisa alocar para armazenar informações\n",
    "\n",
    "\n",
    "* Quando você atribui uma variável a outra, por exemplo, $a = b$, você está criando dois espaços de memória diferente, porém se você atribuir uma lista a outra, as duas listas estarão no mesmo espaço de memória, com isso podemos concluir que a lista armazena o endereço dos espaços de memória e não seu valor, logo quando atribui uma lista a outra ta passando o endereço da lista1 para a lista2, logo se modificar uma lista, também modificará a outra já que elas estão no mesmo espaço de memória"
   ]
  },
  {
   "cell_type": "markdown",
   "metadata": {},
   "source": [
    "***\n",
    "#### Prática\n",
    "***"
   ]
  },
  {
   "cell_type": "markdown",
   "metadata": {},
   "source": [
    "O operador Bitwise funciona em bits e executa operação bit a bit.\n",
    "\n",
    "Suponha se $a = 60$ e $b = 13$.\n",
    "\n",
    "Agora, em formato binário, serão os seguintes: $a = 0011 1100$ e $b = 0000 1101$\n",
    "\n",
    "Temos 4 tipos de operadores:\n",
    "\n",
    "* **&**: AND\n",
    "\n",
    "```\n",
    "    0 & 0 = 0\n",
    "    0 & 1 = 0\n",
    "    1 & 0 = 0\n",
    "    1 & 1 = 1\n",
    "```\n",
    "\n",
    "* **|**: OR\n",
    "\n",
    "```\n",
    "    0 | 0 = 0\n",
    "    0 | 1 = 1\n",
    "    1 | 0 = 1\n",
    "    1 | 1 = 1\n",
    "```\n",
    "\n",
    "* **^**: XOR\n",
    "\n",
    "```\n",
    "    0 | 0 = 0\n",
    "    0 | 1 = 1\n",
    "    1 | 0 = 1\n",
    "    1 | 1 = 0\n",
    "```\n",
    "\n",
    "* **~**: NOT\n",
    "\n",
    "```\n",
    "    ~0 = 1\n",
    "    ~1 = 0\n",
    "```\n",
    "\n",
    "* **<<**: Mudança binaria a esquerda\n",
    "\n",
    "```\n",
    "    60 << 2: andar 2 bits a esquerda\n",
    "    0011 1100 -> 1111 0000\n",
    "```\n",
    "\n",
    "* **>>**: Mudança binaria a direita\n",
    "\n",
    "```\n",
    "    60 >> 2: andar 2 bits a direita\n",
    "    0011 1100 -> 0000 1111\n",
    "```"
   ]
  },
  {
   "cell_type": "markdown",
   "metadata": {},
   "source": [
    "***"
   ]
  },
  {
   "cell_type": "code",
   "execution_count": 2,
   "metadata": {},
   "outputs": [],
   "source": [
    "# Inicializar os binarios\n",
    "a = 60 # 0011 1100\n",
    "b = 13 # 0000 1101\n",
    "c = 0"
   ]
  },
  {
   "cell_type": "code",
   "execution_count": 3,
   "metadata": {},
   "outputs": [
    {
     "name": "stdout",
     "output_type": "stream",
     "text": [
      "12\n"
     ]
    }
   ],
   "source": [
    "# a = 60 = 0011 1100\n",
    "# b = 13 = 0000 1101\n",
    "# c = 12 = 0000 1100\n",
    "c = a & b\n",
    "print(c)"
   ]
  },
  {
   "cell_type": "code",
   "execution_count": 4,
   "metadata": {},
   "outputs": [
    {
     "name": "stdout",
     "output_type": "stream",
     "text": [
      "61\n"
     ]
    }
   ],
   "source": [
    "# a = 60 = 0011 1100\n",
    "# b = 13 = 0000 1101\n",
    "# c = 61 = 0011 1101\n",
    "c = a | b\n",
    "print(c)"
   ]
  },
  {
   "cell_type": "code",
   "execution_count": 5,
   "metadata": {},
   "outputs": [
    {
     "name": "stdout",
     "output_type": "stream",
     "text": [
      "49\n"
     ]
    }
   ],
   "source": [
    "# a = 60 = 0011 1100\n",
    "# b = 13 = 0000 1101\n",
    "# c = 49 = 0011 0001\n",
    "c = a ^ b\n",
    "print(c)"
   ]
  },
  {
   "cell_type": "code",
   "execution_count": 6,
   "metadata": {},
   "outputs": [
    {
     "name": "stdout",
     "output_type": "stream",
     "text": [
      "-61\n"
     ]
    }
   ],
   "source": [
    "# a = 60  = 0011 1100\n",
    "# c = -61 = 1100 0011\n",
    "c = ~a\n",
    "print(c)"
   ]
  },
  {
   "cell_type": "code",
   "execution_count": 7,
   "metadata": {},
   "outputs": [
    {
     "name": "stdout",
     "output_type": "stream",
     "text": [
      "240\n"
     ]
    }
   ],
   "source": [
    "# a = 60  = 0011 1100\n",
    "# c = 240 = 1111 0000\n",
    "c = a << 2\n",
    "print(c)"
   ]
  },
  {
   "cell_type": "code",
   "execution_count": 8,
   "metadata": {},
   "outputs": [
    {
     "name": "stdout",
     "output_type": "stream",
     "text": [
      "15\n"
     ]
    }
   ],
   "source": [
    "# a = 60 = 0011 1100\n",
    "# c = 15 = 0000 1111\n",
    "c = a >> 2\n",
    "print(c)"
   ]
  }
 ],
 "metadata": {
  "kernelspec": {
   "display_name": "Python 3",
   "language": "python",
   "name": "python3"
  },
  "language_info": {
   "codemirror_mode": {
    "name": "ipython",
    "version": 3
   },
   "file_extension": ".py",
   "mimetype": "text/x-python",
   "name": "python",
   "nbconvert_exporter": "python",
   "pygments_lexer": "ipython3",
   "version": "3.5.2"
  }
 },
 "nbformat": 4,
 "nbformat_minor": 2
}
