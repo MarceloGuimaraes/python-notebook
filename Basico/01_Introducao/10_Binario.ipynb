{
 "cells": [
  {
   "cell_type": "markdown",
   "metadata": {},
   "source": [
    "# Binarios\n",
    "***"
   ]
  },
  {
   "cell_type": "markdown",
   "metadata": {},
   "source": [
    "**Exemplo**:\n",
    "\n",
    "$10 = 1010 = 1*2^3 + 0*2^2 + 1*2^1 + 0*2^0 = 8 + 0 + 2 + 0 = 10$\n",
    "\n",
    "```\n",
    " decimal - Binario\n",
    "   0     -    0\n",
    "   1     -    1\n",
    "   2     -   10\n",
    "   3     -   11\n",
    "   4     -  100\n",
    "   5     -  101\n",
    "   6     -  110\n",
    "   7     -  111\n",
    "   8     - 1000\n",
    "   9     - 1001\n",
    "   10    - 1010\n",
    "   ...\n",
    "```\n",
    "```\n",
    "... 64 32 16 8 4 2 1\n",
    "     1  0  1 1 1 0 1 = 64 + 16 + 8 + 4 + 1 = 93\n",
    "```\n",
    "\n",
    "**10.bit_length()**: Nos diz quantos bits a variável tem de memória, o número 10 precisa de 4 bits de memória 1010"
   ]
  },
  {
   "cell_type": "markdown",
   "metadata": {},
   "source": [
    "***\n",
    "#### TEORIA:\n",
    "***\n",
    "\n",
    "* Os computadores entendem impulsos eletricos, positivos ou negativos, que são representados por 1 ou 0 que pode ser chamado de códigos binários.\n",
    "\n",
    "\n",
    "* A cada impulso damos o nome de bit (binary digit).\n",
    "\n",
    "\n",
    "* Um conjunto de 8 bits reunidos como uma única unidade forma um byte\n",
    "\n",
    "\n",
    "* Nos computadores, representar 256 números binários é suficiente para que possamos lidar a contento com estas máquinas.\n",
    "\n",
    "\n",
    "* Assim, os bytes possuem 8 bits.\n",
    "\n",
    "\n",
    "* É só fazer os cálculos: como um bit representa dois tipos de valores (1 ou 0) e um byte representa 8 bits, basta 2 (do bit) elevado a 8 (do byte) que é igual a 256: $2^8 = 256$.\n",
    "\n",
    "\n",
    "* Os bytes representam todas as letras (maiúsculas e minúsculas), sinais de pontuação, acentos, caracteres especiais e até informações que não podemos ver, mas que servem para comandar o computador e que podem inclusive ser enviados pelo teclado ou por outro dispositivo de entrada de dados e instruções.\n",
    "\n",
    "\n",
    "* Os códigos binários admitem 2 possibilidades podendo ser, 0 ou 1, tudo ou nada, ligado ou desligado, false ou verdadeiro e por ai vai, sempre um sendo o oposto do outro\n",
    "\n",
    "\n",
    "* O código binario é realizado em potencias de 2\n",
    "\n",
    "\n",
    "* A tabela ASCII é a tabela que mostra todos os digitos e caracteres em forma binaria\n",
    "\n",
    "\n",
    "* 1 GB de RAM significa que temos 1024 megabytes que é $1024*1024$ kilobytes que é $1024*1024*1024$ bytes que é $1024*1024*1024*8$ bits, ou seja o número de espaços que minha memória contem para colocar algoritmos 0 e 1 é de mais ou menos 85 bilhões\n",
    "\n",
    "\n",
    "* Alocação de memória significa pegar um determinado número de bits da minha memória, seleciona-lo e ocupa-los com alguma informação qualquer, por exemplo quando guardamos um valor 10 em uma variável estamos armazenando na memória 4 bits que seria 1010, logo pega 4 espaços de memória para armazena-lo dos 85 bilhões\n",
    "\n",
    "\n",
    "* Existe um gerenciador de memória em python que irá lidar com o gerenciamento desses espaços que você precisa alocar para armazenar informações\n",
    "\n",
    "\n",
    "* Quando você atribui uma variável a outra, por exemplo, $a = b$, você está criando dois espaços de memória diferente, porém se você atribuir uma lista a outra, as duas listas estarão no mesmo espaço de memória, com isso podemos concluir que a lista armazena o endereço dos espaços de memória e não seu valor, logo quando atribui uma lista a outra ta passando o endereço da lista1 para a lista2, logo se modificar uma lista, também modificará a outra já que elas estão no mesmo espaço de memória"
   ]
  }
 ],
 "metadata": {
  "kernelspec": {
   "display_name": "Python 3",
   "language": "python",
   "name": "python3"
  },
  "language_info": {
   "codemirror_mode": {
    "name": "ipython",
    "version": 3
   },
   "file_extension": ".py",
   "mimetype": "text/x-python",
   "name": "python",
   "nbconvert_exporter": "python",
   "pygments_lexer": "ipython3",
   "version": "3.5.2"
  }
 },
 "nbformat": 4,
 "nbformat_minor": 2
}
