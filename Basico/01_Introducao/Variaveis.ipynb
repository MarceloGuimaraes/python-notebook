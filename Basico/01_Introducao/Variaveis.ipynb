{
 "cells": [
  {
   "cell_type": "markdown",
   "metadata": {},
   "source": [
    "# Variáveis\n",
    "***"
   ]
  },
  {
   "cell_type": "markdown",
   "metadata": {},
   "source": [
    "* O sinal de $=$ é um sinal de atribuição\n",
    "\n",
    "\n",
    "* Podemos criar quantas variáveis quiser\n",
    "\n",
    "\n",
    "* $x = y = z = 0$, todas as variaveis vão zerar\n",
    "\n",
    "\n",
    "* No python não precisa especificar o tipo de variável como em outras linguagens"
   ]
  },
  {
   "cell_type": "markdown",
   "metadata": {},
   "source": [
    "***\n",
    "### Regras de nomeclatura de variáveis\n",
    "***"
   ]
  },
  {
   "cell_type": "markdown",
   "metadata": {},
   "source": [
    "1. Não posso escreve nome da variável com espaço\n",
    "\n",
    "2. Não posso usar caracteres especiais para criar variáveis, por exemplo ```#,!,,$,%,&,...```\n",
    "\n",
    "3. Pode usar acentos e **ç** nas variáveis, porém não é uma boa prática\n",
    "\n",
    "4. Crie variáveis e códigos sempre em ingles, boas práticas\n",
    "\n",
    "5. Pode-se usar underline **_** no nome das variáveis, snake, boa prática, porém se quiser usar camelCase também pode\n",
    "\n",
    "6. Não se pode nomear variáves com nomes chaves da linguagem, por exemplo, **class**, **while**, **for**...\n",
    "\n",
    "7. Não use nomes como **int**, **float**, **print**, **sum** e etc... , não é uma boa prática"
   ]
  },
  {
   "cell_type": "markdown",
   "metadata": {},
   "source": [
    "***\n",
    "### Palavras reservadas do python\n",
    "***"
   ]
  },
  {
   "cell_type": "markdown",
   "metadata": {},
   "source": [
    "* and, as, assert, break, class, continue, def\n",
    "* del, elif, else, except, nonlocal/exec, finally, for\n",
    "* from, global, if, import, in, is, lambda\n",
    "* not, or, pass, print, raise, return, try\n",
    "* while, with, yield"
   ]
  },
  {
   "cell_type": "markdown",
   "metadata": {},
   "source": [
    "***\n",
    "### Tipos de variáveis\n",
    "***"
   ]
  },
  {
   "cell_type": "markdown",
   "metadata": {},
   "source": [
    "* **int**: Tipo inteiro, . . . , -3, -2, -1, 0, 1, 2, 3, . . .\n",
    "* **float**: Tipo de ponto flutuante, . . . , -3.2, 0.5, 4.4 . . .\n",
    "* **string**: Texto ou palavras, \"Texto ou string\"\n",
    "* **object**: Objetos\n",
    "* etc. . ."
   ]
  },
  {
   "cell_type": "markdown",
   "metadata": {},
   "source": [
    "***\n",
    "### Exemplo\n",
    "***"
   ]
  },
  {
   "cell_type": "code",
   "execution_count": 1,
   "metadata": {},
   "outputs": [
    {
     "name": "stdout",
     "output_type": "stream",
     "text": [
      "Minha idade é 23\n"
     ]
    }
   ],
   "source": [
    "age = 23\n",
    "print(\"Minha idade é\", age)"
   ]
  },
  {
   "cell_type": "code",
   "execution_count": 2,
   "metadata": {},
   "outputs": [
    {
     "name": "stdout",
     "output_type": "stream",
     "text": [
      "Já se passaram 2 anos, logo minha idade agora é 25\n"
     ]
    }
   ],
   "source": [
    "age = 25\n",
    "print(\"Já se passaram 2 anos, logo minha idade agora é\", age)"
   ]
  },
  {
   "cell_type": "code",
   "execution_count": 3,
   "metadata": {},
   "outputs": [
    {
     "name": "stdout",
     "output_type": "stream",
     "text": [
      "Minha nova idade é 25\n"
     ]
    }
   ],
   "source": [
    "new_age = age\n",
    "print(\"Minha nova idade é\", new_age)"
   ]
  },
  {
   "cell_type": "code",
   "execution_count": 4,
   "metadata": {},
   "outputs": [
    {
     "name": "stdout",
     "output_type": "stream",
     "text": [
      "x = 10 y = 20 z = 30\n"
     ]
    }
   ],
   "source": [
    "x = 10\n",
    "y = 20\n",
    "z = 30\n",
    "print(\"x =\", x, \"y =\", y, \"z =\", z)"
   ]
  },
  {
   "cell_type": "code",
   "execution_count": 5,
   "metadata": {},
   "outputs": [
    {
     "name": "stdout",
     "output_type": "stream",
     "text": [
      "x = 20 y = 20 z = 30\n"
     ]
    }
   ],
   "source": [
    "x = y\n",
    "print(\"x =\", x, \"y =\", y, \"z =\", z)"
   ]
  },
  {
   "cell_type": "code",
   "execution_count": 6,
   "metadata": {},
   "outputs": [
    {
     "name": "stdout",
     "output_type": "stream",
     "text": [
      "x = 30 y = 30 z = 30\n"
     ]
    }
   ],
   "source": [
    "x = y = z\n",
    "print(\"x =\", x, \"y =\", y, \"z =\", z)"
   ]
  }
 ],
 "metadata": {
  "kernelspec": {
   "display_name": "Python 3",
   "language": "python",
   "name": "python3"
  },
  "language_info": {
   "codemirror_mode": {
    "name": "ipython",
    "version": 3
   },
   "file_extension": ".py",
   "mimetype": "text/x-python",
   "name": "python",
   "nbconvert_exporter": "python",
   "pygments_lexer": "ipython3",
   "version": "3.5.2"
  }
 },
 "nbformat": 4,
 "nbformat_minor": 2
}
