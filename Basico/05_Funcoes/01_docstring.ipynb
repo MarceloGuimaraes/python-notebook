{
 "cells": [
  {
   "cell_type": "markdown",
   "metadata": {},
   "source": [
    "# Docstring\n",
    "***"
   ]
  },
  {
   "cell_type": "markdown",
   "metadata": {},
   "source": [
    "Docstring é muito usado para documentar funções publicas, classes e arquivos, elas aparecem no comando **help()**"
   ]
  },
  {
   "cell_type": "markdown",
   "metadata": {},
   "source": [
    "***\n",
    "#### Exemplos\n",
    "***"
   ]
  },
  {
   "cell_type": "code",
   "execution_count": 1,
   "metadata": {
    "collapsed": true
   },
   "outputs": [],
   "source": [
    "def sum_numbers(number1, number2):\n",
    "    \"\"\"\n",
    "    Function that adds two integers numbers\n",
    "    \n",
    "    This function takes the sum of two integers passed as a parameter and \n",
    "    returns the sum of both\n",
    "    \n",
    "        @param number1: First number -> int\n",
    "        @param number2: Second number -> int\n",
    "    \n",
    "        @return: Sum of two integers -> int\n",
    "    \n",
    "    Example:\n",
    "    \n",
    "        sum_numbers(10, 20)\n",
    "        # 30\n",
    "        \n",
    "    \"\"\"\n",
    "    \n",
    "    sum_of_numbers = number1 + number2\n",
    "    return sum_of_numbers"
   ]
  },
  {
   "cell_type": "code",
   "execution_count": 2,
   "metadata": {},
   "outputs": [
    {
     "name": "stdout",
     "output_type": "stream",
     "text": [
      "30\n"
     ]
    }
   ],
   "source": [
    "print(sum_numbers(10, 20))"
   ]
  },
  {
   "cell_type": "markdown",
   "metadata": {},
   "source": [
    "***"
   ]
  },
  {
   "cell_type": "code",
   "execution_count": 3,
   "metadata": {},
   "outputs": [
    {
     "name": "stdout",
     "output_type": "stream",
     "text": [
      "Help on function sum_numbers in module __main__:\n",
      "\n",
      "sum_numbers(number1, number2)\n",
      "    Function that adds two integers numbers\n",
      "    \n",
      "    This function takes the sum of two integers passed as a parameter and \n",
      "    returns the sum of both\n",
      "    \n",
      "        @param number1: First number -> int\n",
      "        @param number2: Second number -> int\n",
      "    \n",
      "        @return: Sum of two integers -> int\n",
      "    \n",
      "    Example:\n",
      "    \n",
      "        sum_numbers(10, 20)\n",
      "        # 30\n",
      "\n",
      "None\n"
     ]
    }
   ],
   "source": [
    "print(help(sum_numbers))"
   ]
  }
 ],
 "metadata": {
  "kernelspec": {
   "display_name": "Python 3",
   "language": "python",
   "name": "python3"
  },
  "language_info": {
   "codemirror_mode": {
    "name": "ipython",
    "version": 3
   },
   "file_extension": ".py",
   "mimetype": "text/x-python",
   "name": "python",
   "nbconvert_exporter": "python",
   "pygments_lexer": "ipython3",
   "version": "3.5.2"
  }
 },
 "nbformat": 4,
 "nbformat_minor": 2
}
