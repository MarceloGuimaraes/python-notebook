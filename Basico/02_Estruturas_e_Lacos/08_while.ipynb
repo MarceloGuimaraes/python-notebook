{
 "cells": [
  {
   "cell_type": "markdown",
   "metadata": {},
   "source": [
    "# while\n",
    "***"
   ]
  },
  {
   "cell_type": "markdown",
   "metadata": {},
   "source": [
    "* O laço while sempre precisa de um criterio de parada, no caso o criterio é o contador chegar no expoente passado\n",
    "\n",
    "\n",
    "* $2^3 = (((1\\times2)\\times2)\\times2) = 8$, cada () significa uma iteração do laço acima"
   ]
  },
  {
   "cell_type": "markdown",
   "metadata": {},
   "source": [
    "***\n",
    "### Exemplo\n",
    "***\n",
    "\n",
    "Faça um programa que peça dois números, base e expoente, calcule e mostre o primeiro número elevado ao segundo número. Não utilize a função potência da linguagem\n",
    "\n",
    "$2^3 = 1\\times2\\times2\\times2 = 8$\n",
    "\n",
    "$2^0 = 1$"
   ]
  },
  {
   "cell_type": "code",
   "execution_count": 1,
   "metadata": {},
   "outputs": [
    {
     "name": "stdout",
     "output_type": "stream",
     "text": [
      "Insira a base: 2\n",
      "Insira o expoente: 4\n"
     ]
    }
   ],
   "source": [
    "base = int(input(\"Insira a base: \"))\n",
    "exponent = int(input(\"Insira o expoente: \"))"
   ]
  },
  {
   "cell_type": "code",
   "execution_count": 2,
   "metadata": {
    "collapsed": true
   },
   "outputs": [],
   "source": [
    "# Inicializa o contador com zero para que ele chegue até o valor do expoente\n",
    "counter = 0\n",
    "# Inicializa o resultado com 1 para que a primeira multiplicação seja feita, e tb para cobrir o caso de 2**0 = 1\n",
    "result = 1"
   ]
  },
  {
   "cell_type": "code",
   "execution_count": 3,
   "metadata": {
    "collapsed": true
   },
   "outputs": [],
   "source": [
    "while counter < exponent:\n",
    "    result = result * base\n",
    "    counter = counter + 1"
   ]
  },
  {
   "cell_type": "code",
   "execution_count": 4,
   "metadata": {},
   "outputs": [
    {
     "name": "stdout",
     "output_type": "stream",
     "text": [
      "2 elevado a 4 = 16\n"
     ]
    }
   ],
   "source": [
    "print(base, \"elevado a\", exponent, \"=\", result)"
   ]
  }
 ],
 "metadata": {
  "kernelspec": {
   "display_name": "Python 3",
   "language": "python",
   "name": "python3"
  },
  "language_info": {
   "codemirror_mode": {
    "name": "ipython",
    "version": 3
   },
   "file_extension": ".py",
   "mimetype": "text/x-python",
   "name": "python",
   "nbconvert_exporter": "python",
   "pygments_lexer": "ipython3",
   "version": "3.5.2"
  }
 },
 "nbformat": 4,
 "nbformat_minor": 2
}
