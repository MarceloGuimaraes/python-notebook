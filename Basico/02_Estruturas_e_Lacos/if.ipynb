{
 "cells": [
  {
   "cell_type": "markdown",
   "metadata": {},
   "source": [
    "# If\n",
    "***"
   ]
  },
  {
   "cell_type": "markdown",
   "metadata": {},
   "source": [
    "* O python utiliza de tabulação para a execução de blocos de código e dois pontos para iniciar um bloco\n",
    "\n",
    "\n",
    "* O bloco if tem uma condição que se satisfeita cai no primeiro print caso contrario ou else cai no segundo print"
   ]
  },
  {
   "cell_type": "markdown",
   "metadata": {},
   "source": [
    "***\n",
    "### Exemplo\n",
    "***\n",
    "\n",
    "Faça um programa para um caixa eletronico, o programa deve perguntar ao usuário o valor do saque e depois informar quantas notas de cada valor serão fornecidas. As notas disponiveis serão 1, 5, 10, 50 e 100 reais. O valor mínimo de saque é 10 e o máximo é 600 reais."
   ]
  },
  {
   "cell_type": "code",
   "execution_count": 3,
   "metadata": {},
   "outputs": [
    {
     "name": "stdout",
     "output_type": "stream",
     "text": [
      "Digite o valor do saque: 354\n"
     ]
    }
   ],
   "source": [
    "# Primeiro vamos inserir o valor do saque\n",
    "cash = int(input(\"Digite o valor do saque: \"))"
   ]
  },
  {
   "cell_type": "code",
   "execution_count": 4,
   "metadata": {},
   "outputs": [
    {
     "name": "stdout",
     "output_type": "stream",
     "text": [
      "3 notas de R$ 100,00\n",
      "1 notas de R$ 50,00\n",
      "4 notas de R$ 1,00\n"
     ]
    }
   ],
   "source": [
    "# A logica é realizar uma divisão inteira pelas cedulas, no caso 100, 50, 10, 5 e 1 e retornar o resto da\n",
    "# divisão a variavel cash, armazendo a quantidade de cedulas\n",
    "if 10 <= cash <= 600:\n",
    "    hundred_notes = cash // 100\n",
    "    cash = cash % 100\n",
    "    \n",
    "    fifty_notes = cash // 50\n",
    "    cash = cash % 50\n",
    "    \n",
    "    ten_notes = cash // 10\n",
    "    cash = cash % 10\n",
    "    \n",
    "    five_notes = cash // 5\n",
    "    cash = cash % 5\n",
    "    \n",
    "    one_notes = cash // 1\n",
    "\n",
    "    if hundred_notes > 0:\n",
    "        print(hundred_notes, \"notas de R$ 100,00\")\n",
    "    if fifty_notes > 0:\n",
    "        print(fifty_notes, \"notas de R$ 50,00\")\n",
    "    if ten_notes > 0:\n",
    "        print(ten_notes, \"notas de R$ 10,00\")\n",
    "    if five_notes > 0:\n",
    "        print(five_notes, \"notas de R$ 5,00\")\n",
    "    if one_notes > 0:\n",
    "        print(one_notes, \"notas de R$ 1,00\")\n",
    "else:\n",
    "    print(\"Não foi possivel realizar o saque, limite entre 10 a 600 reais\")"
   ]
  }
 ],
 "metadata": {
  "kernelspec": {
   "display_name": "Python 3",
   "language": "python",
   "name": "python3"
  },
  "language_info": {
   "codemirror_mode": {
    "name": "ipython",
    "version": 3
   },
   "file_extension": ".py",
   "mimetype": "text/x-python",
   "name": "python",
   "nbconvert_exporter": "python",
   "pygments_lexer": "ipython3",
   "version": "3.5.2"
  }
 },
 "nbformat": 4,
 "nbformat_minor": 2
}
