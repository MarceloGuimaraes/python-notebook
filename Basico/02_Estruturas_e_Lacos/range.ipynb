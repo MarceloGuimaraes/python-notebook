{
 "cells": [
  {
   "cell_type": "markdown",
   "metadata": {},
   "source": [
    "# range\n",
    "***"
   ]
  },
  {
   "cell_type": "markdown",
   "metadata": {},
   "source": [
    "* **for i in range(10)**: Percorremos uma sequência atribuindo a cada ciclo um números dado pelo **range()**, no caso do **range(10)**, cada ciclo tivemos um valor da sequência do **range(10) = 0, 1, 2, 3, 4, . . . , 9** e atribuimos esse valor a variável **count**\n",
    "\n",
    "  - **Primeiro ciclo**: temos que i = 0\n",
    "  - **Segundo ciclo**: temos que i = 1\n",
    "  - ...\n",
    "  - **No ultimo ciclo**: temos que i = 9\n",
    "  \n",
    "  \n",
    "* A sequência que os ciclos percorrem, pode ser númerica, palavras, objetos e etc...\n",
    "\n",
    "\n",
    "* Usamos o ciclo **for** para percorrer uma determinada sequência que sabemos o seu final.\n",
    "\n",
    "\n",
    "* Usamos o ciclo **while** para percorrer uma determinada sequência sabendo o seu final ou não.\n",
    "\n",
    "\n",
    "* **range()** é um tipo de dado como um número inteiro ou um número real, que cria uma sequência de números e essa sequência de número será atribuida a cada ciclo, ele pode ser considerado uma função de incremento do laço **for**\n",
    "\n",
    "\n",
    "* **range** é um ciclo while cuja a condição de parada é o valo inserido nele como parâmetro\n",
    "\n",
    "\n",
    "* Lembrando que o **range()** sempre vai até o valor antes do valor inserindo como parâmetro, por exemplo, se for **range(5)** sera do 0 até o 4, se for **range(1, 10)** será do 1 até o 9"
   ]
  },
  {
   "cell_type": "code",
   "execution_count": 10,
   "metadata": {},
   "outputs": [
    {
     "name": "stdout",
     "output_type": "stream",
     "text": [
      "0123456789"
     ]
    }
   ],
   "source": [
    "for i in range(10):\n",
    "    print(i, end='')"
   ]
  },
  {
   "cell_type": "code",
   "execution_count": 11,
   "metadata": {},
   "outputs": [
    {
     "name": "stdout",
     "output_type": "stream",
     "text": [
      "012345"
     ]
    }
   ],
   "source": [
    "for i in range(6):\n",
    "    print(i, end='')"
   ]
  },
  {
   "cell_type": "code",
   "execution_count": 12,
   "metadata": {},
   "outputs": [
    {
     "name": "stdout",
     "output_type": "stream",
     "text": [
      "2345"
     ]
    }
   ],
   "source": [
    "for i in range(2,6):\n",
    "    print(i, end='')"
   ]
  },
  {
   "cell_type": "code",
   "execution_count": 15,
   "metadata": {},
   "outputs": [
    {
     "name": "stdout",
     "output_type": "stream",
     "text": [
      "2468"
     ]
    }
   ],
   "source": [
    "# range(valor_inicial, valor_final-incremento, incremento)\n",
    "for i in range(2, 10, 2):\n",
    "    print(i, end='')"
   ]
  },
  {
   "cell_type": "code",
   "execution_count": 16,
   "metadata": {},
   "outputs": [
    {
     "name": "stdout",
     "output_type": "stream",
     "text": [
      "97531"
     ]
    }
   ],
   "source": [
    "# range(valor_final, valo_inicial-incremento, -incremento)\n",
    "for i in range(9, 0, -2):\n",
    "    print(i, end='')"
   ]
  },
  {
   "cell_type": "markdown",
   "metadata": {},
   "source": [
    "***\n",
    "### Exemplo\n",
    "***"
   ]
  },
  {
   "cell_type": "markdown",
   "metadata": {},
   "source": [
    "#### Calcule n! usando for loop crescente e decrescente\n",
    "\n",
    "$5! = 5\\times4\\times3\\times2\\times1$\n",
    "\n",
    "$0! = 1$"
   ]
  },
  {
   "cell_type": "code",
   "execution_count": 17,
   "metadata": {},
   "outputs": [
    {
     "name": "stdout",
     "output_type": "stream",
     "text": [
      "Digite o valor de n: 5\n"
     ]
    }
   ],
   "source": [
    "n = int(input(\"Digite o valor de n: \"))"
   ]
  },
  {
   "cell_type": "code",
   "execution_count": 18,
   "metadata": {
    "collapsed": true
   },
   "outputs": [],
   "source": [
    "factorial = 1"
   ]
  },
  {
   "cell_type": "code",
   "execution_count": 19,
   "metadata": {
    "collapsed": true
   },
   "outputs": [],
   "source": [
    "for fat in range(1, n+1):\n",
    "    factorial *= fat"
   ]
  },
  {
   "cell_type": "code",
   "execution_count": 20,
   "metadata": {},
   "outputs": [
    {
     "name": "stdout",
     "output_type": "stream",
     "text": [
      "5! é igual a 120\n"
     ]
    }
   ],
   "source": [
    "print(\"%d! é igual a %d\" % (n, factorial))"
   ]
  }
 ],
 "metadata": {
  "kernelspec": {
   "display_name": "Python 3",
   "language": "python",
   "name": "python3"
  },
  "language_info": {
   "codemirror_mode": {
    "name": "ipython",
    "version": 3
   },
   "file_extension": ".py",
   "mimetype": "text/x-python",
   "name": "python",
   "nbconvert_exporter": "python",
   "pygments_lexer": "ipython3",
   "version": "3.5.2"
  }
 },
 "nbformat": 4,
 "nbformat_minor": 2
}
