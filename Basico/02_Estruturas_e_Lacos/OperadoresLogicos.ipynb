{
 "cells": [
  {
   "cell_type": "markdown",
   "metadata": {},
   "source": [
    "# Operadores Lógicos\n",
    "***"
   ]
  },
  {
   "cell_type": "markdown",
   "metadata": {},
   "source": [
    "#### Operadores de comparação:\n",
    "\n",
    "```\n",
    "  <, >, <=, >=, ==, !=\n",
    "```\n",
    "\n",
    "####  AND:\n",
    "\n",
    "* False and False = False\n",
    "* False and True = False\n",
    "* True and False = False\n",
    "* True and True = True\n",
    "    \n",
    "#### OR:\n",
    "\n",
    "* False or False = False\n",
    "* False or True = True\n",
    "* True or False = True\n",
    "* True or True = True\n"
   ]
  },
  {
   "cell_type": "markdown",
   "metadata": {},
   "source": [
    "***\n",
    "### Exemplo\n",
    "***"
   ]
  },
  {
   "cell_type": "markdown",
   "metadata": {},
   "source": [
    "#### Dados 3 números naturais, verifique se eles formam os lados de um triangulo retangulo. A soma dos quadrados de dois lados (catetos) tem que dar o terceiro lado (hipotenusa)\n",
    "\n",
    "$lado1^2 + lado2^2 = lado3^2$\n",
    "\n",
    "$lado3^2 + lado1^2 = lado2^2$\n",
    "\n",
    "$lado2^2 + lado3^2 = lado1^2$\n",
    "***"
   ]
  },
  {
   "cell_type": "code",
   "execution_count": 1,
   "metadata": {},
   "outputs": [
    {
     "name": "stdout",
     "output_type": "stream",
     "text": [
      "Insira o primeiro lado: 5\n",
      "Insira o segundo lado: 3\n",
      "Insira o terceiro lado: 8\n"
     ]
    }
   ],
   "source": [
    "side1 = int(input(\"Insira o primeiro lado: \"))\n",
    "side2 = int(input(\"Insira o segundo lado: \"))\n",
    "side3 = int(input(\"Insira o terceiro lado: \"))"
   ]
  },
  {
   "cell_type": "code",
   "execution_count": 2,
   "metadata": {
    "collapsed": true
   },
   "outputs": [],
   "source": [
    "condition1 = side1**2 + side2**2 == side3**2\n",
    "condition2 = side3**2 + side1**2 == side2**2\n",
    "condition3 = side2**2 + side3**2 == side1**2"
   ]
  },
  {
   "cell_type": "code",
   "execution_count": 3,
   "metadata": {},
   "outputs": [
    {
     "name": "stdout",
     "output_type": "stream",
     "text": [
      "O triangulo não é retangulo\n"
     ]
    }
   ],
   "source": [
    "if condition1 or condition2 or condition3:\n",
    "    print(\"O triangulo é retangulo\")\n",
    "else:\n",
    "    print(\"O triangulo não é retangulo\")"
   ]
  }
 ],
 "metadata": {
  "kernelspec": {
   "display_name": "Python 3",
   "language": "python",
   "name": "python3"
  },
  "language_info": {
   "codemirror_mode": {
    "name": "ipython",
    "version": 3
   },
   "file_extension": ".py",
   "mimetype": "text/x-python",
   "name": "python",
   "nbconvert_exporter": "python",
   "pygments_lexer": "ipython3",
   "version": "3.5.2"
  }
 },
 "nbformat": 4,
 "nbformat_minor": 2
}
