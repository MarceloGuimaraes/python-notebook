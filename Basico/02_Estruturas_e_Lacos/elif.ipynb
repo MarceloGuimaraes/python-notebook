{
 "cells": [
  {
   "cell_type": "markdown",
   "metadata": {},
   "source": [
    "# elif\n",
    "***"
   ]
  },
  {
   "cell_type": "markdown",
   "metadata": {},
   "source": [
    "* Se em qualquer uma das condições der verdadeiro ele não executa nenhuma das outras\n",
    "\n",
    "\n",
    "* Ele depende de as condições acima delas serem falsas para que possa ser executado\n",
    "\n",
    "\n",
    "* Se todas as condições forem falsas cai no else que é a condição final\n",
    "\n",
    "\n",
    "* Sempre alguma codição irá ser executada\n",
    "\n",
    "\n",
    "* Normalmente as comparações do **if elif else** estão associadas as mesmas variáveis, podendo ser de variáveis diferentes desde que elas estejam ligadas ao mesmo fenomeno e a dos multiplos if são de variáveis diferentes para cada if \n",
    " \n",
    " \n",
    "* Normalmente o **if elif else** excluir condições para que uma condição possa se concretizar"
   ]
  },
  {
   "cell_type": "markdown",
   "metadata": {},
   "source": [
    "***\n",
    "### Exemplo\n",
    "***"
   ]
  },
  {
   "cell_type": "markdown",
   "metadata": {},
   "source": [
    "#### Faça um programa que leia três números e mostre-os em ordem descrescente"
   ]
  },
  {
   "cell_type": "code",
   "execution_count": 1,
   "metadata": {},
   "outputs": [
    {
     "name": "stdout",
     "output_type": "stream",
     "text": [
      "Digite o primeiro número: 10\n",
      "Digite o segundo número: 20\n",
      "Digite o terceiro número: 30\n"
     ]
    }
   ],
   "source": [
    "n1 = int(input(\"Digite o primeiro número: \"))\n",
    "n2 = int(input(\"Digite o segundo número: \"))\n",
    "n3 = int(input(\"Digite o terceiro número: \"))"
   ]
  },
  {
   "cell_type": "code",
   "execution_count": 2,
   "metadata": {},
   "outputs": [
    {
     "name": "stdout",
     "output_type": "stream",
     "text": [
      "30 20 10\n"
     ]
    }
   ],
   "source": [
    "if n1 >= n2 >= n3:\n",
    "  print(n1, n2, n3)\n",
    "elif n1 >= n3 >= n2:\n",
    "  print(n1, n3, n2)\n",
    "elif n2 >= n1 >= n3:\n",
    "  print(n2, n1, n3)\n",
    "elif n2 >= n3 >= n1:\n",
    "  print(n2, n3, n1)\n",
    "elif n3 >= n1 >= n2:\n",
    "  print(n3, n1, n2)\n",
    "else:\n",
    "  print(n3, n2, n1)"
   ]
  }
 ],
 "metadata": {
  "kernelspec": {
   "display_name": "Python 3",
   "language": "python",
   "name": "python3"
  },
  "language_info": {
   "codemirror_mode": {
    "name": "ipython",
    "version": 3
   },
   "file_extension": ".py",
   "mimetype": "text/x-python",
   "name": "python",
   "nbconvert_exporter": "python",
   "pygments_lexer": "ipython3",
   "version": "3.5.2"
  }
 },
 "nbformat": 4,
 "nbformat_minor": 2
}
