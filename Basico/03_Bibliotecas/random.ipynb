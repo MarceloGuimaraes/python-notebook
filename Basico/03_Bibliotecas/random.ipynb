{
 "cells": [
  {
   "cell_type": "markdown",
   "metadata": {},
   "source": [
    "# Biblioteca Random\n",
    "***"
   ]
  },
  {
   "cell_type": "markdown",
   "metadata": {},
   "source": [
    "Fazer o computador escolher um número aleatorio"
   ]
  },
  {
   "cell_type": "markdown",
   "metadata": {},
   "source": [
    "***\n",
    "#### Exemplos\n",
    "***"
   ]
  },
  {
   "cell_type": "code",
   "execution_count": 1,
   "metadata": {
    "collapsed": true
   },
   "outputs": [],
   "source": [
    "# Importa a biblioteca com todos seus métodos\n",
    "from random import *"
   ]
  },
  {
   "cell_type": "code",
   "execution_count": 2,
   "metadata": {},
   "outputs": [
    {
     "name": "stdout",
     "output_type": "stream",
     "text": [
      "1\n",
      "5\n",
      "2\n",
      "3\n",
      "5\n",
      "6\n",
      "1\n",
      "4\n",
      "4\n",
      "4\n"
     ]
    }
   ],
   "source": [
    "# Cria números aleatorios de 1 a 6\n",
    "for i in range(10):\n",
    "    x = randrange(1,7)\n",
    "    print(x)"
   ]
  },
  {
   "cell_type": "code",
   "execution_count": 3,
   "metadata": {},
   "outputs": [
    {
     "name": "stdout",
     "output_type": "stream",
     "text": [
      "3\n",
      "5\n",
      "1\n",
      "1\n",
      "1\n",
      "5\n",
      "1\n",
      "3\n",
      "1\n",
      "3\n"
     ]
    }
   ],
   "source": [
    "# Cria números impares aleatorios de 1 a 6\n",
    "for i in range(10):\n",
    "    x = randrange(1, 7, 2)\n",
    "    print(x)"
   ]
  },
  {
   "cell_type": "code",
   "execution_count": 4,
   "metadata": {},
   "outputs": [
    {
     "name": "stdout",
     "output_type": "stream",
     "text": [
      "2\n",
      "3\n",
      "1\n",
      "1\n",
      "4\n",
      "4\n",
      "5\n",
      "2\n",
      "1\n",
      "5\n"
     ]
    }
   ],
   "source": [
    "# Cria números inteiros e aleatorios de 1 a 7\n",
    "for i in range(10):\n",
    "    x = randint(1,7)\n",
    "    print(x)"
   ]
  },
  {
   "cell_type": "code",
   "execution_count": 5,
   "metadata": {},
   "outputs": [
    {
     "name": "stdout",
     "output_type": "stream",
     "text": [
      "2\n",
      "2\n",
      "2\n",
      "teste\n",
      "teste\n",
      "1\n",
      "2\n",
      "5\n",
      "3\n",
      "1\n"
     ]
    }
   ],
   "source": [
    "# Escolhe um número/objeto dentro da lista inserida\n",
    "for i in range(10):\n",
    "    x = choice([1, 2, 3, \"teste\", 5])\n",
    "    print(x)"
   ]
  },
  {
   "cell_type": "code",
   "execution_count": 6,
   "metadata": {},
   "outputs": [
    {
     "name": "stdout",
     "output_type": "stream",
     "text": [
      "0.3444119234578926\n",
      "0.9083293841823239\n",
      "0.2653478442400873\n",
      "0.8359455962889063\n",
      "0.3961448094630976\n",
      "0.5433925186553139\n",
      "0.26706159281031416\n",
      "0.7666612630968108\n",
      "0.5250988750585325\n",
      "0.9853355335607347\n"
     ]
    }
   ],
   "source": [
    "# Cria um número real aleatorio entre 0 e 1 que nunca se repete\n",
    "for i in range(10):\n",
    "    x = random()\n",
    "    print(x)"
   ]
  },
  {
   "cell_type": "code",
   "execution_count": 7,
   "metadata": {},
   "outputs": [
    {
     "name": "stdout",
     "output_type": "stream",
     "text": [
      "1.0788787062328464\n",
      "4.720630657334494\n",
      "5.108048892208556\n",
      "1.6914644659956661\n",
      "2.7487878736427955\n",
      "2.759585384942876\n",
      "6.380852018241778\n",
      "3.066005391804409\n",
      "6.461473607627229\n",
      "2.386276205683949\n"
     ]
    }
   ],
   "source": [
    "# Cria um número real aleatorio entre 1 e 7 que nunca se repete\n",
    "for i in range(10):\n",
    "    x = uniform(1,7)\n",
    "    print(x)"
   ]
  },
  {
   "cell_type": "code",
   "execution_count": 8,
   "metadata": {},
   "outputs": [
    {
     "name": "stdout",
     "output_type": "stream",
     "text": [
      "6.6090390220039\n",
      "2.730526932787674\n",
      "6.494727355196734\n",
      "2.468754907188088\n",
      "3.550846594491292\n",
      "3.7819480838942816\n",
      "1.274952582067952\n",
      "4.968598346763489\n",
      "3.6106480454705467\n",
      "2.6310520452098345\n"
     ]
    }
   ],
   "source": [
    "# Cria um número real aleatorio entre 7 e 1 que nunca se repete\n",
    "for i in range(10):\n",
    "    x = uniform(7,1)\n",
    "    print(x)"
   ]
  }
 ],
 "metadata": {
  "kernelspec": {
   "display_name": "Python 3",
   "language": "python",
   "name": "python3"
  },
  "language_info": {
   "codemirror_mode": {
    "name": "ipython",
    "version": 3
   },
   "file_extension": ".py",
   "mimetype": "text/x-python",
   "name": "python",
   "nbconvert_exporter": "python",
   "pygments_lexer": "ipython3",
   "version": "3.5.2"
  }
 },
 "nbformat": 4,
 "nbformat_minor": 2
}
