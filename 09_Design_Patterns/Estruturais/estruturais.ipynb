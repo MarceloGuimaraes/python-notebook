{
 "cells": [
  {
   "cell_type": "markdown",
   "metadata": {},
   "source": [
    "## Padrões estruturais"
   ]
  },
  {
   "cell_type": "markdown",
   "metadata": {},
   "source": [
    "***\n",
    "### 1. Definição\n",
    "***"
   ]
  },
  {
   "cell_type": "markdown",
   "metadata": {},
   "source": [
    "* Os padrões estruturais vão se preocupar em como as classes e objetos são compostos, ou seja, como é a sua estrutura.\n",
    "\n",
    "\n",
    "* O objetivo destes padrões e facilitar o design do sistema identificando maneiras de realizar o relacionamento entre as entidades, deixando o desenvolvedor livre desta preocupação.\n",
    "\n",
    "\n",
    "* Os padrões com escopo de classe utilizam a herança para compor implementações ou interfaces.\n",
    "\n",
    "\n",
    "* O padrão Adapter, por exemplo, pode definir uma nova interface para adaptar duas outras já existentes, assim uma nova classe é criada para adaptar uma interface a outra.\n",
    "\n",
    "\n",
    "* Os padrões com escopo de objeto utilizam a composição de objetos para definir uma estrutura.\n",
    "\n",
    "\n",
    "* Por exemplo, o padrão Composite define (explicitamente) uma estrutura de hierárquica para classes primitivas e compostas em um objeto."
   ]
  },
  {
   "cell_type": "markdown",
   "metadata": {},
   "source": [
    "***\n",
    "### 2. Problema\n",
    "***"
   ]
  },
  {
   "cell_type": "markdown",
   "metadata": {},
   "source": [
    "* As interações entre os objetos de um sistema podem gerar fortes dependências entre esses elementos.\n",
    "\n",
    "\n",
    "* Essas dependências aumentam a complexidade das eventuais alterações no funcionamento do sistema.\n",
    "\n",
    "\n",
    "* Consequentemente, o custo de manutenção aumenta.\n",
    "\n",
    "\n",
    "* Mostraremos alguns padrões de projeto que diminuem o acoplamento entre os objetos de um sistema orientado a objetos."
   ]
  },
  {
   "cell_type": "markdown",
   "metadata": {},
   "source": [
    "***\n",
    "### 3. Padrões\n",
    "***"
   ]
  },
  {
   "cell_type": "markdown",
   "metadata": {},
   "source": [
    "#### 3.1 Adapter:\n",
    "\n",
    "* Permitir que um objeto seja substituído por outro que, apesar de realizar a mesma tarefa, possui uma interface diferente.\n",
    "\n",
    "\n",
    "* A ideia do Adapter é esconder alguma \"sujeira\", ou adaptar algo que é diferente e não bate com o sistema atual.\n",
    "\n",
    "\n",
    "* É bem comum inclusive que a interface do Adapter já tenha sido pré-definida e já até exista no sistema.\n",
    "\n",
    "\n",
    "* Ele visa adaptar um conjunto de classes que já existem, para uma outra interface, que é a requerida pelo outro sistema.\n",
    "\n",
    "#### 3.2 Bridge:\n",
    "\n",
    "* Separar uma abstração de sua representação, de forma que ambos possam variar e produzir tipos de objetos diferentes.\n",
    "\n",
    "\n",
    "* A ideia da Bridge é justamente ser uma ponte em dois mundos/sistemas.\n",
    "\n",
    "#### 3.3 Composite:\n",
    "\n",
    "* Agrupar objetos que fazem parte de uma relação parte-todo de forma a tratá-los sem distinção.\n",
    "\n",
    "\n",
    "* Um bom exemplo é a estrutura de pastas que forma uma arvore, na qual uma pasta tem vários arquivos porem arquivos não pode ter outros arquivos\n",
    "\n",
    "#### 3.4 Decorator:\n",
    "\n",
    "* Adicionar funcionalidade a um objeto dinamicamente.\n",
    "\n",
    "\n",
    "* Sempre que percebemos que temos comportamentos que podem ser compostos por comportamentos de outras classes envolvidas em uma mesma hierarquia, por exemplo o caso dos impostos, que podem ser composto por outros impostos.\n",
    "\n",
    "#### 3.5 Facade:\n",
    "\n",
    "* Prover uma interface simplificada para a utilização de várias interfaces de um subsistema.\n",
    "\n",
    "\n",
    "* O Façade cria uma interface amigável para que clientes consigam consumir sub-sistemas (ou serviços).\n",
    "\n",
    "#### 3.6 Flyweight:\n",
    "\n",
    "* Compartilhar, de forma eficiente, objetos que são usados em grande quantidade.\n",
    "\n",
    "\n",
    "* Um Flyweight serve para quando temos muitas instâncias do mesmo objeto andando pelo sistema, e precisamos economizar.\n",
    "\n",
    "\n",
    "* Para tal, o Flyweight faz uso de uma fábrica modificada, que guarda essas instâncias.\n",
    "\n",
    "\n",
    "* A diferença entre o singleton e o Flyweight é que o Flyweight garante que existam apenas uma única instância de vários elementos. É um \"singleton maior\".\n",
    "\n",
    "\n",
    "* Aplicações gráficas geralmente fazem uso desse padrão, já que elas tem muito objeto repetido.\n",
    "\n",
    "#### 3.7 Proxy:\n",
    "\n",
    "* Controlar as chamadas a um objeto através de outro objeto de mesma interface.\n",
    "\n",
    "\n",
    "* Normalmente usada para proteger e esconder um objeto especifico utilizando um proxy para acessa-lo"
   ]
  }
 ],
 "metadata": {
  "kernelspec": {
   "display_name": "Python 3",
   "language": "python",
   "name": "python3"
  },
  "language_info": {
   "codemirror_mode": {
    "name": "ipython",
    "version": 3
   },
   "file_extension": ".py",
   "mimetype": "text/x-python",
   "name": "python",
   "nbconvert_exporter": "python",
   "pygments_lexer": "ipython3",
   "version": "3.5.2"
  }
 },
 "nbformat": 4,
 "nbformat_minor": 2
}
