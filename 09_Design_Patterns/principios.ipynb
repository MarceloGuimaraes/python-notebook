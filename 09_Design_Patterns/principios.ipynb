{
 "cells": [
  {
   "cell_type": "markdown",
   "metadata": {},
   "source": [
    "## Princípios  e Conceitos de padrões de projeto\n",
    "***\n",
    "\n",
    "Cada padrão descreve um problema que ocorre repetidamente em nosso ambiente e, em seguida, descreve o núcleo da solução para esse problema, de tal forma que você pode usar esta solução um milhão de vezes, sem nunca fazê-lo da mesma maneira duas vezes ."
   ]
  },
  {
   "cell_type": "markdown",
   "metadata": {},
   "source": [
    "***\n",
    "### 1. Princípios\n",
    "***"
   ]
  },
  {
   "cell_type": "markdown",
   "metadata": {},
   "source": [
    "#### 1.1 Princípio do aberto/fechado\n",
    "\n",
    "* Determina que classes ou objetos e métodos devem estar abertos para extensão e fechados para modificação\n",
    "\n",
    "\n",
    "* Ao construir aplicações você deve garantir que escreverá suas classes ou seus módulos de forma genêrica de modo que sempre que sentir a necessidade de extender o comportamento da classe ou do objeto, você não precisará alterar a classe propriamente dita, ao inves disso, você faz uma extensão simples da classe que deve ajudar a implementar um novo comportamento.\n",
    "\n",
    "\n",
    "* Ou seja, se quiser implementar algum comportamento, você extende da classe abstrata ao inves de alterar a classe abstrata.\n",
    "\n",
    "\n",
    "* Ajuda a manter a compatibilidade com versões de códigos anteriores e as classes existentes não são alteradas"
   ]
  },
  {
   "cell_type": "markdown",
   "metadata": {},
   "source": [
    "#### 1.2 Princípio da inversão de controle\n",
    "\n",
    "* Determina que módulos de alto nível não devem ser dependentes de módulos de baixo nível.\n",
    "\n",
    "\n",
    "* Ambos devem ser dependentes de abstrações/templates e não o inverso.\n",
    "\n",
    "\n",
    "* Dois módulos não devem ser altamente dependentes um do outro.\n",
    "\n",
    "\n",
    "* **Alto acoplamento** deixa de ser predominante eliminando dependências, ou seja, ela fica **bem coesa**, com responsabilidades bem definidas."
   ]
  },
  {
   "cell_type": "markdown",
   "metadata": {},
   "source": [
    "#### 1.3 Princípio da segregação de interfaces\n",
    "\n",
    "* Os clientes não devem ser forçados a depender de interfaces que não utilizam.\n",
    "\n",
    "\n",
    "* Devemos desenvolver métodos relacionados as funcionalidades, sem que o cliente tenha que implementar métodos que não irá utilizar"
   ]
  },
  {
   "cell_type": "markdown",
   "metadata": {},
   "source": [
    "#### 1.4 Princípio da responsabilidade única\n",
    "\n",
    "* Um classe deve ter apenas um mótivo para existir, ou seja, cada classe deve ter sua responsabilidade bem definida e única\n",
    "\n",
    "\n",
    "* Uma classe não devem fazer coisas que cabe a outra classe fazer.\n",
    "\n",
    "\n",
    "* Fazer a classe ter **alta coesão**"
   ]
  },
  {
   "cell_type": "markdown",
   "metadata": {},
   "source": [
    "#### 1.5 Princípio da substituição\n",
    "\n",
    "* Classes derivadas devem ser capazes de substituir totalmente as classes bases\n",
    "\n",
    "\n",
    "* A classe devirada deve estar o mais parecido possível com a classe base de modo que a classe derivada possa substituir a classe base se for o caso."
   ]
  },
  {
   "cell_type": "markdown",
   "metadata": {},
   "source": [
    "***\n",
    "#### 2. Padrões de Projeto\n",
    "***"
   ]
  },
  {
   "cell_type": "markdown",
   "metadata": {},
   "source": [
    "Padrões de projetos são técnicas, independentes de linguagem de programação, para solucionar problemas conhecidos utilizando os princípios acima e tornando o software reutilizavem e modularizado.\n",
    "\n",
    "Um padrão de projeto é uma solução consolidada para um problema recorrente no desenvolvimento e manutenção de software orientado a objetos.\n",
    "\n",
    "#### Classificação dos padrões de projeto\n",
    "\n",
    "* Os padrões são divididos em três categorias: de **Criação**, **Estrutural** e **Comportamental**.\n",
    "\n",
    "\n",
    "* Todos os padrões destas categorias tem um conjunto de características específicas, que motivam a categorização deles.\n",
    "\n",
    "\n",
    "* Antes de falar das categorias, é importante comentar que os padrões de objeto, além das categorias, podem ser classificados também em relação ao seu escopo: de **Classe** ou de **Objetos**.\n",
    "\n",
    "    - Padrões com escopo de Classe vão utilizar a herança para compor ou variar os objetos, mantendo\n",
    "    a flexibilidade do sistema.\n",
    "\n",
    "    - Já os padrões de Objeto irão delegar as suas responsabilidades para um objeto.\n",
    "    \n",
    "![image](https://user-images.githubusercontent.com/14116020/34313218-bc6bfcbe-e750-11e7-9b2e-289f41e05316.png)"
   ]
  }
 ],
 "metadata": {
  "kernelspec": {
   "display_name": "Python 3",
   "language": "python",
   "name": "python3"
  },
  "language_info": {
   "codemirror_mode": {
    "name": "ipython",
    "version": 3
   },
   "file_extension": ".py",
   "mimetype": "text/x-python",
   "name": "python",
   "nbconvert_exporter": "python",
   "pygments_lexer": "ipython3",
   "version": "3.5.2"
  }
 },
 "nbformat": 4,
 "nbformat_minor": 2
}
