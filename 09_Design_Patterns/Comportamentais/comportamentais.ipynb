{
 "cells": [
  {
   "cell_type": "markdown",
   "metadata": {},
   "source": [
    "## Padrões comportamentais"
   ]
  },
  {
   "cell_type": "markdown",
   "metadata": {},
   "source": [
    "***\n",
    "### 1. Definição\n",
    "***"
   ]
  },
  {
   "cell_type": "markdown",
   "metadata": {},
   "source": [
    "* Os padrões comportamentais atuam sobre como responsabilidades são atribuídas as entidades, ou seja, qual o comportamento das entidades.\n",
    "\n",
    "\n",
    "* Estes padrões facilitam a comunicação entre os objetos, distribuindo as responsabilidades e definindo a comunicação interna.\n",
    "\n",
    "\n",
    "* Padrões com escopo de classe utilizam herança para realizar a distribuição do comportamento.\n",
    "\n",
    "\n",
    "* Um bom exemplo é o padrão Template Method, que fornece um algoritmo (comportamento) padrão e deixa as subclasses definirem alguns pontos da execução do algoritmo.\n",
    "\n",
    "\n",
    "* Já os padrões de objetos vão compor os objetos para definir a comunicação, como o padrão Mediator, que define um objeto que realiza a comunicação muitos-para-muitos."
   ]
  },
  {
   "cell_type": "markdown",
   "metadata": {},
   "source": [
    "***\n",
    "### 2. Problema\n",
    "***"
   ]
  },
  {
   "cell_type": "markdown",
   "metadata": {},
   "source": [
    "Os problemas são bem variados, mas o foco está no comportamentos das entidades."
   ]
  },
  {
   "cell_type": "markdown",
   "metadata": {},
   "source": [
    "***\n",
    "### 3. Padrões\n",
    "***"
   ]
  },
  {
   "cell_type": "markdown",
   "metadata": {},
   "source": [
    "* **Command**: Controlar as chamadas a um determinado componente, modelando cada requisição como um objeto. Permitir que as operações possam ser desfeitas, enfileiradas ou registradas.\n",
    "\n",
    "\n",
    "* **Iterator**: Fornecer um modo eficiente para percorrer sequencialmente os elementos de uma coleção, sem que a estrutura interna da coleção seja exposta.\n",
    "\n",
    "\n",
    "* **Observer**: Definir um mecanismo eficiente para reagir às alterações realizadas em determinados objetos.\n",
    "\n",
    "\n",
    "* **State**: Alterar o comportamento de um determinado objeto de acordo com o estado no qual ele se encontra.\n",
    "\n",
    "\n",
    "* **Strategy**: Permitir de maneira simples a variação dos algoritmos utilizados na resolução de um determinado problema.\n",
    "\n",
    "\n",
    "* **Template Method**: Definir a ordem na qual determinados passos devem ser realizados na resolução de um problema e permitir que esses passos possam ser realizados de formas diferentes de acordo com a situação.\n",
    "\n",
    "\n",
    "* **Visitor**: Permitir atualizações específicas em uma coleção de objetos de acordo com o tipo particular de cada objeto atualizado.\n",
    "\n",
    "\n",
    "* **Mediator**: Quando uma situação em que um relacionamento muitos para muitos é necessário, uma boa prática é criar uma tabela intermediária e deixar que ela relaciona uma entidade com outras várias e vice versa.\n",
    "\n",
    "\n",
    "* **Memento**: Sem violar o encapsulamento, capturar e externalizar um estado interno de um objeto, de maneira que o objeto possa ser restaurado para esse estado mais tarde.\n",
    "\n",
    "\n",
    "* **Chain of responsability**: Usado para acabar com estruturas de decisão, evitando o acoplamento utilizando uma cadeia de solicitações até que uma trate\n",
    "\n",
    "\n",
    "* **Interpreter**: Reconhecer padrões é um problema bem complicado, no entanto, quando conseguimos formular uma gramática para o problema a solução fica bem mais fácil. Uma vez definida a grámatica e suas regras, é possível utilizar o padrão Interpreter para montar uma estrutura para interpretar os comandos."
   ]
  }
 ],
 "metadata": {
  "kernelspec": {
   "display_name": "Python 3",
   "language": "python",
   "name": "python3"
  },
  "language_info": {
   "codemirror_mode": {
    "name": "ipython",
    "version": 3
   },
   "file_extension": ".py",
   "mimetype": "text/x-python",
   "name": "python",
   "nbconvert_exporter": "python",
   "pygments_lexer": "ipython3",
   "version": "3.5.2"
  }
 },
 "nbformat": 4,
 "nbformat_minor": 2
}
