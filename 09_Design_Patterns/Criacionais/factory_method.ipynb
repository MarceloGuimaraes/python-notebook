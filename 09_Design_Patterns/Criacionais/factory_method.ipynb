{
 "cells": [
  {
   "cell_type": "markdown",
   "metadata": {},
   "source": [
    "## Factory Method"
   ]
  },
  {
   "cell_type": "markdown",
   "metadata": {},
   "source": [
    "***\n",
    "### 1. Definição\n",
    "***"
   ]
  },
  {
   "cell_type": "markdown",
   "metadata": {},
   "source": [
    "Encapsula a escolha da classe concreta a ser utilizada na criação de objetos de um determinado tipo\n",
    "\n",
    "A fábrica (interface) cria objetos que só serão definidos em tempo de execução pela suas subclasses"
   ]
  },
  {
   "cell_type": "markdown",
   "metadata": {},
   "source": [
    "***\n",
    "### 2. Diagrama de classe\n",
    "***"
   ]
  },
  {
   "cell_type": "markdown",
   "metadata": {},
   "source": [
    "![img](https://cloud.githubusercontent.com/assets/14116020/26185539/01d47376-3b62-11e7-9c5e-2885e9a3362b.png)\n",
    "\n",
    "* **FabricaAbstrata** (FabricaDeCarro): Classe ou interface que define a assinatura do método responsável pela criação do produto. Pode possuir uma implementação padrão do método de criação do produto.\n",
    "\n",
    "\n",
    "* **FabricaConcreta** (FabricaFiat, FabricaFord, ...): Classe que implementa ou sobrescreve o método de criação do produto.\n",
    "\n",
    "\n",
    "* **ProdutoAbstrato** (Carro): Classe ou interface que define o objeto a ser criado.\n",
    "\n",
    "\n",
    "* **ProdutoConcreto** (Uno, Fiesta, Gol, Palio, ...): Uma implementação particular do tipo de objeto a ser criado."
   ]
  },
  {
   "cell_type": "markdown",
   "metadata": {},
   "source": [
    "***\n",
    "### 3. Exemplo: Fabrica de carros\n",
    "***"
   ]
  },
  {
   "cell_type": "code",
   "execution_count": 1,
   "metadata": {
    "collapsed": true
   },
   "outputs": [],
   "source": [
    "# Classes abstratas\n",
    "from abc import ABC, abstractmethod\n",
    "\n",
    "class FabricaDeCarros(ABC):\n",
    "    \"\"\"\n",
    "    Fabrica de carros genêrica.\n",
    "    \"\"\"\n",
    "    \n",
    "    @abstractmethod\n",
    "    def criar_carro(self, carro):\n",
    "        \"\"\"\n",
    "        Cria o automovel.\n",
    "        \"\"\"\n",
    "        \n",
    "        pass\n",
    "    \n",
    "class Carro(ABC):\n",
    "    \"\"\"\n",
    "    Carro genêrico.\n",
    "    \"\"\"\n",
    "    \n",
    "    @abstractmethod\n",
    "    def exibir_informacao(self):\n",
    "        \"\"\"\n",
    "        Exibe informações do carro.\n",
    "        \"\"\"\n",
    "        \n",
    "        pass"
   ]
  },
  {
   "cell_type": "code",
   "execution_count": 2,
   "metadata": {
    "collapsed": true
   },
   "outputs": [],
   "source": [
    "class Palio(Carro):\n",
    "    \"\"\"\n",
    "    Carro Palio da Fiat.\n",
    "    \"\"\"\n",
    "    \n",
    "    def exibir_informacao(self):\n",
    "        \"\"\"\n",
    "        Exibe informação do Palio.\n",
    "        \"\"\"\n",
    "        \n",
    "        print(\"Modelo: Palio\")\n",
    "        print(\"Fabricante: Fiat\")\n",
    "        \n",
    "        \n",
    "class Uno(Carro):\n",
    "    \"\"\"\n",
    "    Carro Uno da Fiat.\n",
    "    \"\"\"\n",
    "    \n",
    "    def exibir_informacao(self):\n",
    "        \"\"\"\n",
    "        Exibe informação do Uno.\n",
    "        \"\"\"\n",
    "        \n",
    "        print(\"Modelo: Uno\")\n",
    "        print(\"Fabricante: Fiat.\")"
   ]
  },
  {
   "cell_type": "code",
   "execution_count": 3,
   "metadata": {},
   "outputs": [],
   "source": [
    "class FabricaFiat(FabricaDeCarros):\n",
    "    \"\"\"\n",
    "    Fabrica de carros da Fiat.\n",
    "    \"\"\"\n",
    "    \n",
    "    PALIO = 0\n",
    "    UNO = 1\n",
    "    \n",
    "    def criar_carro(self, carro):\n",
    "        \"\"\"\n",
    "        Construtor da fábrica.\n",
    "        \"\"\"\n",
    "        \n",
    "        if carro == FabricaFiat.PALIO:\n",
    "            return Palio()\n",
    "        elif carro == FabricaFiat.UNO:\n",
    "            return Uno()\n",
    "        else:\n",
    "            print(\"Carro não existe.\")"
   ]
  },
  {
   "cell_type": "code",
   "execution_count": 4,
   "metadata": {},
   "outputs": [
    {
     "name": "stdout",
     "output_type": "stream",
     "text": [
      "Modelo: Uno\n",
      "Fabricante: Fiat.\n",
      "\n",
      "\n",
      "Modelo: Palio\n",
      "Fabricante: Fiat\n"
     ]
    }
   ],
   "source": [
    "fabrica = FabricaFiat()\n",
    "carro = fabrica.criar_carro(FabricaFiat.UNO)\n",
    "carro.exibir_informacao()\n",
    "\n",
    "print(\"\\n\")\n",
    "\n",
    "fabrica = FabricaFiat()\n",
    "carro = fabrica.criar_carro(FabricaFiat.PALIO)\n",
    "carro.exibir_informacao()"
   ]
  },
  {
   "cell_type": "markdown",
   "metadata": {},
   "source": [
    "***\n",
    "#### Forma mais compacta porém perigosa\n",
    "***\n",
    "\n",
    "Um usuário pode inserir algo malicioso no eval, se for utilizar tem que criar um método para protege-lo."
   ]
  },
  {
   "cell_type": "code",
   "execution_count": 5,
   "metadata": {
    "collapsed": true
   },
   "outputs": [],
   "source": [
    "class FabricaFiat(object):\n",
    "    \"\"\"\n",
    "    Fabrica de carros da Fiat.\n",
    "    \"\"\"\n",
    "    \n",
    "    def criar_carro(self, carro):\n",
    "        \"\"\"\n",
    "        Construtor da fábrica de carros da Fiat.\n",
    "        \n",
    "        Opções:\n",
    "        \n",
    "            - Uno,\n",
    "            - Palio\n",
    "        \"\"\"\n",
    "        \n",
    "        # Eval executa uma string como código python\n",
    "        return eval(carro)()"
   ]
  },
  {
   "cell_type": "code",
   "execution_count": 6,
   "metadata": {},
   "outputs": [
    {
     "name": "stdout",
     "output_type": "stream",
     "text": [
      "Modelo: Uno\n",
      "Fabricante: Fiat.\n",
      "\n",
      "\n",
      "Modelo: Palio\n",
      "Fabricante: Fiat\n"
     ]
    }
   ],
   "source": [
    "fabrica = FabricaFiat()\n",
    "carro = fabrica.criar_carro('Uno')\n",
    "carro.exibir_informacao()\n",
    "\n",
    "print(\"\\n\")\n",
    "\n",
    "fabrica = FabricaFiat()\n",
    "carro = fabrica.criar_carro('Palio')\n",
    "carro.exibir_informacao()"
   ]
  }
 ],
 "metadata": {
  "kernelspec": {
   "display_name": "Python 3",
   "language": "python",
   "name": "python3"
  },
  "language_info": {
   "codemirror_mode": {
    "name": "ipython",
    "version": 3
   },
   "file_extension": ".py",
   "mimetype": "text/x-python",
   "name": "python",
   "nbconvert_exporter": "python",
   "pygments_lexer": "ipython3",
   "version": "3.5.2"
  }
 },
 "nbformat": 4,
 "nbformat_minor": 2
}
