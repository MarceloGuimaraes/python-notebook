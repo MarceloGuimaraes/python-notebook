{
 "cells": [
  {
   "cell_type": "markdown",
   "metadata": {},
   "source": [
    "## Padrão Singleton\n",
    "***\n",
    "### 1. Definição\n",
    "***"
   ]
  },
  {
   "cell_type": "markdown",
   "metadata": {},
   "source": [
    "Permitir a criação de uma única instância de uma classe e fornecer um modo para recuperá-la."
   ]
  },
  {
   "cell_type": "markdown",
   "metadata": {},
   "source": [
    "***\n",
    "### Diagrama de classe\n",
    "***"
   ]
  },
  {
   "cell_type": "markdown",
   "metadata": {},
   "source": [
    "![singleton](https://cloud.githubusercontent.com/assets/14116020/26185411/3646040e-3b61-11e7-8408-da491b5c16f8.png)\n",
    "\n",
    "* **Singleton**: Classe que permite a criação de uma única instância e fornece um método estático para recuperá-la.\n",
    "\n",
    "\n",
    "* **Cliente**: Teste da classe singleton"
   ]
  },
  {
   "cell_type": "markdown",
   "metadata": {},
   "source": [
    "***\n",
    "### Exemplo01: Fabrica de Carro\n",
    "***"
   ]
  },
  {
   "cell_type": "code",
   "execution_count": 1,
   "metadata": {
    "collapsed": true
   },
   "outputs": [],
   "source": [
    "class FabricaDeCarros(object):\n",
    "    \"\"\"\n",
    "    Permitir a criação de uma única instância de uma classe de modo preguiçoso,\n",
    "    ou seja, irá cria-lo somente quando precisar-mos dele, e fornecer um modo\n",
    "    para recuperá-lo.\n",
    "    \"\"\"\n",
    "    \n",
    "    total_de_carros_fiat = 0\n",
    "    total_de_carros_ford = 0\n",
    "    total_de_carros_volks = 0\n",
    "    \n",
    "    # Instancia privada\n",
    "    __instancia = None\n",
    "    \n",
    "    def __init__(self):\n",
    "        if self.__instancia:\n",
    "            print(\"O objeto já existe! Utilize a função pega_instancia()\")\n",
    "            \n",
    "    def cria_carro_volks(self):\n",
    "        self.total_de_carros_volks += 1\n",
    "        print(\"Carro Volks #\", self.total_de_carros_volks, \" criado\")\n",
    "\n",
    "    def cria_carro_ford(self):\n",
    "        self.total_de_carros_ford += 1\n",
    "        print(\"Carro Ford #\", self.total_de_carros_ford, \" criado\")\n",
    "\n",
    "    def cria_carro_fiat(self):\n",
    "        self.total_de_carros_fiat += 1\n",
    "        print(\"Carro Fiat #\", self.total_de_carros_fiat, \" criado\")\n",
    "\n",
    "    def gera_relatorio(self):\n",
    "        print(\"Total de carros Fiat vendidos:\", self.total_de_carros_fiat)\n",
    "        print(\"Total de carros Ford vendidos:\", self.total_de_carros_ford)\n",
    "        print(\"Total de carros Volks vendidos:\", self.total_de_carros_volks)\n",
    "\n",
    "    @staticmethod\n",
    "    def pega_instancia():\n",
    "        if not FabricaDeCarros.__instancia:\n",
    "            FabricaDeCarros.__instancia = FabricaDeCarros()\n",
    "            \n",
    "        return FabricaDeCarros.__instancia"
   ]
  },
  {
   "cell_type": "code",
   "execution_count": 2,
   "metadata": {},
   "outputs": [
    {
     "name": "stdout",
     "output_type": "stream",
     "text": [
      "Carro Fiat # 1  criado\n",
      "Carro Ford # 1  criado\n",
      "Carro Volks # 1  criado\n",
      "Total de carros Fiat vendidos: 1\n",
      "Total de carros Ford vendidos: 1\n",
      "Total de carros Volks vendidos: 1\n",
      "\n",
      "Segunda instancia\n",
      "Carro Volks # 2  criado\n",
      "Total de carros Fiat vendidos: 1\n",
      "Total de carros Ford vendidos: 1\n",
      "Total de carros Volks vendidos: 2\n",
      "\n",
      "\n",
      "O objeto já existe! Utilize a função pega_instancia()\n"
     ]
    }
   ],
   "source": [
    "fabrica = FabricaDeCarros.pega_instancia()\n",
    "fabrica.cria_carro_fiat()\n",
    "fabrica.cria_carro_ford()\n",
    "fabrica.cria_carro_volks()\n",
    "fabrica.gera_relatorio()\n",
    "\n",
    "print(\"\\nSegunda instancia\")\n",
    "fabrica = FabricaDeCarros.pega_instancia()\n",
    "fabrica.cria_carro_volks()\n",
    "fabrica.gera_relatorio()\n",
    "\n",
    "print(\"\\n\")\n",
    "fabrica = FabricaDeCarros()"
   ]
  },
  {
   "cell_type": "markdown",
   "metadata": {},
   "source": [
    "***\n",
    "### Singleton Monostate:\n",
    "***\n",
    "\n",
    "Focado no compartilhamento do mesmo estado em várias instâncias, ou seja, por todos os objetos"
   ]
  },
  {
   "cell_type": "code",
   "execution_count": 3,
   "metadata": {
    "collapsed": true
   },
   "outputs": [],
   "source": [
    "class FabricaDeCarros(object):\n",
    "    \"\"\"\n",
    "    Permitir a criação de uma única instância de uma classe de modo preguiçoso,\n",
    "    ou seja, irá cria-lo somente quando precisar-mos dele, e fornecer um modo\n",
    "    para recuperá-la.\n",
    "    \"\"\"\n",
    "    \n",
    "    __total_de_carros = {\n",
    "        'fiat': 0,\n",
    "        'ford': 0,\n",
    "        'volks': 0\n",
    "    }\n",
    "\n",
    "    # Instancia privada\n",
    "    __instancia = None\n",
    "    \n",
    "    def __init__(self):\n",
    "        \"\"\"\n",
    "        Inicializa uma instância e manda uma mensagem se o objeto já\n",
    "        tiver sido criado.\n",
    "        \"\"\"\n",
    "        \n",
    "        if self.__instancia:\n",
    "            print(\"O objeto já existe! Utilize a função pega_instancia()\")\n",
    "            \n",
    "        # Armazena o estado de todos os objetos de uma classe, no caso\n",
    "        # está armazenando o total de carros\n",
    "        self.__dict__ = self.__total_de_carros\n",
    "            \n",
    "    def cria_carro_volks(self):\n",
    "        self.__total_de_carros['volks'] += 1\n",
    "        print(\"Carro Volks #\", self.__total_de_carros['volks'], \" criado\")\n",
    "\n",
    "    def cria_carro_ford(self):\n",
    "        self.__total_de_carros['ford'] += 1\n",
    "        print(\"Carro Ford #\", self.__total_de_carros['ford'], \" criado\")\n",
    "\n",
    "    def cria_carro_fiat(self):\n",
    "        self.__total_de_carros['fiat'] += 1\n",
    "        print(\"Carro Fiat #\", self.__total_de_carros['fiat'], \" criado\")\n",
    "\n",
    "    def gera_relatorio(self):\n",
    "        print(\"Total de carros:\", self.__dict__)\n",
    "\n",
    "    @staticmethod\n",
    "    def pega_instancia():\n",
    "        if not FabricaDeCarros.__instancia:\n",
    "            FabricaDeCarros.__instancia = FabricaDeCarros()\n",
    "            \n",
    "        return FabricaDeCarros.__instancia"
   ]
  },
  {
   "cell_type": "code",
   "execution_count": 4,
   "metadata": {},
   "outputs": [
    {
     "name": "stdout",
     "output_type": "stream",
     "text": [
      "Carro Fiat # 1  criado\n",
      "Carro Ford # 1  criado\n",
      "Carro Volks # 1  criado\n",
      "Total de carros Fiat vendidos: 1\n",
      "Total de carros Ford vendidos: 1\n",
      "Total de carros Volks vendidos: 1\n",
      "Total de carros: {'ford': 1, 'fiat': 1, 'volks': 1}\n",
      "\n",
      "Segunda instancia\n",
      "Carro Volks # 2  criado\n",
      "Total de carros Fiat vendidos: 1\n",
      "Total de carros Ford vendidos: 1\n",
      "Total de carros Volks vendidos: 2\n",
      "Total de carros: {'ford': 1, 'fiat': 1, 'volks': 2}\n",
      "\n",
      "\n",
      "O objeto já existe! Utilize a função pega_instancia()\n"
     ]
    }
   ],
   "source": [
    "fabrica = FabricaDeCarros.pega_instancia()\n",
    "fabrica.cria_carro_fiat()\n",
    "fabrica.cria_carro_ford()\n",
    "fabrica.cria_carro_volks()\n",
    "fabrica.gera_relatorio()\n",
    "\n",
    "print(\"\\nSegunda instancia\")\n",
    "fabrica = FabricaDeCarros.pega_instancia()\n",
    "fabrica.cria_carro_volks()\n",
    "fabrica.gera_relatorio()\n",
    "\n",
    "print(\"\\n\")\n",
    "fabrica = FabricaDeCarros()"
   ]
  },
  {
   "cell_type": "markdown",
   "metadata": {},
   "source": [
    "***\n",
    "### Exemplo02: Banco de dados\n",
    "***"
   ]
  },
  {
   "cell_type": "markdown",
   "metadata": {},
   "source": [
    "**Context**: Imagine um serviço de computação em núvem que possui várias operações de leitura e escrita no banco de dados, nos irémos utilizar o padrão de projeto singleton para ter um recurso compartilhado pelos diferentes serviços e esse recurso compartilhado é o banco de dados.\n",
    "\n",
    "* Uma operação não deve resultar em conflitos com outras operações, devemos ter consistencia.\n",
    "\n",
    "\n",
    "* Utilização de memória e de CPU para realização das várias operações no Banco de dados de forma otimizada."
   ]
  },
  {
   "cell_type": "code",
   "execution_count": 5,
   "metadata": {
    "collapsed": true
   },
   "outputs": [],
   "source": [
    "import sqlite3\n",
    "\n",
    "class MetaSingleton(type):\n",
    "    \"\"\"\n",
    "    Um objeto é uma instância de uma classe e classe é uma instância de uma metaclasse.\n",
    "    Logo MetaSingleton é uma classe que cria outras classes como singletons,\n",
    "    que no caso, cria singletons DataBase\n",
    "    \"\"\"\n",
    "    \n",
    "    __instances = {}\n",
    "    \n",
    "    def __call__(cls, *args, **kwargs):\n",
    "        \"\"\"\n",
    "        Chamado quando um objeto precisa ser criado para\n",
    "        uma classe DataBase já existente.\n",
    "        \"\"\"\n",
    "\n",
    "        # Se a classe não estiver dentro das instancias de classe\n",
    "        if cls not in cls.__instances:\n",
    "            # coloca ela nas instancias\n",
    "            cls.__instances[cls] = super(MetaSingleton, cls).__call__(*args, **kwargs)\n",
    "\n",
    "        return cls.__instances[cls]\n",
    "        \n",
    "class Database(metaclass=MetaSingleton):\n",
    "    \"\"\"\n",
    "    Banco de dados sqlite.\n",
    "    \"\"\"\n",
    "    \n",
    "    connection = None\n",
    "    \n",
    "    def connect(self):\n",
    "        if self.connection is None:\n",
    "            self.connection = sqlite3.connect('database.db')\n",
    "            self.cursor = self.connection.cursor()\n",
    "            \n",
    "        return self.cursor"
   ]
  },
  {
   "cell_type": "code",
   "execution_count": 6,
   "metadata": {},
   "outputs": [
    {
     "name": "stdout",
     "output_type": "stream",
     "text": [
      "140083535383216 140083535383216\n"
     ]
    }
   ],
   "source": [
    "db1 = Database().connect()\n",
    "db2 = Database().connect()\n",
    "\n",
    "# Somente um database é criado\n",
    "print(id(db1), id(db2))"
   ]
  }
 ],
 "metadata": {
  "kernelspec": {
   "display_name": "Python 3",
   "language": "python",
   "name": "python3"
  },
  "language_info": {
   "codemirror_mode": {
    "name": "ipython",
    "version": 3
   },
   "file_extension": ".py",
   "mimetype": "text/x-python",
   "name": "python",
   "nbconvert_exporter": "python",
   "pygments_lexer": "ipython3",
   "version": "3.5.2"
  }
 },
 "nbformat": 4,
 "nbformat_minor": 2
}
