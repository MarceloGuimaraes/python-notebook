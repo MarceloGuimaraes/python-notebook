{
 "cells": [
  {
   "cell_type": "markdown",
   "metadata": {},
   "source": [
    "## Abstract Factory\n",
    "***\n",
    "### Definição\n",
    "***"
   ]
  },
  {
   "cell_type": "markdown",
   "metadata": {},
   "source": [
    "Fornecer uma interface para criação de famílias de objetos relacionados ou dependentes sem especificar suas classes concretas\n",
    "\n",
    "Encapsula a escolha da ckasse cibcreta a ser utilizada na criação de objetos de diversas familias."
   ]
  },
  {
   "cell_type": "markdown",
   "metadata": {},
   "source": [
    "***\n",
    "### Diagrama de Classe\n",
    "***"
   ]
  },
  {
   "cell_type": "markdown",
   "metadata": {},
   "source": [
    "![abstract-factory](https://cloud.githubusercontent.com/assets/14116020/26184271/3f08e3ec-3b5a-11e7-9113-02fff283e053.png)\n",
    "\n",
    "* **FabricaAbstrata (FabricaDeCarro)**: Interface que define as assinaturas dos métodos responsáveis pela criação dos objetos uma família.\n",
    "\n",
    "\n",
    "* **FabricaConcreta (FabricaFiat, FabricaFord, ...)**: Classe que implementa os métodos de criação dos objetos de uma família.\n",
    "\n",
    "\n",
    "* **ProdutoAbstrato (CarroSedan, CarroPopular)**: Interface que define um tipo de produto ou família de produtos.\n",
    "\n",
    "\n",
    "* **ProdutoConcreto (Siena, FiestaSedan, Palio, Fiesta)**: Implementação particular dessas informações um tipo/família de produto.\n",
    "\n",
    "\n",
    "* **Cliente**: Usa apenas as interfaces FabricaAbstrata e ProdutoAbstrato."
   ]
  }
 ],
 "metadata": {
  "kernelspec": {
   "display_name": "Python 3",
   "language": "python",
   "name": "python3"
  },
  "language_info": {
   "codemirror_mode": {
    "name": "ipython",
    "version": 3
   },
   "file_extension": ".py",
   "mimetype": "text/x-python",
   "name": "python",
   "nbconvert_exporter": "python",
   "pygments_lexer": "ipython3",
   "version": "3.5.2"
  }
 },
 "nbformat": 4,
 "nbformat_minor": 2
}
