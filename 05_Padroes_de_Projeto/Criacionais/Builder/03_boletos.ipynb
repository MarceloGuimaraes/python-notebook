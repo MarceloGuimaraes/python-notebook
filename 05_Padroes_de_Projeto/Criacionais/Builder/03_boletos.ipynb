{
 "cells": [
  {
   "cell_type": "markdown",
   "metadata": {},
   "source": [
    "## Gerador de Boletos\n",
    "***"
   ]
  },
  {
   "cell_type": "markdown",
   "metadata": {},
   "source": [
    "### Boletos\n",
    "***"
   ]
  },
  {
   "cell_type": "code",
   "execution_count": 1,
   "metadata": {},
   "outputs": [],
   "source": [
    "class Boleto(object):\n",
    "    \"\"\"\n",
    "    Boleto genêrico\n",
    "    \"\"\"\n",
    "\n",
    "    def __init__(self, sacado, cedente, valor, vencimento, numero):\n",
    "        \"\"\"\n",
    "        Construtor do boleto.\n",
    "        \"\"\"\n",
    "\n",
    "        self.__sacado = sacado\n",
    "        self.__cedente = cedente\n",
    "        self.__valor = valor\n",
    "        self.__vencimento = vencimento\n",
    "        self.__numero = numero\n",
    "\n",
    "    @property\n",
    "    def sacado(self):\n",
    "        \"\"\"\n",
    "        Pessoa ou empresa resposável pelo pagamento do boleto\n",
    "        \"\"\"\n",
    "\n",
    "        return self.__sacado\n",
    "\n",
    "    @property\n",
    "    def cedente(self):\n",
    "        \"\"\"\n",
    "        Pessoa ou empresa que receberá o pagamento do boleto\n",
    "        \"\"\"\n",
    "\n",
    "        return self.__cedente\n",
    "\n",
    "    @property\n",
    "    def valor(self):\n",
    "        \"\"\"\n",
    "        Valor do boleto.\n",
    "        \"\"\"\n",
    "\n",
    "        return self.__valor\n",
    "\n",
    "    @property\n",
    "    def vencimento(self):\n",
    "        \"\"\"\n",
    "        Vencimento do boleto.\n",
    "        \"\"\"\n",
    "\n",
    "        return self.__vencimento\n",
    "\n",
    "    @property\n",
    "    def numero(self):\n",
    "        \"\"\"\n",
    "        Número do boleto.\n",
    "        \"\"\"\n",
    "\n",
    "        return self.__numero\n",
    "\n",
    "    def imprime(self):\n",
    "        \"\"\"\n",
    "        Imprime o boleto.\n",
    "        \"\"\"\n",
    "\n",
    "        print(\"Sacado:\", self.sacado)\n",
    "        print(\"Cedente:\", self.cedente)\n",
    "        print(\"Valor:\", self.valor)\n",
    "        print(\"Vencimento:\", self.vencimento)\n",
    "        print(\"Número:\", self.numero)"
   ]
  },
  {
   "cell_type": "code",
   "execution_count": 2,
   "metadata": {},
   "outputs": [],
   "source": [
    "class BBBoleto(Boleto):\n",
    "    \"\"\"\n",
    "    Boleto do Banco do Brasil.\n",
    "    \"\"\"\n",
    "\n",
    "    def imprime(self):\n",
    "        \"\"\"\n",
    "        Imprime o boleto.\n",
    "        \"\"\"\n",
    "\n",
    "        print(\"Boleto do Banco do Brasil (BB)\")\n",
    "        super().imprime()"
   ]
  },
  {
   "cell_type": "markdown",
   "metadata": {},
   "source": [
    "***\n",
    "### Fabrica de boletos\n",
    "***"
   ]
  },
  {
   "cell_type": "code",
   "execution_count": 3,
   "metadata": {},
   "outputs": [],
   "source": [
    "class FabricaDeBBBoleto(object):\n",
    "    \"\"\"\n",
    "    Fabrica de boletos do banco do Brasil.\n",
    "    \"\"\"\n",
    "\n",
    "    def __init__(self):\n",
    "        \"\"\"\n",
    "        Construtor da fábrica.\n",
    "        \"\"\"\n",
    "\n",
    "        self.__sacado = ''\n",
    "        self.__cedente = ''\n",
    "        self.__valor = ''\n",
    "        self.__vencimento = ''\n",
    "        self.__numero = ''\n",
    "\n",
    "    def constroi_sacado(self, sacado):\n",
    "        \"\"\"\n",
    "        Insere a pessoa ou empresa responsável pelo pagamento do boleto.\n",
    "        \"\"\"\n",
    "\n",
    "        self.__sacado = sacado\n",
    "\n",
    "    def constroi_cedente(self, cedente):\n",
    "        \"\"\"\n",
    "        Insere a pessoa ou empresa que receberá o pagamento do boleto.\n",
    "        \"\"\"\n",
    "\n",
    "        self.__cedente = cedente\n",
    "\n",
    "    def constroi_valor(self, valor):\n",
    "        \"\"\"\n",
    "        Insere o valor do boleto.\n",
    "        \"\"\"\n",
    "\n",
    "        self.__valor = valor\n",
    "\n",
    "    def constroi_vencimento(self, vencimento):\n",
    "        \"\"\"\n",
    "        Insere o vencimento do boleto.\n",
    "        \"\"\"\n",
    "\n",
    "        self.__vencimento = vencimento\n",
    "\n",
    "    def constroi_numero(self, numero):\n",
    "        \"\"\"\n",
    "        Insere o número do boleto.\n",
    "        \"\"\"\n",
    "\n",
    "        self.__numero = numero\n",
    "\n",
    "    def pega_boleto(self):\n",
    "        \"\"\"\n",
    "        Pega o boleto.\n",
    "        \"\"\"\n",
    "\n",
    "        return BBBoleto(\n",
    "            self.__sacado,\n",
    "            self.__cedente,\n",
    "            self.__valor,\n",
    "            self.__vencimento,\n",
    "            self.__numero\n",
    "        )"
   ]
  },
  {
   "cell_type": "markdown",
   "metadata": {},
   "source": [
    "***\n",
    "### Gerador de boletos\n",
    "***"
   ]
  },
  {
   "cell_type": "code",
   "execution_count": 4,
   "metadata": {},
   "outputs": [],
   "source": [
    "class GeradorDeBoleto(object):\n",
    "    \"\"\"\n",
    "    Gerador de boleto.\n",
    "    \"\"\"\n",
    "\n",
    "    def __init__(self, fabrica_de_boletos):\n",
    "        \"\"\"\n",
    "        Insere a fabrica de boletos.\n",
    "        \"\"\"\n",
    "\n",
    "        self.__fabrica_de_boletos = fabrica_de_boletos\n",
    "\n",
    "    def gera_boleto(self, sacado, cedente, valor, vencimento, numero):\n",
    "        \"\"\"\n",
    "        Constroi o boleto.\n",
    "        \"\"\"\n",
    "\n",
    "        self.__fabrica_de_boletos.constroi_sacado(sacado)\n",
    "        self.__fabrica_de_boletos.constroi_cedente(cedente)\n",
    "        self.__fabrica_de_boletos.constroi_valor(valor)\n",
    "        self.__fabrica_de_boletos.constroi_vencimento(vencimento)\n",
    "        self.__fabrica_de_boletos.constroi_numero(numero)\n",
    "        boleto = self.__fabrica_de_boletos.pega_boleto()\n",
    "\n",
    "        return boleto"
   ]
  },
  {
   "cell_type": "markdown",
   "metadata": {},
   "source": [
    "***\n",
    "### Execução\n",
    "***"
   ]
  },
  {
   "cell_type": "code",
   "execution_count": 5,
   "metadata": {},
   "outputs": [],
   "source": [
    "fabrica_de_boleto = FabricaDeBBBoleto()"
   ]
  },
  {
   "cell_type": "code",
   "execution_count": 6,
   "metadata": {},
   "outputs": [],
   "source": [
    " gerador = GeradorDeBoleto(fabrica_de_boleto)"
   ]
  },
  {
   "cell_type": "code",
   "execution_count": 7,
   "metadata": {},
   "outputs": [],
   "source": [
    "boleto = gerador.gera_boleto(\n",
    "    sacado=\"Marcelo Martins\",\n",
    "    cedente=\"K19 Treinamentos\",\n",
    "    valor=100.53,\n",
    "    vencimento=\"21/08/2010\",\n",
    "    numero=12345675\n",
    ")"
   ]
  },
  {
   "cell_type": "code",
   "execution_count": 8,
   "metadata": {},
   "outputs": [
    {
     "name": "stdout",
     "output_type": "stream",
     "text": [
      "Boleto do Banco do Brasil (BB)\n",
      "Sacado: Marcelo Martins\n",
      "Cedente: K19 Treinamentos\n",
      "Valor: 100.53\n",
      "Vencimento: 21/08/2010\n",
      "Número: 12345675\n"
     ]
    }
   ],
   "source": [
    "boleto.imprime()"
   ]
  }
 ],
 "metadata": {
  "kernelspec": {
   "display_name": "Python 3",
   "language": "python",
   "name": "python3"
  },
  "language_info": {
   "codemirror_mode": {
    "name": "ipython",
    "version": 3
   },
   "file_extension": ".py",
   "mimetype": "text/x-python",
   "name": "python",
   "nbconvert_exporter": "python",
   "pygments_lexer": "ipython3",
   "version": "3.5.2"
  }
 },
 "nbformat": 4,
 "nbformat_minor": 2
}
