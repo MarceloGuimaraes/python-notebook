{
 "cells": [
  {
   "cell_type": "markdown",
   "metadata": {},
   "source": [
    "## Builder\n",
    "***\n",
    "### Definição\n",
    "***"
   ]
  },
  {
   "cell_type": "markdown",
   "metadata": {},
   "source": [
    "Separar o processo de construção de um objeto de sua representação e permitir a sua criação passo-a-passo. Diferentes tipos de objetos podem ser criados com implementações distintas de cada passo."
   ]
  },
  {
   "cell_type": "markdown",
   "metadata": {},
   "source": [
    "***\n",
    "### Diagrama de classe\n",
    "***\n",
    "\n",
    "![builder](https://cloud.githubusercontent.com/assets/14116020/26229940/a14f7608-3c1b-11e7-8afd-b78d8b1f63fb.png)\n",
    "\n",
    "* **ProdutoConcreto (...)**: Implementação da interface que define os objetos que devem ser contruídos pelos Construtores.\n",
    "\n",
    "\n",
    "* **ConstrutorAbstrato (FabricaDeCarro)**: Interface que define os passos para a criação de um produto.\n",
    "\n",
    "\n",
    "* **ConstrutorConcreto (FabricaFiat, FabricaVolks)**: Constrói um produto específico implementando a interface ConstrutoAbstrato.\n",
    "\n",
    "\n",
    "* **Diretor (Concessionaria)**: Aciona os método do construtorAbstrato para construir um produto, constroi passo a passo em apenas um método.\n",
    "\n",
    "\n",
    "* **Cliente**: Utiliza do Diretor para construir o produto."
   ]
  }
 ],
 "metadata": {
  "kernelspec": {
   "display_name": "Python 3",
   "language": "python",
   "name": "python3"
  },
  "language_info": {
   "codemirror_mode": {
    "name": "ipython",
    "version": 3
   },
   "file_extension": ".py",
   "mimetype": "text/x-python",
   "name": "python",
   "nbconvert_exporter": "python",
   "pygments_lexer": "ipython3",
   "version": "3.5.2"
  }
 },
 "nbformat": 4,
 "nbformat_minor": 2
}
