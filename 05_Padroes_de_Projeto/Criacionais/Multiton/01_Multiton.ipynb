{
 "cells": [
  {
   "cell_type": "markdown",
   "metadata": {},
   "source": [
    "## Multiton\n",
    "***"
   ]
  },
  {
   "cell_type": "markdown",
   "metadata": {},
   "source": [
    "### Definição\n",
    "***\n",
    "\n",
    "Permitir a criação de uma quantidade limitada de instâncias de determinada classe e fornecer um modo para recuperá-las."
   ]
  },
  {
   "attachments": {},
   "cell_type": "markdown",
   "metadata": {},
   "source": [
    "***\n",
    "### Diagrama de classe\n",
    "***\n",
    "\n",
    "![multiton](https://cloud.githubusercontent.com/assets/14116020/26185622/819ae662-3b62-11e7-94e3-3289b37ae885.png)\n",
    "\n",
    "**Multiton**: Classe que permite a criação de uma quantidade limitada de instâncias e fornece um método estático para recuperá-las."
   ]
  }
 ],
 "metadata": {
  "kernelspec": {
   "display_name": "Python 3",
   "language": "python",
   "name": "python3"
  },
  "language_info": {
   "codemirror_mode": {
    "name": "ipython",
    "version": 3
   },
   "file_extension": ".py",
   "mimetype": "text/x-python",
   "name": "python",
   "nbconvert_exporter": "python",
   "pygments_lexer": "ipython3",
   "version": "3.5.2"
  }
 },
 "nbformat": 4,
 "nbformat_minor": 2
}
