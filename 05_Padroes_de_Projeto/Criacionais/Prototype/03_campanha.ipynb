{
 "cells": [
  {
   "cell_type": "markdown",
   "metadata": {},
   "source": [
    "## Campanha\n",
    "***"
   ]
  },
  {
   "cell_type": "code",
   "execution_count": 1,
   "metadata": {},
   "outputs": [],
   "source": [
    "class Campanha(object):\n",
    "    \"\"\"\n",
    "    Objeto Campanha\n",
    "    \"\"\"\n",
    "\n",
    "    def __init__(self, nome, vencimento):\n",
    "        \"\"\"\n",
    "        Constroi a campanha.\n",
    "        \"\"\"\n",
    "\n",
    "        self.__nome = nome\n",
    "        self.__vencimento = vencimento\n",
    "\n",
    "    @property\n",
    "    def nome(self):\n",
    "        \"\"\"\n",
    "        Pega o nome da campanha.\n",
    "        \"\"\"\n",
    "\n",
    "        return self.__nome\n",
    "\n",
    "    @property\n",
    "    def vencimento(self):\n",
    "        \"\"\"\n",
    "        Pega o vencimento da campanha.\n",
    "        \"\"\"\n",
    "\n",
    "        return self.__vencimento\n",
    "\n",
    "    def clone(self):\n",
    "        \"\"\"\n",
    "        Cria um cópia da campanha.\n",
    "        \"\"\"\n",
    "\n",
    "        nome = \"Cópia da campanha - %s\" % (self.nome)\n",
    "        vencimento = self.vencimento\n",
    "        campanha = Campanha(nome, vencimento)\n",
    "        \n",
    "        return campanha\n",
    "\n",
    "    def imprime(self):\n",
    "        \"\"\"\n",
    "        Imprime a campanha.\n",
    "        \"\"\"\n",
    "\n",
    "        print(\"--------------\")\n",
    "        print(\"Nome da Campanha: \", self.nome)\n",
    "        print(\"Vencimento:\", self.vencimento)\n",
    "        print(\"--------------\")"
   ]
  },
  {
   "cell_type": "markdown",
   "metadata": {},
   "source": [
    "***\n",
    "### Execução\n",
    "***"
   ]
  },
  {
   "cell_type": "code",
   "execution_count": 2,
   "metadata": {},
   "outputs": [],
   "source": [
    "nome = \"K19\"\n",
    "vencimento = \"21/08/2023\""
   ]
  },
  {
   "cell_type": "code",
   "execution_count": 3,
   "metadata": {},
   "outputs": [
    {
     "name": "stdout",
     "output_type": "stream",
     "text": [
      "--------------\n",
      "Nome da Campanha:  K19\n",
      "Vencimento: 21/08/2023\n",
      "--------------\n"
     ]
    }
   ],
   "source": [
    "campanha = Campanha(nome, vencimento)\n",
    "campanha.imprime()"
   ]
  },
  {
   "cell_type": "code",
   "execution_count": 4,
   "metadata": {},
   "outputs": [
    {
     "name": "stdout",
     "output_type": "stream",
     "text": [
      "--------------\n",
      "Nome da Campanha:  Cópia da campanha - K19\n",
      "Vencimento: 21/08/2023\n",
      "--------------\n"
     ]
    }
   ],
   "source": [
    "campanha_clone = campanha.clone()\n",
    "campanha_clone.imprime()"
   ]
  }
 ],
 "metadata": {
  "kernelspec": {
   "display_name": "Python 3",
   "language": "python",
   "name": "python3"
  },
  "language_info": {
   "codemirror_mode": {
    "name": "ipython",
    "version": 3
   },
   "file_extension": ".py",
   "mimetype": "text/x-python",
   "name": "python",
   "nbconvert_exporter": "python",
   "pygments_lexer": "ipython3",
   "version": "3.5.2"
  }
 },
 "nbformat": 4,
 "nbformat_minor": 2
}
