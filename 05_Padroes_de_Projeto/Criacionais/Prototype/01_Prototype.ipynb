{
 "cells": [
  {
   "cell_type": "markdown",
   "metadata": {},
   "source": [
    "## Prototype\n",
    "***"
   ]
  },
  {
   "cell_type": "markdown",
   "metadata": {},
   "source": [
    "### Definição\n",
    "***\n",
    "\n",
    "Possibilitar a criação de novos objetos a partir da cópia de objetos existentes."
   ]
  },
  {
   "cell_type": "markdown",
   "metadata": {},
   "source": [
    "***\n",
    "### Diagrama de classe\n",
    "***\n",
    "\n",
    "![prototype](https://cloud.githubusercontent.com/assets/14116020/26185361/df214346-3b60-11e7-822b-dc6c89584d9c.png)\n",
    "\n",
    "* **PrototipoAbstrato (CarroPrototype)**: Abstração dos objetos que possuem a capacidade de se auto copiar.\n",
    "\n",
    "\n",
    "* **PrototipoConcreto (FiestaPrototype, GolPrototype, ...)**: Classe que define um tipo particular de objeto que pode ser clonado."
   ]
  }
 ],
 "metadata": {
  "kernelspec": {
   "display_name": "Python 3",
   "language": "python",
   "name": "python3"
  },
  "language_info": {
   "codemirror_mode": {
    "name": "ipython",
    "version": 3
   },
   "file_extension": ".py",
   "mimetype": "text/x-python",
   "name": "python",
   "nbconvert_exporter": "python",
   "pygments_lexer": "ipython3",
   "version": "3.5.2"
  }
 },
 "nbformat": 4,
 "nbformat_minor": 2
}
