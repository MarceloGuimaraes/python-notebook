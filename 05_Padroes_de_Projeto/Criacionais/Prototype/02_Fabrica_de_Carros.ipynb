{
 "cells": [
  {
   "cell_type": "markdown",
   "metadata": {},
   "source": [
    "## Fabrica de carros\n",
    "***"
   ]
  },
  {
   "cell_type": "code",
   "execution_count": 1,
   "metadata": {},
   "outputs": [],
   "source": [
    "class PrototipoDeCarro(object):\n",
    "    \"\"\"\n",
    "    Classe abstrata que serve como template para criar prótotipos de carros.\n",
    "    \"\"\"\n",
    "\n",
    "    def __init__(self):\n",
    "        \"\"\"\n",
    "        Inicializa o valor de compra do carro.\n",
    "        \"\"\"\n",
    "\n",
    "        self.__valor_da_compra = 0.0\n",
    "\n",
    "    @property\n",
    "    def valor_da_compra(self):\n",
    "        \"\"\"\n",
    "        Pega o valor de compra do carro.\n",
    "        \"\"\"\n",
    "\n",
    "        return self.__valor_da_compra\n",
    "\n",
    "    @valor_da_compra.setter\n",
    "    def valor_da_compra(self, valor_da_compra):\n",
    "        \"\"\"\"\n",
    "        Modifica o valor de compra do carro.\n",
    "        \"\"\"\n",
    "\n",
    "        self.__valor_da_compra = valor_da_compra"
   ]
  },
  {
   "cell_type": "code",
   "execution_count": 2,
   "metadata": {},
   "outputs": [],
   "source": [
    "class PalioPrototipo(PrototipoDeCarro):\n",
    "    \"\"\"\n",
    "    Palio que serve de prótotipo para outros palios.\n",
    "    \"\"\"\n",
    "\n",
    "    def __init__(self, palio=None):\n",
    "        \"\"\"\n",
    "        Cria o prótotipo do palio e se o palio for inserido apenas\n",
    "        pegue seu valor de compra caso contrário, apenas inicialize ele.\n",
    "        \"\"\"\n",
    "\n",
    "        if palio is None:\n",
    "            self.valor_da_compra = 0.0\n",
    "        else:\n",
    "            self.valor_da_compra = palio.valor_da_compra\n",
    "\n",
    "    def exibe_informacao(self):\n",
    "        \"\"\"\n",
    "        Mostra informações do palio.\n",
    "        \"\"\"\n",
    "\n",
    "        print(\"Modelo: Palio\")\n",
    "        print(\"Montadora: Fiat\")\n",
    "        print(\"Valor: R$\", str(self.valor_da_compra))\n",
    "\n",
    "    def clonar(self):\n",
    "        \"\"\"\n",
    "        Cria uma cópia exata do palio.\n",
    "        \"\"\"\n",
    "\n",
    "        return PalioPrototipo(self)"
   ]
  },
  {
   "cell_type": "markdown",
   "metadata": {},
   "source": [
    "***\n",
    "### Execução\n",
    "***"
   ]
  },
  {
   "cell_type": "code",
   "execution_count": 3,
   "metadata": {},
   "outputs": [],
   "source": [
    "prototipo = PalioPrototipo()"
   ]
  },
  {
   "cell_type": "code",
   "execution_count": 4,
   "metadata": {},
   "outputs": [
    {
     "name": "stdout",
     "output_type": "stream",
     "text": [
      "Modelo: Palio\n",
      "Montadora: Fiat\n",
      "Valor: R$ 27000.0\n"
     ]
    }
   ],
   "source": [
    "novo_palio = prototipo.clonar()\n",
    "novo_palio.valor_da_compra = 27000.0\n",
    "novo_palio.exibe_informacao()"
   ]
  },
  {
   "cell_type": "code",
   "execution_count": 5,
   "metadata": {},
   "outputs": [],
   "source": [
    "palio_usado = novo_palio.clonar()"
   ]
  },
  {
   "cell_type": "code",
   "execution_count": 6,
   "metadata": {},
   "outputs": [
    {
     "name": "stdout",
     "output_type": "stream",
     "text": [
      "Modelo: Palio\n",
      "Montadora: Fiat\n",
      "Valor: R$ 27000.0\n"
     ]
    }
   ],
   "source": [
    "palio_usado.exibe_informacao()"
   ]
  },
  {
   "cell_type": "code",
   "execution_count": 7,
   "metadata": {},
   "outputs": [
    {
     "name": "stdout",
     "output_type": "stream",
     "text": [
      "Modelo: Palio\n",
      "Montadora: Fiat\n",
      "Valor: R$ 19000.0\n"
     ]
    }
   ],
   "source": [
    "palio_usado.valor_da_compra = 19000.0\n",
    "palio_usado.exibe_informacao()"
   ]
  }
 ],
 "metadata": {
  "kernelspec": {
   "display_name": "Python 3",
   "language": "python",
   "name": "python3"
  },
  "language_info": {
   "codemirror_mode": {
    "name": "ipython",
    "version": 3
   },
   "file_extension": ".py",
   "mimetype": "text/x-python",
   "name": "python",
   "nbconvert_exporter": "python",
   "pygments_lexer": "ipython3",
   "version": "3.5.2"
  }
 },
 "nbformat": 4,
 "nbformat_minor": 2
}
