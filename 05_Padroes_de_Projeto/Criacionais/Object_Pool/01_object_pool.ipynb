{
 "cells": [
  {
   "cell_type": "markdown",
   "metadata": {},
   "source": [
    "## Object Pool\n",
    "***\n",
    "### Definição\n",
    "***"
   ]
  },
  {
   "cell_type": "markdown",
   "metadata": {},
   "source": [
    "Possibilita o reaproveitamento de objetos\n",
    "\n",
    "Uma situação típica em que recursos limitados devem ser reutilizados é o do restaurante. O restaurante não adquire novas mesas a medida que clientes chegam ao restaurante e as mesas são reutilizadas por novos clientes assim que são liberadas."
   ]
  },
  {
   "cell_type": "markdown",
   "metadata": {},
   "source": [
    "***\n",
    "### Diagrama de classe\n",
    "***\n",
    "\n",
    "![object_pool](https://cloud.githubusercontent.com/assets/14116020/26185127/626ca292-3b5f-11e7-9e97-7a2797cb89e9.png)\n",
    "\n",
    "* **Produto (Mesa)**: Define os objetos gerenciados pelos CompartilhamentosConcretos.\n",
    "\n",
    "\n",
    "* **CompartilhamentoAbstrato (Compartilhamento)**: Interface dos objetos que controlam a aquisição e a liberação dos Produtos.\n",
    "\n",
    "\n",
    "* **CompartilhamentoConcreto (MesaCompartilhada)**: Implementação particular de um CompartilhamentoAbstrato que gerencia um Produto específico."
   ]
  }
 ],
 "metadata": {
  "kernelspec": {
   "display_name": "Python 3",
   "language": "python",
   "name": "python3"
  },
  "language_info": {
   "codemirror_mode": {
    "name": "ipython",
    "version": 3
   },
   "file_extension": ".py",
   "mimetype": "text/x-python",
   "name": "python",
   "nbconvert_exporter": "python",
   "pygments_lexer": "ipython3",
   "version": "3.5.2"
  }
 },
 "nbformat": 4,
 "nbformat_minor": 2
}
