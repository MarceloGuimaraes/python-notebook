{
 "cells": [
  {
   "cell_type": "markdown",
   "metadata": {},
   "source": [
    "## Factory Method\n",
    "***\n",
    "### Definição\n",
    "***"
   ]
  },
  {
   "cell_type": "markdown",
   "metadata": {},
   "source": [
    "Encapsula a escolha da classe concreta a ser utilizada na criação de objetos de um determinado tipo\n",
    "\n",
    "A fábrica (interface) cria objetos que só serão definidos em tempo de execução pela suas subclasses"
   ]
  },
  {
   "cell_type": "markdown",
   "metadata": {},
   "source": [
    "***\n",
    "### Diagrama de classe\n",
    "***\n",
    "\n",
    "![factory-method](https://cloud.githubusercontent.com/assets/14116020/26185539/01d47376-3b62-11e7-9c5e-2885e9a3362b.png)\n",
    "\n",
    "* **FabricaAbstrata (FabricaDeCarro)**: Classe ou interface que define a assinatura do método responsável pela criação do produto. Pode possuir uma implementação padrão do método de criação do produto.\n",
    "\n",
    "\n",
    "* **FabricaConcreta (FabricaFiat, FabricaFord, ...)**: Classe que implementa ou sobrescreve o método de criação do produto.\n",
    "\n",
    "\n",
    "* **ProdutoAbstrato (Carro)**: Classe ou interface que define o objeto a ser criado.\n",
    "\n",
    "\n",
    "* **ProdutoConcreto (Uno, Fiesta, Gol, Palio, ...)**: Uma implementação particular do tipo de objeto a ser criado."
   ]
  }
 ],
 "metadata": {
  "kernelspec": {
   "display_name": "Python 3",
   "language": "python",
   "name": "python3"
  },
  "language_info": {
   "codemirror_mode": {
    "name": "ipython",
    "version": 3
   },
   "file_extension": ".py",
   "mimetype": "text/x-python",
   "name": "python",
   "nbconvert_exporter": "python",
   "pygments_lexer": "ipython3",
   "version": "3.5.2"
  }
 },
 "nbformat": 4,
 "nbformat_minor": 2
}
