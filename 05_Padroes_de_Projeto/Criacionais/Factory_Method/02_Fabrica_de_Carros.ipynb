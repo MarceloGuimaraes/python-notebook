{
 "cells": [
  {
   "cell_type": "markdown",
   "metadata": {},
   "source": [
    "## Fabrica de Carros\n",
    "***"
   ]
  },
  {
   "cell_type": "markdown",
   "metadata": {},
   "source": [
    "### Carros\n",
    "***"
   ]
  },
  {
   "cell_type": "code",
   "execution_count": 2,
   "metadata": {},
   "outputs": [],
   "source": [
    "class Palio(object):\n",
    "\n",
    "    def mostra_informacao(self):\n",
    "        print(\"Modelo: Palio\")\n",
    "        print(\"Fabricante: Fiat\\n\")\n",
    "\n",
    "\n",
    "class Uno(object):\n",
    "\n",
    "    def mostra_informacao(self):\n",
    "        print(\"Modelo: Uno\")\n",
    "        print(\"Fabricante: Fiat\\n\")\n",
    "\n",
    "\n",
    "class Punto(object):\n",
    "\n",
    "    def mostra_informacao(self):\n",
    "        print(\"Modelo: Punto\")\n",
    "        print(\"Fabricante: Fiat\\n\")"
   ]
  },
  {
   "cell_type": "code",
   "execution_count": 3,
   "metadata": {},
   "outputs": [],
   "source": [
    "class Fiesta(object):\n",
    "\n",
    "    def mostra_informacao(self):\n",
    "        print(\"Modelo: Fiesta\")\n",
    "        print(\"Fabricante: Ford\\n\")\n",
    "\n",
    "\n",
    "class Ka(object):\n",
    "\n",
    "    def mostra_informacao(self):\n",
    "        print(\"Modelo: Ka\")\n",
    "        print(\"Fabricante: Ford\\n\")\n",
    "\n",
    "\n",
    "class Ecosport(object):\n",
    "\n",
    "    def mostra_informacao(self):\n",
    "        print(\"Modelo: Ecosport\")\n",
    "        print(\"Fabricante: Ford\\n\")"
   ]
  },
  {
   "cell_type": "markdown",
   "metadata": {},
   "source": [
    "***\n",
    "### Fabricas\n",
    "***"
   ]
  },
  {
   "cell_type": "code",
   "execution_count": 8,
   "metadata": {},
   "outputs": [],
   "source": [
    "class Fiat(object):\n",
    "    \"\"\"\n",
    "    Fabrica de carros da Fiat.\n",
    "    \"\"\"\n",
    "\n",
    "    PALIO = 0\n",
    "    UNO = 1\n",
    "    PUNTO = 2\n",
    "\n",
    "    def constroi_carro(self, modelo):\n",
    "        if modelo == self.PALIO:\n",
    "            return Palio()\n",
    "        elif modelo == self.UNO:\n",
    "            return Uno()\n",
    "        elif modelo == self.PUNTO:\n",
    "            return Punto()"
   ]
  },
  {
   "cell_type": "code",
   "execution_count": 9,
   "metadata": {},
   "outputs": [],
   "source": [
    "class Ford(object):\n",
    "    \"\"\"\n",
    "    Fabrica de carros da Ford\n",
    "    \"\"\"\n",
    "\n",
    "    KA = 0\n",
    "    ECOSPORT = 1\n",
    "    FIESTA = 2\n",
    "\n",
    "    def constroi_carro(self, modelo):\n",
    "        if modelo == self.KA:\n",
    "            return Ka()\n",
    "        elif modelo == self.ECOSPORT:\n",
    "            return Ecosport()\n",
    "        elif modelo == self.FIESTA:\n",
    "            return Fiesta()"
   ]
  },
  {
   "cell_type": "markdown",
   "metadata": {},
   "source": [
    "***\n",
    "### Execução\n",
    "***"
   ]
  },
  {
   "cell_type": "code",
   "execution_count": 10,
   "metadata": {},
   "outputs": [
    {
     "name": "stdout",
     "output_type": "stream",
     "text": [
      "Modelo: Uno\n",
      "Fabricante: Fiat\n",
      "\n",
      "Modelo: Palio\n",
      "Fabricante: Fiat\n",
      "\n"
     ]
    }
   ],
   "source": [
    "fabrica = Fiat()\n",
    "carro = fabrica.constroi_carro(Fiat.UNO)\n",
    "carro.mostra_informacao()\n",
    "carro = fabrica.constroi_carro(Fiat.PALIO)\n",
    "carro.mostra_informacao()"
   ]
  },
  {
   "cell_type": "code",
   "execution_count": 11,
   "metadata": {},
   "outputs": [
    {
     "name": "stdout",
     "output_type": "stream",
     "text": [
      "Modelo: Ka\n",
      "Fabricante: Ford\n",
      "\n",
      "Modelo: Fiesta\n",
      "Fabricante: Ford\n",
      "\n"
     ]
    }
   ],
   "source": [
    "fabrica = Ford()\n",
    "carro = fabrica.constroi_carro(Ford.KA)\n",
    "carro.mostra_informacao()\n",
    "carro = fabrica.constroi_carro(Ford.FIESTA)\n",
    "carro.mostra_informacao()"
   ]
  }
 ],
 "metadata": {
  "kernelspec": {
   "display_name": "Python 3",
   "language": "python",
   "name": "python3"
  },
  "language_info": {
   "codemirror_mode": {
    "name": "ipython",
    "version": 3
   },
   "file_extension": ".py",
   "mimetype": "text/x-python",
   "name": "python",
   "nbconvert_exporter": "python",
   "pygments_lexer": "ipython3",
   "version": "3.5.2"
  }
 },
 "nbformat": 4,
 "nbformat_minor": 2
}
