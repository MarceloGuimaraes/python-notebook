{
 "cells": [
  {
   "cell_type": "markdown",
   "metadata": {},
   "source": [
    "## Sistema de Mensagens\n",
    "***"
   ]
  },
  {
   "cell_type": "markdown",
   "metadata": {},
   "source": [
    "### Emissores\n",
    "***"
   ]
  },
  {
   "cell_type": "code",
   "execution_count": 1,
   "metadata": {},
   "outputs": [],
   "source": [
    "class Email(object):\n",
    "    \"\"\"\n",
    "    Emissor de email.\n",
    "    \"\"\"\n",
    "\n",
    "    def envia(self, mensagem):\n",
    "        print(\"Enviando por Email a mensagem:\", mensagem)"
   ]
  },
  {
   "cell_type": "code",
   "execution_count": 2,
   "metadata": {},
   "outputs": [],
   "source": [
    "class JMS(object):\n",
    "    \"\"\"\n",
    "    Emissor de JMS\n",
    "    \"\"\"\n",
    "\n",
    "    def envia(self, mensagem):\n",
    "        print(\"Enviando por JMS a mensagem:\", mensagem)"
   ]
  },
  {
   "cell_type": "code",
   "execution_count": 3,
   "metadata": {},
   "outputs": [],
   "source": [
    "class SMS(object):\n",
    "    \"\"\"\n",
    "    Emissor de SMS\n",
    "    \"\"\"\n",
    "\n",
    "    def envia(self, mensagem):\n",
    "        print(\"Enviando por SMS a mensagem:\", mensagem)"
   ]
  },
  {
   "cell_type": "markdown",
   "metadata": {},
   "source": [
    "***\n",
    "### Fabrica\n",
    "***"
   ]
  },
  {
   "cell_type": "code",
   "execution_count": 4,
   "metadata": {},
   "outputs": [],
   "source": [
    "class FabricaDeEmissores(object):\n",
    "    \"\"\"\n",
    "    Fabrica de emissores.\n",
    "    \"\"\"\n",
    "\n",
    "    SMS = 0\n",
    "    EMAIL = 1\n",
    "    JMS = 2\n",
    "\n",
    "    def cria_emissor(self, emissor):\n",
    "        \"\"\"\n",
    "        Cria o emissor.\n",
    "        \"\"\"\n",
    "\n",
    "        if emissor == self.SMS:\n",
    "            return SMS()\n",
    "        elif emissor == self.EMAIL:\n",
    "            return Email()\n",
    "        elif emissor == self.JMS:\n",
    "            return JMS()\n",
    "        else:\n",
    "            raise Exception(\"Tipo de emissor não suportado\")"
   ]
  },
  {
   "cell_type": "markdown",
   "metadata": {},
   "source": [
    "***\n",
    "### Execução\n",
    "***"
   ]
  },
  {
   "cell_type": "code",
   "execution_count": 5,
   "metadata": {},
   "outputs": [],
   "source": [
    "fabrica = FabricaDeEmissores()"
   ]
  },
  {
   "cell_type": "code",
   "execution_count": 6,
   "metadata": {},
   "outputs": [
    {
     "name": "stdout",
     "output_type": "stream",
     "text": [
      "Enviando por SMS a mensagem: K19 - Treinamentos\n"
     ]
    }
   ],
   "source": [
    "emissor = fabrica.cria_emissor(FabricaDeEmissores.SMS)\n",
    "emissor.envia(\"K19 - Treinamentos\")"
   ]
  },
  {
   "cell_type": "code",
   "execution_count": 7,
   "metadata": {},
   "outputs": [
    {
     "name": "stdout",
     "output_type": "stream",
     "text": [
      "Enviando por Email a mensagem: K19 - Treinamentos\n"
     ]
    }
   ],
   "source": [
    "emissor = fabrica.cria_emissor(FabricaDeEmissores.EMAIL)\n",
    "emissor.envia(\"K19 - Treinamentos\")"
   ]
  },
  {
   "cell_type": "code",
   "execution_count": 8,
   "metadata": {},
   "outputs": [
    {
     "name": "stdout",
     "output_type": "stream",
     "text": [
      "Enviando por JMS a mensagem: K19 - Treinamentos\n"
     ]
    }
   ],
   "source": [
    "emissor = fabrica.cria_emissor(FabricaDeEmissores.JMS)\n",
    "emissor.envia(\"K19 - Treinamentos\")"
   ]
  }
 ],
 "metadata": {
  "kernelspec": {
   "display_name": "Python 3",
   "language": "python",
   "name": "python3"
  },
  "language_info": {
   "codemirror_mode": {
    "name": "ipython",
    "version": 3
   },
   "file_extension": ".py",
   "mimetype": "text/x-python",
   "name": "python",
   "nbconvert_exporter": "python",
   "pygments_lexer": "ipython3",
   "version": "3.5.2"
  }
 },
 "nbformat": 4,
 "nbformat_minor": 2
}
