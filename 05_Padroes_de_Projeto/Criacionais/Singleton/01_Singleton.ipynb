{
 "cells": [
  {
   "cell_type": "markdown",
   "metadata": {},
   "source": [
    "## Singleton\n",
    "***"
   ]
  },
  {
   "cell_type": "markdown",
   "metadata": {},
   "source": [
    "### Definição\n",
    "***\n",
    "\n",
    "Permitir a criação de uma única instância de uma classe e fornecer um modo para recuperá-la."
   ]
  },
  {
   "cell_type": "markdown",
   "metadata": {},
   "source": [
    "***\n",
    "### Diagrama de classe\n",
    "***\n",
    "\n",
    "![singleton](https://cloud.githubusercontent.com/assets/14116020/26185411/3646040e-3b61-11e7-8408-da491b5c16f8.png)\n",
    "\n",
    "* **singleton()**: Classe que permite a criação de uma única instância e fornece um método estático para recuperá-la.\n",
    "\n",
    "\n",
    "* **Cliente**: Teste da classe singleton"
   ]
  }
 ],
 "metadata": {
  "kernelspec": {
   "display_name": "Python 3",
   "language": "python",
   "name": "python3"
  },
  "language_info": {
   "codemirror_mode": {
    "name": "ipython",
    "version": 3
   },
   "file_extension": ".py",
   "mimetype": "text/x-python",
   "name": "python",
   "nbconvert_exporter": "python",
   "pygments_lexer": "ipython3",
   "version": "3.5.2"
  }
 },
 "nbformat": 4,
 "nbformat_minor": 2
}
