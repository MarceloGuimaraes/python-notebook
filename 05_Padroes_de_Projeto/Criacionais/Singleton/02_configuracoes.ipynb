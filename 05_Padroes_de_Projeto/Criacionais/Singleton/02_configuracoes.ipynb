{
 "cells": [
  {
   "cell_type": "markdown",
   "metadata": {},
   "source": [
    "## Configurações\n",
    "***"
   ]
  },
  {
   "cell_type": "code",
   "execution_count": 1,
   "metadata": {},
   "outputs": [],
   "source": [
    "class Configuracao(object):\n",
    "    \"\"\"\n",
    "    Configurações.\n",
    "    \"\"\"\n",
    "\n",
    "    __propriedades = {}\n",
    "    __instancia = None\n",
    "\n",
    "    def __init__(self):\n",
    "        \"\"\"\n",
    "        Constroi as configurações caso ainda não exista.\n",
    "        \"\"\"\n",
    "\n",
    "        if self.__instancia is not None:\n",
    "            raise ValueError(\"O objeto já existe! utilize a função pega_instancia()\")\n",
    "\n",
    "        self.__propriedades['time-zone'] = \"America/Sao_Paulo\"\n",
    "        self.__propriedades['currency-code'] = \"BRL\"\n",
    "        self.__propriedades['language'] = \"pt-BR\"\n",
    "\n",
    "    @classmethod\n",
    "    def pega_instancia(self):\n",
    "        \"\"\"\n",
    "        Pega a instância já criada.\n",
    "        \"\"\"\n",
    "\n",
    "        if self.__instancia is None:\n",
    "            self.__instancia = Configuracao()\n",
    "        return self.__instancia\n",
    "\n",
    "    def pega_propriedade(self, nome_da_propriedade):\n",
    "        \"\"\"\n",
    "        Pega as propriedades da configuração.\n",
    "        \"\"\"\n",
    "\n",
    "        return self.__propriedades[nome_da_propriedade]"
   ]
  },
  {
   "cell_type": "markdown",
   "metadata": {},
   "source": [
    "***\n",
    "### Execução\n",
    "***"
   ]
  },
  {
   "cell_type": "code",
   "execution_count": 2,
   "metadata": {},
   "outputs": [],
   "source": [
    "configuracao = Configuracao.pega_instancia()"
   ]
  },
  {
   "cell_type": "code",
   "execution_count": 3,
   "metadata": {},
   "outputs": [
    {
     "name": "stdout",
     "output_type": "stream",
     "text": [
      "America/Sao_Paulo\n"
     ]
    }
   ],
   "source": [
    "print(configuracao.pega_propriedade(\"time-zone\"))"
   ]
  },
  {
   "cell_type": "code",
   "execution_count": 4,
   "metadata": {},
   "outputs": [
    {
     "name": "stdout",
     "output_type": "stream",
     "text": [
      "BRL\n"
     ]
    }
   ],
   "source": [
    "print(configuracao.pega_propriedade(\"currency-code\"))"
   ]
  },
  {
   "cell_type": "code",
   "execution_count": 5,
   "metadata": {},
   "outputs": [
    {
     "name": "stdout",
     "output_type": "stream",
     "text": [
      "pt-BR\n"
     ]
    }
   ],
   "source": [
    "print(configuracao.pega_propriedade(\"language\"))"
   ]
  }
 ],
 "metadata": {
  "kernelspec": {
   "display_name": "Python 3",
   "language": "python",
   "name": "python3"
  },
  "language_info": {
   "codemirror_mode": {
    "name": "ipython",
    "version": 3
   },
   "file_extension": ".py",
   "mimetype": "text/x-python",
   "name": "python",
   "nbconvert_exporter": "python",
   "pygments_lexer": "ipython3",
   "version": "3.5.2"
  }
 },
 "nbformat": 4,
 "nbformat_minor": 2
}
