{
 "cells": [
  {
   "cell_type": "markdown",
   "metadata": {},
   "source": [
    "## Sistemas\n",
    "***"
   ]
  },
  {
   "cell_type": "code",
   "execution_count": 1,
   "metadata": {},
   "outputs": [],
   "source": [
    "class SistemaDeAudio(object):\n",
    "    \"\"\"\n",
    "    Sistema de audio.\n",
    "    \"\"\"\n",
    "\n",
    "    def configurar_frequencia(self):\n",
    "        \"\"\"\n",
    "        Configura a frequência do audio.\n",
    "        \"\"\"\n",
    "\n",
    "        print(\"Frequência configurada\")\n",
    "\n",
    "    def configurar_volume(self):\n",
    "        \"\"\"\n",
    "        Configura o volume do audio.\n",
    "        \"\"\"\n",
    "\n",
    "        print(\"Volume configurado\")\n",
    "\n",
    "    def configurar_canais(self):\n",
    "        \"\"\"\n",
    "        Configura os canais de audio.\n",
    "        \"\"\"\n",
    "\n",
    "        print(\"Canais configurados\")\n",
    "\n",
    "    def reproduzir_audio(self, arquivo):\n",
    "        \"\"\"\n",
    "        Reproduz o audio\n",
    "        \"\"\"\n",
    "\n",
    "        print(\"Reproduzindo: \" + arquivo)"
   ]
  },
  {
   "cell_type": "code",
   "execution_count": 2,
   "metadata": {},
   "outputs": [],
   "source": [
    "class SistemaDeInput(object):\n",
    "    \"\"\"\n",
    "    Sistema de entrade e saída\n",
    "    \"\"\"\n",
    "\n",
    "    def configurar_teclado(self):\n",
    "        \"\"\"\n",
    "        Configura o teclado.\n",
    "        \"\"\"\n",
    "\n",
    "        print(\"Teclado configurado\")\n",
    "\n",
    "    def configurar_joystick(self):\n",
    "        \"\"\"\n",
    "        Configura o joystick\n",
    "        \"\"\"\n",
    "\n",
    "        print(\"Joystick configurado\")\n",
    "\n",
    "    def ler_input(self):\n",
    "        \"\"\"\n",
    "        Ler as entradas e saídas.\n",
    "        \"\"\"\n",
    "\n",
    "        print(\"Input funcionando\")"
   ]
  },
  {
   "cell_type": "code",
   "execution_count": 3,
   "metadata": {},
   "outputs": [],
   "source": [
    "class SistemaDeVideo(object):\n",
    "    \"\"\"\n",
    "    Sistema de vídeo.\n",
    "    \"\"\"\n",
    "\n",
    "    def configurar_cores(self):\n",
    "        \"\"\"\n",
    "        Configura cores de vídeos.\n",
    "        \"\"\"\n",
    "\n",
    "        print(\"Cores configurada\")\n",
    "\n",
    "    def configurar_resolucao(self):\n",
    "        \"\"\"\n",
    "        Configurar resolução do vídeo.\n",
    "        \"\"\"\n",
    "\n",
    "        print(\"Resolução configurada\")\n",
    "\n",
    "    def renderizar_imagem(self, imagem):\n",
    "        \"\"\"\n",
    "        Renderiza o vídeo.\n",
    "        \"\"\"\n",
    "\n",
    "        print(\"Imagem: \" + imagem)"
   ]
  },
  {
   "cell_type": "markdown",
   "metadata": {},
   "source": [
    "***"
   ]
  },
  {
   "cell_type": "code",
   "execution_count": 4,
   "metadata": {},
   "outputs": [],
   "source": [
    "class SistemaFacade(object):\n",
    "    \"\"\"\n",
    "    Sistema Facade - sistema de subsistemas.\n",
    "    \"\"\"\n",
    "\n",
    "    sistema_de_video = None\n",
    "    sistema_de_audio = None\n",
    "    sistema_de_input = None\n",
    "\n",
    "    def inicializar_subsistemas(self):\n",
    "        \"\"\"\n",
    "        Inicializa todos os subsistemas e suas configurações.\n",
    "        \"\"\"\n",
    "\n",
    "        self.sistema_de_video = SistemaDeVideo()\n",
    "        self.sistema_de_video.configurar_cores()\n",
    "        self.sistema_de_video.configurar_resolucao()\n",
    "\n",
    "        self.sistema_de_input = SistemaDeInput()\n",
    "        self.sistema_de_input.configurar_joystick()\n",
    "        self.sistema_de_input.configurar_teclado()\n",
    "\n",
    "        self.sistema_de_audio = SistemaDeAudio()\n",
    "        self.sistema_de_audio.configurar_canais()\n",
    "        self.sistema_de_audio.configurar_frequencia()\n",
    "        self.sistema_de_audio.configurar_volume()\n",
    "\n",
    "    def reproduzir_audio(self, arquivo):\n",
    "        \"\"\"\n",
    "        Reproduzir audio do subsistema de audio\n",
    "        \"\"\"\n",
    "\n",
    "        self.sistema_de_audio.reproduzir_audio(arquivo)\n",
    "\n",
    "    def renderizar_imagem(self, imagem):\n",
    "        \"\"\"\n",
    "        Reproduzir imagem do subsistema de video.\n",
    "        \"\"\"\n",
    "\n",
    "        self.sistema_de_video.renderizar_imagem(imagem)\n",
    "\n",
    "    def ler_input(self):\n",
    "        \"\"\"\n",
    "        Ler entradas e saídas do subsistema de input.\n",
    "        \"\"\"\n",
    "\n",
    "        self.sistema_de_input.ler_input()"
   ]
  },
  {
   "cell_type": "markdown",
   "metadata": {},
   "source": [
    "***"
   ]
  },
  {
   "cell_type": "code",
   "execution_count": 5,
   "metadata": {},
   "outputs": [
    {
     "name": "stdout",
     "output_type": "stream",
     "text": [
      "***** Configurando subsistemas *****\n",
      "Cores configurada\n",
      "Resolução configurada\n",
      "Joystick configurado\n",
      "Teclado configurado\n",
      "Canais configurados\n",
      "Frequência configurada\n",
      "Volume configurado\n"
     ]
    }
   ],
   "source": [
    "print(\"***** Configurando subsistemas *****\")\n",
    "sistema = SistemaFacade()\n",
    "sistema.inicializar_subsistemas()"
   ]
  },
  {
   "cell_type": "code",
   "execution_count": 6,
   "metadata": {},
   "outputs": [
    {
     "name": "stdout",
     "output_type": "stream",
     "text": [
      "\n",
      "***** Utilizando subsistemas *****\n",
      "Imagem: Imagem.png\n",
      "Reproduzindo: teste.mp3\n",
      "Input funcionando\n"
     ]
    }
   ],
   "source": [
    "print(\"\\n***** Utilizando subsistemas *****\")\n",
    "sistema.renderizar_imagem(\"Imagem.png\")\n",
    "sistema.reproduzir_audio(\"teste.mp3\")\n",
    "sistema.ler_input()"
   ]
  }
 ],
 "metadata": {
  "kernelspec": {
   "display_name": "Python 3",
   "language": "python",
   "name": "python3"
  },
  "language_info": {
   "codemirror_mode": {
    "name": "ipython",
    "version": 3
   },
   "file_extension": ".py",
   "mimetype": "text/x-python",
   "name": "python",
   "nbconvert_exporter": "python",
   "pygments_lexer": "ipython3",
   "version": "3.5.2"
  }
 },
 "nbformat": 4,
 "nbformat_minor": 2
}
