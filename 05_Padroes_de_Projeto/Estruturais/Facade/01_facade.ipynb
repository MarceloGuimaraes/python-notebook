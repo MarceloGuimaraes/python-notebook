{
 "cells": [
  {
   "cell_type": "markdown",
   "metadata": {},
   "source": [
    "## Facade\n",
    "***\n",
    "### Definição\n",
    "***"
   ]
  },
  {
   "cell_type": "markdown",
   "metadata": {},
   "source": [
    "Prove uma interface simplificada para a utilização de várias interfaces de um subsistema.\n",
    "\n",
    "A ideia do Facade é a mesma da agência de viagem, ou seja, simplificar a interação de um cliente com diversos sistemas, por exemplo, compnhias aéreas, hotéis, e etc..."
   ]
  },
  {
   "cell_type": "markdown",
   "metadata": {},
   "source": [
    "***\n",
    "### Diagrama de Classe\n",
    "***"
   ]
  },
  {
   "cell_type": "markdown",
   "metadata": {},
   "source": [
    "![img](https://cloud.githubusercontent.com/assets/14116020/26187299/408e468a-3b6e-11e7-9b70-7dfcd5c1d063.png)\n",
    "\n",
    "* **Fachada (sistemaFachada)**: Classe intermediária que simplifica o acesso aos Componentes.\n",
    "\n",
    "\n",
    "* **Componentes (SistemaDeAudio, SistemaDeInput, SistemaDeVideo)**: Classes que compõem o subsistema.\n",
    "\n",
    "\n",
    "* **Cliente**: Classe que usa os Componentes de forma indireta através da Fachada."
   ]
  }
 ],
 "metadata": {
  "kernelspec": {
   "display_name": "Python 3",
   "language": "python",
   "name": "python3"
  },
  "language_info": {
   "codemirror_mode": {
    "name": "ipython",
    "version": 3
   },
   "file_extension": ".py",
   "mimetype": "text/x-python",
   "name": "python",
   "nbconvert_exporter": "python",
   "pygments_lexer": "ipython3",
   "version": "3.5.2"
  }
 },
 "nbformat": 4,
 "nbformat_minor": 2
}
