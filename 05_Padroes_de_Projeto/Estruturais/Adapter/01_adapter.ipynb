{
 "cells": [
  {
   "cell_type": "markdown",
   "metadata": {},
   "source": [
    "## Adapter\n",
    "***"
   ]
  },
  {
   "cell_type": "markdown",
   "metadata": {},
   "source": [
    "### Definição\n",
    "***"
   ]
  },
  {
   "cell_type": "markdown",
   "metadata": {},
   "source": [
    "Permite que um objeto seja substituido por outro que, apesar de realizar a mesma tarefa, possui uma interface diferente."
   ]
  },
  {
   "cell_type": "markdown",
   "metadata": {},
   "source": [
    "***\n",
    "### Diagrama de classe\n",
    "***"
   ]
  },
  {
   "cell_type": "markdown",
   "metadata": {},
   "source": [
    "![img](https://cloud.githubusercontent.com/assets/14116020/26186346/6add8b32-3b67-11e7-89a2-3305dc140d5b.png)\n",
    "\n",
    "* **SistemaAntigo (ControleDePonto)**: Define a interface utilizada pelo cliente\n",
    "\n",
    "\n",
    "* **Adaptador (ControleDePontoAdapter)**: Classe que implementa a interface definida pelo SistemaAntigo e adapta as chamadas do Client para o NovoSistema.\n",
    "\n",
    "\n",
    "* **NovoSistema (ControleDePontoNovo)**: Classe que define o novo objeto a ser utilizado.\n",
    "\n",
    "\n",
    "* **Cliente**: Interage com os objetos através da interface definida pelo SistemaAntigo."
   ]
  }
 ],
 "metadata": {
  "kernelspec": {
   "display_name": "Python 3",
   "language": "python",
   "name": "python3"
  },
  "language_info": {
   "codemirror_mode": {
    "name": "ipython",
    "version": 3
   },
   "file_extension": ".py",
   "mimetype": "text/x-python",
   "name": "python",
   "nbconvert_exporter": "python",
   "pygments_lexer": "ipython3",
   "version": "3.5.2"
  }
 },
 "nbformat": 4,
 "nbformat_minor": 2
}
