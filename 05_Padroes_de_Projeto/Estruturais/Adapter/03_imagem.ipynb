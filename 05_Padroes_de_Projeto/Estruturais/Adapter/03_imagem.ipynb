{
 "cells": [
  {
   "cell_type": "markdown",
   "metadata": {},
   "source": [
    "## Imagens\n",
    "***"
   ]
  },
  {
   "cell_type": "code",
   "execution_count": 1,
   "metadata": {},
   "outputs": [],
   "source": [
    "class OpenGLImage(object):\n",
    "    \"\"\"\n",
    "    API OpenGL\n",
    "    \"\"\"\n",
    "\n",
    "    def gl_carrega_imagem(self, arquivo):\n",
    "        \"\"\"\n",
    "        Carregar imagem da API OpenGL\n",
    "        \"\"\"\n",
    "\n",
    "        print(\"Imagem\", arquivo, \"carregada.\")\n",
    "\n",
    "    def gl_desenha_imagem(self, posX, posY):\n",
    "        \"\"\"\n",
    "        Desenhar imagem da API OpenGL\n",
    "        \"\"\"\n",
    "\n",
    "        print(\"OpenGL imagem desenhada.\")"
   ]
  },
  {
   "cell_type": "code",
   "execution_count": 2,
   "metadata": {},
   "outputs": [],
   "source": [
    "class SDLSurface(object):\n",
    "    \"\"\"\n",
    "    API SDL Surface\n",
    "    \"\"\"\n",
    "\n",
    "    def sdl_carrega_surface(self, arquivo):\n",
    "        \"\"\"\n",
    "        Carregar imagem da API SDLSurface\n",
    "        \"\"\"\n",
    "\n",
    "        print(\"Imagem\", arquivo, \"carregada.\")\n",
    "\n",
    "    def sql_desenha_surface(self, largura, altura, posX, posY):\n",
    "        \"\"\"\n",
    "        Desenhar imagem da API SDLSurface\n",
    "        \"\"\"\n",
    "\n",
    "        print(\"SDL surface desenhada.\")"
   ]
  },
  {
   "cell_type": "markdown",
   "metadata": {},
   "source": [
    "***"
   ]
  },
  {
   "cell_type": "code",
   "execution_count": 3,
   "metadata": {},
   "outputs": [],
   "source": [
    "class OpenGLImageAdapter(OpenGLImage):\n",
    "    \"\"\"\n",
    "    Adaptador da API OpenGL.\n",
    "    \"\"\"\n",
    "\n",
    "    def carrega_imagem(self, arquivo):\n",
    "        \"\"\"\n",
    "        Carrega imagem da API OpenGL\n",
    "        \"\"\"\n",
    "\n",
    "        self.gl_carrega_imagem(arquivo)\n",
    "\n",
    "    def desenha_imagem(self, posX, posY, largura, altura):\n",
    "        \"\"\"\n",
    "        Desenha imagem da API OpenGL\n",
    "        \"\"\"\n",
    "\n",
    "        self.gl_desenha_imagem(posX, posY)"
   ]
  },
  {
   "cell_type": "code",
   "execution_count": 4,
   "metadata": {},
   "outputs": [],
   "source": [
    "class SDLImageAdapter(SDLSurface):\n",
    "    \"\"\"\n",
    "    Adaptador da API SDLImagem\n",
    "    \"\"\"\n",
    "\n",
    "    def carrega_imagem(self, arquivo):\n",
    "        \"\"\"\n",
    "        Carrega imagem da API SDLImagem\n",
    "        \"\"\"\n",
    "\n",
    "        self.sdl_carrega_surface(arquivo)\n",
    "\n",
    "    def desenha_imagem(self, posX, posY, largura, altura):\n",
    "        \"\"\"\n",
    "        Desenha imagem da API SDLImagem\n",
    "        \"\"\"\n",
    "\n",
    "        self.sql_desenha_surface(largura, altura, posX, posY)"
   ]
  },
  {
   "cell_type": "markdown",
   "metadata": {},
   "source": [
    "***"
   ]
  },
  {
   "cell_type": "code",
   "execution_count": 5,
   "metadata": {},
   "outputs": [
    {
     "name": "stdout",
     "output_type": "stream",
     "text": [
      "Imagem teste_sdl.png carregada.\n",
      "SDL surface desenhada.\n",
      "\n",
      "Imagem teste_opengl.png carregada.\n",
      "OpenGL imagem desenhada.\n"
     ]
    }
   ],
   "source": [
    "imagem = SDLImageAdapter()\n",
    "imagem.carrega_imagem(\"teste_sdl.png\")\n",
    "imagem.desenha_imagem(0, 0, 10, 10)\n",
    "\n",
    "print()\n",
    "\n",
    "imagem = OpenGLImageAdapter()\n",
    "imagem.carrega_imagem(\"teste_opengl.png\")\n",
    "imagem.desenha_imagem(0, 0, 10, 10)"
   ]
  }
 ],
 "metadata": {
  "kernelspec": {
   "display_name": "Python 3",
   "language": "python",
   "name": "python3"
  },
  "language_info": {
   "codemirror_mode": {
    "name": "ipython",
    "version": 3
   },
   "file_extension": ".py",
   "mimetype": "text/x-python",
   "name": "python",
   "nbconvert_exporter": "python",
   "pygments_lexer": "ipython3",
   "version": "3.5.2"
  }
 },
 "nbformat": 4,
 "nbformat_minor": 2
}
