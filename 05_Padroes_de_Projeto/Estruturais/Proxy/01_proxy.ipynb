{
 "cells": [
  {
   "cell_type": "markdown",
   "metadata": {},
   "source": [
    "## Proxy\n",
    "***\n",
    "### Definição\n",
    "***"
   ]
  },
  {
   "cell_type": "markdown",
   "metadata": {},
   "source": [
    "Controlar as chamadas a um objeto através de outro objeto de mesma interface.\n",
    "\n",
    "Esse padrão define um intermediário para controlar o acesso a um determinado objeto, podendo adicionar funcionalidades que esse objeto não possui"
   ]
  },
  {
   "cell_type": "markdown",
   "metadata": {},
   "source": [
    "***\n",
    "### Diagrama de Classe\n",
    "***"
   ]
  },
  {
   "cell_type": "markdown",
   "metadata": {},
   "source": [
    "![img](https://cloud.githubusercontent.com/assets/14116020/26187585/7df69aca-3b70-11e7-88a3-dd7d726bae1c.png)\n",
    "\n",
    "* **ComponenteAbstrato (Conta)**: Interface que padroniza ComponenteReal e ComponenteIntermediario.\n",
    "\n",
    "\n",
    "* **ComponenteReal (ContaPadrao)**: Define um tipo de objeto do domínio da aplicação.\n",
    "\n",
    "\n",
    "* **ComponenteIntermediario (ContaIntermediaria)**: Define os objetos que controlam o acesso aos componentes reais.\n",
    "\n",
    "\n",
    "* **Client**: Cliente que usa o componente real por meio do componente intermediario."
   ]
  }
 ],
 "metadata": {
  "kernelspec": {
   "display_name": "Python 3",
   "language": "python",
   "name": "python3"
  },
  "language_info": {
   "codemirror_mode": {
    "name": "ipython",
    "version": 3
   },
   "file_extension": ".py",
   "mimetype": "text/x-python",
   "name": "python",
   "nbconvert_exporter": "python",
   "pygments_lexer": "ipython3",
   "version": "3.5.2"
  }
 },
 "nbformat": 4,
 "nbformat_minor": 2
}
