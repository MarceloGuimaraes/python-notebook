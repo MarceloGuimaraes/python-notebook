{
 "cells": [
  {
   "cell_type": "markdown",
   "metadata": {},
   "source": [
    "## Banco\n",
    "***"
   ]
  },
  {
   "cell_type": "code",
   "execution_count": 1,
   "metadata": {},
   "outputs": [],
   "source": [
    "class BancoDeUsuarios(object):\n",
    "    \"\"\"\n",
    "    Banco de usuários\n",
    "    \"\"\"\n",
    "\n",
    "    __quantidade_de_usuarios = 100\n",
    "    __usuarios_conectados = 35\n",
    "\n",
    "    @property\n",
    "    def numero_de_usuarios(self):\n",
    "        \"\"\"\n",
    "        Pega o número de usuários\n",
    "        \"\"\"\n",
    "\n",
    "        return \"Total de usuário: \" + str(self.__quantidade_de_usuarios)\n",
    "\n",
    "    @property\n",
    "    def usuarios_conectados(self):\n",
    "        \"\"\"\n",
    "        Pega a quantidade de usuários conectados.\n",
    "        \"\"\"\n",
    "\n",
    "        return \"Usuários conectados: \" + str(self.__usuarios_conectados)"
   ]
  },
  {
   "cell_type": "markdown",
   "metadata": {},
   "source": [
    "***"
   ]
  },
  {
   "cell_type": "code",
   "execution_count": 2,
   "metadata": {},
   "outputs": [],
   "source": [
    "class BancoProxy(BancoDeUsuarios):\n",
    "    \"\"\"\n",
    "    Proxy que controla o banco de usuários.\n",
    "    \"\"\"\n",
    "\n",
    "    def __init__(self, usuario, senha):\n",
    "        \"\"\"\n",
    "        Autenticação.\n",
    "        \"\"\"\n",
    "\n",
    "        self.usuario = usuario\n",
    "        self.senha = senha\n",
    "\n",
    "    @property\n",
    "    def numero_de_usuarios(self):\n",
    "        \"\"\"\n",
    "        Pega o número de usuário.\n",
    "        \"\"\"\n",
    "\n",
    "        if(self.__tem_permissao_de_acesso()):\n",
    "            return super(BancoProxy, self).numero_de_usuarios\n",
    "\n",
    "        return \"Só usuário administrador pode acessar o número de usuários\"\n",
    "\n",
    "    @property\n",
    "    def usuarios_conectados(self):\n",
    "        \"\"\"\n",
    "        Pega a quantidade de usuários conectados.\n",
    "        \"\"\"\n",
    "\n",
    "        if(self.__tem_permissao_de_acesso()):\n",
    "            return super(BancoProxy, self).usuarios_conectados\n",
    "\n",
    "        return \"Só usuário administrador pode acessar os usuários conectadas\"\n",
    "\n",
    "    def __tem_permissao_de_acesso(self):\n",
    "        \"\"\"\n",
    "        Verifica se o usuário e senha estão corretos\n",
    "        \"\"\"\n",
    "\n",
    "        return self.usuario == \"admin\" and self.senha == \"admin\""
   ]
  },
  {
   "cell_type": "markdown",
   "metadata": {},
   "source": [
    "***"
   ]
  },
  {
   "cell_type": "code",
   "execution_count": 3,
   "metadata": {},
   "outputs": [
    {
     "name": "stdout",
     "output_type": "stream",
     "text": [
      "Hacker acessando\n",
      "Só usuário administrador pode acessar o número de usuários\n",
      "Só usuário administrador pode acessar os usuários conectadas\n"
     ]
    }
   ],
   "source": [
    "print(\"Hacker acessando\")\n",
    "banco = BancoProxy(\"hacker\", \"1234\")\n",
    "print(banco.numero_de_usuarios)\n",
    "print(banco.usuarios_conectados)"
   ]
  },
  {
   "cell_type": "code",
   "execution_count": 4,
   "metadata": {},
   "outputs": [
    {
     "name": "stdout",
     "output_type": "stream",
     "text": [
      "\n",
      "Administrador acessando\n",
      "Total de usuário: 100\n",
      "Usuários conectados: 35\n"
     ]
    }
   ],
   "source": [
    "print(\"\\nAdministrador acessando\")\n",
    "banco = BancoProxy(\"admin\", \"admin\")\n",
    "print(banco.numero_de_usuarios)\n",
    "print(banco.usuarios_conectados)"
   ]
  }
 ],
 "metadata": {
  "kernelspec": {
   "display_name": "Python 3",
   "language": "python",
   "name": "python3"
  },
  "language_info": {
   "codemirror_mode": {
    "name": "ipython",
    "version": 3
   },
   "file_extension": ".py",
   "mimetype": "text/x-python",
   "name": "python",
   "nbconvert_exporter": "python",
   "pygments_lexer": "ipython3",
   "version": "3.5.2"
  }
 },
 "nbformat": 4,
 "nbformat_minor": 2
}
