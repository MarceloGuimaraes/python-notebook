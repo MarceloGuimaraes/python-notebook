{
 "cells": [
  {
   "cell_type": "markdown",
   "metadata": {},
   "source": [
    "## Flyweight\n",
    "***\n",
    "### Definição\n",
    "***"
   ]
  },
  {
   "cell_type": "markdown",
   "metadata": {},
   "source": [
    "Compartilhar, de forma eficiente, objetos que são usados em grande quantidade."
   ]
  },
  {
   "cell_type": "markdown",
   "metadata": {},
   "source": [
    "***\n",
    "### Diagrama de Classe\n",
    "***"
   ]
  },
  {
   "cell_type": "markdown",
   "metadata": {},
   "source": [
    "![img](https://cloud.githubusercontent.com/assets/14116020/26188147/fc6c6490-3b73-11e7-90ce-01bbeedea5d3.png)\n",
    "\n",
    "* **ComponenteAbstrato (SpriteAbstrata)**: Interface que define os objetos que serão compartilhados.\n",
    "\n",
    "\n",
    "* **ComponenteConcreto (Sprite)**: Tipo específico de compartilhamento abstrato.\n",
    "\n",
    "\n",
    "* **FabricaDeObjetosCompartilhados (FabricaDeSpritesCompartilhadas)**: Classe que controla a criação e recuperação de Componentes.\n",
    "\n",
    "\n",
    "* **Client**: Utiliza a fabricaDeObjetosCompartilhados para recuperar os ComponentesConcretos."
   ]
  }
 ],
 "metadata": {
  "kernelspec": {
   "display_name": "Python 3",
   "language": "python",
   "name": "python3"
  },
  "language_info": {
   "codemirror_mode": {
    "name": "ipython",
    "version": 3
   },
   "file_extension": ".py",
   "mimetype": "text/x-python",
   "name": "python",
   "nbconvert_exporter": "python",
   "pygments_lexer": "ipython3",
   "version": "3.5.2"
  }
 },
 "nbformat": 4,
 "nbformat_minor": 2
}
