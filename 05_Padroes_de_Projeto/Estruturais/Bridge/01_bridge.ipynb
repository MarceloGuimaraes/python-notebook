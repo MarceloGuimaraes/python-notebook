{
 "cells": [
  {
   "cell_type": "markdown",
   "metadata": {},
   "source": [
    "## Bridge\n",
    "***\n",
    "### Definição\n",
    "***"
   ]
  },
  {
   "cell_type": "markdown",
   "metadata": {},
   "source": [
    "Separar uma abstração de sua representação, de forma que ambos possam variar e produzir tipos de objetos diferentes.\n",
    "\n",
    "Por exemplo, a possibilidade de combinar os cartões SIM e os aparelhos celulares de forma independente é a característica principal proposta pelo padrão Bridge."
   ]
  },
  {
   "cell_type": "markdown",
   "metadata": {},
   "source": [
    "***\n",
    "### Diagrama de Classe\n",
    "***"
   ]
  },
  {
   "cell_type": "markdown",
   "metadata": {},
   "source": [
    "![img](https://cloud.githubusercontent.com/assets/14116020/26186746/17493400-3b6a-11e7-896a-897627d02a33.png)\n",
    "\n",
    "* **Abstracao (JanelaAbstrata)**: Define a interface de um determinado tipo de objeto.\n",
    "\n",
    "\n",
    "* **AbstracaoRefinada (JanelaDialogo, janelaAviso)**: Uma implementação particular da Abstracao que delega a um Implementador a realização de determindas tarefas.\n",
    "\n",
    "\n",
    "* **Implementador (janelaImplementada)**: Define a interface dos objetos que serão acionadas pelas Abstrações.\n",
    "\n",
    "\n",
    "* **ImplementadorConcreto (janelaMac, janelaWindows, janelaMac)**: Uma implementação específica do Implementador\n",
    "\n",
    "\n",
    "* **Client**: Interage com as Abstracoes."
   ]
  }
 ],
 "metadata": {
  "kernelspec": {
   "display_name": "Python 3",
   "language": "python",
   "name": "python3"
  },
  "language_info": {
   "codemirror_mode": {
    "name": "ipython",
    "version": 3
   },
   "file_extension": ".py",
   "mimetype": "text/x-python",
   "name": "python",
   "nbconvert_exporter": "python",
   "pygments_lexer": "ipython3",
   "version": "3.5.2"
  }
 },
 "nbformat": 4,
 "nbformat_minor": 2
}
