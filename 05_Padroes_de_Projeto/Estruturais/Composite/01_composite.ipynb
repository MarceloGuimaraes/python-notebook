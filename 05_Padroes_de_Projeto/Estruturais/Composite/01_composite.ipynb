{
 "cells": [
  {
   "cell_type": "markdown",
   "metadata": {},
   "source": [
    "## Composite\n",
    "***"
   ]
  },
  {
   "cell_type": "markdown",
   "metadata": {},
   "source": [
    "### Definição\n",
    "***"
   ]
  },
  {
   "cell_type": "markdown",
   "metadata": {},
   "source": [
    "Agrupa objetos que fazem parte de uma relação parte-todo de forma a tratá-los sem distinção"
   ]
  },
  {
   "cell_type": "markdown",
   "metadata": {},
   "source": [
    "***\n",
    "### Diagrama de Classe\n",
    "***"
   ]
  },
  {
   "cell_type": "markdown",
   "metadata": {},
   "source": [
    "![img](https://cloud.githubusercontent.com/assets/14116020/26229936/9d08b6c2-3c1b-11e7-8408-02b74c75eb31.png)\n",
    "\n",
    "* **ComponenteAbstrato (Trecho)**: Interface que define os elementos da composição.\n",
    "\n",
    "\n",
    "* **ComponenteComposto (Caminho)**: Define os Componentes que são formados por outros Componentes.\n",
    "\n",
    "\n",
    "* **ComponenteConcreto (TrechoAndando, TrechoDeCarro)**: Define os elementos básicos da composição, isto é, aqueles que não são formados por outros Componentes."
   ]
  }
 ],
 "metadata": {
  "kernelspec": {
   "display_name": "Python 3",
   "language": "python",
   "name": "python3"
  },
  "language_info": {
   "codemirror_mode": {
    "name": "ipython",
    "version": 3
   },
   "file_extension": ".py",
   "mimetype": "text/x-python",
   "name": "python",
   "nbconvert_exporter": "python",
   "pygments_lexer": "ipython3",
   "version": "3.5.2"
  }
 },
 "nbformat": 4,
 "nbformat_minor": 2
}
