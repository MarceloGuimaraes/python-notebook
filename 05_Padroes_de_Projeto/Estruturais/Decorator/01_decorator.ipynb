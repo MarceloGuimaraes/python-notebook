{
 "cells": [
  {
   "cell_type": "markdown",
   "metadata": {},
   "source": [
    "## Decorator\n",
    "***\n",
    "### Definição\n",
    "***"
   ]
  },
  {
   "cell_type": "markdown",
   "metadata": {},
   "source": [
    "Adiciona funcionalidade a um objeto dinamicamente."
   ]
  },
  {
   "cell_type": "markdown",
   "metadata": {},
   "source": [
    "***\n",
    "### Diagrama de Classe\n",
    "***"
   ]
  },
  {
   "cell_type": "markdown",
   "metadata": {},
   "source": [
    "![img](https://cloud.githubusercontent.com/assets/14116020/26187093/dd1ebab8-3b6c-11e7-8591-df374780d1d9.png)\n",
    "\n",
    "* **ComponenteAbstrato (Coquetel)**: Define a interface de objetos que possuem determinada tarefa.\n",
    "\n",
    "\n",
    "* **ComponenteConcreto (Cachaca, Rum, Vodka)**: Implementação particular do ComponenteAbstrato.\n",
    "\n",
    "\n",
    "* **DecoradorAbstrato (DecoradorCoquetel)**: Classe abstrata que mantém uma referência para um Componente e será utilizada para padronizar os objetos decoradores.\n",
    "\n",
    "\n",
    "* **DecoradorConcreto (Refrigerante, Suco, Acuca, Limao)**: Implementação de um Decorador."
   ]
  }
 ],
 "metadata": {
  "kernelspec": {
   "display_name": "Python 3",
   "language": "python",
   "name": "python3"
  },
  "language_info": {
   "codemirror_mode": {
    "name": "ipython",
    "version": 3
   },
   "file_extension": ".py",
   "mimetype": "text/x-python",
   "name": "python",
   "nbconvert_exporter": "python",
   "pygments_lexer": "ipython3",
   "version": "3.5.2"
  }
 },
 "nbformat": 4,
 "nbformat_minor": 2
}
