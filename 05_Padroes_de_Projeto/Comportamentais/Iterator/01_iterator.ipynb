{
 "cells": [
  {
   "cell_type": "markdown",
   "metadata": {},
   "source": [
    "## Iterator\n",
    "***\n",
    "### Definição\n",
    "***"
   ]
  },
  {
   "cell_type": "markdown",
   "metadata": {},
   "source": [
    "Fornecer um modo eficiente para percorrer sequencialmente os elementos de uma coleção, sem que a estrutura interna da coleção seja exposta.\n",
    "\n",
    "Isso pode facilitar a criação de uma lista única independe do tipo de lista nativa da liguagem utilizar, por exemplo, List, ArrayList, HashMap, ..."
   ]
  },
  {
   "cell_type": "markdown",
   "metadata": {},
   "source": [
    "***\n",
    "### Diagrama de Classe\n",
    "***"
   ]
  },
  {
   "cell_type": "markdown",
   "metadata": {},
   "source": [
    "![img](https://cloud.githubusercontent.com/assets/14116020/26286031/e0aced2c-3e31-11e7-8900-a3fbbdff0ab0.png)\n",
    "\n",
    "* **Iterador (IteradorInterface)**: Define a interface dos objetos que encapsulam toda a complexidade para percorrer os elementos do Agregador.\n",
    "\n",
    "\n",
    "* **IteradorConcreto (IteradorDeCanais)**: Implementação da interface Iterador para um tipo específico de Agregador.\n",
    "\n",
    "\n",
    "* **Agregador (ConjuntoDeCanais)**: Define a interface das coleções de objetos que podem ter seus elementos percorridos através de um Iterador.\n",
    "\n",
    "\n",
    "* **AgregadorConcreto (CanaisEsporte, CanaisFilme)**: Estrutura de dados que implementa o Agregador."
   ]
  }
 ],
 "metadata": {
  "kernelspec": {
   "display_name": "Python 3",
   "language": "python",
   "name": "python3"
  },
  "language_info": {
   "codemirror_mode": {
    "name": "ipython",
    "version": 3
   },
   "file_extension": ".py",
   "mimetype": "text/x-python",
   "name": "python",
   "nbconvert_exporter": "python",
   "pygments_lexer": "ipython3",
   "version": "3.5.2"
  }
 },
 "nbformat": 4,
 "nbformat_minor": 2
}
