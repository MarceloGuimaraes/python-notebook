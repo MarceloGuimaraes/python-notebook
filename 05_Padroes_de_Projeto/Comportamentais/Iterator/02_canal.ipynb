{
 "cells": [
  {
   "cell_type": "markdown",
   "metadata": {},
   "source": [
    "## Canal\n",
    "***"
   ]
  },
  {
   "cell_type": "code",
   "execution_count": 1,
   "metadata": {},
   "outputs": [],
   "source": [
    "from abc import ABC, abstractmethod\n",
    "\n",
    "\n",
    "class IteradorInterface(ABC):\n",
    "    \"\"\"\n",
    "    Define a interface dos canais que encapsulam toda a complexidade\n",
    "    para percorrer os elementos do Agregador de canais.\n",
    "    \"\"\"\n",
    "\n",
    "    @abstractmethod\n",
    "    def primeiro(self):\n",
    "        \"\"\"\n",
    "        Primeiro elemento do iterador\n",
    "        \"\"\"\n",
    "\n",
    "        pass\n",
    "\n",
    "    @abstractmethod\n",
    "    def proximo(self):\n",
    "        \"\"\"\n",
    "        Próximo elemento do iterador\n",
    "        \"\"\"\n",
    "\n",
    "        pass\n",
    "\n",
    "    @abstractmethod\n",
    "    def acabou(self):\n",
    "        \"\"\"\n",
    "        Iterador chegou no seu último elemento\n",
    "        \"\"\"\n",
    "\n",
    "        pass\n",
    "\n",
    "    @abstractmethod\n",
    "    def canal_atual(self):\n",
    "        \"\"\"\n",
    "        Pega o item atual do iterador.\n",
    "        \"\"\"\n",
    "\n",
    "        pass"
   ]
  },
  {
   "cell_type": "code",
   "execution_count": 2,
   "metadata": {},
   "outputs": [],
   "source": [
    "class IteradorDeCanais(IteradorInterface):\n",
    "    \"\"\"\n",
    "    Classe que irá iterar entre as listas de canais disponíveis\n",
    "    \"\"\"\n",
    "\n",
    "    lista = []\n",
    "    contador = 0\n",
    "\n",
    "    def __init__(self, lista):\n",
    "        \"\"\"\n",
    "        Cria o iterador com a lista de canais.\n",
    "        \"\"\"\n",
    "\n",
    "        self.lista = lista\n",
    "        self.contador = 0\n",
    "\n",
    "    def primeiro(self):\n",
    "        \"\"\"\n",
    "        Pega o primeiro canal da lista.\n",
    "        \"\"\"\n",
    "\n",
    "        self.contador = 0\n",
    "\n",
    "    def proximo(self):\n",
    "        \"\"\"\n",
    "        Pega o próximo canal da lista.\n",
    "        \"\"\"\n",
    "\n",
    "        self.contador += 1\n",
    "\n",
    "    def acabou(self):\n",
    "        \"\"\"\n",
    "        Verifica se o iterador já percorreu todos os canais da lista.\n",
    "        \"\"\"\n",
    "\n",
    "        if(self.contador == len(self.lista)):\n",
    "            return True\n",
    "        else:\n",
    "            return False\n",
    "\n",
    "    def canal_atual(self):\n",
    "        \"\"\"\n",
    "        Pega o canal atual da lista.\n",
    "        \"\"\"\n",
    "\n",
    "        if(self.acabou()):\n",
    "            self.contador = len(self.lista) - 1\n",
    "        elif self.contador < 0:\n",
    "            self.contador = 0\n",
    "\n",
    "        return self.lista[self.contador]"
   ]
  },
  {
   "cell_type": "markdown",
   "metadata": {},
   "source": [
    "***"
   ]
  },
  {
   "cell_type": "code",
   "execution_count": 3,
   "metadata": {},
   "outputs": [],
   "source": [
    "\n",
    "from abc import ABC, abstractmethod\n",
    "\n",
    "\n",
    "class AgregadoDeCanais(ABC):\n",
    "    \"\"\"\n",
    "    Define a interface das coleções de canais que podem ter seus elementos\n",
    "    percorridos através de um Iterador.\n",
    "    \"\"\"\n",
    "\n",
    "    @abstractmethod\n",
    "    def criar_iterador(self):\n",
    "        \"\"\"\n",
    "        Cria o iterador de canais\n",
    "        \"\"\"\n",
    "\n",
    "        pass"
   ]
  },
  {
   "cell_type": "code",
   "execution_count": 4,
   "metadata": {},
   "outputs": [],
   "source": [
    "class Esporte(AgregadoDeCanais):\n",
    "    \"\"\"\n",
    "    Canais de esporte.\n",
    "    \"\"\"\n",
    "\n",
    "    canais = []\n",
    "\n",
    "    def __init__(self):\n",
    "        \"\"\"\n",
    "        Cria o canal de esportes com todo o seu conteúdo.\n",
    "        \"\"\"\n",
    "\n",
    "        self.canais.append(\"Esporte ao vivo\")\n",
    "        self.canais.append(\"Basquete 2011\")\n",
    "        self.canais.append(\"Campeonato Italiano\")\n",
    "        self.canais.append(\"Campeonato Espanhol\")\n",
    "        self.canais.append(\"Campeonato Brasileiro\")\n",
    "\n",
    "    def criar_iterador(self):\n",
    "        \"\"\"\n",
    "        Insere o canal de esportes no iterador de canais\n",
    "        \"\"\"\n",
    "\n",
    "        return IteradorDeCanais(self.canais)"
   ]
  },
  {
   "cell_type": "code",
   "execution_count": 5,
   "metadata": {},
   "outputs": [],
   "source": [
    "class Filme(AgregadoDeCanais):\n",
    "    \"\"\"\n",
    "    Canais de filme.\n",
    "    \"\"\"\n",
    "\n",
    "    # Finge que e outro tipo de lista\n",
    "    canais = []\n",
    "\n",
    "    def __init__(self):\n",
    "        \"\"\"\n",
    "        Cria o canal de filmes com todo o seu conteúdo.\n",
    "        \"\"\"\n",
    "\n",
    "        self.canais.append(\"Netflix\")\n",
    "        self.canais.append(\"Filmes online\")\n",
    "        self.canais.append(\"Tela quente\")\n",
    "        self.canais.append(\"Sessão da tarde\")\n",
    "\n",
    "    def criar_iterador(self):\n",
    "        \"\"\"\n",
    "        Insere o canal de filmes no iterador de canais\n",
    "        \"\"\"\n",
    "\n",
    "        return IteradorDeCanais(self.canais)"
   ]
  },
  {
   "cell_type": "markdown",
   "metadata": {},
   "source": [
    "***"
   ]
  },
  {
   "cell_type": "code",
   "execution_count": 6,
   "metadata": {},
   "outputs": [],
   "source": [
    "canais_de_esporte = Esporte()\n",
    "iterador = canais_de_esporte.criar_iterador()"
   ]
  },
  {
   "cell_type": "code",
   "execution_count": 7,
   "metadata": {},
   "outputs": [
    {
     "name": "stdout",
     "output_type": "stream",
     "text": [
      "Canais de esporte:\n",
      "Esporte ao vivo\n",
      "Basquete 2011\n",
      "Campeonato Italiano\n",
      "Campeonato Espanhol\n",
      "Campeonato Brasileiro\n"
     ]
    }
   ],
   "source": [
    "print(\"Canais de esporte:\")\n",
    "while not iterador.acabou():\n",
    "    print(iterador.canal_atual())\n",
    "    iterador.proximo()"
   ]
  },
  {
   "cell_type": "code",
   "execution_count": 8,
   "metadata": {},
   "outputs": [],
   "source": [
    "canais_de_filme = Filme()\n",
    "iterador = canais_de_filme.criar_iterador()"
   ]
  },
  {
   "cell_type": "code",
   "execution_count": 9,
   "metadata": {},
   "outputs": [
    {
     "name": "stdout",
     "output_type": "stream",
     "text": [
      "\n",
      "Canais de filme:\n",
      "Netflix\n",
      "Filmes online\n",
      "Tela quente\n",
      "Sessão da tarde\n"
     ]
    }
   ],
   "source": [
    "print(\"\\nCanais de filme:\")\n",
    "while not iterador.acabou():\n",
    "    print(iterador.canal_atual())\n",
    "    iterador.proximo()"
   ]
  }
 ],
 "metadata": {
  "kernelspec": {
   "display_name": "Python 3",
   "language": "python",
   "name": "python3"
  },
  "language_info": {
   "codemirror_mode": {
    "name": "ipython",
    "version": 3
   },
   "file_extension": ".py",
   "mimetype": "text/x-python",
   "name": "python",
   "nbconvert_exporter": "python",
   "pygments_lexer": "ipython3",
   "version": "3.5.2"
  }
 },
 "nbformat": 4,
 "nbformat_minor": 2
}
