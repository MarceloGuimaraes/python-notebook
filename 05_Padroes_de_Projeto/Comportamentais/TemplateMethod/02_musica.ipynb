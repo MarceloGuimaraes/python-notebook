{
 "cells": [
  {
   "cell_type": "markdown",
   "metadata": {},
   "source": [
    "## Música\n",
    "***"
   ]
  },
  {
   "cell_type": "code",
   "execution_count": 1,
   "metadata": {},
   "outputs": [],
   "source": [
    "class MusicaMP3(object):\n",
    "    \"\"\"\n",
    "    Música MP3\n",
    "    \"\"\"\n",
    "\n",
    "    def __init__(self, nome='', autor='', ano=0, estrelas=0):\n",
    "        \"\"\"\n",
    "        Cria a música em MP3\n",
    "        \"\"\"\n",
    "\n",
    "        self.nome = nome\n",
    "        self.autor = autor\n",
    "        self.ano = ano\n",
    "        self.estrelas = estrelas"
   ]
  },
  {
   "cell_type": "markdown",
   "metadata": {},
   "source": [
    "***"
   ]
  },
  {
   "cell_type": "code",
   "execution_count": 2,
   "metadata": {},
   "outputs": [],
   "source": [
    "from enum import Enum\n",
    "\n",
    "\n",
    "class ModoDeReproducao(Enum):\n",
    "    \"\"\"\n",
    "    Modo de reprodução das músicas enumerados.\n",
    "    \"\"\"\n",
    "\n",
    "    porNome = 1\n",
    "    porAutor = 2\n",
    "    porAno = 3\n",
    "    porEstrela = 4"
   ]
  },
  {
   "cell_type": "markdown",
   "metadata": {},
   "source": [
    "***"
   ]
  },
  {
   "cell_type": "code",
   "execution_count": 3,
   "metadata": {},
   "outputs": [],
   "source": [
    "from abc import ABC, abstractmethod\n",
    "\n",
    "\n",
    "class Ordenador(ABC):\n",
    "    \"\"\"\n",
    "    Classe abstrata responsavel por ordenar as músicas.\n",
    "    \"\"\"\n",
    "\n",
    "    @abstractmethod\n",
    "    def vem_antes(self, musica1, musica2):\n",
    "        \"\"\"\n",
    "        Verifica qual a musica que vem antes.\n",
    "        \"\"\"\n",
    "\n",
    "        pass\n",
    "\n",
    "    # BUG: Não ta ordenando direito\n",
    "    def ordenar_musica(self, lista):\n",
    "        \"\"\"\n",
    "        Ordena as músicas\n",
    "        \"\"\"\n",
    "\n",
    "        nova_lista = []\n",
    "\n",
    "        for musicaMP3 in lista:\n",
    "            nova_lista.append(musicaMP3)\n",
    "\n",
    "        for i in range(len(nova_lista)):\n",
    "            for j in range(i, len(nova_lista)):\n",
    "                if (not self.vem_antes(nova_lista[i], nova_lista[j])):\n",
    "                    temporaria = nova_lista.index(nova_lista[j])\n",
    "                    nova_lista[j] = nova_lista[i]\n",
    "                    nova_lista[i] = nova_lista[temporaria]\n",
    "\n",
    "        return nova_lista"
   ]
  },
  {
   "cell_type": "code",
   "execution_count": 4,
   "metadata": {},
   "outputs": [],
   "source": [
    "class PorAno(Ordenador):\n",
    "    \"\"\"\n",
    "    Ordena as músicas por ano\n",
    "    \"\"\"\n",
    "\n",
    "    def vem_antes(self, musica1, musica2):\n",
    "        \"\"\"\n",
    "        Verifica se o ano da musica1 vem antes do ano da musica2\n",
    "        \"\"\"\n",
    "\n",
    "        if (musica1.ano > musica2.ano):\n",
    "            return True\n",
    "        else:\n",
    "            return False"
   ]
  },
  {
   "cell_type": "code",
   "execution_count": 5,
   "metadata": {},
   "outputs": [],
   "source": [
    "class PorAutor(Ordenador):\n",
    "    \"\"\"\n",
    "    Ordena as músicas por autor\n",
    "    \"\"\"\n",
    "\n",
    "    def vem_antes(self, musica1, musica2):\n",
    "        \"\"\"\n",
    "        Verifica se o autor da musica1 vem antes do autor da musica dois\n",
    "        ou se os autores são iguais\n",
    "        \"\"\"\n",
    "\n",
    "        if (musica1.nome >= musica2.nome):\n",
    "            return True\n",
    "        else:\n",
    "            return False"
   ]
  },
  {
   "cell_type": "code",
   "execution_count": 6,
   "metadata": {},
   "outputs": [],
   "source": [
    "class PorEstrela(Ordenador):\n",
    "    \"\"\"\n",
    "    Ordena as músicas por estrelas.\n",
    "    \"\"\"\n",
    "\n",
    "    def vem_antes(self, musica1, musica2):\n",
    "        \"\"\"\n",
    "        Verifica se a musica1 tem uma quantidade de estrelas maior\n",
    "        que a musica2\n",
    "        \"\"\"\n",
    "\n",
    "        if (musica1.estrelas > musica2.estrelas):\n",
    "            return True\n",
    "        else:\n",
    "            return False"
   ]
  },
  {
   "cell_type": "code",
   "execution_count": 7,
   "metadata": {},
   "outputs": [],
   "source": [
    "class PorNome(Ordenador):\n",
    "    \"\"\"\n",
    "    Ordena as músicas por nome.\n",
    "    \"\"\"\n",
    "\n",
    "    def vem_antes(self, musica1, musica2):\n",
    "        \"\"\"\n",
    "        Verifica se o nome da musica1 vem antes do nome da musica2\n",
    "        ou se os nomes são iguais\n",
    "        \"\"\"\n",
    "\n",
    "        if (musica1.nome >= musica2.nome):\n",
    "            return True\n",
    "        return False"
   ]
  },
  {
   "cell_type": "markdown",
   "metadata": {},
   "source": [
    "***"
   ]
  },
  {
   "cell_type": "code",
   "execution_count": 8,
   "metadata": {},
   "outputs": [],
   "source": [
    "class Playlist(object):\n",
    "    \"\"\"\n",
    "    Playlist de músicas.\n",
    "    \"\"\"\n",
    "\n",
    "    musicas = []\n",
    "    ordenador = None\n",
    "\n",
    "    def __init__(self, modo_de_reproducao=ModoDeReproducao.porNome):\n",
    "        \"\"\"\n",
    "        Modo de reprodução da playlist de músicas.\n",
    "        \"\"\"\n",
    "\n",
    "        if (modo_de_reproducao == ModoDeReproducao.porAno):\n",
    "            self.ordenador = PorAno()\n",
    "        elif (modo_de_reproducao == ModoDeReproducao.porAutor):\n",
    "            self.ordenador = PorAutor()\n",
    "        elif (modo_de_reproducao == ModoDeReproducao.porEstrela):\n",
    "            self.ordenador = PorEstrela()\n",
    "        elif (modo_de_reproducao == ModoDeReproducao.porNome):\n",
    "            self.ordenador = PorNome()\n",
    "        else:\n",
    "            self.ordenador = PorNome()\n",
    "            print(\"Opção padrão: ordenado por nome\")\n",
    "\n",
    "    def modifica_modo_de_reproducao(self, modo_de_reproducao=ModoDeReproducao.porNome):\n",
    "        \"\"\"\n",
    "        Modifica o modo de reprodução da playlist.\n",
    "        \"\"\"\n",
    "\n",
    "        if (modo_de_reproducao == ModoDeReproducao.porAno):\n",
    "            self.ordenador = PorAno()\n",
    "        elif (modo_de_reproducao == ModoDeReproducao.porAutor):\n",
    "            self.ordenador = PorAutor()\n",
    "        elif (modo_de_reproducao == ModoDeReproducao.porEstrela):\n",
    "            self.ordenador = PorEstrela()\n",
    "        elif (modo_de_reproducao == ModoDeReproducao.porNome):\n",
    "            self.ordenador = PorNome()\n",
    "        else:\n",
    "            self.ordenador = PorNome()\n",
    "            print(\"Opção padrão: ordenado por nome\")\n",
    "\n",
    "    def adicionar_musica(self, nome, autor, ano, estrela):\n",
    "        \"\"\"\n",
    "        Adicionar música.\n",
    "        \"\"\"\n",
    "\n",
    "        self.musicas.append(MusicaMP3(nome, autor, ano, estrela))\n",
    "\n",
    "    def mostrar_lista_de_reproducao(self):\n",
    "        \"\"\"\n",
    "        Mostra a lista de reprodução.\n",
    "        \"\"\"\n",
    "\n",
    "        nova_lista = []\n",
    "        nova_lista = self.ordenador.ordenar_musica(self.musicas)\n",
    "\n",
    "        for musica in nova_lista:\n",
    "            print(\"{0} - {1}\\nAno: {2}\\nEstrelas: {3}\\n\".format(\n",
    "                musica.nome,\n",
    "                musica.autor,\n",
    "                musica.ano,\n",
    "                musica.estrelas\n",
    "            ))"
   ]
  },
  {
   "cell_type": "markdown",
   "metadata": {},
   "source": [
    "***"
   ]
  },
  {
   "cell_type": "code",
   "execution_count": 9,
   "metadata": {},
   "outputs": [],
   "source": [
    "playlist = Playlist()"
   ]
  },
  {
   "cell_type": "code",
   "execution_count": 10,
   "metadata": {},
   "outputs": [],
   "source": [
    "playlist.adicionar_musica(\"Everlong\", \"Foo Fighters\", 1997, 5)\n",
    "playlist.adicionar_musica(\"Song 2\", \"Blur\", 1997, 4)\n",
    "playlist.adicionar_musica(\"American Jesus\", \"Bad Religion\", 1993, 3)\n",
    "playlist.adicionar_musica(\"No Cigar\", \"Milencollin\", 2001, 2)\n",
    "playlist.adicionar_musica(\"Ten\", \"Pearl Jam\", 1991, 1)"
   ]
  },
  {
   "cell_type": "code",
   "execution_count": 11,
   "metadata": {},
   "outputs": [
    {
     "name": "stdout",
     "output_type": "stream",
     "text": [
      "==== Lista por Nome de Musica ====\n",
      "Everlong - Foo Fighters\n",
      "Ano: 1997\n",
      "Estrelas: 5\n",
      "\n",
      "Everlong - Foo Fighters\n",
      "Ano: 1997\n",
      "Estrelas: 5\n",
      "\n",
      "Everlong - Foo Fighters\n",
      "Ano: 1997\n",
      "Estrelas: 5\n",
      "\n",
      "Everlong - Foo Fighters\n",
      "Ano: 1997\n",
      "Estrelas: 5\n",
      "\n",
      "American Jesus - Bad Religion\n",
      "Ano: 1993\n",
      "Estrelas: 3\n",
      "\n"
     ]
    }
   ],
   "source": [
    "print(\"==== Lista por Nome de Musica ====\")\n",
    "playlist.mostrar_lista_de_reproducao()"
   ]
  },
  {
   "cell_type": "code",
   "execution_count": 12,
   "metadata": {},
   "outputs": [
    {
     "name": "stdout",
     "output_type": "stream",
     "text": [
      "\n",
      "==== Lista por Ano ====\n",
      "Everlong - Foo Fighters\n",
      "Ano: 1997\n",
      "Estrelas: 5\n",
      "\n",
      "Everlong - Foo Fighters\n",
      "Ano: 1997\n",
      "Estrelas: 5\n",
      "\n",
      "Everlong - Foo Fighters\n",
      "Ano: 1997\n",
      "Estrelas: 5\n",
      "\n",
      "American Jesus - Bad Religion\n",
      "Ano: 1993\n",
      "Estrelas: 3\n",
      "\n",
      "Ten - Pearl Jam\n",
      "Ano: 1991\n",
      "Estrelas: 1\n",
      "\n"
     ]
    }
   ],
   "source": [
    "print(\"\\n==== Lista por Ano ====\")\n",
    "playlist.modifica_modo_de_reproducao(ModoDeReproducao.porAno)\n",
    "playlist.mostrar_lista_de_reproducao()"
   ]
  },
  {
   "cell_type": "code",
   "execution_count": 13,
   "metadata": {},
   "outputs": [
    {
     "name": "stdout",
     "output_type": "stream",
     "text": [
      "\n",
      "==== Lista por Estrela ====\n",
      "Everlong - Foo Fighters\n",
      "Ano: 1997\n",
      "Estrelas: 5\n",
      "\n",
      "Song 2 - Blur\n",
      "Ano: 1997\n",
      "Estrelas: 4\n",
      "\n",
      "American Jesus - Bad Religion\n",
      "Ano: 1993\n",
      "Estrelas: 3\n",
      "\n",
      "No Cigar - Milencollin\n",
      "Ano: 2001\n",
      "Estrelas: 2\n",
      "\n",
      "Ten - Pearl Jam\n",
      "Ano: 1991\n",
      "Estrelas: 1\n",
      "\n"
     ]
    }
   ],
   "source": [
    "print(\"\\n==== Lista por Estrela ====\")\n",
    "playlist.modifica_modo_de_reproducao(ModoDeReproducao.porEstrela)\n",
    "playlist.mostrar_lista_de_reproducao()"
   ]
  }
 ],
 "metadata": {
  "kernelspec": {
   "display_name": "Python 3",
   "language": "python",
   "name": "python3"
  },
  "language_info": {
   "codemirror_mode": {
    "name": "ipython",
    "version": 3
   },
   "file_extension": ".py",
   "mimetype": "text/x-python",
   "name": "python",
   "nbconvert_exporter": "python",
   "pygments_lexer": "ipython3",
   "version": "3.5.2"
  }
 },
 "nbformat": 4,
 "nbformat_minor": 2
}
