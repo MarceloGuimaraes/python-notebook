{
 "cells": [
  {
   "cell_type": "markdown",
   "metadata": {},
   "source": [
    "## Processo Seletivo\n",
    "***"
   ]
  },
  {
   "cell_type": "code",
   "execution_count": 1,
   "metadata": {},
   "outputs": [],
   "source": [
    "from abc import ABC, abstractmethod\n",
    "\n",
    "\n",
    "class Concurso(ABC):\n",
    "    \"\"\"\n",
    "    Classe abstrata responsavel pela padronização dos concursos\n",
    "    \"\"\"\n",
    "\n",
    "    @abstractmethod\n",
    "    def prova_teorica(self):\n",
    "        \"\"\"\n",
    "        Prova teorica do concurso.\n",
    "        \"\"\"\n",
    "\n",
    "        pass\n",
    "\n",
    "    @abstractmethod\n",
    "    def prova_pratica(self):\n",
    "        \"\"\"\n",
    "        Prova prática do concurso.\n",
    "        \"\"\"\n",
    "\n",
    "        pass\n",
    "\n",
    "    @abstractmethod\n",
    "    def resistencia_fisica(self):\n",
    "        \"\"\"\n",
    "        Prova de resistência física do concurso.\n",
    "        \"\"\"\n",
    "\n",
    "        pass\n",
    "\n",
    "    @abstractmethod\n",
    "    def teste_psicologico(self):\n",
    "        \"\"\"\n",
    "        Teste psicologico do concurso.\n",
    "        \"\"\"\n",
    "\n",
    "        pass\n",
    "\n",
    "    @abstractmethod\n",
    "    def exame_medico(self):\n",
    "        \"\"\"\n",
    "        Exame médico do concurso.\n",
    "        \"\"\"\n",
    "\n",
    "        pass\n",
    "\n",
    "    def executa(self):\n",
    "        \"\"\"\n",
    "        Execução de todas as etapas do concurso em ordem.\n",
    "        \"\"\"\n",
    "\n",
    "        self.prova_teorica()\n",
    "        self.prova_pratica()\n",
    "        self.teste_psicologico()\n",
    "        self.exame_medico()\n",
    "        self.resistencia_fisica()"
   ]
  },
  {
   "cell_type": "code",
   "execution_count": 2,
   "metadata": {},
   "outputs": [],
   "source": [
    "class Aeronautica(Concurso):\n",
    "    \"\"\"\n",
    "    Concurso da aeronautica\n",
    "    \"\"\"\n",
    "\n",
    "    def prova_teorica(self):\n",
    "        \"\"\"\n",
    "        Prova teórica da aeronautica.\n",
    "        \"\"\"\n",
    "\n",
    "        print(\"Prova teórica da aeronautica concluida!\")\n",
    "\n",
    "    def prova_pratica(self):\n",
    "        \"\"\"\n",
    "        Prova prática da aeronautica.\n",
    "        \"\"\"\n",
    "\n",
    "        print(\"Prova prática da aeronautica concluida!\")\n",
    "\n",
    "    def resistencia_fisica(self):\n",
    "        \"\"\"\n",
    "        Teste de resistência física da aeronautica.\n",
    "        \"\"\"\n",
    "\n",
    "        print(\"Teste de resistência física da aeronautica concluida!\")\n",
    "\n",
    "    def teste_psicologico(self):\n",
    "        \"\"\"\n",
    "        Teste psicologico da aeronautica.\n",
    "        \"\"\"\n",
    "\n",
    "        print(\"Teste psicologico da aeronautica concluida!\")\n",
    "\n",
    "    def exame_medico(self):\n",
    "        \"\"\"\n",
    "        Exame médico da aeronautica.\n",
    "        \"\"\"\n",
    "\n",
    "        print(\"Exame médio da aeronautica concluida!\")"
   ]
  },
  {
   "cell_type": "code",
   "execution_count": 3,
   "metadata": {},
   "outputs": [],
   "source": [
    "class Marinha(Concurso):\n",
    "    \"\"\"\n",
    "    Concurso da marinha\n",
    "    \"\"\"\n",
    "\n",
    "    def prova_teorica(self):\n",
    "        \"\"\"\n",
    "        Prova teórica da marinha.\n",
    "        \"\"\"\n",
    "\n",
    "        print(\"Prova teórica da marinha concluida!\")\n",
    "\n",
    "    def prova_pratica(self):\n",
    "        \"\"\"\n",
    "        Prova prática da marinha.\n",
    "        \"\"\"\n",
    "\n",
    "        print(\"Prova prática da marinha concluida!\")\n",
    "\n",
    "    def resistencia_fisica(self):\n",
    "        \"\"\"\n",
    "        Teste de resistência física da marinha.\n",
    "        \"\"\"\n",
    "\n",
    "        print(\"Teste de resistência física da marinha concluida!\")\n",
    "\n",
    "    def teste_psicologico(self):\n",
    "        \"\"\"\n",
    "        Teste psicologico da marinha.\n",
    "        \"\"\"\n",
    "\n",
    "        print(\"Teste psicologico da marinha concluida!\")\n",
    "\n",
    "    def exame_medico(self):\n",
    "        \"\"\"\n",
    "        Exame médico da marinha.\n",
    "        \"\"\"\n",
    "\n",
    "        print(\"Exame médio da marinha concluida!\")"
   ]
  },
  {
   "cell_type": "markdown",
   "metadata": {},
   "source": [
    "***"
   ]
  },
  {
   "cell_type": "code",
   "execution_count": 5,
   "metadata": {},
   "outputs": [
    {
     "name": "stdout",
     "output_type": "stream",
     "text": [
      "Prova teórica da marinha concluida!\n",
      "Prova prática da marinha concluida!\n",
      "Teste psicologico da marinha concluida!\n",
      "Exame médio da marinha concluida!\n",
      "Teste de resistência física da marinha concluida!\n"
     ]
    }
   ],
   "source": [
    "concurso = Marinha()\n",
    "concurso.executa()"
   ]
  },
  {
   "cell_type": "code",
   "execution_count": 6,
   "metadata": {},
   "outputs": [
    {
     "name": "stdout",
     "output_type": "stream",
     "text": [
      "Prova teórica da aeronautica concluida!\n",
      "Prova prática da aeronautica concluida!\n",
      "Teste psicologico da aeronautica concluida!\n",
      "Exame médio da aeronautica concluida!\n",
      "Teste de resistência física da aeronautica concluida!\n"
     ]
    }
   ],
   "source": [
    "concurso = Aeronautica()\n",
    "concurso.executa()"
   ]
  }
 ],
 "metadata": {
  "kernelspec": {
   "display_name": "Python 3",
   "language": "python",
   "name": "python3"
  },
  "language_info": {
   "codemirror_mode": {
    "name": "ipython",
    "version": 3
   },
   "file_extension": ".py",
   "mimetype": "text/x-python",
   "name": "python",
   "nbconvert_exporter": "python",
   "pygments_lexer": "ipython3",
   "version": "3.5.2"
  }
 },
 "nbformat": 4,
 "nbformat_minor": 2
}
