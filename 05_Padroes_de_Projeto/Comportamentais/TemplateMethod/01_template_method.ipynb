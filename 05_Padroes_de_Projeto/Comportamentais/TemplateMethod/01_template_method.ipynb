{
 "cells": [
  {
   "cell_type": "markdown",
   "metadata": {},
   "source": [
    "## Template Method\n",
    "***\n",
    "### Definição\n",
    "***"
   ]
  },
  {
   "cell_type": "markdown",
   "metadata": {},
   "source": [
    "Quanto temos diferentes algoritmos que possuem estruturas parecidas, ele tem uma estrutura parecida com às linhas de montagem de carro, pois permite definir a ordem de execução dos passos que resolvem um determinado problema e permite que cada passo possa ser implementado de maneiras diferentes."
   ]
  },
  {
   "cell_type": "markdown",
   "metadata": {},
   "source": [
    "***\n",
    "### Diagrama de Classe\n",
    "***"
   ]
  },
  {
   "cell_type": "markdown",
   "metadata": {},
   "source": [
    "![img](https://cloud.githubusercontent.com/assets/14116020/26278735/217bbfa0-3d78-11e7-8b22-1faca240716a.png)\n",
    "\n",
    "* **ClasseAbstrata**: Classe abstrata que define os templates methods baseados em métodos abstratos que serão implementados nas classes concretas, define a ordem de execução desse métodos.\n",
    "\n",
    "\n",
    "* **ClasseConcreta**: Classes concretas que implementam os métodos abstratos definidos pela classe abstrata e que são utilizados pelos templates methods."
   ]
  }
 ],
 "metadata": {
  "kernelspec": {
   "display_name": "Python 3",
   "language": "python",
   "name": "python3"
  },
  "language_info": {
   "codemirror_mode": {
    "name": "ipython",
    "version": 3
   },
   "file_extension": ".py",
   "mimetype": "text/x-python",
   "name": "python",
   "nbconvert_exporter": "python",
   "pygments_lexer": "ipython3",
   "version": "3.5.2"
  }
 },
 "nbformat": 4,
 "nbformat_minor": 2
}
