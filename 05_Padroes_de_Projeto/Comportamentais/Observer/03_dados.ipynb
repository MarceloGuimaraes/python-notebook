{
 "cells": [
  {
   "cell_type": "markdown",
   "metadata": {},
   "source": [
    "## Dados\n",
    "***"
   ]
  },
  {
   "cell_type": "code",
   "execution_count": 1,
   "metadata": {},
   "outputs": [],
   "source": [
    "class Dados(object):\n",
    "    \"\"\"\n",
    "    Classe responsavel pelos dados da tabela.\n",
    "    \"\"\"\n",
    "\n",
    "    def __init__(self, a, b, c):\n",
    "        \"\"\"\n",
    "        Constroi os dados.\n",
    "        \"\"\"\n",
    "\n",
    "        self.__valorA = a\n",
    "        self.__valorB = b\n",
    "        self.__valorC = c\n",
    "\n",
    "    @property\n",
    "    def valorA(self):\n",
    "        \"\"\"\n",
    "        Pega o valor A\n",
    "        \"\"\"\n",
    "\n",
    "        return self.__valorA\n",
    "\n",
    "    @property\n",
    "    def valorB(self):\n",
    "        \"\"\"\n",
    "        Pega o valor B\n",
    "        \"\"\"\n",
    "\n",
    "        return self.__valorB\n",
    "\n",
    "    @property\n",
    "    def valorC(self):\n",
    "        \"\"\"\n",
    "        Pega o valor C\n",
    "        \"\"\"\n",
    "\n",
    "        return self.__valorC"
   ]
  },
  {
   "cell_type": "markdown",
   "metadata": {},
   "source": [
    "***"
   ]
  },
  {
   "cell_type": "code",
   "execution_count": 2,
   "metadata": {},
   "outputs": [],
   "source": [
    "from abc import ABC, abstractmethod\n",
    "\n",
    "\n",
    "class Observer(ABC):\n",
    "    \"\"\"\n",
    "    Classe abstrada de criação de observadores para os dados.\n",
    "    \"\"\"\n",
    "\n",
    "    def __init__(self, dados):\n",
    "        \"\"\"\n",
    "        Inicializa os dados observados\n",
    "        \"\"\"\n",
    "\n",
    "        self.dados = dados\n",
    "\n",
    "    @abstractmethod\n",
    "    def atualiza(self):\n",
    "        \"\"\"\n",
    "        Atualiza os dados dos objetos observados\n",
    "        \"\"\"\n",
    "\n",
    "        pass"
   ]
  },
  {
   "cell_type": "code",
   "execution_count": 3,
   "metadata": {},
   "outputs": [],
   "source": [
    "class Porcento(Observer):\n",
    "    \"\"\"\n",
    "    Classe responsavel por observar os dados e imprimi-los em forma\n",
    "    de percentagem.\n",
    "    \"\"\"\n",
    "\n",
    "    def __init__(self, dados):\n",
    "        \"\"\"\n",
    "        Inicializa os dados.\n",
    "        \"\"\"\n",
    "\n",
    "        super().__init__(dados)\n",
    "\n",
    "    def atualiza(self):\n",
    "        \"\"\"\n",
    "        Pega os dados atuais e soma eles, imprimindo o resultado em forma\n",
    "        de percentagem.\n",
    "        \"\"\"\n",
    "\n",
    "        soma = self.dados.pega_estado().valorA + self.dados.pega_estado().valorB + self.dados.pega_estado().valorC\n",
    "\n",
    "        print(\"Porcentagem:\")\n",
    "        print(\"Valor A: %.2f percento\" % ((self.dados.pega_estado().valorA/soma)*100))\n",
    "        print(\"Valor B: %.2f percento\" % ((self.dados.pega_estado().valorB/soma)*100))\n",
    "        print(\"Valor C: %.2f percento\" % ((self.dados.pega_estado().valorC/soma)*100))\n",
    "        print(\"\\n\")"
   ]
  },
  {
   "cell_type": "code",
   "execution_count": 4,
   "metadata": {},
   "outputs": [],
   "source": [
    "class Tabela(Observer):\n",
    "    \"\"\"\n",
    "    Classe responsavel por observar os dados e imprimi-los em forma de tabela.\n",
    "    \"\"\"\n",
    "\n",
    "    def __init__(self, dados):\n",
    "        \"\"\"\n",
    "        Inicializa os dados.\n",
    "        \"\"\"\n",
    "\n",
    "        super().__init__(dados)\n",
    "\n",
    "    def atualiza(self):\n",
    "        \"\"\"\n",
    "        Mostra os dados em forma de tabela\n",
    "        \"\"\"\n",
    "\n",
    "        print(\"Tabela:\")\n",
    "        print(\"Valor A: \" + str(self.dados.pega_estado().valorA))\n",
    "        print(\"Valor B: \" + str(self.dados.pega_estado().valorB))\n",
    "        print(\"Valor C: \" + str(self.dados.pega_estado().valorC))\n",
    "        print(\"\\n\")"
   ]
  },
  {
   "cell_type": "markdown",
   "metadata": {},
   "source": [
    "***"
   ]
  },
  {
   "cell_type": "code",
   "execution_count": 5,
   "metadata": {},
   "outputs": [],
   "source": [
    "class Subject(object):\n",
    "    \"\"\"\n",
    "    Classe responsavel por gerênciar os observadores.\n",
    "    \"\"\"\n",
    "\n",
    "    def __init__(self, observadores=[]):\n",
    "        \"\"\"\n",
    "        Inicializa os observadores.\n",
    "        \"\"\"\n",
    "\n",
    "        self.observadores = observadores\n",
    "\n",
    "    def adiciona_observador(self, observador):\n",
    "        \"\"\"\n",
    "        Adiciona um observador a lista.\n",
    "        \"\"\"\n",
    "\n",
    "        self.observadores.append(observador)\n",
    "\n",
    "    def remove_observador(self, indice):\n",
    "        \"\"\"\n",
    "        Remove um observador da lista.\n",
    "        \"\"\"\n",
    "\n",
    "        self.observadores.remove(indice)\n",
    "\n",
    "    def modifica_estado(self, dados):\n",
    "        \"\"\"\n",
    "        Modifica o estado dos dados sendo observados.\n",
    "        \"\"\"\n",
    "\n",
    "        self.dados = dados\n",
    "        self.notifica_observadores()\n",
    "\n",
    "    def notifica_observadores(self):\n",
    "        \"\"\"\n",
    "        Notifica os observadores de possiveis modificações nos dados.\n",
    "        \"\"\"\n",
    "\n",
    "        for observador in self.observadores:\n",
    "            observador.atualiza()\n",
    "\n",
    "    def pega_estado(self):\n",
    "        \"\"\"\n",
    "        Pega o estado atual dos dados.\n",
    "        \"\"\"\n",
    "\n",
    "        return self.dados"
   ]
  },
  {
   "cell_type": "markdown",
   "metadata": {},
   "source": [
    "***"
   ]
  },
  {
   "cell_type": "code",
   "execution_count": 6,
   "metadata": {},
   "outputs": [],
   "source": [
    "dados = Subject()"
   ]
  },
  {
   "cell_type": "code",
   "execution_count": 7,
   "metadata": {},
   "outputs": [],
   "source": [
    "dados.adiciona_observador(Tabela(dados))\n",
    "dados.adiciona_observador(Porcento(dados))"
   ]
  },
  {
   "cell_type": "code",
   "execution_count": 8,
   "metadata": {},
   "outputs": [
    {
     "name": "stdout",
     "output_type": "stream",
     "text": [
      "Tabela:\n",
      "Valor A: 7\n",
      "Valor B: 3\n",
      "Valor C: 1\n",
      "\n",
      "\n",
      "Porcentagem:\n",
      "Valor A: 63.64 percento\n",
      "Valor B: 27.27 percento\n",
      "Valor C: 9.09 percento\n",
      "\n",
      "\n"
     ]
    }
   ],
   "source": [
    "dados.modifica_estado(Dados(7, 3, 1))"
   ]
  },
  {
   "cell_type": "code",
   "execution_count": 9,
   "metadata": {},
   "outputs": [
    {
     "name": "stdout",
     "output_type": "stream",
     "text": [
      "Tabela:\n",
      "Valor A: 2\n",
      "Valor B: 3\n",
      "Valor C: 1\n",
      "\n",
      "\n",
      "Porcentagem:\n",
      "Valor A: 33.33 percento\n",
      "Valor B: 50.00 percento\n",
      "Valor C: 16.67 percento\n",
      "\n",
      "\n"
     ]
    }
   ],
   "source": [
    "dados.modifica_estado(Dados(2, 3, 1))"
   ]
  }
 ],
 "metadata": {
  "kernelspec": {
   "display_name": "Python 3",
   "language": "python",
   "name": "python3"
  },
  "language_info": {
   "codemirror_mode": {
    "name": "ipython",
    "version": 3
   },
   "file_extension": ".py",
   "mimetype": "text/x-python",
   "name": "python",
   "nbconvert_exporter": "python",
   "pygments_lexer": "ipython3",
   "version": "3.5.2"
  }
 },
 "nbformat": 4,
 "nbformat_minor": 2
}
