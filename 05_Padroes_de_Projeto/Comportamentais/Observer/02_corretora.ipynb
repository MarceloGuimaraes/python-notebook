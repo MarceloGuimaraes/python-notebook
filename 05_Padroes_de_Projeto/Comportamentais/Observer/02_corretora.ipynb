{
 "cells": [
  {
   "cell_type": "markdown",
   "metadata": {},
   "source": [
    "## Corretora\n",
    "***"
   ]
  },
  {
   "cell_type": "code",
   "execution_count": 1,
   "metadata": {},
   "outputs": [],
   "source": [
    "class Acao(object):\n",
    "    \"\"\"\n",
    "    Ação da bolsa de valores\n",
    "    \"\"\"\n",
    "\n",
    "    def __init__(self, codigo, valor):\n",
    "        \"\"\"\n",
    "        Cria a ação da bolsa de valores.\n",
    "        \"\"\"\n",
    "\n",
    "        self.__codigo = codigo\n",
    "        self.__valor = valor\n",
    "        self.__observadores = []\n",
    "\n",
    "    def registra_observador(self, interessado):\n",
    "        \"\"\"\n",
    "        Registra um observador interessado nas mudanças da ação da bolsa.\n",
    "        \"\"\"\n",
    "\n",
    "        self.__observadores.append(interessado)\n",
    "\n",
    "    def retira_observador(self, interessado):\n",
    "        \"\"\"\n",
    "        Retira um observador interessado nas mudanças da ação da bolsa.\n",
    "        \"\"\"\n",
    "\n",
    "        self.__observadores.remove(interessado)\n",
    "\n",
    "    @property\n",
    "    def valor(self):\n",
    "        \"\"\"\n",
    "        Pega o valor da ação.\n",
    "        \"\"\"\n",
    "\n",
    "        return self.__valor\n",
    "\n",
    "    @valor.setter\n",
    "    def valor(self, valor):\n",
    "        \"\"\"\n",
    "        Modifica o valor da ação.\n",
    "        \"\"\"\n",
    "\n",
    "        self.__valor = valor\n",
    "\n",
    "        for interessado in self.__observadores:\n",
    "            interessado.notifica_alteracao(self)\n",
    "\n",
    "    @property\n",
    "    def codigo(self):\n",
    "        \"\"\"\n",
    "        Pega o código da ação da bolsa.\n",
    "        \"\"\"\n",
    "\n",
    "        return self.__codigo"
   ]
  },
  {
   "cell_type": "markdown",
   "metadata": {},
   "source": [
    "***"
   ]
  },
  {
   "cell_type": "code",
   "execution_count": 2,
   "metadata": {},
   "outputs": [],
   "source": [
    "from abc import ABC, abstractmethod\n",
    "\n",
    "\n",
    "class Observador(ABC):\n",
    "    \"\"\"\n",
    "    Classe abstrata responsavel pela criação de observadores das ações\n",
    "    bolsa de valores.\n",
    "    \"\"\"\n",
    "\n",
    "    @abstractmethod\n",
    "    def notifica_alteracao(self, acao):\n",
    "        \"\"\"\n",
    "        Notifica alterações na ação da bolsa de valores.\n",
    "        \"\"\"\n",
    "\n",
    "        pass"
   ]
  },
  {
   "cell_type": "code",
   "execution_count": 3,
   "metadata": {},
   "outputs": [],
   "source": [
    "class HomeBroker(Observador):\n",
    "    \"\"\"\n",
    "    Corretora HomeBroker que irá observar as ações da bolsa de valores\n",
    "    \"\"\"\n",
    "\n",
    "    def notifica_alteracao(self, acao):\n",
    "        \"\"\"\n",
    "        Notificar alterações nas ações da bolsa.\n",
    "        \"\"\"\n",
    "\n",
    "        print(\"Corretora HomeBroker sendo notificada.\")\n",
    "        print(\"A ação\", acao.codigo, \"teve o seu valor alterado para\", acao.valor)"
   ]
  },
  {
   "cell_type": "code",
   "execution_count": 4,
   "metadata": {},
   "outputs": [],
   "source": [
    "class XP(Observador):\n",
    "    \"\"\"\n",
    "    Corretora XP que irá observar as ações da bolsa de valores\n",
    "    \"\"\"\n",
    "\n",
    "    def notifica_alteracao(self, acao):\n",
    "        \"\"\"\n",
    "        Notificar alterações nas ações da bolsa.\n",
    "        \"\"\"\n",
    "\n",
    "        print(\"Corretora XP sendo notificada.\")\n",
    "        print(\"A ação\", acao.codigo, \"teve o seu valor alterado para\", acao.valor)"
   ]
  },
  {
   "cell_type": "markdown",
   "metadata": {},
   "source": [
    "***"
   ]
  },
  {
   "cell_type": "code",
   "execution_count": 5,
   "metadata": {},
   "outputs": [],
   "source": [
    "acao = Acao(\"Vale3\", 45.27)"
   ]
  },
  {
   "cell_type": "code",
   "execution_count": 6,
   "metadata": {},
   "outputs": [],
   "source": [
    "home_broker = HomeBroker()\n",
    "xp = XP()"
   ]
  },
  {
   "cell_type": "code",
   "execution_count": 7,
   "metadata": {},
   "outputs": [],
   "source": [
    "acao.registra_observador(home_broker)\n",
    "acao.registra_observador(xp)\n",
    "acao.retira_observador(home_broker)"
   ]
  },
  {
   "cell_type": "code",
   "execution_count": 8,
   "metadata": {},
   "outputs": [
    {
     "name": "stdout",
     "output_type": "stream",
     "text": [
      "Corretora XP sendo notificada.\n",
      "A ação Vale3 teve o seu valor alterado para 50\n"
     ]
    }
   ],
   "source": [
    "acao.valor = 50"
   ]
  }
 ],
 "metadata": {
  "kernelspec": {
   "display_name": "Python 3",
   "language": "python",
   "name": "python3"
  },
  "language_info": {
   "codemirror_mode": {
    "name": "ipython",
    "version": 3
   },
   "file_extension": ".py",
   "mimetype": "text/x-python",
   "name": "python",
   "nbconvert_exporter": "python",
   "pygments_lexer": "ipython3",
   "version": "3.5.2"
  }
 },
 "nbformat": 4,
 "nbformat_minor": 2
}
