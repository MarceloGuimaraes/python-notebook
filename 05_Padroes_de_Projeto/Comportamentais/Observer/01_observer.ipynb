{
 "cells": [
  {
   "cell_type": "markdown",
   "metadata": {},
   "source": [
    "## Observer\n",
    "***\n",
    "### Definição\n",
    "***"
   ]
  },
  {
   "cell_type": "markdown",
   "metadata": {},
   "source": [
    "Atribui aos objetos que tem seus estados alterados a tarefa de notificar os objetos interessados nessas mudanças, por exemplo, Na bolsa de valores as ações estão em constante mudança e as corretoras e bancos sempre querem ficar observando as alterações nessas ações."
   ]
  },
  {
   "cell_type": "markdown",
   "metadata": {},
   "source": [
    "***\n",
    "### Diagrama de Classe\n",
    "***"
   ]
  },
  {
   "cell_type": "markdown",
   "metadata": {},
   "source": [
    "![img](https://cloud.githubusercontent.com/assets/14116020/26278411/77b38388-3d70-11e7-8ba6-ab72db83eee4.png)\n",
    "\n",
    "* **ObjetoObservadoAbstrato (AcaoAbstrata)**: Interface usada para padronizar os objetos que serão observados.\n",
    "\n",
    "\n",
    "* **ObjetoObservado (Acao)**: Implementação de um objeto de interesse.\n",
    "\n",
    "\n",
    "* **Observador (Observador)**: Interface dos observadores interessados no estado dos objetos.\n",
    "\n",
    "\n",
    "* **ObservadorConcreto (Corretora, Bancos)**: Implementação particular de um Observador."
   ]
  }
 ],
 "metadata": {
  "kernelspec": {
   "display_name": "Python 3",
   "language": "python",
   "name": "python3"
  },
  "language_info": {
   "codemirror_mode": {
    "name": "ipython",
    "version": 3
   },
   "file_extension": ".py",
   "mimetype": "text/x-python",
   "name": "python",
   "nbconvert_exporter": "python",
   "pygments_lexer": "ipython3",
   "version": "3.5.2"
  }
 },
 "nbformat": 4,
 "nbformat_minor": 2
}
