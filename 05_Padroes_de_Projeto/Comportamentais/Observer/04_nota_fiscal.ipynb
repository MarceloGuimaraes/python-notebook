{
 "cells": [
  {
   "cell_type": "markdown",
   "metadata": {},
   "source": [
    "## Nota Fiscal\n",
    "***"
   ]
  },
  {
   "cell_type": "code",
   "execution_count": 1,
   "metadata": {},
   "outputs": [],
   "source": [
    "class Item(object):\n",
    "    \"\"\"\n",
    "    Item da compra.\n",
    "    \"\"\"\n",
    "\n",
    "    def __init__(self, descricao, valor):\n",
    "        \"\"\"\n",
    "        Cria o item da compra.\n",
    "        \"\"\"\n",
    "\n",
    "        self.__descricao = descricao\n",
    "        self.__valor = valor\n",
    "\n",
    "    @property\n",
    "    def descricao(self):\n",
    "        \"\"\"\n",
    "        Descrição do item.\n",
    "        \"\"\"\n",
    "\n",
    "        return self.__descricao\n",
    "\n",
    "    @property\n",
    "    def valor(self):\n",
    "        \"\"\"\n",
    "        Valor do item.\n",
    "        \"\"\"\n",
    "\n",
    "        return self.__valor"
   ]
  },
  {
   "cell_type": "markdown",
   "metadata": {},
   "source": [
    "***"
   ]
  },
  {
   "cell_type": "code",
   "execution_count": 2,
   "metadata": {},
   "outputs": [],
   "source": [
    "from datetime import date\n",
    "\n",
    "class NotaFiscal(object):\n",
    "    \"\"\"\n",
    "    Classe responsavel pela nota fiscal.\n",
    "    \"\"\"\n",
    "\n",
    "    def __init__(self, razao_social, cnpj, itens,\n",
    "                 data_de_emissao=date.today(),\n",
    "                 detalhes='', observadores=[]):\n",
    "        \"\"\"\n",
    "        Cria a nota fiscal.\n",
    "        \"\"\"\n",
    "\n",
    "        self.__razao_social = razao_social\n",
    "        self.__cnpj = cnpj\n",
    "        self.__data_de_emissao = data_de_emissao\n",
    "        self.__detalhes = detalhes\n",
    "        self.__itens = itens\n",
    "\n",
    "        # Envia uma notificação para os observadores\n",
    "        for observador in observadores:\n",
    "            observador(self)\n",
    "\n",
    "    @property\n",
    "    def razao_social(self):\n",
    "        \"\"\"\n",
    "        Pega a razão social da nota fiscal.\n",
    "        \"\"\"\n",
    "\n",
    "        return self.__razao_social\n",
    "\n",
    "    @property\n",
    "    def cnpj(self):\n",
    "        \"\"\"\n",
    "        Pega o CNPJ da nota fiscal.\n",
    "        \"\"\"\n",
    "\n",
    "        return self.__cnpj\n",
    "\n",
    "    @property\n",
    "    def data_de_emissao(self):\n",
    "        \"\"\"\n",
    "        Pega a data de emissão da nota fiscal.\n",
    "        \"\"\"\n",
    "\n",
    "        return self.__data_de_emissao\n",
    "\n",
    "    @property\n",
    "    def detalhes(self):\n",
    "        \"\"\"\n",
    "        Pega os detalhes da nota fiscal.\n",
    "        \"\"\"\n",
    "\n",
    "        return self.__detalhes"
   ]
  },
  {
   "cell_type": "markdown",
   "metadata": {},
   "source": [
    "***"
   ]
  },
  {
   "cell_type": "code",
   "execution_count": 3,
   "metadata": {},
   "outputs": [],
   "source": [
    "def envia_por_email(nota_fiscal):\n",
    "    \"\"\"\n",
    "    Envia a nota fiscal por email.\n",
    "    \"\"\"\n",
    "\n",
    "    print(\"Enviando nota fiscal %s por email\" % nota_fiscal.cnpj)"
   ]
  },
  {
   "cell_type": "code",
   "execution_count": 4,
   "metadata": {},
   "outputs": [],
   "source": [
    "def imprime(nota_fiscal):\n",
    "    \"\"\"\n",
    "    Imprime a nota fiscal.\n",
    "    \"\"\"\n",
    "\n",
    "    print(\"Imprimindo nota fiscal %s\" % nota_fiscal.cnpj)"
   ]
  },
  {
   "cell_type": "code",
   "execution_count": 5,
   "metadata": {},
   "outputs": [],
   "source": [
    "def salva_no_banco(nota_fiscal):\n",
    "    \"\"\"\n",
    "    Salva nota fiscal no banco.\n",
    "    \"\"\"\n",
    "\n",
    "    print(\"Salvando nota fiscal %s no banco de dados\" % nota_fiscal.cnpj)"
   ]
  },
  {
   "cell_type": "markdown",
   "metadata": {},
   "source": [
    "***"
   ]
  },
  {
   "cell_type": "code",
   "execution_count": 6,
   "metadata": {},
   "outputs": [],
   "source": [
    "itens = [\n",
    "    Item('Item A', 100),\n",
    "    Item('Item B', 200)\n",
    "]"
   ]
  },
  {
   "cell_type": "code",
   "execution_count": 7,
   "metadata": {},
   "outputs": [
    {
     "name": "stdout",
     "output_type": "stream",
     "text": [
      "Imprimindo nota fiscal 0123445569705\n",
      "Enviando nota fiscal 0123445569705 por email\n",
      "Salvando nota fiscal 0123445569705 no banco de dados\n"
     ]
    }
   ],
   "source": [
    "nota_fiscal = NotaFiscal(\n",
    "    razao_social=\"FHSA Limitada\",\n",
    "    cnpj=\"0123445569705\",\n",
    "    itens=itens,\n",
    "    observadores=[imprime, envia_por_email, salva_no_banco]\n",
    ")"
   ]
  }
 ],
 "metadata": {
  "kernelspec": {
   "display_name": "Python 3",
   "language": "python",
   "name": "python3"
  },
  "language_info": {
   "codemirror_mode": {
    "name": "ipython",
    "version": 3
   },
   "file_extension": ".py",
   "mimetype": "text/x-python",
   "name": "python",
   "nbconvert_exporter": "python",
   "pygments_lexer": "ipython3",
   "version": "3.5.2"
  }
 },
 "nbformat": 4,
 "nbformat_minor": 2
}
