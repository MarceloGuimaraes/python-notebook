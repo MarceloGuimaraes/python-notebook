{
 "cells": [
  {
   "cell_type": "markdown",
   "metadata": {},
   "source": [
    "## Bancos\n",
    "***"
   ]
  },
  {
   "cell_type": "code",
   "execution_count": 1,
   "metadata": {},
   "outputs": [],
   "source": [
    "from enum import Enum\n",
    "\n",
    "class IDBancos(Enum):\n",
    "    bancoA = 0\n",
    "    bancoB = 1\n",
    "    bancoC = 2\n",
    "    bancoD = 3"
   ]
  },
  {
   "cell_type": "markdown",
   "metadata": {},
   "source": [
    "***"
   ]
  },
  {
   "cell_type": "code",
   "execution_count": 2,
   "metadata": {},
   "outputs": [],
   "source": [
    "from abc import ABC, abstractmethod\n",
    "\n",
    "\n",
    "class BancoChain(ABC):\n",
    "\n",
    "    def __init__(self, banco_id):\n",
    "        \"\"\"\n",
    "        Cria uma fila de bancos para efetuar pagamento\n",
    "        \"\"\"\n",
    "\n",
    "        self.proximo = None\n",
    "        self.banco_id = banco_id\n",
    "\n",
    "    def insere(self, banco):\n",
    "        \"\"\"\n",
    "        Modifica para o próximo banco caso não este tenha sido passado.\n",
    "        \"\"\"\n",
    "\n",
    "        if (self.proximo is None):\n",
    "            self.proximo = banco\n",
    "        else:\n",
    "            self.proximo.insere(banco)\n",
    "\n",
    "    def efetua_pagamento(self, banco_id):\n",
    "        \"\"\"\n",
    "        Efetua o pagamento se o banco estiver cadastrado\n",
    "        caso contrario passe para o próximo banco.\n",
    "        \"\"\"\n",
    "\n",
    "        if (self.__pode_efetuar_pagamento(banco_id)):\n",
    "            self.pagar()\n",
    "        else:\n",
    "            if (self.proximo is None):\n",
    "                raise NameError(\"Exceção: Banco não cadastrado\")\n",
    "\n",
    "            self.proximo.efetua_pagamento(banco_id)\n",
    "\n",
    "    def __pode_efetuar_pagamento(self, banco_id):\n",
    "        \"\"\"\n",
    "        Verifica se o banco foi cadastrado\n",
    "        \"\"\"\n",
    "\n",
    "        if (self.banco_id == banco_id):\n",
    "            return True\n",
    "        else:\n",
    "            return False\n",
    "\n",
    "    @abstractmethod\n",
    "    def pagar(self):\n",
    "        \"\"\"\n",
    "        Metódo que deve ser implementado pelos bancos.\n",
    "        \"\"\"\n",
    "\n",
    "        pass"
   ]
  },
  {
   "cell_type": "markdown",
   "metadata": {},
   "source": [
    "***"
   ]
  },
  {
   "cell_type": "code",
   "execution_count": 3,
   "metadata": {},
   "outputs": [],
   "source": [
    "class BancoA(BancoChain):\n",
    "\n",
    "    def __init__(self):\n",
    "        super(BancoA, self).__init__(IDBancos.bancoA)\n",
    "\n",
    "    def pagar(self):\n",
    "        print(\"Pagamento efetuado com sucesso no banco A\")"
   ]
  },
  {
   "cell_type": "code",
   "execution_count": 4,
   "metadata": {},
   "outputs": [],
   "source": [
    "class BancoB(BancoChain):\n",
    "\n",
    "    def __init__(self):\n",
    "        super(BancoB, self).__init__(IDBancos.bancoB)\n",
    "\n",
    "    def pagar(self):\n",
    "        print(\"Pagamento efetuado com sucesso no banco B\")"
   ]
  },
  {
   "cell_type": "code",
   "execution_count": 5,
   "metadata": {},
   "outputs": [],
   "source": [
    "class BancoC(BancoChain):\n",
    "\n",
    "    def __init__(self):\n",
    "        super(BancoC, self).__init__(IDBancos.bancoC)\n",
    "\n",
    "    def pagar(self):\n",
    "        print(\"Pagamento efetuado com sucesso no banco C\")"
   ]
  },
  {
   "cell_type": "code",
   "execution_count": 6,
   "metadata": {},
   "outputs": [],
   "source": [
    "class BancoD(BancoChain):\n",
    "\n",
    "    def __init__(self):\n",
    "        super(BancoD, self).__init__(IDBancos.bancoD)\n",
    "\n",
    "    def pagar(self):\n",
    "        print(\"Pagamento efetuado com sucesso no banco D\")"
   ]
  },
  {
   "cell_type": "markdown",
   "metadata": {},
   "source": [
    "***"
   ]
  },
  {
   "cell_type": "code",
   "execution_count": 7,
   "metadata": {},
   "outputs": [],
   "source": [
    "lista_de_bancos = BancoA()\n",
    "lista_de_bancos.insere(BancoB())\n",
    "lista_de_bancos.insere(BancoC())\n",
    "lista_de_bancos.insere(BancoD())"
   ]
  },
  {
   "cell_type": "code",
   "execution_count": 8,
   "metadata": {},
   "outputs": [
    {
     "name": "stdout",
     "output_type": "stream",
     "text": [
      "Pagamento efetuado com sucesso no banco C\n",
      "Pagamento efetuado com sucesso no banco D\n",
      "Pagamento efetuado com sucesso no banco A\n",
      "Pagamento efetuado com sucesso no banco B\n"
     ]
    }
   ],
   "source": [
    "try:\n",
    "    lista_de_bancos.efetua_pagamento(IDBancos.bancoC)\n",
    "    lista_de_bancos.efetua_pagamento(IDBancos.bancoD)\n",
    "    lista_de_bancos.efetua_pagamento(IDBancos.bancoA)\n",
    "    lista_de_bancos.efetua_pagamento(IDBancos.bancoB)\n",
    "except NameError:\n",
    "    raise"
   ]
  }
 ],
 "metadata": {
  "kernelspec": {
   "display_name": "Python 3",
   "language": "python",
   "name": "python3"
  },
  "language_info": {
   "codemirror_mode": {
    "name": "ipython",
    "version": 3
   },
   "file_extension": ".py",
   "mimetype": "text/x-python",
   "name": "python",
   "nbconvert_exporter": "python",
   "pygments_lexer": "ipython3",
   "version": "3.5.2"
  }
 },
 "nbformat": 4,
 "nbformat_minor": 2
}
