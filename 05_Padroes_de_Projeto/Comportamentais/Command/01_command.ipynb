{
 "cells": [
  {
   "cell_type": "markdown",
   "metadata": {},
   "source": [
    "## Command\n",
    "***\n",
    "### Definição\n",
    "***"
   ]
  },
  {
   "cell_type": "markdown",
   "metadata": {},
   "source": [
    "Controlar as chamadas a um determinado componente, modelando cada requisição como um objeto. Permitir que as operações possam ser desfeitas, enfileiradas ou registradas através de comandos.\n",
    "\n",
    "A ideia do Command é abstrair um comando que deve ser executado, pois não é possível executá-lo naquele momento (pois precisamos por em uma fila ou coisa do tipo)."
   ]
  },
  {
   "cell_type": "markdown",
   "metadata": {},
   "source": [
    "***\n",
    "### Diagrama de Classe\n",
    "***"
   ]
  },
  {
   "cell_type": "markdown",
   "metadata": {},
   "source": [
    "![img](https://cloud.githubusercontent.com/assets/14116020/26278856/a34ed506-3d7a-11e7-9e43-46e45334bd69.png)\n",
    "\n",
    "* **ComandoAbstrato (Comando)**: Define uma interface para a execução dos métodos do Receiver.\n",
    "\n",
    "\n",
    "* **ComandoConcreto (TocarMusica, AumentarVolume, DiminuirVolume)**: Classe que implementa ComandoAbstrato e modela uma operação específica do Receiver.\n",
    "\n",
    "\n",
    "* **Invocador (ListaDeComandos)**: Classe que armazena os Commands que devem ser executados.\n",
    "\n",
    "\n",
    "* **Receptor (Player)**: Define os objetos que terão as chamadas aos seus métodos controladas.\n",
    "\n",
    "\n",
    "* **Cliente**: Instancia os Commands associando-os ao Receiver e armazena-os no Invoker."
   ]
  }
 ],
 "metadata": {
  "kernelspec": {
   "display_name": "Python 3",
   "language": "python",
   "name": "python3"
  },
  "language_info": {
   "codemirror_mode": {
    "name": "ipython",
    "version": 3
   },
   "file_extension": ".py",
   "mimetype": "text/x-python",
   "name": "python",
   "nbconvert_exporter": "python",
   "pygments_lexer": "ipython3",
   "version": "3.5.2"
  }
 },
 "nbformat": 4,
 "nbformat_minor": 2
}
