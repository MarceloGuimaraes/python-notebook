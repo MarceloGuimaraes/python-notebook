{
 "cells": [
  {
   "cell_type": "markdown",
   "metadata": {},
   "source": [
    "## Pedidos\n",
    "***"
   ]
  },
  {
   "cell_type": "code",
   "execution_count": 1,
   "metadata": {},
   "outputs": [],
   "source": [
    "from datetime import date"
   ]
  },
  {
   "cell_type": "code",
   "execution_count": 2,
   "metadata": {},
   "outputs": [],
   "source": [
    "class Pedido(object):\n",
    "    \"\"\"\n",
    "    Classe responsavel pelos pedidos.\n",
    "    \"\"\"\n",
    "\n",
    "    def __init__(self, cliente, valor):\n",
    "        \"\"\"\n",
    "        Cria um pedido.\n",
    "        \"\"\"\n",
    "\n",
    "        self.__cliente = cliente\n",
    "        self.__valor = valor\n",
    "        self.__status = 'NOVO'\n",
    "        self.__data_finalizacao = None\n",
    "\n",
    "    def paga(self):\n",
    "        \"\"\"\n",
    "        Paga o pedido.\n",
    "        \"\"\"\n",
    "\n",
    "        self.__status = 'PAGO'\n",
    "        print(\"O pedido do cliente\", self.cliente, \"foi pago.\")\n",
    "\n",
    "    def finaliza(self):\n",
    "        \"\"\"\n",
    "        Finaliza o pedido.\n",
    "        \"\"\"\n",
    "\n",
    "        self.__data_finalizacao = date.today()\n",
    "        self.__status = 'ENTREGUE'\n",
    "        print(\"O pedido do cliente\", self.cliente ,\"foi entregue na data\", self.data_finalizacao)\n",
    "\n",
    "    @property\n",
    "    def cliente(self):\n",
    "        \"\"\"\n",
    "        Pega o cliente do pedido.\n",
    "        \"\"\"\n",
    "\n",
    "        return self.__cliente\n",
    "\n",
    "    @property\n",
    "    def valor(self):\n",
    "        \"\"\"\n",
    "        Pega o valor do pedido.\n",
    "        \"\"\"\n",
    "\n",
    "        return self.__valor\n",
    "\n",
    "    @property\n",
    "    def status(self):\n",
    "        \"\"\"\n",
    "        Pega o status do pedido.\n",
    "        \"\"\"\n",
    "\n",
    "        return self.__status\n",
    "\n",
    "    @property\n",
    "    def data_finalizacao(self):\n",
    "        \"\"\"\n",
    "        Pega a data de finalização do pedido.\n",
    "        \"\"\"\n",
    "\n",
    "        return self.__data_finalizacao"
   ]
  },
  {
   "cell_type": "markdown",
   "metadata": {},
   "source": [
    "***"
   ]
  },
  {
   "cell_type": "code",
   "execution_count": 3,
   "metadata": {},
   "outputs": [],
   "source": [
    "from abc import ABC, abstractmethod\n",
    "\n",
    "class Comando(ABC):\n",
    "    \"\"\"\n",
    "    Classe abstrata para criar um comando.\n",
    "    \"\"\"\n",
    "\n",
    "    @abstractmethod\n",
    "    def executa(self):\n",
    "        \"\"\"\n",
    "        Executa o comando.\n",
    "        \"\"\"\n",
    "\n",
    "        pass"
   ]
  },
  {
   "cell_type": "code",
   "execution_count": 4,
   "metadata": {},
   "outputs": [],
   "source": [
    "class Concluir(Comando):\n",
    "    \"\"\"\n",
    "    Conclui o pedido.\n",
    "    \"\"\"\n",
    "\n",
    "    def __init__(self, pedido):\n",
    "        \"\"\"\n",
    "        Cria o comando concluir e insere o pedido na qual o comando irá agir.\n",
    "        \"\"\"\n",
    "\n",
    "        self.__pedido = pedido\n",
    "\n",
    "    def executa(self):\n",
    "        \"\"\"\n",
    "        Executa o comando para concluir o pedido.\n",
    "        \"\"\"\n",
    "\n",
    "        self.__pedido.finaliza()"
   ]
  },
  {
   "cell_type": "code",
   "execution_count": 5,
   "metadata": {},
   "outputs": [],
   "source": [
    "class Pagar(Comando):\n",
    "    \"\"\"\n",
    "    Paga o pedido.\n",
    "    \"\"\"\n",
    "\n",
    "    def __init__(self, pedido):\n",
    "        \"\"\"\n",
    "        Cria o comando pagar e insere o pedido na qual o comando irá agir.\n",
    "        \"\"\"\n",
    "\n",
    "        self.__pedido = pedido\n",
    "\n",
    "    def executa(self):\n",
    "        \"\"\"\n",
    "        Executa o comando para pagar o pedido.\n",
    "        \"\"\"\n",
    "\n",
    "        self.__pedido.paga()"
   ]
  },
  {
   "cell_type": "markdown",
   "metadata": {},
   "source": [
    "***"
   ]
  },
  {
   "cell_type": "code",
   "execution_count": 6,
   "metadata": {},
   "outputs": [],
   "source": [
    "class FilaDeTrabalho(object):\n",
    "    \"\"\"\n",
    "    Fila de trabalho dos comandos.\n",
    "    \"\"\"\n",
    "\n",
    "    def __init__(self):\n",
    "        \"\"\"\n",
    "        Construtor da fila de trabalho.\n",
    "        \"\"\"\n",
    "\n",
    "        self.__comandos = []\n",
    "\n",
    "    def adiciona(self, comando):\n",
    "        \"\"\"\n",
    "        Adiciona um comando.\n",
    "        \"\"\"\n",
    "\n",
    "        self.__comandos.append(comando)\n",
    "\n",
    "    def processa(self):\n",
    "        \"\"\"\n",
    "        Processa os comandos da fila.\n",
    "        \"\"\"\n",
    "\n",
    "        for comando in self.__comandos:\n",
    "            comando.executa()"
   ]
  },
  {
   "cell_type": "markdown",
   "metadata": {},
   "source": [
    "***"
   ]
  },
  {
   "cell_type": "code",
   "execution_count": 7,
   "metadata": {},
   "outputs": [],
   "source": [
    "pedido1 = Pedido('Flavio', 200)\n",
    "pedido2 = Pedido('Almeida', 400)"
   ]
  },
  {
   "cell_type": "code",
   "execution_count": 8,
   "metadata": {},
   "outputs": [],
   "source": [
    "fila_de_trabalho = FilaDeTrabalho()"
   ]
  },
  {
   "cell_type": "code",
   "execution_count": 9,
   "metadata": {},
   "outputs": [],
   "source": [
    "comando1 = Concluir(pedido1)\n",
    "comando2 = Pagar(pedido1)\n",
    "comando3 = Concluir(pedido2)"
   ]
  },
  {
   "cell_type": "code",
   "execution_count": 10,
   "metadata": {},
   "outputs": [],
   "source": [
    "fila_de_trabalho.adiciona(comando1)\n",
    "fila_de_trabalho.adiciona(comando2)\n",
    "fila_de_trabalho.adiciona(comando3)"
   ]
  },
  {
   "cell_type": "code",
   "execution_count": 11,
   "metadata": {},
   "outputs": [
    {
     "name": "stdout",
     "output_type": "stream",
     "text": [
      "O pedido do cliente Flavio foi entregue na data 2018-08-02\n",
      "O pedido do cliente Flavio foi pago.\n",
      "O pedido do cliente Almeida foi entregue na data 2018-08-02\n"
     ]
    }
   ],
   "source": [
    "fila_de_trabalho.processa()"
   ]
  }
 ],
 "metadata": {
  "kernelspec": {
   "display_name": "Python 3",
   "language": "python",
   "name": "python3"
  },
  "language_info": {
   "codemirror_mode": {
    "name": "ipython",
    "version": 3
   },
   "file_extension": ".py",
   "mimetype": "text/x-python",
   "name": "python",
   "nbconvert_exporter": "python",
   "pygments_lexer": "ipython3",
   "version": "3.5.2"
  }
 },
 "nbformat": 4,
 "nbformat_minor": 2
}
