{
 "cells": [
  {
   "cell_type": "markdown",
   "metadata": {},
   "source": [
    "## Música\n",
    "***"
   ]
  },
  {
   "cell_type": "code",
   "execution_count": 1,
   "metadata": {},
   "outputs": [],
   "source": [
    "class Player(object):\n",
    "    \"\"\"\n",
    "    Tocador de música.\n",
    "    \"\"\"\n",
    "\n",
    "    def play(self, arquivo):\n",
    "        \"\"\"\n",
    "        Toca a música.\n",
    "        \"\"\"\n",
    "\n",
    "        print(\"Tocando a musica:\", arquivo)\n",
    "\n",
    "    def aumentar_volume(self, intensidade):\n",
    "        \"\"\"\n",
    "        Aumenta o volume do player\n",
    "        \"\"\"\n",
    "\n",
    "        print(\"Aumentando o volume em\", intensidade, \"níveis\")\n",
    "\n",
    "    def diminuir_volume(self, intensidade):\n",
    "        \"\"\"\n",
    "        Diminui o volume do player\n",
    "        \"\"\"\n",
    "\n",
    "        print(\"Diminuindo o volume em\", intensidade, \"níveis\")"
   ]
  },
  {
   "cell_type": "markdown",
   "metadata": {},
   "source": [
    "***"
   ]
  },
  {
   "cell_type": "code",
   "execution_count": 2,
   "metadata": {},
   "outputs": [],
   "source": [
    "from abc import ABC, abstractmethod\n",
    "\n",
    "\n",
    "class Comando(ABC):\n",
    "    \"\"\"\n",
    "    Classe abstrata para criar comandos do tocador de música.\n",
    "    \"\"\"\n",
    "\n",
    "    @abstractmethod\n",
    "    def executa(self):\n",
    "        \"\"\"\n",
    "        Executa o comando.\n",
    "        \"\"\"\n",
    "\n",
    "        pass"
   ]
  },
  {
   "cell_type": "code",
   "execution_count": 3,
   "metadata": {},
   "outputs": [],
   "source": [
    "class AumentarVolume(Comando):\n",
    "    \"\"\"\n",
    "    Comando de aumentar o volume da música.\n",
    "    \"\"\"\n",
    "\n",
    "    def __init__(self, player, intensidade):\n",
    "        \"\"\"\n",
    "        Constroi o comando.\n",
    "        \"\"\"\n",
    "\n",
    "        self.player = player\n",
    "        self.intensidade = intensidade\n",
    "\n",
    "    def executa(self):\n",
    "        \"\"\"\n",
    "        Executa o comando para aumentar o volume da música.\n",
    "        \"\"\"\n",
    "\n",
    "        self.player.aumentar_volume(self.intensidade)"
   ]
  },
  {
   "cell_type": "code",
   "execution_count": 4,
   "metadata": {},
   "outputs": [],
   "source": [
    "class DiminuirVolume(Comando):\n",
    "    \"\"\"\n",
    "    Comando de diminuir o volume da música.\n",
    "    \"\"\"\n",
    "\n",
    "    def __init__(self, player, intensidade):\n",
    "        \"\"\"\n",
    "        Constroi o comando.\n",
    "        \"\"\"\n",
    "\n",
    "        self.player = player\n",
    "        self.intensidade = intensidade\n",
    "\n",
    "    def executa(self):\n",
    "        \"\"\"\n",
    "        Executa o comando para diminuir o volume da música.\n",
    "        \"\"\"\n",
    "\n",
    "        self.player.diminuir_volume(self.intensidade)"
   ]
  },
  {
   "cell_type": "code",
   "execution_count": 5,
   "metadata": {},
   "outputs": [],
   "source": [
    "class Tocar(Comando):\n",
    "    \"\"\"\n",
    "    Comando de tocar a música.\n",
    "    \"\"\"\n",
    "\n",
    "    def __init__(self, player, arquivo):\n",
    "        \"\"\"\n",
    "        Constroi o comando.\n",
    "        \"\"\"\n",
    "\n",
    "        self.player = player\n",
    "        self.arquivo = arquivo\n",
    "\n",
    "    def executa(self):\n",
    "        \"\"\"\n",
    "        Executa o comando para tocar a música.\n",
    "        \"\"\"\n",
    "\n",
    "        self.player.play(self.arquivo)"
   ]
  },
  {
   "cell_type": "markdown",
   "metadata": {},
   "source": [
    "***"
   ]
  },
  {
   "cell_type": "code",
   "execution_count": 6,
   "metadata": {},
   "outputs": [],
   "source": [
    "class ListaDeComandos(object):\n",
    "    \"\"\"\n",
    "    Lista de comandos para execução.\n",
    "    \"\"\"\n",
    "\n",
    "    def __init__(self):\n",
    "        \"\"\"\n",
    "        Cria a lista de comandos.\n",
    "        \"\"\"\n",
    "\n",
    "        self.__comandos = []\n",
    "\n",
    "    def adiciona(self, comando):\n",
    "        \"\"\"\n",
    "        Adiciona um comando na lista de comando.\n",
    "        \"\"\"\n",
    "\n",
    "        self.__comandos.append(comando)\n",
    "\n",
    "    def executa(self):\n",
    "        \"\"\"\n",
    "        Executa a lista de comandos.\n",
    "        \"\"\"\n",
    "\n",
    "        for comando in self.__comandos:\n",
    "            comando.executa()"
   ]
  },
  {
   "cell_type": "markdown",
   "metadata": {},
   "source": [
    "***"
   ]
  },
  {
   "cell_type": "code",
   "execution_count": 7,
   "metadata": {},
   "outputs": [],
   "source": [
    "player = Player()\n",
    "lista_de_comandos = ListaDeComandos()"
   ]
  },
  {
   "cell_type": "code",
   "execution_count": 8,
   "metadata": {},
   "outputs": [],
   "source": [
    "lista_de_comandos.adiciona(Tocar(player, \"musica.mp3\"))\n",
    "lista_de_comandos.adiciona(AumentarVolume(player, 3))\n",
    "lista_de_comandos.adiciona(DiminuirVolume(player, 2))"
   ]
  },
  {
   "cell_type": "code",
   "execution_count": 9,
   "metadata": {},
   "outputs": [
    {
     "name": "stdout",
     "output_type": "stream",
     "text": [
      "Tocando a musica: musica.mp3\n",
      "Aumentando o volume em 3 níveis\n",
      "Diminuindo o volume em 2 níveis\n"
     ]
    }
   ],
   "source": [
    "lista_de_comandos.executa()"
   ]
  }
 ],
 "metadata": {
  "kernelspec": {
   "display_name": "Python 3",
   "language": "python",
   "name": "python3"
  },
  "language_info": {
   "codemirror_mode": {
    "name": "ipython",
    "version": 3
   },
   "file_extension": ".py",
   "mimetype": "text/x-python",
   "name": "python",
   "nbconvert_exporter": "python",
   "pygments_lexer": "ipython3",
   "version": "3.5.2"
  }
 },
 "nbformat": 4,
 "nbformat_minor": 2
}
