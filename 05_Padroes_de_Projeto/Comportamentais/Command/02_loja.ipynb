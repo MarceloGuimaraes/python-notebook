{
 "cells": [
  {
   "cell_type": "markdown",
   "metadata": {},
   "source": [
    "## Loja\n",
    "***"
   ]
  },
  {
   "cell_type": "code",
   "execution_count": 1,
   "metadata": {},
   "outputs": [],
   "source": [
    "class Compra(object):\n",
    "    \"\"\"\n",
    "    Compra do cliente.\n",
    "    \"\"\"\n",
    "\n",
    "    ID = 0\n",
    "\n",
    "    def __init__(self, nome_da_loja):\n",
    "        \"\"\"\n",
    "        Cria a compra do cliente.\n",
    "        \"\"\"\n",
    "\n",
    "        self.nome_da_loja = nome_da_loja\n",
    "        Compra.ID += 1\n",
    "        self.id_nota_fiscal = Compra.ID\n",
    "\n",
    "    def modifica_valor(self, valor):\n",
    "        \"\"\"\n",
    "        Modifica o valor da compra.\n",
    "        \"\"\"\n",
    "\n",
    "        self.valor_total = valor\n",
    "\n",
    "    @property\n",
    "    def nota_fiscal(self):\n",
    "        \"\"\"\n",
    "        Pega informações da nota fiscal.\n",
    "        \"\"\"\n",
    "\n",
    "        informacao = \"Nota fiscal n° {0}\\nLoja: {1}\\nValor: {2}\\n\".format(\n",
    "            str(self.id_nota_fiscal),\n",
    "            self.nome_da_loja,\n",
    "            str(self.valor_total)\n",
    "        )\n",
    "\n",
    "        return informacao"
   ]
  },
  {
   "cell_type": "markdown",
   "metadata": {},
   "source": [
    "***"
   ]
  },
  {
   "cell_type": "code",
   "execution_count": 2,
   "metadata": {},
   "outputs": [],
   "source": [
    "from abc import ABC, abstractmethod\n",
    "\n",
    "\n",
    "class PagamentoCommand(ABC):\n",
    "    \"\"\"\n",
    "    Classe abstrata que cria as formas de pagamento.\n",
    "    \"\"\"\n",
    "\n",
    "    @abstractmethod\n",
    "    def processa_compra(self, compra):\n",
    "        \"\"\"\n",
    "        Processa a compra\n",
    "        \"\"\"\n",
    "\n",
    "        pass"
   ]
  },
  {
   "cell_type": "code",
   "execution_count": 3,
   "metadata": {},
   "outputs": [],
   "source": [
    "class Boleto(PagamentoCommand):\n",
    "    \"\"\"\n",
    "    Pagamento com boleto bancario.\n",
    "    \"\"\"\n",
    "\n",
    "    def processa_compra(self, compra):\n",
    "        \"\"\"\n",
    "        Processa a compra com boleto bancario como forma de pagamento\n",
    "        \"\"\"\n",
    "\n",
    "        print(\"Boleto criado!\\n\" + compra.nota_fiscal)"
   ]
  },
  {
   "cell_type": "code",
   "execution_count": 4,
   "metadata": {},
   "outputs": [],
   "source": [
    "class CartaoDeCredito(PagamentoCommand):\n",
    "    \"\"\"\n",
    "    Pagamento com cartão de crédito.\n",
    "    \"\"\"\n",
    "\n",
    "    def processa_compra(self, compra):\n",
    "        \"\"\"\n",
    "        Processa a compra utilizando cartão de crédito como forma de\n",
    "        pagemento.\n",
    "        \"\"\"\n",
    "\n",
    "        print(\"Cartão de credito aceito!\\n\" + compra.nota_fiscal)"
   ]
  },
  {
   "cell_type": "code",
   "execution_count": 5,
   "metadata": {},
   "outputs": [],
   "source": [
    "class CartaoDeDebito(PagamentoCommand):\n",
    "    \"\"\"\n",
    "    Pagamento utilizando cartão de debito.\n",
    "    \"\"\"\n",
    "\n",
    "    def processa_compra(self, compra):\n",
    "        \"\"\"\n",
    "        Processa a compra utilizando cartão de debito como forma de\n",
    "        pagamento.\n",
    "        \"\"\"\n",
    "\n",
    "        print(\"Cartão de debito aceito!\\n\" + compra.nota_fiscal)"
   ]
  },
  {
   "cell_type": "markdown",
   "metadata": {},
   "source": [
    "***"
   ]
  },
  {
   "cell_type": "code",
   "execution_count": 6,
   "metadata": {},
   "outputs": [],
   "source": [
    "class Loja(object):\n",
    "    \"\"\"\n",
    "    Loja onde foi realizada a compra.\n",
    "    \"\"\"\n",
    "\n",
    "    def __init__(self, nome):\n",
    "        \"\"\"\n",
    "        Cria a loja.\n",
    "        \"\"\"\n",
    "\n",
    "        self.nome_da_loja = nome\n",
    "\n",
    "    def executa_compra(self, valor, forma_de_pagamento):\n",
    "        \"\"\"\n",
    "        Executa a compra.\n",
    "        \"\"\"\n",
    "\n",
    "        compra = Compra(self.nome_da_loja)\n",
    "        compra.modifica_valor(valor)\n",
    "        forma_de_pagamento.processa_compra(compra)"
   ]
  },
  {
   "cell_type": "markdown",
   "metadata": {},
   "source": [
    "***"
   ]
  },
  {
   "cell_type": "code",
   "execution_count": 7,
   "metadata": {},
   "outputs": [
    {
     "name": "stdout",
     "output_type": "stream",
     "text": [
      "Cartão de credito aceito!\n",
      "Nota fiscal n° 1\n",
      "Loja: Lojas Americanas\n",
      "Valor: 999.0\n",
      "\n",
      "Boleto criado!\n",
      "Nota fiscal n° 2\n",
      "Loja: Lojas Americanas\n",
      "Valor: 49.9\n",
      "\n",
      "Cartão de debito aceito!\n",
      "Nota fiscal n° 3\n",
      "Loja: Lojas Americanas\n",
      "Valor: 99.0\n",
      "\n"
     ]
    }
   ],
   "source": [
    "lojas_americanas = Loja(\"Lojas Americanas\")\n",
    "lojas_americanas.executa_compra(999.00, CartaoDeCredito())\n",
    "lojas_americanas.executa_compra(49.90, Boleto())\n",
    "lojas_americanas.executa_compra(99.00, CartaoDeDebito())"
   ]
  },
  {
   "cell_type": "code",
   "execution_count": 8,
   "metadata": {},
   "outputs": [
    {
     "name": "stdout",
     "output_type": "stream",
     "text": [
      "Cartão de credito aceito!\n",
      "Nota fiscal n° 4\n",
      "Loja: Casas Bahia\n",
      "Valor: 19.0\n",
      "\n"
     ]
    }
   ],
   "source": [
    "casas_bahia = Loja(\"Casas Bahia\")\n",
    "casas_bahia.executa_compra(19.00, CartaoDeCredito())"
   ]
  }
 ],
 "metadata": {
  "kernelspec": {
   "display_name": "Python 3",
   "language": "python",
   "name": "python3"
  },
  "language_info": {
   "codemirror_mode": {
    "name": "ipython",
    "version": 3
   },
   "file_extension": ".py",
   "mimetype": "text/x-python",
   "name": "python",
   "nbconvert_exporter": "python",
   "pygments_lexer": "ipython3",
   "version": "3.5.2"
  }
 },
 "nbformat": 4,
 "nbformat_minor": 2
}
