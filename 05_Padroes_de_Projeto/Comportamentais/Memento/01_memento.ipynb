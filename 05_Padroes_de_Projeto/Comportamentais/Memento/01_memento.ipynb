{
 "cells": [
  {
   "cell_type": "markdown",
   "metadata": {},
   "source": [
    "## Memento\n",
    "***\n",
    "### Definição\n",
    "***"
   ]
  },
  {
   "cell_type": "markdown",
   "metadata": {},
   "source": [
    "Sem violar o encapsulamento, capturar e externalizar um estado interno de um objeto, de maneira que o objeto possa ser restaurado para esse estado mais tarde."
   ]
  },
  {
   "cell_type": "markdown",
   "metadata": {},
   "source": [
    "***\n",
    "### Diagrama de Classe\n",
    "***"
   ]
  },
  {
   "cell_type": "markdown",
   "metadata": {},
   "source": [
    "![img](https://cloud.githubusercontent.com/assets/14116020/26286168/c5767b10-3e34-11e7-87e5-bfd605ab7eb9.png)\n",
    "\n",
    "* **Memoria (Memoria)**: Ela simplesmente mantém a String que representa o texto e oferece um getter para esta String, permitindo que ela seja recuperada mais tarde\n",
    "\n",
    "\n",
    "* **Guardador (GuardadorDeTexto)**: O Guardador vai guardar todos as Memorias, permitindo que eles sejam restaurados.\n",
    "\n",
    "\n",
    "* **Originador (Texto)**: Armazena o subconjunto do estado do objeto em um outro objeto memoria"
   ]
  }
 ],
 "metadata": {
  "kernelspec": {
   "display_name": "Python 3",
   "language": "python",
   "name": "python3"
  },
  "language_info": {
   "codemirror_mode": {
    "name": "ipython",
    "version": 3
   },
   "file_extension": ".py",
   "mimetype": "text/x-python",
   "name": "python",
   "nbconvert_exporter": "python",
   "pygments_lexer": "ipython3",
   "version": "3.5.2"
  }
 },
 "nbformat": 4,
 "nbformat_minor": 2
}
