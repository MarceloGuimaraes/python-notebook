{
 "cells": [
  {
   "cell_type": "markdown",
   "metadata": {},
   "source": [
    "## Contrato\n",
    "***"
   ]
  },
  {
   "cell_type": "code",
   "execution_count": 1,
   "metadata": {},
   "outputs": [],
   "source": [
    "class Estado(object):\n",
    "\n",
    "    def __init__(self, contrato):\n",
    "        \"\"\"\n",
    "        Construtor do estado do contrato.\n",
    "        \"\"\"\n",
    "\n",
    "        self.__contrato = contrato\n",
    "\n",
    "    @property\n",
    "    def contrato(self):\n",
    "        \"\"\"\n",
    "        Pega o contrato atual\n",
    "        \"\"\"\n",
    "\n",
    "        return self.__contrato"
   ]
  },
  {
   "cell_type": "markdown",
   "metadata": {},
   "source": [
    "***"
   ]
  },
  {
   "cell_type": "code",
   "execution_count": 2,
   "metadata": {},
   "outputs": [],
   "source": [
    "class Historico(object):\n",
    "\n",
    "    def __init__(self):\n",
    "        \"\"\"\n",
    "        Construtor do histórico do contrato com os estados salvos.\n",
    "        \"\"\"\n",
    "\n",
    "        self.__estados_salvos = []\n",
    "\n",
    "    def obtem_estado(self, indice):\n",
    "        \"\"\"\n",
    "        Obter o estados do contrato através de um indice\n",
    "        \"\"\"\n",
    "\n",
    "        try:\n",
    "            estado = self.__estados_salvos[indice]\n",
    "        except IndexError:\n",
    "            print(\"Estado com esse indice não existe.\")\n",
    "\n",
    "        return estado\n",
    "\n",
    "    def adiciona_estado(self, estado):\n",
    "        \"\"\"\n",
    "        Adiciona o estado atual do contrato na lista de estados\n",
    "        salvos.\n",
    "        \"\"\"\n",
    "\n",
    "        self.__estados_salvos.append(estado)"
   ]
  },
  {
   "cell_type": "markdown",
   "metadata": {},
   "source": [
    "***"
   ]
  },
  {
   "cell_type": "code",
   "execution_count": 3,
   "metadata": {},
   "outputs": [],
   "source": [
    "class Contrato(object):\n",
    "    \"\"\"\n",
    "    Cria um contrato.\n",
    "    \"\"\"\n",
    "\n",
    "    def __init__(self, data, cliente, status):\n",
    "        \"\"\"\n",
    "        Construtor do contrato passando a data do contrato,\n",
    "        o cliente do contrato e o status do contrato.\n",
    "        \"\"\"\n",
    "\n",
    "        self.__data = data\n",
    "        self.__cliente = cliente\n",
    "        self.__status = status\n",
    "\n",
    "    @property\n",
    "    def data(self):\n",
    "        \"\"\"\n",
    "        Pega a data do contrato.\n",
    "        \"\"\"\n",
    "\n",
    "        return self.__data\n",
    "\n",
    "    @data.setter\n",
    "    def data(self, data):\n",
    "        \"\"\"\n",
    "        Modifica a data do contrato.\n",
    "        \"\"\"\n",
    "\n",
    "        self.__data = data\n",
    "\n",
    "    @property\n",
    "    def cliente(self):\n",
    "        \"\"\"\n",
    "        Pega o cliente do contrato.\n",
    "        \"\"\"\n",
    "\n",
    "        return self.__cliente\n",
    "\n",
    "    @cliente.setter\n",
    "    def cliente(self, cliente):\n",
    "        \"\"\"\n",
    "        Modifica o cliente do contrato.\n",
    "        \"\"\"\n",
    "\n",
    "        self.__cliente = cliente\n",
    "\n",
    "    @property\n",
    "    def status(self):\n",
    "        \"\"\"\n",
    "        Pega o status do contrato.\n",
    "        \"\"\"\n",
    "\n",
    "        return self.__status\n",
    "\n",
    "    @status.setter\n",
    "    def status(self, status):\n",
    "        \"\"\"\n",
    "        Modifica o status do contrato.\n",
    "        \"\"\"\n",
    "\n",
    "        self.__status = status\n",
    "\n",
    "    def executa(self):\n",
    "        \"\"\"\n",
    "        Modifica o status do contrato de NOVO para EM ANDAMENTO,\n",
    "        de EM ANDAMENTO para ACERTADO e de ACERTADO para CONCLUIDO.\n",
    "        \"\"\"\n",
    "\n",
    "        if self.__status == 'NOVO':\n",
    "            self.__status = 'EM ANDAMENTO'\n",
    "        elif self.__status == 'EM ANDAMENTO':\n",
    "            self.__status = 'ACERTADO'\n",
    "        elif self.__status == 'ACERTADO':\n",
    "            self.__status = 'CONCLUIDO'\n",
    "\n",
    "    def salva_estado(self):\n",
    "        \"\"\"\n",
    "        Salva o estado atual do contrato.\n",
    "        \"\"\"\n",
    "\n",
    "        return Estado(Contrato(\n",
    "            data=self.__data,\n",
    "            cliente=self.__cliente,\n",
    "            status=self.__status\n",
    "        ))\n",
    "\n",
    "    def restaurar_estado(self, estado):\n",
    "        \"\"\"\n",
    "        Restaura o estado atual do contrato.\n",
    "        \"\"\"\n",
    "\n",
    "        self.__cliente = estado.contrato.cliente\n",
    "        self.__data = estado.contrato.data\n",
    "        self.__status = estado.contrato.status"
   ]
  },
  {
   "cell_type": "markdown",
   "metadata": {},
   "source": [
    "***"
   ]
  },
  {
   "cell_type": "code",
   "execution_count": 4,
   "metadata": {},
   "outputs": [],
   "source": [
    "from datetime import date\n",
    "\n",
    "historico = Historico()"
   ]
  },
  {
   "cell_type": "code",
   "execution_count": 5,
   "metadata": {},
   "outputs": [],
   "source": [
    "contrato = Contrato(\n",
    "    data=date.today(),\n",
    "    cliente='Flávio Almenida',\n",
    "    status='NOVO'\n",
    ")"
   ]
  },
  {
   "cell_type": "code",
   "execution_count": 6,
   "metadata": {},
   "outputs": [],
   "source": [
    "contrato.executa()\n",
    "historico.adiciona_estado(contrato.salva_estado())"
   ]
  },
  {
   "cell_type": "code",
   "execution_count": 7,
   "metadata": {},
   "outputs": [],
   "source": [
    "contrato.executa()\n",
    "contrato.cliente = 'Romulo Henrique'\n",
    "historico.adiciona_estado(contrato.salva_estado())"
   ]
  },
  {
   "cell_type": "code",
   "execution_count": 8,
   "metadata": {},
   "outputs": [],
   "source": [
    "contrato.executa()\n",
    "historico.adiciona_estado(contrato.salva_estado())"
   ]
  },
  {
   "cell_type": "code",
   "execution_count": 9,
   "metadata": {},
   "outputs": [
    {
     "name": "stdout",
     "output_type": "stream",
     "text": [
      "Status do contrato: CONCLUIDO\n",
      "Cliente: Romulo Henrique\n"
     ]
    }
   ],
   "source": [
    "print(\"Status do contrato:\", contrato.status)\n",
    "print(\"Cliente:\", contrato.cliente)"
   ]
  },
  {
   "cell_type": "code",
   "execution_count": 10,
   "metadata": {},
   "outputs": [],
   "source": [
    "contrato.restaurar_estado(historico.obtem_estado(0))"
   ]
  },
  {
   "cell_type": "code",
   "execution_count": 11,
   "metadata": {},
   "outputs": [
    {
     "name": "stdout",
     "output_type": "stream",
     "text": [
      "\n",
      "Estado do contrato restaurado.\n",
      "\n",
      "Status do contrato: EM ANDAMENTO\n",
      "Cliente: Flávio Almenida\n"
     ]
    }
   ],
   "source": [
    "print(\"\\nEstado do contrato restaurado.\\n\")\n",
    "print(\"Status do contrato:\", contrato.status)\n",
    "print(\"Cliente:\", contrato.cliente)"
   ]
  }
 ],
 "metadata": {
  "kernelspec": {
   "display_name": "Python 3",
   "language": "python",
   "name": "python3"
  },
  "language_info": {
   "codemirror_mode": {
    "name": "ipython",
    "version": 3
   },
   "file_extension": ".py",
   "mimetype": "text/x-python",
   "name": "python",
   "nbconvert_exporter": "python",
   "pygments_lexer": "ipython3",
   "version": "3.5.2"
  }
 },
 "nbformat": 4,
 "nbformat_minor": 2
}
