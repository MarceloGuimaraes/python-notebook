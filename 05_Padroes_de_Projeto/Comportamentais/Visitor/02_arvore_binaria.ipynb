{
 "cells": [
  {
   "cell_type": "markdown",
   "metadata": {},
   "source": [
    "## Arvore Binaria\n",
    "***"
   ]
  },
  {
   "cell_type": "code",
   "execution_count": 1,
   "metadata": {},
   "outputs": [],
   "source": [
    "class No(object):\n",
    "    \"\"\"\n",
    "    Classe responsavel pelos nós da arvore binária de busca.\n",
    "    \"\"\"\n",
    "\n",
    "    def __init__(self, chave):\n",
    "        \"\"\"\n",
    "        Cria um nó da arvore.\n",
    "        \"\"\"\n",
    "\n",
    "        self.__chave = chave\n",
    "        self.__esquerda = None\n",
    "        self.__direita = None\n",
    "\n",
    "    def __str__(self):\n",
    "        \"\"\"\n",
    "        Retorna o nó em forma de string.\n",
    "        \"\"\"\n",
    "\n",
    "        return str(self.__chave)\n",
    "\n",
    "    @property\n",
    "    def chave(self):\n",
    "        \"\"\"\n",
    "        Pega a chave do nó.\n",
    "        \"\"\"\n",
    "\n",
    "        return self.__chave\n",
    "\n",
    "    @property\n",
    "    def esquerda(self):\n",
    "        \"\"\"\n",
    "        Pega o nó a esquerda do nó chave.\n",
    "        \"\"\"\n",
    "\n",
    "        return self.__esquerda\n",
    "\n",
    "    @esquerda.setter\n",
    "    def esquerda(self, no_esquerdo):\n",
    "        \"\"\"\n",
    "        Modifica o nó esquerdo do nó chave.\n",
    "        \"\"\"\n",
    "\n",
    "        self.__esquerda = no_esquerdo\n",
    "\n",
    "    @property\n",
    "    def direita(self):\n",
    "        \"\"\"\n",
    "        Pega o nó a direita do nó chave.\n",
    "        \"\"\"\n",
    "\n",
    "        return self.__direita\n",
    "\n",
    "    @direita.setter\n",
    "    def direita(self, no_direito):\n",
    "        \"\"\"\n",
    "        Modifica o nó direito do nó chave.\n",
    "        \"\"\"\n",
    "\n",
    "        self.__direita = no_direito"
   ]
  },
  {
   "cell_type": "markdown",
   "metadata": {},
   "source": [
    "***"
   ]
  },
  {
   "cell_type": "code",
   "execution_count": 2,
   "metadata": {},
   "outputs": [],
   "source": [
    "class ArvoreBinaria(object):\n",
    "    \"\"\"\n",
    "    Arvore binária de busca.\n",
    "    \"\"\"\n",
    "\n",
    "    def __init__(self, chave_raiz):\n",
    "        \"\"\"\n",
    "        Constroi a arvore binária de busca.\n",
    "        \"\"\"\n",
    "\n",
    "        self.raiz = No(chave_raiz)\n",
    "        self.quantidade_de_elementos = 0\n",
    "\n",
    "    def inserir(self, chave):\n",
    "        \"\"\"\n",
    "        Insere elementos dentro da arvore.\n",
    "        \"\"\"\n",
    "\n",
    "        self.__insere(chave, self.raiz)\n",
    "\n",
    "    def remover(self, chave):\n",
    "        \"\"\"\n",
    "        Remove elementos da arvore.\n",
    "        \"\"\"\n",
    "\n",
    "        pass\n",
    "\n",
    "    def buscar(self, chave):\n",
    "        \"\"\"\n",
    "        Busca elemento na arvore\n",
    "        \"\"\"\n",
    "\n",
    "        pass\n",
    "\n",
    "    def __insere(self, chave, no):\n",
    "        \"\"\"\n",
    "        Insere um elemento na arvore passando a chave e o nó especifico.\n",
    "        \"\"\"\n",
    "\n",
    "        if (no.chave == chave):\n",
    "            return\n",
    "\n",
    "        if (chave > no.chave):\n",
    "            if (no.direita is None):\n",
    "                no.direita = No(chave)\n",
    "                self.quantidade_de_elementos += 1\n",
    "                return\n",
    "            self.__insere(chave, no.direita)\n",
    "        else:\n",
    "            if (no.esquerda is None):\n",
    "                no.esquerda = No(chave)\n",
    "                self.quantidade_de_elementos += 1\n",
    "                return\n",
    "            self.__insere(chave, no.esquerda)\n",
    "\n",
    "    def aceitar_visitante(self, visitante):\n",
    "        \"\"\"\n",
    "        Aceita a visita de um visitante na arvore de busca.\n",
    "        \"\"\"\n",
    "\n",
    "        visitante.visitar(self.raiz)"
   ]
  },
  {
   "cell_type": "markdown",
   "metadata": {},
   "source": [
    "***"
   ]
  },
  {
   "cell_type": "code",
   "execution_count": 3,
   "metadata": {},
   "outputs": [],
   "source": [
    "from abc import ABC, abstractmethod\n",
    "\n",
    "\n",
    "class ArvoreVisitante(ABC):\n",
    "    \"\"\"\n",
    "    Classe abstrata para criar visitantes na arvore de busca.\n",
    "    \"\"\"\n",
    "\n",
    "    @abstractmethod\n",
    "    def visitar(self, no):\n",
    "        \"\"\"\n",
    "        Visita a arvore de busca.\n",
    "        \"\"\"\n",
    "\n",
    "        pass"
   ]
  },
  {
   "cell_type": "code",
   "execution_count": 4,
   "metadata": {},
   "outputs": [],
   "source": [
    "class ExibirInOrderVisitor(ArvoreVisitante):\n",
    "    \"\"\"\n",
    "    Exibe a arvore binária de busca em-ordem.\n",
    "                        A\n",
    "                       / \\\n",
    "                      B   D\n",
    "                     /   / \\\n",
    "                    C   E   F\n",
    "    \"\"\"\n",
    "\n",
    "    def visitar(self, no):\n",
    "        \"\"\"\n",
    "        Visita primeiro a raiz, depois a sub-árvore esquerda e\n",
    "        por último a sub-árvore direita.\n",
    "        Percorre: CBAEDF\n",
    "        \"\"\"\n",
    "\n",
    "        if (no is None):\n",
    "            return\n",
    "\n",
    "        self.visitar(no.esquerda)\n",
    "\n",
    "        print(no)\n",
    "\n",
    "        self.visitar(no.direita)"
   ]
  },
  {
   "cell_type": "code",
   "execution_count": 5,
   "metadata": {},
   "outputs": [],
   "source": [
    "class ExibirPostOrderVisitor(ArvoreVisitante):\n",
    "    \"\"\"\n",
    "    Visita os elementos da arvoré de busca pós-ordem\n",
    "                        A\n",
    "                       / \\\n",
    "                      B   D\n",
    "                     /   / \\\n",
    "                    C   E   F\n",
    "    \"\"\"\n",
    "\n",
    "    def visitar(self, no):\n",
    "        \"\"\"\n",
    "        Visitar primeiro a sub-árvore esquerda, depois a sub-árvore direita\n",
    "        e por último a raiz.\n",
    "        Percorre: CBEFDA\n",
    "        \"\"\"\n",
    "\n",
    "        if (no is None):\n",
    "            return\n",
    "\n",
    "        self.visitar(no.esquerda)\n",
    "\n",
    "        self.visitar(no.direita)\n",
    "\n",
    "        print(no)"
   ]
  },
  {
   "cell_type": "code",
   "execution_count": 6,
   "metadata": {},
   "outputs": [],
   "source": [
    "class ExibirPreOrderVisitor(ArvoreVisitante):\n",
    "    \"\"\"\n",
    "    Visita os elementos da arvoré de busca pré-ordem.\n",
    "                        A\n",
    "                       / \\\n",
    "                      B   D\n",
    "                     /   / \\\n",
    "                    C   E   F\n",
    "    \"\"\"\n",
    "\n",
    "    def visitar(self, no):\n",
    "        \"\"\"\n",
    "        Visitar primeiro a raiz, depois a sub-árvore esquerda e por\n",
    "        último a sub-árvore direita.\n",
    "        Percorre: ABCDEF\n",
    "        \"\"\"\n",
    "\n",
    "        if (no is None):\n",
    "            return\n",
    "\n",
    "        print(no)\n",
    "\n",
    "        self.visitar(no.esquerda)\n",
    "\n",
    "        self.visitar(no.direita)"
   ]
  },
  {
   "cell_type": "markdown",
   "metadata": {},
   "source": [
    "***"
   ]
  },
  {
   "cell_type": "code",
   "execution_count": 7,
   "metadata": {},
   "outputs": [],
   "source": [
    "arvore = ArvoreBinaria(7)"
   ]
  },
  {
   "cell_type": "code",
   "execution_count": 8,
   "metadata": {},
   "outputs": [
    {
     "name": "stdout",
     "output_type": "stream",
     "text": [
      "      7 \n",
      "    5  15\n",
      "  2  10  20\n",
      "1\n"
     ]
    }
   ],
   "source": [
    "arvore.inserir(15)\n",
    "arvore.inserir(10)\n",
    "arvore.inserir(5)\n",
    "arvore.inserir(2)\n",
    "arvore.inserir(1)\n",
    "arvore.inserir(20)\n",
    "print(\"      7 \")\n",
    "print(\"    5  15\")\n",
    "print(\"  2  10  20\")\n",
    "print(\"1\")"
   ]
  },
  {
   "cell_type": "code",
   "execution_count": 9,
   "metadata": {},
   "outputs": [
    {
     "name": "stdout",
     "output_type": "stream",
     "text": [
      "=== Exibindo em ordem ===\n",
      "1\n",
      "2\n",
      "5\n",
      "7\n",
      "10\n",
      "15\n",
      "20\n"
     ]
    }
   ],
   "source": [
    "print(\"=== Exibindo em ordem ===\")\n",
    "arvore.aceitar_visitante(ExibirInOrderVisitor())"
   ]
  },
  {
   "cell_type": "code",
   "execution_count": 10,
   "metadata": {},
   "outputs": [
    {
     "name": "stdout",
     "output_type": "stream",
     "text": [
      "\n",
      "=== Exibindo pré ordem ===\n",
      "7\n",
      "5\n",
      "2\n",
      "1\n",
      "15\n",
      "10\n",
      "20\n"
     ]
    }
   ],
   "source": [
    "print(\"\\n=== Exibindo pré ordem ===\")\n",
    "arvore.aceitar_visitante(ExibirPreOrderVisitor())"
   ]
  },
  {
   "cell_type": "code",
   "execution_count": 11,
   "metadata": {},
   "outputs": [
    {
     "name": "stdout",
     "output_type": "stream",
     "text": [
      "\n",
      "=== Exibindo pós ordem ===\n",
      "1\n",
      "2\n",
      "5\n",
      "10\n",
      "20\n",
      "15\n",
      "7\n"
     ]
    }
   ],
   "source": [
    "print(\"\\n=== Exibindo pós ordem ===\")\n",
    "arvore.aceitar_visitante(ExibirPostOrderVisitor())"
   ]
  }
 ],
 "metadata": {
  "kernelspec": {
   "display_name": "Python 3",
   "language": "python",
   "name": "python3"
  },
  "language_info": {
   "codemirror_mode": {
    "name": "ipython",
    "version": 3
   },
   "file_extension": ".py",
   "mimetype": "text/x-python",
   "name": "python",
   "nbconvert_exporter": "python",
   "pygments_lexer": "ipython3",
   "version": "3.5.2"
  }
 },
 "nbformat": 4,
 "nbformat_minor": 2
}
