{
 "cells": [
  {
   "cell_type": "markdown",
   "metadata": {},
   "source": [
    "## Visitor\n",
    "***\n",
    "### Definição\n",
    "***"
   ]
  },
  {
   "cell_type": "markdown",
   "metadata": {},
   "source": [
    "Quando temos uma árvore, e precisamos navegar nessa árvore de maneira organizada, podemos usar um Visitor\n",
    "\n",
    "Permitir atualizações específicas em uma coleção de objetos de acordo com o tipo parti- cular de cada objeto atualizado.\n",
    "\n",
    "Representar uma operação a ser executada nos elementos de uma estrutura de objetos. Visitor permite definir uma nova operação sem mudar as classes dos elementos sobre os quais opera."
   ]
  },
  {
   "cell_type": "markdown",
   "metadata": {},
   "source": [
    "***\n",
    "### Diagrama de Classe\n",
    "***"
   ]
  },
  {
   "cell_type": "markdown",
   "metadata": {},
   "source": [
    "![img](https://cloud.githubusercontent.com/assets/14116020/26286200/b9bf9198-3e35-11e7-89b2-824fa3be45dd.png)\n",
    "\n",
    "* **Visitante (AtualizadorDeFuncionario)**: Define a interface dos objetos responsáveis pelas atualizações dos Elementos.\n",
    "\n",
    "\n",
    "* **VisitanteConcreto (AtualizadorSalarial)**: Implementa a lógica de uma determinada atualização dos Elementos.\n",
    "\n",
    "\n",
    "* **Elemento (Atualizavel)**: Define a interface dos objetos que podem ser atualizados por um Visitante.\n",
    "\n",
    "\n",
    "* **ElementoConcreto (Funcionario, Departamento)**: Define um tipo específico de Elemento.\n",
    "\n",
    "\n",
    "* **EstruturaDoObjeto**: Agregador dos Elementos.\n",
    "\n",
    "\n",
    "* **Cliente**: Aplica um determinado Visitante nos Elementos da estrutura."
   ]
  }
 ],
 "metadata": {
  "kernelspec": {
   "display_name": "Python 3",
   "language": "python",
   "name": "python3"
  },
  "language_info": {
   "codemirror_mode": {
    "name": "ipython",
    "version": 3
   },
   "file_extension": ".py",
   "mimetype": "text/x-python",
   "name": "python",
   "nbconvert_exporter": "python",
   "pygments_lexer": "ipython3",
   "version": "3.5.2"
  }
 },
 "nbformat": 4,
 "nbformat_minor": 2
}
