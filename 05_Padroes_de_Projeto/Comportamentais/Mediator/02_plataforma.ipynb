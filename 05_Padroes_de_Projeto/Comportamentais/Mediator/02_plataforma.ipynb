{
 "cells": [
  {
   "cell_type": "markdown",
   "metadata": {},
   "source": [
    "## Plataforma\n",
    "***"
   ]
  },
  {
   "cell_type": "code",
   "execution_count": 1,
   "metadata": {},
   "outputs": [],
   "source": [
    "from abc import ABC, abstractmethod\n",
    "\n",
    "\n",
    "class Plataforma(ABC):\n",
    "    \"\"\"\n",
    "    Possível interface para padronizar as plataformas de comunicação.\n",
    "    \"\"\"\n",
    "\n",
    "    def __init__(self, mediator):\n",
    "        \"\"\"\n",
    "        Cria a plataforma passando o mediador\n",
    "        \"\"\"\n",
    "\n",
    "        self.mediator = mediator\n",
    "\n",
    "    def envia_mensagem(self, mensagem):\n",
    "        \"\"\"\n",
    "        Envia a mensagem para o plataforma especifica.\n",
    "        \"\"\"\n",
    "\n",
    "        self.mediator.envia(mensagem, self)\n",
    "\n",
    "    @abstractmethod\n",
    "    def recebe_mensagem(self, mensagem):\n",
    "        \"\"\"\n",
    "        Recebe mensagem de alguma plataforma.\n",
    "        \"\"\"\n",
    "\n",
    "        pass"
   ]
  },
  {
   "cell_type": "markdown",
   "metadata": {},
   "source": [
    "***"
   ]
  },
  {
   "cell_type": "code",
   "execution_count": 2,
   "metadata": {},
   "outputs": [],
   "source": [
    "class Android(Plataforma):\n",
    "\n",
    "    def __init__(self, mediator):\n",
    "        \"\"\"\n",
    "        Cria a plataforma Android e passa o mediador que irá cuidar\n",
    "        da comunicação\n",
    "        \"\"\"\n",
    "\n",
    "        super(Android, self).__init__(mediator)\n",
    "\n",
    "    def recebe_mensagem(self, mensagem):\n",
    "        \"\"\"\n",
    "        Recebe mensagens através do mediador.\n",
    "        \"\"\"\n",
    "\n",
    "        print(\"Android recebeu:\", mensagem)"
   ]
  },
  {
   "cell_type": "code",
   "execution_count": 3,
   "metadata": {},
   "outputs": [],
   "source": [
    "class IOS(Plataforma):\n",
    "\n",
    "    def __init__(self, mediator):\n",
    "        \"\"\"\n",
    "        Cria a plataforma IOS e passa o mediador que irá cuidar\n",
    "        da comunicação\n",
    "        \"\"\"\n",
    "\n",
    "        super(IOS, self).__init__(mediator)\n",
    "\n",
    "    def recebe_mensagem(self, mensagem):\n",
    "        \"\"\"\n",
    "        Recebe mensagens através do mediador.\n",
    "        \"\"\"\n",
    "\n",
    "        print(\"IOS recebeu:\", mensagem)"
   ]
  },
  {
   "cell_type": "markdown",
   "metadata": {},
   "source": [
    "***"
   ]
  },
  {
   "cell_type": "code",
   "execution_count": 4,
   "metadata": {},
   "outputs": [],
   "source": [
    "from abc import ABC, abstractmethod\n",
    "\n",
    "\n",
    "class Mediator(ABC):\n",
    "    \"\"\"\n",
    "    Interface que padroniza as operações que serão chamadas pelas plataformas.\n",
    "    \"\"\"\n",
    "\n",
    "    @abstractmethod\n",
    "    def envia(mensagem, plataforma):\n",
    "        \"\"\"\n",
    "        Envia a mensagem para alguma plataforma especifica.\n",
    "        \"\"\"\n",
    "\n",
    "        pass"
   ]
  },
  {
   "cell_type": "code",
   "execution_count": 5,
   "metadata": {},
   "outputs": [],
   "source": [
    "class MensagemMediator(Mediator):\n",
    "    \"\"\"\n",
    "     Implementação particular do Mediador, que coordena a\n",
    "     interação entre as diferentes plataformas.\n",
    "    \"\"\"\n",
    "\n",
    "    def __init__(self):\n",
    "        \"\"\"\n",
    "        Cria uma lista de contatos que irão receber as mensagens.\n",
    "        \"\"\"\n",
    "\n",
    "        self.contatos = []\n",
    "\n",
    "    def adiciona(self, plataforma):\n",
    "        \"\"\"\n",
    "        Adiciona os colegas na lista de contatos.\n",
    "        \"\"\"\n",
    "\n",
    "        self.contatos.append(plataforma)\n",
    "\n",
    "    def envia(self, mensagem, plataforma):\n",
    "        \"\"\"\n",
    "        Envia a mensagem a alguma plataforma.\n",
    "        \"\"\"\n",
    "\n",
    "        for contato in self.contatos:\n",
    "            if (contato != plataforma):\n",
    "                self.__definir_protocolo(contato)\n",
    "                contato.recebe_mensagem(mensagem)\n",
    "\n",
    "    def __definir_protocolo(self, contato):\n",
    "        \"\"\"\n",
    "        Define o protocolo de envio de mensagem para plataformas\n",
    "        IOS ou Android\n",
    "        \"\"\"\n",
    "\n",
    "        if (type(contato) == type(IOS)):\n",
    "            print(\"Protocolo IOS\")\n",
    "        elif (type(contato) == type(Android)):\n",
    "            print(\"Protocolo Android\")"
   ]
  },
  {
   "cell_type": "markdown",
   "metadata": {},
   "source": [
    "***"
   ]
  },
  {
   "cell_type": "code",
   "execution_count": 6,
   "metadata": {},
   "outputs": [],
   "source": [
    "mediator = MensagemMediator()"
   ]
  },
  {
   "cell_type": "code",
   "execution_count": 7,
   "metadata": {},
   "outputs": [],
   "source": [
    "android = Android(mediator)\n",
    "ios = IOS(mediator)"
   ]
  },
  {
   "cell_type": "code",
   "execution_count": 8,
   "metadata": {},
   "outputs": [],
   "source": [
    "mediator.adiciona(android)\n",
    "mediator.adiciona(ios)"
   ]
  },
  {
   "cell_type": "code",
   "execution_count": 9,
   "metadata": {},
   "outputs": [
    {
     "name": "stdout",
     "output_type": "stream",
     "text": [
      "IOS recebeu: Oi, eu sou o android\n",
      "Android recebeu: Olá android, eu sou o IOS\n"
     ]
    }
   ],
   "source": [
    "android.envia_mensagem(\"Oi, eu sou o android\")\n",
    "ios.envia_mensagem(\"Olá android, eu sou o IOS\")"
   ]
  }
 ],
 "metadata": {
  "kernelspec": {
   "display_name": "Python 3",
   "language": "python",
   "name": "python3"
  },
  "language_info": {
   "codemirror_mode": {
    "name": "ipython",
    "version": 3
   },
   "file_extension": ".py",
   "mimetype": "text/x-python",
   "name": "python",
   "nbconvert_exporter": "python",
   "pygments_lexer": "ipython3",
   "version": "3.5.2"
  }
 },
 "nbformat": 4,
 "nbformat_minor": 2
}
