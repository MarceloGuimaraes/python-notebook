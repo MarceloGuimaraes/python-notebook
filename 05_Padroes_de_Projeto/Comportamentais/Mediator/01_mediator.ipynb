{
 "cells": [
  {
   "cell_type": "markdown",
   "metadata": {},
   "source": [
    "## Mediator\n",
    "***\n",
    "### Definição\n",
    "***"
   ]
  },
  {
   "cell_type": "markdown",
   "metadata": {},
   "source": [
    "Quando uma situação em que um relacionamento muitos para muitos é necessário, uma boa prática é criar uma tabela intermediária e deixar que ela relaciona uma entidade com outras várias e vice versa. É semelhante a central telefônica, pois diminui a quantidade de ligações entre objetos introduzindo um mediador, através da qual toda comunicação entre os objetos será realizada, ou seja, eliminar conexões excessivas entre elementos por meio da introdução de um intermediário único."
   ]
  },
  {
   "cell_type": "markdown",
   "metadata": {},
   "source": [
    "***\n",
    "### Diagrama de Classe\n",
    "***"
   ]
  },
  {
   "cell_type": "markdown",
   "metadata": {},
   "source": [
    "![img](https://cloud.githubusercontent.com/assets/14116020/26286102/4225232a-3e33-11e7-99da-7781da90ffa5.png)\n",
    "\n",
    "* **Mediador (Mediador)**: Interface que padroniza as operações que serão chamadas pelos Colegas.\n",
    "\n",
    "\n",
    "* **MediadorConcreto (Mensagem)**: Implementação particular do Mediador , que coordena a interação entre os Colegas.\n",
    "\n",
    "\n",
    "* **Colega (Colega)**: Possível interface para padronizar os colegas concretos.\n",
    "\n",
    "\n",
    "* **ColegaConcreto (Android, IOS)**: Classes que interagem entre si por meio do Mediador."
   ]
  }
 ],
 "metadata": {
  "kernelspec": {
   "display_name": "Python 3",
   "language": "python",
   "name": "python3"
  },
  "language_info": {
   "codemirror_mode": {
    "name": "ipython",
    "version": 3
   },
   "file_extension": ".py",
   "mimetype": "text/x-python",
   "name": "python",
   "nbconvert_exporter": "python",
   "pygments_lexer": "ipython3",
   "version": "3.5.2"
  }
 },
 "nbformat": 4,
 "nbformat_minor": 2
}
