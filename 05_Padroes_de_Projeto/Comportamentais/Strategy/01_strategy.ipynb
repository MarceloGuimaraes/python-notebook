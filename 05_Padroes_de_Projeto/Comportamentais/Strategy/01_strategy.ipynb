{
 "cells": [
  {
   "cell_type": "markdown",
   "metadata": {},
   "source": [
    "## Strategy\n",
    "***\n",
    "### Definição\n",
    "***"
   ]
  },
  {
   "cell_type": "markdown",
   "metadata": {},
   "source": [
    "O padrão Strategy é muito útil quando temos um conjunto de algoritmos similares, e precisamos alternar entre eles em diferentes pedaços da aplicação.\n",
    "\n",
    "A ideia fundamental desse padrão é possibilitar facilmente a variação do algoritmo a ser utilizado na resolução de um problema"
   ]
  },
  {
   "cell_type": "markdown",
   "metadata": {},
   "source": [
    "***\n",
    "### Diagrama de Classe\n",
    "***"
   ]
  },
  {
   "cell_type": "markdown",
   "metadata": {},
   "source": [
    "![img](https://cloud.githubusercontent.com/assets/14116020/26229921/8700fc18-3c1b-11e7-9a28-a07db9cda4d9.png)\n",
    "\n",
    "* **Estrategia (CalculaImposto)**: Interface para padronizar as diferentes estratégias de um algoritmo.\n",
    "\n",
    "\n",
    "* **EstrategiaConcreta (CalculaImpostoQuinzeOuDez, CalculaImpostoVinteOuQuinze)**: Implementação particular de uma estrategia.\n",
    "\n",
    "\n",
    "* **Contexto (Funcionario)**: Mantém uma referência para um objeto Strategia e pode permitir que esse acesse os seus dados."
   ]
  }
 ],
 "metadata": {
  "kernelspec": {
   "display_name": "Python 3",
   "language": "python",
   "name": "python3"
  },
  "language_info": {
   "codemirror_mode": {
    "name": "ipython",
    "version": 3
   },
   "file_extension": ".py",
   "mimetype": "text/x-python",
   "name": "python",
   "nbconvert_exporter": "python",
   "pygments_lexer": "ipython3",
   "version": "3.5.2"
  }
 },
 "nbformat": 4,
 "nbformat_minor": 2
}
