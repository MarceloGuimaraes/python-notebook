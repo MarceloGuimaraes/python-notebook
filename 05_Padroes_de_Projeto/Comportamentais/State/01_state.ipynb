{
 "cells": [
  {
   "cell_type": "markdown",
   "metadata": {},
   "source": [
    "## State\n",
    "***\n",
    "### Definição\n",
    "***"
   ]
  },
  {
   "cell_type": "markdown",
   "metadata": {},
   "source": [
    "Alterar o comportamento de um determinado objeto de acordo com o estado no qual ele se encontra, por exemplo, no jogo do mario, ao pegar um cogumelo o estado interno do personagem muda e vira um mario grande, e ao pegar um peninha ele aprende a voar, mudando o estado interno do personagem."
   ]
  },
  {
   "cell_type": "markdown",
   "metadata": {},
   "source": [
    "***\n",
    "### Diagrama de Classe\n",
    "***"
   ]
  },
  {
   "cell_type": "markdown",
   "metadata": {},
   "source": [
    "![img](https://cloud.githubusercontent.com/assets/14116020/26286256/f780b628-3e36-11e7-8d69-118cb0f08281.png)\n",
    "\n",
    "* **Estado (MarioEstado)**: Interface para padronizar os estados do Contexto.\n",
    "\n",
    "\n",
    "* **EstadoConcreto (MarioCapa, MarioFogo, MarioGrande, MarioMorto, MarioPequeno)**: Implementação particular de um Estado.\n",
    "\n",
    "\n",
    "* **Contexto (Mario)**: Mantém uma referência para um Estado que define o estado atual."
   ]
  }
 ],
 "metadata": {
  "kernelspec": {
   "display_name": "Python 3",
   "language": "python",
   "name": "python3"
  },
  "language_info": {
   "codemirror_mode": {
    "name": "ipython",
    "version": 3
   },
   "file_extension": ".py",
   "mimetype": "text/x-python",
   "name": "python",
   "nbconvert_exporter": "python",
   "pygments_lexer": "ipython3",
   "version": "3.5.2"
  }
 },
 "nbformat": 4,
 "nbformat_minor": 2
}
