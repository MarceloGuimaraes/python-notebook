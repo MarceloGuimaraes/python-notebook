{
 "cells": [
  {
   "cell_type": "markdown",
   "metadata": {},
   "source": [
    "## Mario\n",
    "***"
   ]
  },
  {
   "cell_type": "code",
   "execution_count": 1,
   "metadata": {},
   "outputs": [],
   "source": [
    "class Mario(object):\n",
    "    \"\"\"\n",
    "    Classe responsavel por criar os estados do Mario.\n",
    "    \"\"\"\n",
    "\n",
    "    def __init__(self):\n",
    "        \"\"\"\n",
    "        Faz o mario começar pequeno.\n",
    "        \"\"\"\n",
    "\n",
    "        self.estado = MarioPequeno()\n",
    "\n",
    "    def pega_cogumelo(self):\n",
    "        \"\"\"\n",
    "        Pega o cogumento e faz o mario crescer\n",
    "        \"\"\"\n",
    "\n",
    "        self.estado = self.estado.pega_cogumelo()\n",
    "\n",
    "    def pega_flor(self):\n",
    "        \"\"\"\n",
    "        Pega a flor e faz o mário ficar de fogo.\n",
    "        \"\"\"\n",
    "\n",
    "        self.estado = self.estado.pega_flor()\n",
    "\n",
    "    def pega_pena(self):\n",
    "        \"\"\"\n",
    "        Pega a pena e faz o mario voar\n",
    "        \"\"\"\n",
    "\n",
    "        self.estado = self.estado.pega_pena()\n",
    "\n",
    "    def leva_dano(self):\n",
    "        \"\"\"\n",
    "        Leva dano e morre voltado para o estado inicial.\n",
    "        \"\"\"\n",
    "\n",
    "        self.estado = self.estado.leva_dano()"
   ]
  },
  {
   "cell_type": "markdown",
   "metadata": {},
   "source": [
    "***"
   ]
  },
  {
   "cell_type": "code",
   "execution_count": 2,
   "metadata": {},
   "outputs": [],
   "source": [
    "from abc import ABC, abstractmethod\n",
    "\n",
    "\n",
    "class MarioState(ABC):\n",
    "    \"\"\"\n",
    "    Classe abstrata do estados do mario.\n",
    "    \"\"\"\n",
    "\n",
    "    @abstractmethod\n",
    "    def pega_cogumelo(self):\n",
    "        \"\"\"\n",
    "        Pega o cogumento e faz o mario crescer\n",
    "        \"\"\"\n",
    "\n",
    "        pass\n",
    "\n",
    "    @abstractmethod\n",
    "    def pega_flor(self):\n",
    "        \"\"\"\n",
    "        Pega a flor e faz o mário ficar de fogo.\n",
    "        \"\"\"\n",
    "\n",
    "        pass\n",
    "\n",
    "    @abstractmethod\n",
    "    def pega_pena(self):\n",
    "        \"\"\"\n",
    "        Pega a pena e faz o mario voar\n",
    "        \"\"\"\n",
    "\n",
    "        pass\n",
    "\n",
    "    @abstractmethod\n",
    "    def leva_dano(self):\n",
    "        \"\"\"\n",
    "        Leva dano e morre voltado para o estado inicial.\n",
    "        \"\"\"\n",
    "\n",
    "        pass\n",
    "\n",
    "\n",
    "class Estado(object):\n",
    "    \"\"\"\n",
    "    Engloba todos os estados em um só\n",
    "    \"\"\"\n",
    "\n",
    "    def __init__(self, estado):\n",
    "        \"\"\"\n",
    "        Importa as classes dos respectivos estados em causar conflitos\n",
    "        umas com as outras\n",
    "        \"\"\"\n",
    "\n",
    "        # Eval executa uma código python por um string\n",
    "        self.__estado = eval(estado)()\n",
    "\n",
    "    def pega_estado(self):\n",
    "        \"\"\"\n",
    "        Pega o estado e retorna ele.\n",
    "        \"\"\"\n",
    "\n",
    "        return self.__estado"
   ]
  },
  {
   "cell_type": "code",
   "execution_count": 3,
   "metadata": {},
   "outputs": [],
   "source": [
    "class MarioPequeno(MarioState):\n",
    "    \"\"\"\n",
    "    Mario no seu estado inicial\n",
    "    \"\"\"\n",
    "\n",
    "    def pega_cogumelo(self):\n",
    "        print(\"Mario ficou grande\")\n",
    "        mario = Estado('MarioCapa')\n",
    "        return mario.pega_estado()\n",
    "\n",
    "    def pega_flor(self):\n",
    "        print(\"Mario ficou grande com poderes de fogo\")\n",
    "        mario = Estado('MarioFogo')\n",
    "        return mario.pega_estado()\n",
    "\n",
    "    def pega_pena(self):\n",
    "        print(\"Mario ficou grande com capa que voa\")\n",
    "        mario = Estado('MarioCapa')\n",
    "        return mario.pega_estado()\n",
    "\n",
    "    def leva_dano(self):\n",
    "        print(\"Mario foi morto\")\n",
    "        mario = Estado('MarioMorto')\n",
    "        return mario.pega_estado()"
   ]
  },
  {
   "cell_type": "code",
   "execution_count": 4,
   "metadata": {},
   "outputs": [],
   "source": [
    "class MarioGrande(MarioState):\n",
    "    \"\"\"\n",
    "    Pega o cogumento e faz o mario crescer\n",
    "    \"\"\"\n",
    "\n",
    "    def pega_cogumelo(self):\n",
    "        print(\"Mario ganhou 1000 pontos\")\n",
    "        mario = Estado('MarioGrande')\n",
    "        return mario.pega_estado()\n",
    "\n",
    "    def pega_flor(self):\n",
    "        print(\"Mario ficou com poderes de fogo\")\n",
    "        mario = Estado('MarioFogo')\n",
    "        return mario.pega_estado()\n",
    "\n",
    "    def pega_pena(self):\n",
    "        print(\"Mario ficou com capa que voa\")\n",
    "        mario = Estado('MarioCapa')\n",
    "        return mario.pega_estado()\n",
    "\n",
    "    def leva_dano(self):\n",
    "        print(\"Mario foi morto\")\n",
    "        mario = Estado('MarioMorto')\n",
    "        return mario.pega_estado()"
   ]
  },
  {
   "cell_type": "code",
   "execution_count": 5,
   "metadata": {},
   "outputs": [],
   "source": [
    "class MarioCapa(MarioState):\n",
    "    \"\"\"\n",
    "    Pega a pena e faz o mario voar\n",
    "    \"\"\"\n",
    "\n",
    "    def pega_cogumelo(self):\n",
    "        print(\"Mario ganhou 1000 pontos\")\n",
    "        mario = Estado('MarioGrande')\n",
    "        return mario.pega_estado()\n",
    "\n",
    "    def pega_flor(self):\n",
    "        print(\"Mario com poderes de fogo\")\n",
    "        mario = Estado('MarioFogo')\n",
    "        return mario.pega_estado()\n",
    "\n",
    "    def pega_pena(self):\n",
    "        print(\"Mario ganhou 1000 pontos\")\n",
    "        mario = Estado('MarioCapa')\n",
    "        return mario.pega_estado()\n",
    "\n",
    "    def leva_dano(self):\n",
    "        print(\"Mario foi morto\")\n",
    "        mario = Estado('MarioMorto')\n",
    "        return mario.pega_estado()"
   ]
  },
  {
   "cell_type": "code",
   "execution_count": 6,
   "metadata": {},
   "outputs": [],
   "source": [
    "class MarioFogo(MarioState):\n",
    "    \"\"\"\n",
    "    Pega a flor e faz o mário ficar de fogo.\n",
    "    \"\"\"\n",
    "\n",
    "    def pega_cogumelo(self):\n",
    "        print(\"Mario ganhou 1000 pontos\")\n",
    "        mario = Estado('MarioGrande')\n",
    "        return mario.pega_estado()\n",
    "\n",
    "    def pega_flor(self):\n",
    "        print(\"Mario ganhou 1000 pontos\")\n",
    "        mario = Estado('MarioFogo')\n",
    "        return mario.pega_estado()\n",
    "\n",
    "    def pega_pena(self):\n",
    "        print(\"Mario ganhou pena e pode voar\")\n",
    "        mario = Estado('MarioCapa')\n",
    "        return mario.pega_estado()\n",
    "\n",
    "    def leva_dano(self):\n",
    "        print(\"Mario foi morto\")\n",
    "        mario = Estado('MarioMorto')\n",
    "        return mario.pega_estado()"
   ]
  },
  {
   "cell_type": "code",
   "execution_count": 7,
   "metadata": {},
   "outputs": [],
   "source": [
    "class MarioMorto(MarioState):\n",
    "    \"\"\"\n",
    "    Leva dano e morre voltado para o estado inicial.\n",
    "    \"\"\"\n",
    "\n",
    "    def __init__(self):\n",
    "        print(\"Mario voltou a ser pequeno\")\n",
    "\n",
    "    def pega_cogumelo(self):\n",
    "        print(\"Mario ficou grande\")\n",
    "        mario = Estado('MarioCapa')\n",
    "        return mario.pega_estado()\n",
    "\n",
    "    def pega_flor(self):\n",
    "        print(\"Mario ficou grande com poderes de fogo\")\n",
    "        mario = Estado('MarioFogo')\n",
    "        return mario.pega_estado()\n",
    "\n",
    "    def pega_pena(self):\n",
    "        print(\"Mario ficou grande com capa que voa\")\n",
    "        mario = Estado('MarioCapa')\n",
    "        return mario.pega_estado()\n",
    "\n",
    "    def leva_dano(self):\n",
    "        print(\"Mario foi morto\")\n",
    "        mario = Estado('MarioMorto')\n",
    "        return mario.pega_estado()"
   ]
  },
  {
   "cell_type": "markdown",
   "metadata": {},
   "source": [
    "***"
   ]
  },
  {
   "cell_type": "code",
   "execution_count": 8,
   "metadata": {},
   "outputs": [],
   "source": [
    "mario = Mario()"
   ]
  },
  {
   "cell_type": "code",
   "execution_count": 9,
   "metadata": {},
   "outputs": [
    {
     "name": "stdout",
     "output_type": "stream",
     "text": [
      "Mario ficou grande\n"
     ]
    }
   ],
   "source": [
    "mario.pega_cogumelo()"
   ]
  },
  {
   "cell_type": "code",
   "execution_count": 10,
   "metadata": {},
   "outputs": [
    {
     "name": "stdout",
     "output_type": "stream",
     "text": [
      "Mario ganhou 1000 pontos\n"
     ]
    }
   ],
   "source": [
    "mario.pega_pena()"
   ]
  },
  {
   "cell_type": "code",
   "execution_count": 11,
   "metadata": {},
   "outputs": [
    {
     "name": "stdout",
     "output_type": "stream",
     "text": [
      "Mario foi morto\n",
      "Mario voltou a ser pequeno\n"
     ]
    }
   ],
   "source": [
    "mario.leva_dano()"
   ]
  },
  {
   "cell_type": "code",
   "execution_count": 12,
   "metadata": {},
   "outputs": [
    {
     "name": "stdout",
     "output_type": "stream",
     "text": [
      "Mario ficou grande com poderes de fogo\n"
     ]
    }
   ],
   "source": [
    "mario.pega_flor()"
   ]
  },
  {
   "cell_type": "code",
   "execution_count": 13,
   "metadata": {},
   "outputs": [
    {
     "name": "stdout",
     "output_type": "stream",
     "text": [
      "Mario ganhou 1000 pontos\n"
     ]
    }
   ],
   "source": [
    "mario.pega_flor()"
   ]
  },
  {
   "cell_type": "code",
   "execution_count": 14,
   "metadata": {},
   "outputs": [
    {
     "name": "stdout",
     "output_type": "stream",
     "text": [
      "Mario foi morto\n",
      "Mario voltou a ser pequeno\n"
     ]
    }
   ],
   "source": [
    "mario.leva_dano()"
   ]
  },
  {
   "cell_type": "code",
   "execution_count": 15,
   "metadata": {},
   "outputs": [
    {
     "name": "stdout",
     "output_type": "stream",
     "text": [
      "Mario foi morto\n",
      "Mario voltou a ser pequeno\n"
     ]
    }
   ],
   "source": [
    "mario.leva_dano()"
   ]
  },
  {
   "cell_type": "code",
   "execution_count": 16,
   "metadata": {},
   "outputs": [
    {
     "name": "stdout",
     "output_type": "stream",
     "text": [
      "Mario ficou grande com capa que voa\n"
     ]
    }
   ],
   "source": [
    "mario.pega_pena()"
   ]
  },
  {
   "cell_type": "code",
   "execution_count": 17,
   "metadata": {},
   "outputs": [
    {
     "name": "stdout",
     "output_type": "stream",
     "text": [
      "Mario foi morto\n",
      "Mario voltou a ser pequeno\n"
     ]
    }
   ],
   "source": [
    "mario.leva_dano()"
   ]
  }
 ],
 "metadata": {
  "kernelspec": {
   "display_name": "Python 3",
   "language": "python",
   "name": "python3"
  },
  "language_info": {
   "codemirror_mode": {
    "name": "ipython",
    "version": 3
   },
   "file_extension": ".py",
   "mimetype": "text/x-python",
   "name": "python",
   "nbconvert_exporter": "python",
   "pygments_lexer": "ipython3",
   "version": "3.5.2"
  }
 },
 "nbformat": 4,
 "nbformat_minor": 2
}
